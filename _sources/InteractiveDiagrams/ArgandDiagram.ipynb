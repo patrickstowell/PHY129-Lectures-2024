{
 "cells": [
  {
   "cell_type": "code",
   "execution_count": 6,
   "id": "2c4bf10b-09c7-45fe-8c82-d9a05e4471f5",
   "metadata": {},
   "outputs": [],
   "source": [
    "import pandas as pd\n",
    "import numpy as np\n",
    "import plotly.express as px\n",
    "data_x = []\n",
    "data_y = []\n",
    "data_t = []\n",
    "\n",
    "for i in np.linspace(-3.14159,3.14159,200):\n",
    "    data_t.append(i)\n",
    "    data_x.append( np.cos(i) )\n",
    "    data_y.append( np.sin(i) )\n",
    "\n",
    "    data_t.append(i)\n",
    "    data_x.append( 0.0 )\n",
    "    data_y.append( 0.0 )"
   ]
  },
  {
   "cell_type": "code",
   "execution_count": 7,
   "id": "d8c92a1a-3530-4015-950f-48037a7e344b",
   "metadata": {},
   "outputs": [
    {
     "name": "stdout",
     "output_type": "stream",
     "text": [
      "Help on function scatter in module plotly.express._chart_types:\n",
      "\n",
      "scatter(data_frame=None, x=None, y=None, color=None, symbol=None, size=None, hover_name=None, hover_data=None, custom_data=None, text=None, facet_row=None, facet_col=None, facet_col_wrap=0, facet_row_spacing=None, facet_col_spacing=None, error_x=None, error_x_minus=None, error_y=None, error_y_minus=None, animation_frame=None, animation_group=None, category_orders=None, labels=None, orientation=None, color_discrete_sequence=None, color_discrete_map=None, color_continuous_scale=None, range_color=None, color_continuous_midpoint=None, symbol_sequence=None, symbol_map=None, opacity=None, size_max=None, marginal_x=None, marginal_y=None, trendline=None, trendline_options=None, trendline_color_override=None, trendline_scope='trace', log_x=False, log_y=False, range_x=None, range_y=None, render_mode='auto', title=None, template=None, width=None, height=None) -> plotly.graph_objs._figure.Figure\n",
      "        In a scatter plot, each row of `data_frame` is represented by a symbol\n",
      "        mark in 2D space.\n",
      "        \n",
      "    Parameters\n",
      "    ----------\n",
      "    data_frame: DataFrame or array-like or dict\n",
      "        This argument needs to be passed for column names (and not keyword\n",
      "        names) to be used. Array-like and dict are transformed internally to a\n",
      "        pandas DataFrame. Optional: if missing, a DataFrame gets constructed\n",
      "        under the hood using the other arguments.\n",
      "    x: str or int or Series or array-like\n",
      "        Either a name of a column in `data_frame`, or a pandas Series or\n",
      "        array_like object. Values from this column or array_like are used to\n",
      "        position marks along the x axis in cartesian coordinates. Either `x` or\n",
      "        `y` can optionally be a list of column references or array_likes,  in\n",
      "        which case the data will be treated as if it were 'wide' rather than\n",
      "        'long'.\n",
      "    y: str or int or Series or array-like\n",
      "        Either a name of a column in `data_frame`, or a pandas Series or\n",
      "        array_like object. Values from this column or array_like are used to\n",
      "        position marks along the y axis in cartesian coordinates. Either `x` or\n",
      "        `y` can optionally be a list of column references or array_likes,  in\n",
      "        which case the data will be treated as if it were 'wide' rather than\n",
      "        'long'.\n",
      "    color: str or int or Series or array-like\n",
      "        Either a name of a column in `data_frame`, or a pandas Series or\n",
      "        array_like object. Values from this column or array_like are used to\n",
      "        assign color to marks.\n",
      "    symbol: str or int or Series or array-like\n",
      "        Either a name of a column in `data_frame`, or a pandas Series or\n",
      "        array_like object. Values from this column or array_like are used to\n",
      "        assign symbols to marks.\n",
      "    size: str or int or Series or array-like\n",
      "        Either a name of a column in `data_frame`, or a pandas Series or\n",
      "        array_like object. Values from this column or array_like are used to\n",
      "        assign mark sizes.\n",
      "    hover_name: str or int or Series or array-like\n",
      "        Either a name of a column in `data_frame`, or a pandas Series or\n",
      "        array_like object. Values from this column or array_like appear in bold\n",
      "        in the hover tooltip.\n",
      "    hover_data: str, or list of str or int, or Series or array-like, or dict\n",
      "        Either a name or list of names of columns in `data_frame`, or pandas\n",
      "        Series, or array_like objects or a dict with column names as keys, with\n",
      "        values True (for default formatting) False (in order to remove this\n",
      "        column from hover information), or a formatting string, for example\n",
      "        ':.3f' or '|%a' or list-like data to appear in the hover tooltip or\n",
      "        tuples with a bool or formatting string as first element, and list-like\n",
      "        data to appear in hover as second element Values from these columns\n",
      "        appear as extra data in the hover tooltip.\n",
      "    custom_data: str, or list of str or int, or Series or array-like\n",
      "        Either name or list of names of columns in `data_frame`, or pandas\n",
      "        Series, or array_like objects Values from these columns are extra data,\n",
      "        to be used in widgets or Dash callbacks for example. This data is not\n",
      "        user-visible but is included in events emitted by the figure (lasso\n",
      "        selection etc.)\n",
      "    text: str or int or Series or array-like\n",
      "        Either a name of a column in `data_frame`, or a pandas Series or\n",
      "        array_like object. Values from this column or array_like appear in the\n",
      "        figure as text labels.\n",
      "    facet_row: str or int or Series or array-like\n",
      "        Either a name of a column in `data_frame`, or a pandas Series or\n",
      "        array_like object. Values from this column or array_like are used to\n",
      "        assign marks to facetted subplots in the vertical direction.\n",
      "    facet_col: str or int or Series or array-like\n",
      "        Either a name of a column in `data_frame`, or a pandas Series or\n",
      "        array_like object. Values from this column or array_like are used to\n",
      "        assign marks to facetted subplots in the horizontal direction.\n",
      "    facet_col_wrap: int\n",
      "        Maximum number of facet columns. Wraps the column variable at this\n",
      "        width, so that the column facets span multiple rows. Ignored if 0, and\n",
      "        forced to 0 if `facet_row` or a `marginal` is set.\n",
      "    facet_row_spacing: float between 0 and 1\n",
      "        Spacing between facet rows, in paper units. Default is 0.03 or 0.0.7\n",
      "        when facet_col_wrap is used.\n",
      "    facet_col_spacing: float between 0 and 1\n",
      "        Spacing between facet columns, in paper units Default is 0.02.\n",
      "    error_x: str or int or Series or array-like\n",
      "        Either a name of a column in `data_frame`, or a pandas Series or\n",
      "        array_like object. Values from this column or array_like are used to\n",
      "        size x-axis error bars. If `error_x_minus` is `None`, error bars will\n",
      "        be symmetrical, otherwise `error_x` is used for the positive direction\n",
      "        only.\n",
      "    error_x_minus: str or int or Series or array-like\n",
      "        Either a name of a column in `data_frame`, or a pandas Series or\n",
      "        array_like object. Values from this column or array_like are used to\n",
      "        size x-axis error bars in the negative direction. Ignored if `error_x`\n",
      "        is `None`.\n",
      "    error_y: str or int or Series or array-like\n",
      "        Either a name of a column in `data_frame`, or a pandas Series or\n",
      "        array_like object. Values from this column or array_like are used to\n",
      "        size y-axis error bars. If `error_y_minus` is `None`, error bars will\n",
      "        be symmetrical, otherwise `error_y` is used for the positive direction\n",
      "        only.\n",
      "    error_y_minus: str or int or Series or array-like\n",
      "        Either a name of a column in `data_frame`, or a pandas Series or\n",
      "        array_like object. Values from this column or array_like are used to\n",
      "        size y-axis error bars in the negative direction. Ignored if `error_y`\n",
      "        is `None`.\n",
      "    animation_frame: str or int or Series or array-like\n",
      "        Either a name of a column in `data_frame`, or a pandas Series or\n",
      "        array_like object. Values from this column or array_like are used to\n",
      "        assign marks to animation frames.\n",
      "    animation_group: str or int or Series or array-like\n",
      "        Either a name of a column in `data_frame`, or a pandas Series or\n",
      "        array_like object. Values from this column or array_like are used to\n",
      "        provide object-constancy across animation frames: rows with matching\n",
      "        `animation_group`s will be treated as if they describe the same object\n",
      "        in each frame.\n",
      "    category_orders: dict with str keys and list of str values (default `{}`)\n",
      "        By default, in Python 3.6+, the order of categorical values in axes,\n",
      "        legends and facets depends on the order in which these values are first\n",
      "        encountered in `data_frame` (and no order is guaranteed by default in\n",
      "        Python below 3.6). This parameter is used to force a specific ordering\n",
      "        of values per column. The keys of this dict should correspond to column\n",
      "        names, and the values should be lists of strings corresponding to the\n",
      "        specific display order desired.\n",
      "    labels: dict with str keys and str values (default `{}`)\n",
      "        By default, column names are used in the figure for axis titles, legend\n",
      "        entries and hovers. This parameter allows this to be overridden. The\n",
      "        keys of this dict should correspond to column names, and the values\n",
      "        should correspond to the desired label to be displayed.\n",
      "    orientation: str, one of `'h'` for horizontal or `'v'` for vertical. \n",
      "        (default `'v'` if `x` and `y` are provided and both continous or both\n",
      "        categorical,  otherwise `'v'`(`'h'`) if `x`(`y`) is categorical and\n",
      "        `y`(`x`) is continuous,  otherwise `'v'`(`'h'`) if only `x`(`y`) is\n",
      "        provided)\n",
      "    color_discrete_sequence: list of str\n",
      "        Strings should define valid CSS-colors. When `color` is set and the\n",
      "        values in the corresponding column are not numeric, values in that\n",
      "        column are assigned colors by cycling through `color_discrete_sequence`\n",
      "        in the order described in `category_orders`, unless the value of\n",
      "        `color` is a key in `color_discrete_map`. Various useful color\n",
      "        sequences are available in the `plotly.express.colors` submodules,\n",
      "        specifically `plotly.express.colors.qualitative`.\n",
      "    color_discrete_map: dict with str keys and str values (default `{}`)\n",
      "        String values should define valid CSS-colors Used to override\n",
      "        `color_discrete_sequence` to assign a specific colors to marks\n",
      "        corresponding with specific values. Keys in `color_discrete_map` should\n",
      "        be values in the column denoted by `color`. Alternatively, if the\n",
      "        values of `color` are valid colors, the string `'identity'` may be\n",
      "        passed to cause them to be used directly.\n",
      "    color_continuous_scale: list of str\n",
      "        Strings should define valid CSS-colors This list is used to build a\n",
      "        continuous color scale when the column denoted by `color` contains\n",
      "        numeric data. Various useful color scales are available in the\n",
      "        `plotly.express.colors` submodules, specifically\n",
      "        `plotly.express.colors.sequential`, `plotly.express.colors.diverging`\n",
      "        and `plotly.express.colors.cyclical`.\n",
      "    range_color: list of two numbers\n",
      "        If provided, overrides auto-scaling on the continuous color scale.\n",
      "    color_continuous_midpoint: number (default `None`)\n",
      "        If set, computes the bounds of the continuous color scale to have the\n",
      "        desired midpoint. Setting this value is recommended when using\n",
      "        `plotly.express.colors.diverging` color scales as the inputs to\n",
      "        `color_continuous_scale`.\n",
      "    symbol_sequence: list of str\n",
      "        Strings should define valid plotly.js symbols. When `symbol` is set,\n",
      "        values in that column are assigned symbols by cycling through\n",
      "        `symbol_sequence` in the order described in `category_orders`, unless\n",
      "        the value of `symbol` is a key in `symbol_map`.\n",
      "    symbol_map: dict with str keys and str values (default `{}`)\n",
      "        String values should define plotly.js symbols Used to override\n",
      "        `symbol_sequence` to assign a specific symbols to marks corresponding\n",
      "        with specific values. Keys in `symbol_map` should be values in the\n",
      "        column denoted by `symbol`. Alternatively, if the values of `symbol`\n",
      "        are valid symbol names, the string `'identity'` may be passed to cause\n",
      "        them to be used directly.\n",
      "    opacity: float\n",
      "        Value between 0 and 1. Sets the opacity for markers.\n",
      "    size_max: int (default `20`)\n",
      "        Set the maximum mark size when using `size`.\n",
      "    marginal_x: str\n",
      "        One of `'rug'`, `'box'`, `'violin'`, or `'histogram'`. If set, a\n",
      "        horizontal subplot is drawn above the main plot, visualizing the\n",
      "        x-distribution.\n",
      "    marginal_y: str\n",
      "        One of `'rug'`, `'box'`, `'violin'`, or `'histogram'`. If set, a\n",
      "        vertical subplot is drawn to the right of the main plot, visualizing\n",
      "        the y-distribution.\n",
      "    trendline: str\n",
      "        One of `'ols'`, `'lowess'`, `'rolling'`, `'expanding'` or `'ewm'`. If\n",
      "        `'ols'`, an Ordinary Least Squares regression line will be drawn for\n",
      "        each discrete-color/symbol group. If `'lowess`', a Locally Weighted\n",
      "        Scatterplot Smoothing line will be drawn for each discrete-color/symbol\n",
      "        group. If `'rolling`', a Rolling (e.g. rolling average, rolling median)\n",
      "        line will be drawn for each discrete-color/symbol group. If\n",
      "        `'expanding`', an Expanding (e.g. expanding average, expanding sum)\n",
      "        line will be drawn for each discrete-color/symbol group. If `'ewm`', an\n",
      "        Exponentially Weighted Moment (e.g. exponentially-weighted moving\n",
      "        average) line will be drawn for each discrete-color/symbol group. See\n",
      "        the docstrings for the functions in\n",
      "        `plotly.express.trendline_functions` for more details on these\n",
      "        functions and how to configure them with the `trendline_options`\n",
      "        argument.\n",
      "    trendline_options: dict\n",
      "        Options passed as the first argument to the function from\n",
      "        `plotly.express.trendline_functions`  named in the `trendline`\n",
      "        argument.\n",
      "    trendline_color_override: str\n",
      "        Valid CSS color. If provided, and if `trendline` is set, all trendlines\n",
      "        will be drawn in this color rather than in the same color as the traces\n",
      "        from which they draw their inputs.\n",
      "    trendline_scope: str (one of `'trace'` or `'overall'`, default `'trace'`)\n",
      "        If `'trace'`, then one trendline is drawn per trace (i.e. per color,\n",
      "        symbol, facet, animation frame etc) and if `'overall'` then one\n",
      "        trendline is computed for the entire dataset, and replicated across all\n",
      "        facets.\n",
      "    log_x: boolean (default `False`)\n",
      "        If `True`, the x-axis is log-scaled in cartesian coordinates.\n",
      "    log_y: boolean (default `False`)\n",
      "        If `True`, the y-axis is log-scaled in cartesian coordinates.\n",
      "    range_x: list of two numbers\n",
      "        If provided, overrides auto-scaling on the x-axis in cartesian\n",
      "        coordinates.\n",
      "    range_y: list of two numbers\n",
      "        If provided, overrides auto-scaling on the y-axis in cartesian\n",
      "        coordinates.\n",
      "    render_mode: str\n",
      "        One of `'auto'`, `'svg'` or `'webgl'`, default `'auto'` Controls the\n",
      "        browser API used to draw marks. `'svg`' is appropriate for figures of\n",
      "        less than 1000 data points, and will allow for fully-vectorized output.\n",
      "        `'webgl'` is likely necessary for acceptable performance above 1000\n",
      "        points but rasterizes part of the output.  `'auto'` uses heuristics to\n",
      "        choose the mode.\n",
      "    title: str\n",
      "        The figure title.\n",
      "    template: str or dict or plotly.graph_objects.layout.Template instance\n",
      "        The figure template name (must be a key in plotly.io.templates) or\n",
      "        definition.\n",
      "    width: int (default `None`)\n",
      "        The figure width in pixels.\n",
      "    height: int (default `None`)\n",
      "        The figure height in pixels.\n",
      "    \n",
      "    Returns\n",
      "    -------\n",
      "        plotly.graph_objects.Figure\n",
      "\n"
     ]
    }
   ],
   "source": [
    "help(px.scatter)"
   ]
  },
  {
   "cell_type": "code",
   "execution_count": 13,
   "id": "90126d03-0fbb-4d7b-b48c-3e6b6b3b381b",
   "metadata": {
    "scrolled": true
   },
   "outputs": [
    {
     "data": {
      "application/vnd.plotly.v1+json": {
       "config": {
        "plotlyServerURL": "https://plot.ly"
       },
       "data": [
        {
         "hovertemplate": "theta=-2.57326216080402<br>z1=%{x}<br>z2=%{y}<extra></extra>",
         "legendgroup": "",
         "marker": {
          "color": "#636efa",
          "symbol": "circle"
         },
         "mode": "markers",
         "name": "",
         "orientation": "v",
         "showlegend": false,
         "type": "scatter",
         "x": [
          -0.8428007210463426,
          0
         ],
         "xaxis": "x",
         "y": [
          -0.5382257375895034,
          0
         ],
         "yaxis": "y"
        }
       ],
       "frames": [
        {
         "data": [
          {
           "hovertemplate": "theta=-3.14159<br>z1=%{x}<br>z2=%{y}<extra></extra>",
           "legendgroup": "",
           "marker": {
            "color": "#636efa",
            "symbol": "circle"
           },
           "mode": "markers",
           "name": "",
           "orientation": "v",
           "showlegend": false,
           "type": "scatter",
           "x": [
            -0.9999999999964793,
            0
           ],
           "xaxis": "x",
           "y": [
            -2.6535897933527304e-06,
            0
           ],
           "yaxis": "y"
          }
         ],
         "name": "-3.14159"
        },
        {
         "data": [
          {
           "hovertemplate": "theta=-3.110016231155779<br>z1=%{x}<br>z2=%{y}<extra></extra>",
           "legendgroup": "",
           "marker": {
            "color": "#636efa",
            "symbol": "circle"
           },
           "mode": "markers",
           "name": "",
           "orientation": "v",
           "showlegend": false,
           "type": "scatter",
           "x": [
            -0.999501506194653,
            0
           ],
           "xaxis": "x",
           "y": [
            -0.03157117537596496,
            0
           ],
           "yaxis": "y"
          }
         ],
         "name": "-3.110016231155779"
        },
        {
         "data": [
          {
           "hovertemplate": "theta=-3.078442462311558<br>z1=%{x}<br>z2=%{y}<extra></extra>",
           "legendgroup": "",
           "marker": {
            "color": "#636efa",
            "symbol": "circle"
           },
           "mode": "markers",
           "name": "",
           "orientation": "v",
           "showlegend": false,
           "type": "scatter",
           "x": [
            -0.9980066892376193,
            0
           ],
           "xaxis": "x",
           "y": [
            -0.06310822638108297,
            0
           ],
           "yaxis": "y"
          }
         ],
         "name": "-3.078442462311558"
        },
        {
         "data": [
          {
           "hovertemplate": "theta=-3.046868693467337<br>z1=%{x}<br>z2=%{y}<extra></extra>",
           "legendgroup": "",
           "marker": {
            "color": "#636efa",
            "symbol": "circle"
           },
           "mode": "markers",
           "name": "",
           "orientation": "v",
           "showlegend": false,
           "type": "scatter",
           "x": [
            -0.9955170391889124,
            0
           ],
           "xaxis": "x",
           "y": [
            -0.09458236983995132,
            0
           ],
           "yaxis": "y"
          }
         ],
         "name": "-3.046868693467337"
        },
        {
         "data": [
          {
           "hovertemplate": "theta=-3.0152949246231153<br>z1=%{x}<br>z2=%{y}<extra></extra>",
           "legendgroup": "",
           "marker": {
            "color": "#636efa",
            "symbol": "circle"
           },
           "mode": "markers",
           "name": "",
           "orientation": "v",
           "showlegend": false,
           "type": "scatter",
           "x": [
            -0.992035037781653,
            0
           ],
           "xaxis": "x",
           "y": [
            -0.1259622316948786,
            0
           ],
           "yaxis": "y"
          }
         ],
         "name": "-3.0152949246231153"
        },
        {
         "data": [
          {
           "hovertemplate": "theta=-2.9837211557788943<br>z1=%{x}<br>z2=%{y}<extra></extra>",
           "legendgroup": "",
           "marker": {
            "color": "#636efa",
            "symbol": "circle"
           },
           "mode": "markers",
           "name": "",
           "orientation": "v",
           "showlegend": false,
           "type": "scatter",
           "x": [
            -0.987564155944706,
            0
           ],
           "xaxis": "x",
           "y": [
            -0.15721653186996665,
            0
           ],
           "yaxis": "y"
          }
         ],
         "name": "-2.9837211557788943"
        },
        {
         "data": [
          {
           "hovertemplate": "theta=-2.9521473869346733<br>z1=%{x}<br>z2=%{y}<extra></extra>",
           "legendgroup": "",
           "marker": {
            "color": "#636efa",
            "symbol": "circle"
           },
           "mode": "markers",
           "name": "",
           "orientation": "v",
           "showlegend": false,
           "type": "scatter",
           "x": [
            -0.9821088503427897,
            0
           ],
           "xaxis": "x",
           "y": [
            -0.18831411545172025,
            0
           ],
           "yaxis": "y"
          }
         ],
         "name": "-2.9521473869346733"
        },
        {
         "data": [
          {
           "hovertemplate": "theta=-2.9205736180904522<br>z1=%{x}<br>z2=%{y}<extra></extra>",
           "legendgroup": "",
           "marker": {
            "color": "#636efa",
            "symbol": "circle"
           },
           "mode": "markers",
           "name": "",
           "orientation": "v",
           "showlegend": false,
           "type": "scatter",
           "x": [
            -0.9756745589339824,
            0
           ],
           "xaxis": "x",
           "y": [
            -0.21922398374488833,
            0
           ],
           "yaxis": "y"
          }
         ],
         "name": "-2.9205736180904522"
        },
        {
         "data": [
          {
           "hovertemplate": "theta=-2.888999849246231<br>z1=%{x}<br>z2=%{y}<extra></extra>",
           "legendgroup": "",
           "marker": {
            "color": "#636efa",
            "symbol": "circle"
           },
           "mode": "markers",
           "name": "",
           "orientation": "v",
           "showlegend": false,
           "type": "scatter",
           "x": [
            -0.9682676955490567,
            0
           ],
           "xaxis": "x",
           "y": [
            -0.2499153251725858,
            0
           ],
           "yaxis": "y"
          }
         ],
         "name": "-2.888999849246231"
        },
        {
         "data": [
          {
           "hovertemplate": "theta=-2.8574260804020097<br>z1=%{x}<br>z2=%{y}<extra></extra>",
           "legendgroup": "",
           "marker": {
            "color": "#636efa",
            "symbol": "circle"
           },
           "mode": "markers",
           "name": "",
           "orientation": "v",
           "showlegend": false,
           "type": "scatter",
           "x": [
            -0.9598956434980449,
            0
           ],
           "xaxis": "x",
           "y": [
            -0.28035754598989193,
            0
           ],
           "yaxis": "y"
          }
         ],
         "name": "-2.8574260804020097"
        },
        {
         "data": [
          {
           "hovertemplate": "theta=-2.8258523115577887<br>z1=%{x}<br>z2=%{y}<extra></extra>",
           "legendgroup": "",
           "marker": {
            "color": "#636efa",
            "symbol": "circle"
           },
           "mode": "markers",
           "name": "",
           "orientation": "v",
           "showlegend": false,
           "type": "scatter",
           "x": [
            -0.950566748210407,
            0
           ],
           "xaxis": "x",
           "y": [
            -0.3105203007803075,
            0
           ],
           "yaxis": "y"
          }
         ],
         "name": "-2.8258523115577887"
        },
        {
         "data": [
          {
           "hovertemplate": "theta=-2.7942785427135677<br>z1=%{x}<br>z2=%{y}<extra></extra>",
           "legendgroup": "",
           "marker": {
            "color": "#636efa",
            "symbol": "circle"
           },
           "mode": "markers",
           "name": "",
           "orientation": "v",
           "showlegend": false,
           "type": "scatter",
           "x": [
            -0.9402903089161392,
            0
           ],
           "xaxis": "x",
           "y": [
            -0.3403735227046774,
            0
           ],
           "yaxis": "y"
          }
         ],
         "name": "-2.7942785427135677"
        },
        {
         "data": [
          {
           "hovertemplate": "theta=-2.7627047738693467<br>z1=%{x}<br>z2=%{y}<extra></extra>",
           "legendgroup": "",
           "marker": {
            "color": "#636efa",
            "symbol": "circle"
           },
           "mode": "markers",
           "name": "",
           "orientation": "v",
           "showlegend": false,
           "type": "scatter",
           "x": [
            -0.9290765693761146,
            0
           ],
           "xaxis": "x",
           "y": [
            -0.36988745347241725,
            0
           ],
           "yaxis": "y"
          }
         ],
         "name": "-2.7627047738693467"
        },
        {
         "data": [
          {
           "hovertemplate": "theta=-2.7311310050251256<br>z1=%{x}<br>z2=%{y}<extra></extra>",
           "legendgroup": "",
           "marker": {
            "color": "#636efa",
            "symbol": "circle"
           },
           "mode": "markers",
           "name": "",
           "orientation": "v",
           "showlegend": false,
           "type": "scatter",
           "x": [
            -0.9169367076708975,
            0
           ],
           "xaxis": "x",
           "y": [
            -0.39903267300517514,
            0
           ],
           "yaxis": "y"
          }
         ],
         "name": "-2.7311310050251256"
        },
        {
         "data": [
          {
           "hovertemplate": "theta=-2.6995572361809046<br>z1=%{x}<br>z2=%{y}<extra></extra>",
           "legendgroup": "",
           "marker": {
            "color": "#636efa",
            "symbol": "circle"
           },
           "mode": "markers",
           "name": "",
           "orientation": "v",
           "showlegend": false,
           "type": "scatter",
           "x": [
            -0.9038828250582077,
            0
           ],
           "xaxis": "x",
           "y": [
            -0.427780128763356,
            0
           ],
           "yaxis": "y"
          }
         ],
         "name": "-2.6995572361809046"
        },
        {
         "data": [
          {
           "hovertemplate": "theta=-2.667983467336683<br>z1=%{x}<br>z2=%{y}<extra></extra>",
           "legendgroup": "",
           "marker": {
            "color": "#636efa",
            "symbol": "circle"
           },
           "mode": "markers",
           "name": "",
           "orientation": "v",
           "showlegend": false,
           "type": "scatter",
           "x": [
            -0.8899279339101444,
            0
           ],
           "xaxis": "x",
           "y": [
            -0.45610116470627626,
            0
           ],
           "yaxis": "y"
          }
         ],
         "name": "-2.667983467336683"
        },
        {
         "data": [
          {
           "hovertemplate": "theta=-2.636409698492462<br>z1=%{x}<br>z2=%{y}<extra></extra>",
           "legendgroup": "",
           "marker": {
            "color": "#636efa",
            "symbol": "circle"
           },
           "mode": "markers",
           "name": "",
           "orientation": "v",
           "showlegend": false,
           "type": "scatter",
           "x": [
            -0.8750859447421928,
            0
           ],
           "xaxis": "x",
           "y": [
            -0.4839675498570786,
            0
           ],
           "yaxis": "y"
          }
         ],
         "name": "-2.636409698492462"
        },
        {
         "data": [
          {
           "hovertemplate": "theta=-2.604835929648241<br>z1=%{x}<br>z2=%{y}<extra></extra>",
           "legendgroup": "",
           "marker": {
            "color": "#636efa",
            "symbol": "circle"
           },
           "mode": "markers",
           "name": "",
           "orientation": "v",
           "showlegend": false,
           "type": "scatter",
           "x": [
            -0.8593716523469427,
            0
           ],
           "xaxis": "x",
           "y": [
            -0.5113515064439387,
            0
           ],
           "yaxis": "y"
          }
         ],
         "name": "-2.604835929648241"
        },
        {
         "data": [
          {
           "hovertemplate": "theta=-2.57326216080402<br>z1=%{x}<br>z2=%{y}<extra></extra>",
           "legendgroup": "",
           "marker": {
            "color": "#636efa",
            "symbol": "circle"
           },
           "mode": "markers",
           "name": "",
           "orientation": "v",
           "showlegend": false,
           "type": "scatter",
           "x": [
            -0.8428007210463426,
            0
           ],
           "xaxis": "x",
           "y": [
            -0.5382257375895034,
            0
           ],
           "yaxis": "y"
          }
         ],
         "name": "-2.57326216080402"
        },
        {
         "data": [
          {
           "hovertemplate": "theta=-2.541688391959799<br>z1=%{x}<br>z2=%{y}<extra></extra>",
           "legendgroup": "",
           "marker": {
            "color": "#636efa",
            "symbol": "circle"
           },
           "mode": "markers",
           "name": "",
           "orientation": "v",
           "showlegend": false,
           "type": "scatter",
           "x": [
            -0.8253896690771894,
            0
           ],
           "xaxis": "x",
           "y": [
            -0.5645634545209669,
            0
           ],
           "yaxis": "y"
          }
         ],
         "name": "-2.541688391959799"
        },
        {
         "data": [
          {
           "hovertemplate": "theta=-2.5101146231155775<br>z1=%{x}<br>z2=%{y}<extra></extra>",
           "legendgroup": "",
           "marker": {
            "color": "#636efa",
            "symbol": "circle"
           },
           "mode": "markers",
           "name": "",
           "orientation": "v",
           "showlegend": false,
           "type": "scatter",
           "x": [
            -0.8071558521254181,
            0
           ],
           "xaxis": "x",
           "y": [
            -0.5903384032736565,
            0
           ],
           "yaxis": "y"
          }
         ],
         "name": "-2.5101146231155775"
        },
        {
         "data": [
          {
           "hovertemplate": "theta=-2.4785408542713565<br>z1=%{x}<br>z2=%{y}<extra></extra>",
           "legendgroup": "",
           "marker": {
            "color": "#636efa",
            "symbol": "circle"
           },
           "mode": "markers",
           "name": "",
           "orientation": "v",
           "showlegend": false,
           "type": "scatter",
           "x": [
            -0.788117446025607,
            0
           ],
           "xaxis": "x",
           "y": [
            -0.6155248908615105,
            0
           ],
           "yaxis": "y"
          }
         ],
         "name": "-2.4785408542713565"
        },
        {
         "data": [
          {
           "hovertemplate": "theta=-2.4469670854271355<br>z1=%{x}<br>z2=%{y}<extra></extra>",
           "legendgroup": "",
           "marker": {
            "color": "#636efa",
            "symbol": "circle"
           },
           "mode": "markers",
           "name": "",
           "orientation": "v",
           "showlegend": false,
           "type": "scatter",
           "x": [
            -0.7682934286429396,
            0
           ],
           "xaxis": "x",
           "y": [
            -0.6400978108883644,
            0
           ],
           "yaxis": "y"
          }
         ],
         "name": "-2.4469670854271355"
        },
        {
         "data": [
          {
           "hovertemplate": "theta=-2.4153933165829145<br>z1=%{x}<br>z2=%{y}<extra></extra>",
           "legendgroup": "",
           "marker": {
            "color": "#636efa",
            "symbol": "circle"
           },
           "mode": "markers",
           "name": "",
           "orientation": "v",
           "showlegend": false,
           "type": "scatter",
           "x": [
            -0.7477035609556888,
            0
           ],
           "xaxis": "x",
           "y": [
            -0.6640326685745082,
            0
           ],
           "yaxis": "y"
          }
         ],
         "name": "-2.4153933165829145"
        },
        {
         "data": [
          {
           "hovertemplate": "theta=-2.3838195477386934<br>z1=%{x}<br>z2=%{y}<extra></extra>",
           "legendgroup": "",
           "marker": {
            "color": "#636efa",
            "symbol": "circle"
           },
           "mode": "markers",
           "name": "",
           "orientation": "v",
           "showlegend": false,
           "type": "scatter",
           "x": [
            -0.7263683673570769,
            0
           ],
           "xaxis": "x",
           "y": [
            -0.6873056051735753,
            0
           ],
           "yaxis": "y"
          }
         ],
         "name": "-2.3838195477386934"
        },
        {
         "data": [
          {
           "hovertemplate": "theta=-2.3522457788944724<br>z1=%{x}<br>z2=%{y}<extra></extra>",
           "legendgroup": "",
           "marker": {
            "color": "#636efa",
            "symbol": "circle"
           },
           "mode": "markers",
           "name": "",
           "orientation": "v",
           "showlegend": false,
           "type": "scatter",
           "x": [
            -0.7043091151961487,
            0
           ],
           "xaxis": "x",
           "y": [
            -0.7098934217554197,
            0
           ],
           "yaxis": "y"
          }
         ],
         "name": "-2.3522457788944724"
        },
        {
         "data": [
          {
           "hovertemplate": "theta=-2.3206720100502514<br>z1=%{x}<br>z2=%{y}<extra></extra>",
           "legendgroup": "",
           "marker": {
            "color": "#636efa",
            "symbol": "circle"
           },
           "mode": "markers",
           "name": "",
           "orientation": "v",
           "showlegend": false,
           "type": "scatter",
           "x": [
            -0.6815477935780516,
            0
           ],
           "xaxis": "x",
           "y": [
            -0.731773602331274,
            0
           ],
           "yaxis": "y"
          }
         ],
         "name": "-2.3206720100502514"
        },
        {
         "data": [
          {
           "hovertemplate": "theta=-2.28909824120603<br>z1=%{x}<br>z2=%{y}<extra></extra>",
           "legendgroup": "",
           "marker": {
            "color": "#636efa",
            "symbol": "circle"
           },
           "mode": "markers",
           "name": "",
           "orientation": "v",
           "showlegend": false,
           "type": "scatter",
           "x": [
            -0.6581070914448535,
            0
           ],
           "xaxis": "x",
           "y": [
            -0.7529243362981404,
            0
           ],
           "yaxis": "y"
          }
         ],
         "name": "-2.28909824120603"
        },
        {
         "data": [
          {
           "hovertemplate": "theta=-2.257524472361809<br>z1=%{x}<br>z2=%{y}<extra></extra>",
           "legendgroup": "",
           "marker": {
            "color": "#636efa",
            "symbol": "circle"
           },
           "mode": "markers",
           "name": "",
           "orientation": "v",
           "showlegend": false,
           "type": "scatter",
           "x": [
            -0.6340103749587517,
            0
           ],
           "xaxis": "x",
           "y": [
            -0.7733245401800354,
            0
           ],
           "yaxis": "y"
          }
         ],
         "name": "-2.257524472361809"
        },
        {
         "data": [
          {
           "hovertemplate": "theta=-2.225950703517588<br>z1=%{x}<br>z2=%{y}<extra></extra>",
           "legendgroup": "",
           "marker": {
            "color": "#636efa",
            "symbol": "circle"
           },
           "mode": "markers",
           "name": "",
           "orientation": "v",
           "showlegend": false,
           "type": "scatter",
           "x": [
            -0.6092816642102118,
            0
           ],
           "xaxis": "x",
           "y": [
            -0.7929538786444232,
            0
           ],
           "yaxis": "y"
          }
         ],
         "name": "-2.225950703517588"
        },
        {
         "data": [
          {
           "hovertemplate": "theta=-2.194376934673367<br>z1=%{x}<br>z2=%{y}<extra></extra>",
           "legendgroup": "",
           "marker": {
            "color": "#636efa",
            "symbol": "circle"
           },
           "mode": "markers",
           "name": "",
           "orientation": "v",
           "showlegend": false,
           "type": "scatter",
           "x": [
            -0.5839456092742608,
            0
           ],
           "xaxis": "x",
           "y": [
            -0.8117927847728831,
            0
           ],
           "yaxis": "y"
          }
         ],
         "name": "-2.194376934673367"
        },
        {
         "data": [
          {
           "hovertemplate": "theta=-2.162803165829146<br>z1=%{x}<br>z2=%{y}<extra></extra>",
           "legendgroup": "",
           "marker": {
            "color": "#636efa",
            "symbol": "circle"
           },
           "mode": "markers",
           "name": "",
           "orientation": "v",
           "showlegend": false,
           "type": "scatter",
           "x": [
            -0.558027465638797,
            0
           ],
           "xaxis": "x",
           "y": [
            -0.8298224795658052,
            0
           ],
           "yaxis": "y"
          }
         ],
         "name": "-2.162803165829146"
        },
        {
         "data": [
          {
           "hovertemplate": "theta=-2.1312293969849243<br>z1=%{x}<br>z2=%{y}<extra></extra>",
           "legendgroup": "",
           "marker": {
            "color": "#636efa",
            "symbol": "circle"
           },
           "mode": "markers",
           "name": "",
           "orientation": "v",
           "showlegend": false,
           "type": "scatter",
           "x": [
            -0.5315530690294136,
            0
           ],
           "xaxis": "x",
           "y": [
            -0.8470249906616756,
            0
           ],
           "yaxis": "y"
          }
         ],
         "name": "-2.1312293969849243"
        },
        {
         "data": [
          {
           "hovertemplate": "theta=-2.0996556281407033<br>z1=%{x}<br>z2=%{y}<extra></extra>",
           "legendgroup": "",
           "marker": {
            "color": "#636efa",
            "symbol": "circle"
           },
           "mode": "markers",
           "name": "",
           "orientation": "v",
           "showlegend": false,
           "type": "scatter",
           "x": [
            -0.504548809655829,
            0
           ],
           "xaxis": "x",
           "y": [
            -0.8633831702522848,
            0
           ],
           "yaxis": "y"
          }
         ],
         "name": "-2.0996556281407033"
        },
        {
         "data": [
          {
           "hovertemplate": "theta=-2.0680818592964822<br>z1=%{x}<br>z2=%{y}<extra></extra>",
           "legendgroup": "",
           "marker": {
            "color": "#636efa",
            "symbol": "circle"
           },
           "mode": "markers",
           "name": "",
           "orientation": "v",
           "showlegend": false,
           "type": "scatter",
           "x": [
            -0.477041605905596,
            0
           ],
           "xaxis": "x",
           "y": [
            -0.8788807121760097,
            0
           ],
           "yaxis": "y"
          }
         ],
         "name": "-2.0680818592964822"
        },
        {
         "data": [
          {
           "hovertemplate": "theta=-2.036508090452261<br>z1=%{x}<br>z2=%{y}<extra></extra>",
           "legendgroup": "",
           "marker": {
            "color": "#636efa",
            "symbol": "circle"
           },
           "mode": "markers",
           "name": "",
           "orientation": "v",
           "showlegend": false,
           "type": "scatter",
           "x": [
            -0.44905887751131235,
            0
           ],
           "xaxis": "x",
           "y": [
            -0.8935021681721205,
            0
           ],
           "yaxis": "y"
          }
         ],
         "name": "-2.036508090452261"
        },
        {
         "data": [
          {
           "hovertemplate": "theta=-2.00493432160804<br>z1=%{x}<br>z2=%{y}<extra></extra>",
           "legendgroup": "",
           "marker": {
            "color": "#636efa",
            "symbol": "circle"
           },
           "mode": "markers",
           "name": "",
           "orientation": "v",
           "showlegend": false,
           "type": "scatter",
           "x": [
            -0.42062851821808245,
            0
           ],
           "xaxis": "x",
           "y": [
            -0.9072329632799176,
            0
           ],
           "yaxis": "y"
          }
         ],
         "name": "-2.00493432160804"
        },
        {
         "data": [
          {
           "hovertemplate": "theta=-1.973360552763819<br>z1=%{x}<br>z2=%{y}<extra></extra>",
           "legendgroup": "",
           "marker": {
            "color": "#636efa",
            "symbol": "circle"
           },
           "mode": "markers",
           "name": "",
           "orientation": "v",
           "showlegend": false,
           "type": "scatter",
           "x": [
            -0.39177886797847156,
            0
           ],
           "xaxis": "x",
           "y": [
            -0.9200594103673454,
            0
           ],
           "yaxis": "y"
          }
         ],
         "name": "-1.973360552763819"
        },
        {
         "data": [
          {
           "hovertemplate": "theta=-1.941786783919598<br>z1=%{x}<br>z2=%{y}<extra></extra>",
           "legendgroup": "",
           "marker": {
            "color": "#636efa",
            "symbol": "circle"
           },
           "mode": "markers",
           "name": "",
           "orientation": "v",
           "showlegend": false,
           "type": "scatter",
           "x": [
            -0.36253868470267364,
            0
           ],
           "xaxis": "x",
           "y": [
            -0.9319687237745993,
            0
           ],
           "yaxis": "y"
          }
         ],
         "name": "-1.941786783919598"
        },
        {
         "data": [
          {
           "hovertemplate": "theta=-1.9102130150753769<br>z1=%{x}<br>z2=%{y}<extra></extra>",
           "legendgroup": "",
           "marker": {
            "color": "#636efa",
            "symbol": "circle"
           },
           "mode": "markers",
           "name": "",
           "orientation": "v",
           "showlegend": false,
           "type": "scatter",
           "x": [
            -0.3329371155920479,
            0
           ],
           "xaxis": "x",
           "y": [
            -0.9429490320591285,
            0
           ],
           "yaxis": "y"
          }
         ],
         "name": "-1.9102130150753769"
        },
        {
         "data": [
          {
           "hovertemplate": "theta=-1.8786392462311556<br>z1=%{x}<br>z2=%{y}<extra></extra>",
           "legendgroup": "",
           "marker": {
            "color": "#636efa",
            "symbol": "circle"
           },
           "mode": "markers",
           "name": "",
           "orientation": "v",
           "showlegend": false,
           "type": "scatter",
           "x": [
            -0.30300366808460466,
            0
           ],
           "xaxis": "x",
           "y": [
            -0.9529893898293279,
            0
           ],
           "yaxis": "y"
          }
         ],
         "name": "-1.8786392462311556"
        },
        {
         "data": [
          {
           "hovertemplate": "theta=-1.8470654773869346<br>z1=%{x}<br>z2=%{y}<extra></extra>",
           "legendgroup": "",
           "marker": {
            "color": "#636efa",
            "symbol": "circle"
           },
           "mode": "markers",
           "name": "",
           "orientation": "v",
           "showlegend": false,
           "type": "scatter",
           "x": [
            -0.27276818044139944,
            0
           ],
           "xaxis": "x",
           "y": [
            -0.962079788655124,
            0
           ],
           "yaxis": "y"
          }
         ],
         "name": "-1.8470654773869346"
        },
        {
         "data": [
          {
           "hovertemplate": "theta=-1.8154917085427136<br>z1=%{x}<br>z2=%{y}<extra></extra>",
           "legendgroup": "",
           "marker": {
            "color": "#636efa",
            "symbol": "circle"
           },
           "mode": "markers",
           "name": "",
           "orientation": "v",
           "showlegend": false,
           "type": "scatter",
           "x": [
            -0.24226079200315465,
            0
           ],
           "xaxis": "x",
           "y": [
            -0.9702111670445791,
            0
           ],
           "yaxis": "y"
          }
         ],
         "name": "-1.8154917085427136"
        },
        {
         "data": [
          {
           "hovertemplate": "theta=-1.7839179396984923<br>z1=%{x}<br>z2=%{y}<extra></extra>",
           "legendgroup": "",
           "marker": {
            "color": "#636efa",
            "symbol": "circle"
           },
           "mode": "markers",
           "name": "",
           "orientation": "v",
           "showlegend": false,
           "type": "scatter",
           "x": [
            -0.21151191314676046,
            0
           ],
           "xaxis": "x",
           "y": [
            -0.977375419476568,
            0
           ],
           "yaxis": "y"
          }
         ],
         "name": "-1.7839179396984923"
        },
        {
         "data": [
          {
           "hovertemplate": "theta=-1.7523441708542713<br>z1=%{x}<br>z2=%{y}<extra></extra>",
           "legendgroup": "",
           "marker": {
            "color": "#636efa",
            "symbol": "circle"
           },
           "mode": "markers",
           "name": "",
           "orientation": "v",
           "showlegend": false,
           "type": "scatter",
           "x": [
            -0.18055219497160177,
            0
           ],
           "xaxis": "x",
           "y": [
            -0.983565404480524,
            0
           ],
           "yaxis": "y"
          }
         ],
         "name": "-1.7523441708542713"
        },
        {
         "data": [
          {
           "hovertemplate": "theta=-1.7207704020100503<br>z1=%{x}<br>z2=%{y}<extra></extra>",
           "legendgroup": "",
           "marker": {
            "color": "#636efa",
            "symbol": "circle"
           },
           "mode": "markers",
           "name": "",
           "orientation": "v",
           "showlegend": false,
           "type": "scatter",
           "x": [
            -0.14941249874592605,
            0
           ],
           "xaxis": "x",
           "y": [
            -0.9887749517552002,
            0
           ],
           "yaxis": "y"
          }
         ],
         "name": "-1.7207704020100503"
        },
        {
         "data": [
          {
           "hovertemplate": "theta=-1.689196633165829<br>z1=%{x}<br>z2=%{y}<extra></extra>",
           "legendgroup": "",
           "marker": {
            "color": "#636efa",
            "symbol": "circle"
           },
           "mode": "markers",
           "name": "",
           "orientation": "v",
           "showlegend": false,
           "type": "scatter",
           "x": [
            -0.11812386514371252,
            0
           ],
           "xaxis": "x",
           "y": [
            -0.9929988683193501,
            0
           ],
           "yaxis": "y"
          }
         ],
         "name": "-1.689196633165829"
        },
        {
         "data": [
          {
           "hovertemplate": "theta=-1.657622864321608<br>z1=%{x}<br>z2=%{y}<extra></extra>",
           "legendgroup": "",
           "marker": {
            "color": "#636efa",
            "symbol": "circle"
           },
           "mode": "markers",
           "name": "",
           "orientation": "v",
           "showlegend": false,
           "type": "scatter",
           "x": [
            -0.08671748330270629,
            0
           ],
           "xaxis": "x",
           "y": [
            -0.9962329436881943,
            0
           ],
           "yaxis": "y"
          }
         ],
         "name": "-1.657622864321608"
        },
        {
         "data": [
          {
           "hovertemplate": "theta=-1.626049095477387<br>z1=%{x}<br>z2=%{y}<extra></extra>",
           "legendgroup": "",
           "marker": {
            "color": "#636efa",
            "symbol": "circle"
           },
           "mode": "markers",
           "name": "",
           "orientation": "v",
           "showlegend": false,
           "type": "scatter",
           "x": [
            -0.05522465973445868,
            0
           ],
           "xaxis": "x",
           "y": [
            -0.9984739540705172,
            0
           ],
           "yaxis": "y"
          }
         ],
         "name": "-1.626049095477387"
        },
        {
         "data": [
          {
           "hovertemplate": "theta=-1.5944753266331657<br>z1=%{x}<br>z2=%{y}<extra></extra>",
           "legendgroup": "",
           "marker": {
            "color": "#636efa",
            "symbol": "circle"
           },
           "mode": "markers",
           "name": "",
           "orientation": "v",
           "showlegend": false,
           "type": "scatter",
           "x": [
            -0.02367678711736912,
            0
           ],
           "xaxis": "x",
           "y": [
            -0.9997196655822065,
            0
           ],
           "yaxis": "y"
          }
         ],
         "name": "-1.5944753266331657"
        },
        {
         "data": [
          {
           "hovertemplate": "theta=-1.5629015577889447<br>z1=%{x}<br>z2=%{y}<extra></extra>",
           "legendgroup": "",
           "marker": {
            "color": "#636efa",
            "symbol": "circle"
           },
           "mode": "markers",
           "name": "",
           "orientation": "v",
           "showlegend": false,
           "type": "scatter",
           "x": [
            0.00789468699616595,
            0
           ],
           "xaxis": "x",
           "y": [
            -0.9999688364730336,
            0
           ],
           "yaxis": "y"
          }
         ],
         "name": "-1.5629015577889447"
        },
        {
         "data": [
          {
           "hovertemplate": "theta=-1.5313277889447234<br>z1=%{x}<br>z2=%{y}<extra></extra>",
           "legendgroup": "",
           "marker": {
            "color": "#636efa",
            "symbol": "circle"
           },
           "mode": "markers",
           "name": "",
           "orientation": "v",
           "showlegend": false,
           "type": "scatter",
           "x": [
            0.03945829152730577,
            0
           ],
           "xaxis": "x",
           "y": [
            -0.9992212183644551,
            0
           ],
           "yaxis": "y"
          }
         ],
         "name": "-1.5313277889447234"
        },
        {
         "data": [
          {
           "hovertemplate": "theta=-1.4997540201005024<br>z1=%{x}<br>z2=%{y}<extra></extra>",
           "legendgroup": "",
           "marker": {
            "color": "#636efa",
            "symbol": "circle"
           },
           "mode": "markers",
           "name": "",
           "orientation": "v",
           "showlegend": false,
           "type": "scatter",
           "x": [
            0.07098256324176631,
            0
           ],
           "xaxis": "x",
           "y": [
            -0.9974775564972019,
            0
           ],
           "yaxis": "y"
          }
         ],
         "name": "-1.4997540201005024"
        },
        {
         "data": [
          {
           "hovertemplate": "theta=-1.4681802512562814<br>z1=%{x}<br>z2=%{y}<extra></extra>",
           "legendgroup": "",
           "marker": {
            "color": "#636efa",
            "symbol": "circle"
           },
           "mode": "markers",
           "name": "",
           "orientation": "v",
           "showlegend": false,
           "type": "scatter",
           "x": [
            0.10243607811300508,
            0
           ],
           "xaxis": "x",
           "y": [
            -0.9947395889884078,
            0
           ],
           "yaxis": "y"
          }
         ],
         "name": "-1.4681802512562814"
        },
        {
         "data": [
          {
           "hovertemplate": "theta=-1.4366064824120601<br>z1=%{x}<br>z2=%{y}<extra></extra>",
           "legendgroup": "",
           "marker": {
            "color": "#636efa",
            "symbol": "circle"
           },
           "mode": "markers",
           "name": "",
           "orientation": "v",
           "showlegend": false,
           "type": "scatter",
           "x": [
            0.1337874826463205,
            0
           ],
           "xaxis": "x",
           "y": [
            -0.9910100450990195,
            0
           ],
           "yaxis": "y"
          }
         ],
         "name": "-1.4366064824120601"
        },
        {
         "data": [
          {
           "hovertemplate": "theta=-1.405032713567839<br>z1=%{x}<br>z2=%{y}<extra></extra>",
           "legendgroup": "",
           "marker": {
            "color": "#636efa",
            "symbol": "circle"
           },
           "mode": "markers",
           "name": "",
           "orientation": "v",
           "showlegend": false,
           "type": "scatter",
           "x": [
            0.16500552513264394,
            0
           ],
           "xaxis": "x",
           "y": [
            -0.9862926425132149,
            0
           ],
           "yaxis": "y"
          }
         ],
         "name": "-1.405032713567839"
        },
        {
         "data": [
          {
           "hovertemplate": "theta=-1.373458944723618<br>z1=%{x}<br>z2=%{y}<extra></extra>",
           "legendgroup": "",
           "marker": {
            "color": "#636efa",
            "symbol": "circle"
           },
           "mode": "markers",
           "name": "",
           "orientation": "v",
           "showlegend": false,
           "type": "scatter",
           "x": [
            0.19605908680087164,
            0
           ],
           "xaxis": "x",
           "y": [
            -0.980592083632541,
            0
           ],
           "yaxis": "y"
          }
         ],
         "name": "-1.373458944723618"
        },
        {
         "data": [
          {
           "hovertemplate": "theta=-1.3418851758793968<br>z1=%{x}<br>z2=%{y}<extra></extra>",
           "legendgroup": "",
           "marker": {
            "color": "#636efa",
            "symbol": "circle"
           },
           "mode": "markers",
           "name": "",
           "orientation": "v",
           "showlegend": false,
           "type": "scatter",
           "x": [
            0.22691721283767938,
            0
           ],
           "xaxis": "x",
           "y": [
            -0.9739140508884648,
            0
           ],
           "yaxis": "y"
          }
         ],
         "name": "-1.3418851758793968"
        },
        {
         "data": [
          {
           "hovertemplate": "theta=-1.3103114070351758<br>z1=%{x}<br>z2=%{y}<extra></extra>",
           "legendgroup": "",
           "marker": {
            "color": "#636efa",
            "symbol": "circle"
           },
           "mode": "markers",
           "name": "",
           "orientation": "v",
           "showlegend": false,
           "type": "scatter",
           "x": [
            0.2575491432439009,
            0
           ],
           "xaxis": "x",
           "y": [
            -0.9662652010780128,
            0
           ],
           "yaxis": "y"
          }
         ],
         "name": "-1.3103114070351758"
        },
        {
         "data": [
          {
           "hovertemplate": "theta=-1.2787376381909548<br>z1=%{x}<br>z2=%{y}<extra></extra>",
           "legendgroup": "",
           "marker": {
            "color": "#636efa",
            "symbol": "circle"
           },
           "mode": "markers",
           "name": "",
           "orientation": "v",
           "showlegend": false,
           "type": "scatter",
           "x": [
            0.28792434349671353,
            0
           ],
           "xaxis": "x",
           "y": [
            -0.9576531587281413,
            0
           ],
           "yaxis": "y"
          }
         ],
         "name": "-1.2787376381909548"
        },
        {
         "data": [
          {
           "hovertemplate": "theta=-1.2471638693467335<br>z1=%{x}<br>z2=%{y}<extra></extra>",
           "legendgroup": "",
           "marker": {
            "color": "#636efa",
            "symbol": "circle"
           },
           "mode": "markers",
           "name": "",
           "orientation": "v",
           "showlegend": false,
           "type": "scatter",
           "x": [
            0.3180125349870625,
            0
           ],
           "xaxis": "x",
           "y": [
            -0.948086508495455,
            0
           ],
           "yaxis": "y"
          }
         ],
         "name": "-1.2471638693467335"
        },
        {
         "data": [
          {
           "hovertemplate": "theta=-1.2155901005025125<br>z1=%{x}<br>z2=%{y}<extra></extra>",
           "legendgroup": "",
           "marker": {
            "color": "#636efa",
            "symbol": "circle"
           },
           "mode": "markers",
           "name": "",
           "orientation": "v",
           "showlegend": false,
           "type": "scatter",
           "x": [
            0.34778372520198525,
            0
           ],
           "xaxis": "x",
           "y": [
            -0.9375747866088496,
            0
           ],
           "yaxis": "y"
          }
         ],
         "name": "-1.2155901005025125"
        },
        {
         "data": [
          {
           "hovertemplate": "theta=-1.1840163316582915<br>z1=%{x}<br>z2=%{y}<extra></extra>",
           "legendgroup": "",
           "marker": {
            "color": "#636efa",
            "symbol": "circle"
           },
           "mode": "markers",
           "name": "",
           "orientation": "v",
           "showlegend": false,
           "type": "scatter",
           "x": [
            0.37720823762175165,
            0
           ],
           "xaxis": "x",
           "y": [
            -0.9261284713636074,
            0
           ],
           "yaxis": "y"
          }
         ],
         "name": "-1.1840163316582915"
        },
        {
         "data": [
          {
           "hovertemplate": "theta=-1.1524425628140702<br>z1=%{x}<br>z2=%{y}<extra></extra>",
           "legendgroup": "",
           "marker": {
            "color": "#636efa",
            "symbol": "circle"
           },
           "mode": "markers",
           "name": "",
           "orientation": "v",
           "showlegend": false,
           "type": "scatter",
           "x": [
            0.4062567413020132,
            0
           ],
           "xaxis": "x",
           "y": [
            -0.9137589726764215,
            0
           ],
           "yaxis": "y"
          }
         ],
         "name": "-1.1524425628140702"
        },
        {
         "data": [
          {
           "hovertemplate": "theta=-1.1208687939698492<br>z1=%{x}<br>z2=%{y}<extra></extra>",
           "legendgroup": "",
           "marker": {
            "color": "#636efa",
            "symbol": "circle"
           },
           "mode": "markers",
           "name": "",
           "orientation": "v",
           "showlegend": false,
           "type": "scatter",
           "x": [
            0.4349002801114767,
            0
           ],
           "xaxis": "x",
           "y": [
            -0.900478620711763,
            0
           ],
           "yaxis": "y"
          }
         ],
         "name": "-1.1208687939698492"
        },
        {
         "data": [
          {
           "hovertemplate": "theta=-1.0892950251256281<br>z1=%{x}<br>z2=%{y}<extra></extra>",
           "legendgroup": "",
           "marker": {
            "color": "#636efa",
            "symbol": "circle"
           },
           "mode": "markers",
           "name": "",
           "orientation": "v",
           "showlegend": false,
           "type": "scatter",
           "x": [
            0.4631103015959579,
            0
           ],
           "xaxis": "x",
           "y": [
            -0.886300653590925,
            0
           ],
           "yaxis": "y"
          }
         ],
         "name": "-1.0892950251256281"
        },
        {
         "data": [
          {
           "hovertemplate": "theta=-1.0577212562814071<br>z1=%{x}<br>z2=%{y}<extra></extra>",
           "legendgroup": "",
           "marker": {
            "color": "#636efa",
            "symbol": "circle"
           },
           "mode": "markers",
           "name": "",
           "orientation": "v",
           "showlegend": false,
           "type": "scatter",
           "x": [
            0.49085868544003985,
            0
           ],
           "xaxis": "x",
           "y": [
            -0.8712392041959981,
            0
           ],
           "yaxis": "y"
          }
         ],
         "name": "-1.0577212562814071"
        },
        {
         "data": [
          {
           "hovertemplate": "theta=-1.0261474874371856<br>z1=%{x}<br>z2=%{y}<extra></extra>",
           "legendgroup": "",
           "marker": {
            "color": "#636efa",
            "symbol": "circle"
           },
           "mode": "markers",
           "name": "",
           "orientation": "v",
           "showlegend": false,
           "type": "scatter",
           "x": [
            0.5181177714979681,
            0
           ],
           "xaxis": "x",
           "y": [
            -0.8553092860819291,
            0
           ],
           "yaxis": "y"
          }
         ],
         "name": "-1.0261474874371856"
        },
        {
         "data": [
          {
           "hovertemplate": "theta=-0.9945737185929646<br>z1=%{x}<br>z2=%{y}<extra></extra>",
           "legendgroup": "",
           "marker": {
            "color": "#636efa",
            "symbol": "circle"
           },
           "mode": "markers",
           "name": "",
           "orientation": "v",
           "showlegend": false,
           "type": "scatter",
           "x": [
            0.5448603873658375,
            0
           ],
           "xaxis": "x",
           "y": [
            -0.8385267785107101,
            0
           ],
           "yaxis": "y"
          }
         ],
         "name": "-0.9945737185929646"
        },
        {
         "data": [
          {
           "hovertemplate": "theta=-0.9629999497487436<br>z1=%{x}<br>z2=%{y}<extra></extra>",
           "legendgroup": "",
           "marker": {
            "color": "#636efa",
            "symbol": "circle"
           },
           "mode": "markers",
           "name": "",
           "orientation": "v",
           "showlegend": false,
           "type": "scatter",
           "x": [
            0.5710598754675922,
            0
           ],
           "xaxis": "x",
           "y": [
            -0.820908410622609,
            0
           ],
           "yaxis": "y"
          }
         ],
         "name": "-0.9629999497487436"
        },
        {
         "data": [
          {
           "hovertemplate": "theta=-0.9314261809045226<br>z1=%{x}<br>z2=%{y}<extra></extra>",
           "legendgroup": "",
           "marker": {
            "color": "#636efa",
            "symbol": "circle"
           },
           "mode": "markers",
           "name": "",
           "orientation": "v",
           "showlegend": false,
           "type": "scatter",
           "x": [
            0.5966901196278299,
            0
           ],
           "xaxis": "x",
           "y": [
            -0.802471744760229,
            0
           ],
           "yaxis": "y"
          }
         ],
         "name": "-0.9314261809045226"
        },
        {
         "data": [
          {
           "hovertemplate": "theta=-0.8998524120603015<br>z1=%{x}<br>z2=%{y}<extra></extra>",
           "legendgroup": "",
           "marker": {
            "color": "#636efa",
            "symbol": "circle"
           },
           "mode": "markers",
           "name": "",
           "orientation": "v",
           "showlegend": false,
           "type": "scatter",
           "x": [
            0.6217255711049308,
            0
           ],
           "xaxis": "x",
           "y": [
            -0.7832351589620117,
            0
           ],
           "yaxis": "y"
          }
         ],
         "name": "-0.8998524120603015"
        },
        {
         "data": [
          {
           "hovertemplate": "theta=-0.8682786432160805<br>z1=%{x}<br>z2=%{y}<extra></extra>",
           "legendgroup": "",
           "marker": {
            "color": "#636efa",
            "symbol": "circle"
           },
           "mode": "markers",
           "name": "",
           "orientation": "v",
           "showlegend": false,
           "type": "scatter",
           "x": [
            0.6461412740585554,
            0
           ],
           "xaxis": "x",
           "y": [
            -0.7632178286426404,
            0
           ],
           "yaxis": "y"
          }
         ],
         "name": "-0.8682786432160805"
        },
        {
         "data": [
          {
           "hovertemplate": "theta=-0.836704874371859<br>z1=%{x}<br>z2=%{y}<extra></extra>",
           "legendgroup": "",
           "marker": {
            "color": "#636efa",
            "symbol": "circle"
           },
           "mode": "markers",
           "name": "",
           "orientation": "v",
           "showlegend": false,
           "type": "scatter",
           "x": [
            0.6699128904261271,
            0
           ],
           "xaxis": "x",
           "y": [
            -0.7424397074786018,
            0
           ],
           "yaxis": "y"
          }
         ],
         "name": "-0.836704874371859"
        },
        {
         "data": [
          {
           "hovertemplate": "theta=-0.805131105527638<br>z1=%{x}<br>z2=%{y}<extra></extra>",
           "legendgroup": "",
           "marker": {
            "color": "#636efa",
            "symbol": "circle"
           },
           "mode": "markers",
           "name": "",
           "orientation": "v",
           "showlegend": false,
           "type": "scatter",
           "x": [
            0.6930167241835005,
            0
           ],
           "xaxis": "x",
           "y": [
            -0.7209215075179614,
            0
           ],
           "yaxis": "y"
          }
         ],
         "name": "-0.805131105527638"
        },
        {
         "data": [
          {
           "hovertemplate": "theta=-0.773557336683417<br>z1=%{x}<br>z2=%{y}<extra></extra>",
           "legendgroup": "",
           "marker": {
            "color": "#636efa",
            "symbol": "circle"
           },
           "mode": "markers",
           "name": "",
           "orientation": "v",
           "showlegend": false,
           "type": "scatter",
           "x": [
            0.7154297449656349,
            0
           ],
           "xaxis": "x",
           "y": [
            -0.6986846785341773,
            0
           ],
           "yaxis": "y"
          }
         ],
         "name": "-0.773557336683417"
        },
        {
         "data": [
          {
           "hovertemplate": "theta=-0.741983567839196<br>z1=%{x}<br>z2=%{y}<extra></extra>",
           "legendgroup": "",
           "marker": {
            "color": "#636efa",
            "symbol": "circle"
           },
           "mode": "markers",
           "name": "",
           "orientation": "v",
           "showlegend": false,
           "type": "scatter",
           "x": [
            0.7371296110237237,
            0
           ],
           "xaxis": "x",
           "y": [
            -0.6757513866445366,
            0
           ],
           "yaxis": "y"
          }
         ],
         "name": "-0.741983567839196"
        },
        {
         "data": [
          {
           "hovertemplate": "theta=-0.7104097989949749<br>z1=%{x}<br>z2=%{y}<extra></extra>",
           "legendgroup": "",
           "marker": {
            "color": "#636efa",
            "symbol": "circle"
           },
           "mode": "markers",
           "name": "",
           "orientation": "v",
           "showlegend": false,
           "type": "scatter",
           "x": [
            0.7580946914958974,
            0
           ],
           "xaxis": "x",
           "y": [
            -0.6521444922145246,
            0
           ],
           "yaxis": "y"
          }
         ],
         "name": "-0.7104097989949749"
        },
        {
         "data": [
          {
           "hovertemplate": "theta=-0.6788360301507539<br>z1=%{x}<br>z2=%{y}<extra></extra>",
           "legendgroup": "",
           "marker": {
            "color": "#636efa",
            "symbol": "circle"
           },
           "mode": "markers",
           "name": "",
           "orientation": "v",
           "showlegend": false,
           "type": "scatter",
           "x": [
            0.7783040879693016,
            0
           ],
           "xaxis": "x",
           "y": [
            -0.6278875270701542,
            0
           ],
           "yaxis": "y"
          }
         ],
         "name": "-0.6788360301507539"
        },
        {
         "data": [
          {
           "hovertemplate": "theta=-0.6472622613065324<br>z1=%{x}<br>z2=%{y}<extra></extra>",
           "legendgroup": "",
           "marker": {
            "color": "#636efa",
            "symbol": "circle"
           },
           "mode": "markers",
           "name": "",
           "orientation": "v",
           "showlegend": false,
           "type": "scatter",
           "x": [
            0.7977376553120541,
            0
           ],
           "xaxis": "x",
           "y": [
            -0.6030046710409683,
            0
           ],
           "yaxis": "y"
          }
         ],
         "name": "-0.6472622613065324"
        },
        {
         "data": [
          {
           "hovertemplate": "theta=-0.6156884924623114<br>z1=%{x}<br>z2=%{y}<extra></extra>",
           "legendgroup": "",
           "marker": {
            "color": "#636efa",
            "symbol": "circle"
           },
           "mode": "markers",
           "name": "",
           "orientation": "v",
           "showlegend": false,
           "type": "scatter",
           "x": [
            0.8163760217543149,
            0
           ],
           "xaxis": "x",
           "y": [
            -0.5775207278571034,
            0
           ],
           "yaxis": "y"
          }
         ],
         "name": "-0.6156884924623114"
        },
        {
         "data": [
          {
           "hovertemplate": "theta=-0.5841147236180904<br>z1=%{x}<br>z2=%{y}<extra></extra>",
           "legendgroup": "",
           "marker": {
            "color": "#636efa",
            "symbol": "circle"
           },
           "mode": "markers",
           "name": "",
           "orientation": "v",
           "showlegend": false,
           "type": "scatter",
           "x": [
            0.8342006081984575,
            0
           ],
           "xaxis": "x",
           "y": [
            -0.5514611004244302,
            0
           ],
           "yaxis": "y"
          }
         ],
         "name": "-0.5841147236180904"
        },
        {
         "data": [
          {
           "hovertemplate": "theta=-0.5525409547738693<br>z1=%{x}<br>z2=%{y}<extra></extra>",
           "legendgroup": "",
           "marker": {
            "color": "#636efa",
            "symbol": "circle"
           },
           "mode": "markers",
           "name": "",
           "orientation": "v",
           "showlegend": false,
           "type": "scatter",
           "x": [
            0.8511936467390852,
            0
           ],
           "xaxis": "x",
           "y": [
            -0.5248517655024297,
            0
           ],
           "yaxis": "y"
          }
         ],
         "name": "-0.5525409547738693"
        },
        {
         "data": [
          {
           "hovertemplate": "theta=-0.5209671859296483<br>z1=%{x}<br>z2=%{y}<extra></extra>",
           "legendgroup": "",
           "marker": {
            "color": "#636efa",
            "symbol": "circle"
           },
           "mode": "markers",
           "name": "",
           "orientation": "v",
           "showlegend": false,
           "type": "scatter",
           "x": [
            0.8673381983744348,
            0
           ],
           "xaxis": "x",
           "y": [
            -0.49771924781003746,
            0
           ],
           "yaxis": "y"
          }
         ],
         "name": "-0.5209671859296483"
        },
        {
         "data": [
          {
           "hovertemplate": "theta=-0.4893934170854273<br>z1=%{x}<br>z2=%{y}<extra></extra>",
           "legendgroup": "",
           "marker": {
            "color": "#636efa",
            "symbol": "circle"
           },
           "mode": "markers",
           "name": "",
           "orientation": "v",
           "showlegend": false,
           "type": "scatter",
           "x": [
            0.8826181698915149,
            0
           ],
           "xaxis": "x",
           "y": [
            -0.47009059358527155,
            0
           ],
           "yaxis": "y"
          }
         ],
         "name": "-0.4893934170854273"
        },
        {
         "data": [
          {
           "hovertemplate": "theta=-0.4578196482412058<br>z1=%{x}<br>z2=%{y}<extra></extra>",
           "legendgroup": "",
           "marker": {
            "color": "#636efa",
            "symbol": "circle"
           },
           "mode": "markers",
           "name": "",
           "orientation": "v",
           "showlegend": false,
           "type": "scatter",
           "x": [
            0.8970183299081425,
            0
           ],
           "xaxis": "x",
           "y": [
            -0.44199334362499965,
            0
           ],
           "yaxis": "y"
          }
         ],
         "name": "-0.4578196482412058"
        },
        {
         "data": [
          {
           "hovertemplate": "theta=-0.4262458793969848<br>z1=%{x}<br>z2=%{y}<extra></extra>",
           "legendgroup": "",
           "marker": {
            "color": "#636efa",
            "symbol": "circle"
           },
           "mode": "markers",
           "name": "",
           "orientation": "v",
           "showlegend": false,
           "type": "scatter",
           "x": [
            0.91052432405589,
            0
           ],
           "xaxis": "x",
           "y": [
            -0.4134555058317214,
            0
           ],
           "yaxis": "y"
          }
         ],
         "name": "-0.4262458793969848"
        },
        {
         "data": [
          {
           "hovertemplate": "theta=-0.39467211055276374<br>z1=%{x}<br>z2=%{y}<extra></extra>",
           "legendgroup": "",
           "marker": {
            "color": "#636efa",
            "symbol": "circle"
           },
           "mode": "markers",
           "name": "",
           "orientation": "v",
           "showlegend": false,
           "type": "scatter",
           "x": [
            0.9231226892888094,
            0
           ],
           "xaxis": "x",
           "y": [
            -0.3845055272947273,
            0
           ],
           "yaxis": "y"
          }
         ],
         "name": "-0.39467211055276374"
        },
        {
         "data": [
          {
           "hovertemplate": "theta=-0.3630983417085427<br>z1=%{x}<br>z2=%{y}<extra></extra>",
           "legendgroup": "",
           "marker": {
            "color": "#636efa",
            "symbol": "circle"
           },
           "mode": "markers",
           "name": "",
           "orientation": "v",
           "showlegend": false,
           "type": "scatter",
           "x": [
            0.9348008673036649,
            0
           ],
           "xaxis": "x",
           "y": [
            -0.3551722659334706,
            0
           ],
           "yaxis": "y"
          }
         ],
         "name": "-0.3630983417085427"
        },
        {
         "data": [
          {
           "hovertemplate": "theta=-0.3315245728643217<br>z1=%{x}<br>z2=%{y}<extra></extra>",
           "legendgroup": "",
           "marker": {
            "color": "#636efa",
            "symbol": "circle"
           },
           "mode": "markers",
           "name": "",
           "orientation": "v",
           "showlegend": false,
           "type": "scatter",
           "x": [
            0.9455472170583022,
            0
           ],
           "xaxis": "x",
           "y": [
            -0.32548496173141384,
            0
           ],
           "yaxis": "y"
          }
         ],
         "name": "-0.3315245728643217"
        },
        {
         "data": [
          {
           "hovertemplate": "theta=-0.29995080402010066<br>z1=%{x}<br>z2=%{y}<extra></extra>",
           "legendgroup": "",
           "marker": {
            "color": "#636efa",
            "symbol": "circle"
           },
           "mode": "markers",
           "name": "",
           "orientation": "v",
           "showlegend": false,
           "type": "scatter",
           "x": [
            0.955351026375673,
            0
           ],
           "xaxis": "x",
           "y": [
            -0.29547320758902684,
            0
           ],
           "yaxis": "y"
          }
         ],
         "name": "-0.29995080402010066"
        },
        {
         "data": [
          {
           "hovertemplate": "theta=-0.2683770351758792<br>z1=%{x}<br>z2=%{y}<extra></extra>",
           "legendgroup": "",
           "marker": {
            "color": "#636efa",
            "symbol": "circle"
           },
           "mode": "markers",
           "name": "",
           "orientation": "v",
           "showlegend": false,
           "type": "scatter",
           "x": [
            0.9642025226219478,
            0
           ],
           "xaxis": "x",
           "y": [
            -0.26516691982498913,
            0
           ],
           "yaxis": "y"
          }
         ],
         "name": "-0.2683770351758792"
        },
        {
         "data": [
          {
           "hovertemplate": "theta=-0.23680326633165816<br>z1=%{x}<br>z2=%{y}<extra></extra>",
           "legendgroup": "",
           "marker": {
            "color": "#636efa",
            "symbol": "circle"
           },
           "mode": "markers",
           "name": "",
           "orientation": "v",
           "showlegend": false,
           "type": "scatter",
           "x": [
            0.9720928824480731,
            0
           ],
           "xaxis": "x",
           "y": [
            -0.2345963083550051,
            0
           ],
           "yaxis": "y"
          }
         ],
         "name": "-0.23680326633165816"
        },
        {
         "data": [
          {
           "hovertemplate": "theta=-0.20522949748743713<br>z1=%{x}<br>z2=%{y}<extra></extra>",
           "legendgroup": "",
           "marker": {
            "color": "#636efa",
            "symbol": "circle"
           },
           "mode": "markers",
           "name": "",
           "orientation": "v",
           "showlegend": false,
           "type": "scatter",
           "x": [
            0.9790142405850636,
            0
           ],
           "xaxis": "x",
           "y": [
            -0.20379184657795135,
            0
           ],
           "yaxis": "y"
          }
         ],
         "name": "-0.20522949748743713"
        },
        {
         "data": [
          {
           "hovertemplate": "theta=-0.1736557286432161<br>z1=%{x}<br>z2=%{y}<extra></extra>",
           "legendgroup": "",
           "marker": {
            "color": "#636efa",
            "symbol": "circle"
           },
           "mode": "markers",
           "name": "",
           "orientation": "v",
           "showlegend": false,
           "type": "scatter",
           "x": [
            0.9849596976842592,
            0
           ],
           "xaxis": "x",
           "y": [
            -0.1727842409993828,
            0
           ],
           "yaxis": "y"
          }
         ],
         "name": "-0.1736557286432161"
        },
        {
         "data": [
          {
           "hovertemplate": "theta=-0.14208195979899507<br>z1=%{x}<br>z2=%{y}<extra></extra>",
           "legendgroup": "",
           "marker": {
            "color": "#636efa",
            "symbol": "circle"
           },
           "mode": "markers",
           "name": "",
           "orientation": "v",
           "showlegend": false,
           "type": "scatter",
           "x": [
            0.9899233271947347,
            0
           ],
           "xaxis": "x",
           "y": [
            -0.14160440062267166,
            0
           ],
           "yaxis": "y"
          }
         ],
         "name": "-0.14208195979899507"
        },
        {
         "data": [
          {
           "hovertemplate": "theta=-0.11050819095477404<br>z1=%{x}<br>z2=%{y}<extra></extra>",
           "legendgroup": "",
           "marker": {
            "color": "#636efa",
            "symbol": "circle"
           },
           "mode": "markers",
           "name": "",
           "orientation": "v",
           "showlegend": false,
           "type": "scatter",
           "x": [
            0.9939001812710049,
            0
           ],
           "xaxis": "x",
           "y": [
            -0.11028340613829259,
            0
           ],
           "yaxis": "y"
          }
         ],
         "name": "-0.11050819095477404"
        },
        {
         "data": [
          {
           "hovertemplate": "theta=-0.07893442211055257<br>z1=%{x}<br>z2=%{y}<extra></extra>",
           "legendgroup": "",
           "marker": {
            "color": "#636efa",
            "symbol": "circle"
           },
           "mode": "markers",
           "name": "",
           "orientation": "v",
           "showlegend": false,
           "type": "scatter",
           "x": [
            0.9968862957051354,
            0
           ],
           "xaxis": "x",
           "y": [
            -0.07885247894196643,
            0
           ],
           "yaxis": "y"
          }
         ],
         "name": "-0.07893442211055257"
        },
        {
         "data": [
          {
           "hovertemplate": "theta=-0.04736065326633154<br>z1=%{x}<br>z2=%{y}<extra></extra>",
           "legendgroup": "",
           "marker": {
            "color": "#636efa",
            "symbol": "circle"
           },
           "mode": "markers",
           "name": "",
           "orientation": "v",
           "showlegend": false,
           "type": "scatter",
           "x": [
            0.9988786938783455,
            0
           ],
           "xaxis": "x",
           "y": [
            -0.047342950012548256,
            0
           ],
           "yaxis": "y"
          }
         ],
         "name": "-0.04736065326633154"
        },
        {
         "data": [
          {
           "hovertemplate": "theta=-0.015786884422110514<br>z1=%{x}<br>z2=%{y}<extra></extra>",
           "legendgroup": "",
           "marker": {
            "color": "#636efa",
            "symbol": "circle"
           },
           "mode": "markers",
           "name": "",
           "orientation": "v",
           "showlegend": false,
           "type": "scatter",
           "x": [
            0.9998753897281608,
            0
           ],
           "xaxis": "x",
           "y": [
            -0.01578622868067648,
            0
           ],
           "yaxis": "y"
          }
         ],
         "name": "-0.015786884422110514"
        },
        {
         "data": [
          {
           "hovertemplate": "theta=0.015786884422110514<br>z1=%{x}<br>z2=%{y}<extra></extra>",
           "legendgroup": "",
           "marker": {
            "color": "#636efa",
            "symbol": "circle"
           },
           "mode": "markers",
           "name": "",
           "orientation": "v",
           "showlegend": false,
           "type": "scatter",
           "x": [
            0.9998753897281608,
            0
           ],
           "xaxis": "x",
           "y": [
            0.01578622868067648,
            0
           ],
           "yaxis": "y"
          }
         ],
         "name": "0.015786884422110514"
        },
        {
         "data": [
          {
           "hovertemplate": "theta=0.04736065326633154<br>z1=%{x}<br>z2=%{y}<extra></extra>",
           "legendgroup": "",
           "marker": {
            "color": "#636efa",
            "symbol": "circle"
           },
           "mode": "markers",
           "name": "",
           "orientation": "v",
           "showlegend": false,
           "type": "scatter",
           "x": [
            0.9988786938783455,
            0
           ],
           "xaxis": "x",
           "y": [
            0.047342950012548256,
            0
           ],
           "yaxis": "y"
          }
         ],
         "name": "0.04736065326633154"
        },
        {
         "data": [
          {
           "hovertemplate": "theta=0.07893442211055302<br>z1=%{x}<br>z2=%{y}<extra></extra>",
           "legendgroup": "",
           "marker": {
            "color": "#636efa",
            "symbol": "circle"
           },
           "mode": "markers",
           "name": "",
           "orientation": "v",
           "showlegend": false,
           "type": "scatter",
           "x": [
            0.9968862957051354,
            0
           ],
           "xaxis": "x",
           "y": [
            0.07885247894196687,
            0
           ],
           "yaxis": "y"
          }
         ],
         "name": "0.07893442211055302"
        },
        {
         "data": [
          {
           "hovertemplate": "theta=0.11050819095477404<br>z1=%{x}<br>z2=%{y}<extra></extra>",
           "legendgroup": "",
           "marker": {
            "color": "#636efa",
            "symbol": "circle"
           },
           "mode": "markers",
           "name": "",
           "orientation": "v",
           "showlegend": false,
           "type": "scatter",
           "x": [
            0.9939001812710049,
            0
           ],
           "xaxis": "x",
           "y": [
            0.11028340613829259,
            0
           ],
           "yaxis": "y"
          }
         ],
         "name": "0.11050819095477404"
        },
        {
         "data": [
          {
           "hovertemplate": "theta=0.14208195979899507<br>z1=%{x}<br>z2=%{y}<extra></extra>",
           "legendgroup": "",
           "marker": {
            "color": "#636efa",
            "symbol": "circle"
           },
           "mode": "markers",
           "name": "",
           "orientation": "v",
           "showlegend": false,
           "type": "scatter",
           "x": [
            0.9899233271947347,
            0
           ],
           "xaxis": "x",
           "y": [
            0.14160440062267166,
            0
           ],
           "yaxis": "y"
          }
         ],
         "name": "0.14208195979899507"
        },
        {
         "data": [
          {
           "hovertemplate": "theta=0.1736557286432161<br>z1=%{x}<br>z2=%{y}<extra></extra>",
           "legendgroup": "",
           "marker": {
            "color": "#636efa",
            "symbol": "circle"
           },
           "mode": "markers",
           "name": "",
           "orientation": "v",
           "showlegend": false,
           "type": "scatter",
           "x": [
            0.9849596976842592,
            0
           ],
           "xaxis": "x",
           "y": [
            0.1727842409993828,
            0
           ],
           "yaxis": "y"
          }
         ],
         "name": "0.1736557286432161"
        },
        {
         "data": [
          {
           "hovertemplate": "theta=0.20522949748743713<br>z1=%{x}<br>z2=%{y}<extra></extra>",
           "legendgroup": "",
           "marker": {
            "color": "#636efa",
            "symbol": "circle"
           },
           "mode": "markers",
           "name": "",
           "orientation": "v",
           "showlegend": false,
           "type": "scatter",
           "x": [
            0.9790142405850636,
            0
           ],
           "xaxis": "x",
           "y": [
            0.20379184657795135,
            0
           ],
           "yaxis": "y"
          }
         ],
         "name": "0.20522949748743713"
        },
        {
         "data": [
          {
           "hovertemplate": "theta=0.23680326633165816<br>z1=%{x}<br>z2=%{y}<extra></extra>",
           "legendgroup": "",
           "marker": {
            "color": "#636efa",
            "symbol": "circle"
           },
           "mode": "markers",
           "name": "",
           "orientation": "v",
           "showlegend": false,
           "type": "scatter",
           "x": [
            0.9720928824480731,
            0
           ],
           "xaxis": "x",
           "y": [
            0.2345963083550051,
            0
           ],
           "yaxis": "y"
          }
         ],
         "name": "0.23680326633165816"
        },
        {
         "data": [
          {
           "hovertemplate": "theta=0.26837703517587963<br>z1=%{x}<br>z2=%{y}<extra></extra>",
           "legendgroup": "",
           "marker": {
            "color": "#636efa",
            "symbol": "circle"
           },
           "mode": "markers",
           "name": "",
           "orientation": "v",
           "showlegend": false,
           "type": "scatter",
           "x": [
            0.9642025226219477,
            0
           ],
           "xaxis": "x",
           "y": [
            0.2651669198249896,
            0
           ],
           "yaxis": "y"
          }
         ],
         "name": "0.26837703517587963"
        },
        {
         "data": [
          {
           "hovertemplate": "theta=0.29995080402010066<br>z1=%{x}<br>z2=%{y}<extra></extra>",
           "legendgroup": "",
           "marker": {
            "color": "#636efa",
            "symbol": "circle"
           },
           "mode": "markers",
           "name": "",
           "orientation": "v",
           "showlegend": false,
           "type": "scatter",
           "x": [
            0.955351026375673,
            0
           ],
           "xaxis": "x",
           "y": [
            0.29547320758902684,
            0
           ],
           "yaxis": "y"
          }
         ],
         "name": "0.29995080402010066"
        },
        {
         "data": [
          {
           "hovertemplate": "theta=0.3315245728643217<br>z1=%{x}<br>z2=%{y}<extra></extra>",
           "legendgroup": "",
           "marker": {
            "color": "#636efa",
            "symbol": "circle"
           },
           "mode": "markers",
           "name": "",
           "orientation": "v",
           "showlegend": false,
           "type": "scatter",
           "x": [
            0.9455472170583022,
            0
           ],
           "xaxis": "x",
           "y": [
            0.32548496173141384,
            0
           ],
           "yaxis": "y"
          }
         ],
         "name": "0.3315245728643217"
        },
        {
         "data": [
          {
           "hovertemplate": "theta=0.3630983417085427<br>z1=%{x}<br>z2=%{y}<extra></extra>",
           "legendgroup": "",
           "marker": {
            "color": "#636efa",
            "symbol": "circle"
           },
           "mode": "markers",
           "name": "",
           "orientation": "v",
           "showlegend": false,
           "type": "scatter",
           "x": [
            0.9348008673036649,
            0
           ],
           "xaxis": "x",
           "y": [
            0.3551722659334706,
            0
           ],
           "yaxis": "y"
          }
         ],
         "name": "0.3630983417085427"
        },
        {
         "data": [
          {
           "hovertemplate": "theta=0.39467211055276374<br>z1=%{x}<br>z2=%{y}<extra></extra>",
           "legendgroup": "",
           "marker": {
            "color": "#636efa",
            "symbol": "circle"
           },
           "mode": "markers",
           "name": "",
           "orientation": "v",
           "showlegend": false,
           "type": "scatter",
           "x": [
            0.9231226892888094,
            0
           ],
           "xaxis": "x",
           "y": [
            0.3845055272947273,
            0
           ],
           "yaxis": "y"
          }
         ],
         "name": "0.39467211055276374"
        },
        {
         "data": [
          {
           "hovertemplate": "theta=0.4262458793969848<br>z1=%{x}<br>z2=%{y}<extra></extra>",
           "legendgroup": "",
           "marker": {
            "color": "#636efa",
            "symbol": "circle"
           },
           "mode": "markers",
           "name": "",
           "orientation": "v",
           "showlegend": false,
           "type": "scatter",
           "x": [
            0.91052432405589,
            0
           ],
           "xaxis": "x",
           "y": [
            0.4134555058317214,
            0
           ],
           "yaxis": "y"
          }
         ],
         "name": "0.4262458793969848"
        },
        {
         "data": [
          {
           "hovertemplate": "theta=0.45781964824120625<br>z1=%{x}<br>z2=%{y}<extra></extra>",
           "legendgroup": "",
           "marker": {
            "color": "#636efa",
            "symbol": "circle"
           },
           "mode": "markers",
           "name": "",
           "orientation": "v",
           "showlegend": false,
           "type": "scatter",
           "x": [
            0.8970183299081422,
            0
           ],
           "xaxis": "x",
           "y": [
            0.44199334362500003,
            0
           ],
           "yaxis": "y"
          }
         ],
         "name": "0.45781964824120625"
        },
        {
         "data": [
          {
           "hovertemplate": "theta=0.4893934170854273<br>z1=%{x}<br>z2=%{y}<extra></extra>",
           "legendgroup": "",
           "marker": {
            "color": "#636efa",
            "symbol": "circle"
           },
           "mode": "markers",
           "name": "",
           "orientation": "v",
           "showlegend": false,
           "type": "scatter",
           "x": [
            0.8826181698915149,
            0
           ],
           "xaxis": "x",
           "y": [
            0.47009059358527155,
            0
           ],
           "yaxis": "y"
          }
         ],
         "name": "0.4893934170854273"
        },
        {
         "data": [
          {
           "hovertemplate": "theta=0.5209671859296483<br>z1=%{x}<br>z2=%{y}<extra></extra>",
           "legendgroup": "",
           "marker": {
            "color": "#636efa",
            "symbol": "circle"
           },
           "mode": "markers",
           "name": "",
           "orientation": "v",
           "showlegend": false,
           "type": "scatter",
           "x": [
            0.8673381983744348,
            0
           ],
           "xaxis": "x",
           "y": [
            0.49771924781003746,
            0
           ],
           "yaxis": "y"
          }
         ],
         "name": "0.5209671859296483"
        },
        {
         "data": [
          {
           "hovertemplate": "theta=0.5525409547738693<br>z1=%{x}<br>z2=%{y}<extra></extra>",
           "legendgroup": "",
           "marker": {
            "color": "#636efa",
            "symbol": "circle"
           },
           "mode": "markers",
           "name": "",
           "orientation": "v",
           "showlegend": false,
           "type": "scatter",
           "x": [
            0.8511936467390852,
            0
           ],
           "xaxis": "x",
           "y": [
            0.5248517655024297,
            0
           ],
           "yaxis": "y"
          }
         ],
         "name": "0.5525409547738693"
        },
        {
         "data": [
          {
           "hovertemplate": "theta=0.5841147236180904<br>z1=%{x}<br>z2=%{y}<extra></extra>",
           "legendgroup": "",
           "marker": {
            "color": "#636efa",
            "symbol": "circle"
           },
           "mode": "markers",
           "name": "",
           "orientation": "v",
           "showlegend": false,
           "type": "scatter",
           "x": [
            0.8342006081984575,
            0
           ],
           "xaxis": "x",
           "y": [
            0.5514611004244302,
            0
           ],
           "yaxis": "y"
          }
         ],
         "name": "0.5841147236180904"
        },
        {
         "data": [
          {
           "hovertemplate": "theta=0.6156884924623114<br>z1=%{x}<br>z2=%{y}<extra></extra>",
           "legendgroup": "",
           "marker": {
            "color": "#636efa",
            "symbol": "circle"
           },
           "mode": "markers",
           "name": "",
           "orientation": "v",
           "showlegend": false,
           "type": "scatter",
           "x": [
            0.8163760217543149,
            0
           ],
           "xaxis": "x",
           "y": [
            0.5775207278571034,
            0
           ],
           "yaxis": "y"
          }
         ],
         "name": "0.6156884924623114"
        },
        {
         "data": [
          {
           "hovertemplate": "theta=0.6472622613065329<br>z1=%{x}<br>z2=%{y}<extra></extra>",
           "legendgroup": "",
           "marker": {
            "color": "#636efa",
            "symbol": "circle"
           },
           "mode": "markers",
           "name": "",
           "orientation": "v",
           "showlegend": false,
           "type": "scatter",
           "x": [
            0.7977376553120538,
            0
           ],
           "xaxis": "x",
           "y": [
            0.6030046710409687,
            0
           ],
           "yaxis": "y"
          }
         ],
         "name": "0.6472622613065329"
        },
        {
         "data": [
          {
           "hovertemplate": "theta=0.6788360301507539<br>z1=%{x}<br>z2=%{y}<extra></extra>",
           "legendgroup": "",
           "marker": {
            "color": "#636efa",
            "symbol": "circle"
           },
           "mode": "markers",
           "name": "",
           "orientation": "v",
           "showlegend": false,
           "type": "scatter",
           "x": [
            0.7783040879693016,
            0
           ],
           "xaxis": "x",
           "y": [
            0.6278875270701542,
            0
           ],
           "yaxis": "y"
          }
         ],
         "name": "0.6788360301507539"
        },
        {
         "data": [
          {
           "hovertemplate": "theta=0.7104097989949749<br>z1=%{x}<br>z2=%{y}<extra></extra>",
           "legendgroup": "",
           "marker": {
            "color": "#636efa",
            "symbol": "circle"
           },
           "mode": "markers",
           "name": "",
           "orientation": "v",
           "showlegend": false,
           "type": "scatter",
           "x": [
            0.7580946914958974,
            0
           ],
           "xaxis": "x",
           "y": [
            0.6521444922145246,
            0
           ],
           "yaxis": "y"
          }
         ],
         "name": "0.7104097989949749"
        },
        {
         "data": [
          {
           "hovertemplate": "theta=0.741983567839196<br>z1=%{x}<br>z2=%{y}<extra></extra>",
           "legendgroup": "",
           "marker": {
            "color": "#636efa",
            "symbol": "circle"
           },
           "mode": "markers",
           "name": "",
           "orientation": "v",
           "showlegend": false,
           "type": "scatter",
           "x": [
            0.7371296110237237,
            0
           ],
           "xaxis": "x",
           "y": [
            0.6757513866445366,
            0
           ],
           "yaxis": "y"
          }
         ],
         "name": "0.741983567839196"
        },
        {
         "data": [
          {
           "hovertemplate": "theta=0.773557336683417<br>z1=%{x}<br>z2=%{y}<extra></extra>",
           "legendgroup": "",
           "marker": {
            "color": "#636efa",
            "symbol": "circle"
           },
           "mode": "markers",
           "name": "",
           "orientation": "v",
           "showlegend": false,
           "type": "scatter",
           "x": [
            0.7154297449656349,
            0
           ],
           "xaxis": "x",
           "y": [
            0.6986846785341773,
            0
           ],
           "yaxis": "y"
          }
         ],
         "name": "0.773557336683417"
        },
        {
         "data": [
          {
           "hovertemplate": "theta=0.805131105527638<br>z1=%{x}<br>z2=%{y}<extra></extra>",
           "legendgroup": "",
           "marker": {
            "color": "#636efa",
            "symbol": "circle"
           },
           "mode": "markers",
           "name": "",
           "orientation": "v",
           "showlegend": false,
           "type": "scatter",
           "x": [
            0.6930167241835005,
            0
           ],
           "xaxis": "x",
           "y": [
            0.7209215075179614,
            0
           ],
           "yaxis": "y"
          }
         ],
         "name": "0.805131105527638"
        },
        {
         "data": [
          {
           "hovertemplate": "theta=0.8367048743718595<br>z1=%{x}<br>z2=%{y}<extra></extra>",
           "legendgroup": "",
           "marker": {
            "color": "#636efa",
            "symbol": "circle"
           },
           "mode": "markers",
           "name": "",
           "orientation": "v",
           "showlegend": false,
           "type": "scatter",
           "x": [
            0.6699128904261268,
            0
           ],
           "xaxis": "x",
           "y": [
            0.7424397074786021,
            0
           ],
           "yaxis": "y"
          }
         ],
         "name": "0.8367048743718595"
        },
        {
         "data": [
          {
           "hovertemplate": "theta=0.8682786432160805<br>z1=%{x}<br>z2=%{y}<extra></extra>",
           "legendgroup": "",
           "marker": {
            "color": "#636efa",
            "symbol": "circle"
           },
           "mode": "markers",
           "name": "",
           "orientation": "v",
           "showlegend": false,
           "type": "scatter",
           "x": [
            0.6461412740585554,
            0
           ],
           "xaxis": "x",
           "y": [
            0.7632178286426404,
            0
           ],
           "yaxis": "y"
          }
         ],
         "name": "0.8682786432160805"
        },
        {
         "data": [
          {
           "hovertemplate": "theta=0.8998524120603015<br>z1=%{x}<br>z2=%{y}<extra></extra>",
           "legendgroup": "",
           "marker": {
            "color": "#636efa",
            "symbol": "circle"
           },
           "mode": "markers",
           "name": "",
           "orientation": "v",
           "showlegend": false,
           "type": "scatter",
           "x": [
            0.6217255711049308,
            0
           ],
           "xaxis": "x",
           "y": [
            0.7832351589620117,
            0
           ],
           "yaxis": "y"
          }
         ],
         "name": "0.8998524120603015"
        },
        {
         "data": [
          {
           "hovertemplate": "theta=0.9314261809045226<br>z1=%{x}<br>z2=%{y}<extra></extra>",
           "legendgroup": "",
           "marker": {
            "color": "#636efa",
            "symbol": "circle"
           },
           "mode": "markers",
           "name": "",
           "orientation": "v",
           "showlegend": false,
           "type": "scatter",
           "x": [
            0.5966901196278299,
            0
           ],
           "xaxis": "x",
           "y": [
            0.802471744760229,
            0
           ],
           "yaxis": "y"
          }
         ],
         "name": "0.9314261809045226"
        },
        {
         "data": [
          {
           "hovertemplate": "theta=0.9629999497487436<br>z1=%{x}<br>z2=%{y}<extra></extra>",
           "legendgroup": "",
           "marker": {
            "color": "#636efa",
            "symbol": "circle"
           },
           "mode": "markers",
           "name": "",
           "orientation": "v",
           "showlegend": false,
           "type": "scatter",
           "x": [
            0.5710598754675922,
            0
           ],
           "xaxis": "x",
           "y": [
            0.820908410622609,
            0
           ],
           "yaxis": "y"
          }
         ],
         "name": "0.9629999497487436"
        },
        {
         "data": [
          {
           "hovertemplate": "theta=0.9945737185929646<br>z1=%{x}<br>z2=%{y}<extra></extra>",
           "legendgroup": "",
           "marker": {
            "color": "#636efa",
            "symbol": "circle"
           },
           "mode": "markers",
           "name": "",
           "orientation": "v",
           "showlegend": false,
           "type": "scatter",
           "x": [
            0.5448603873658375,
            0
           ],
           "xaxis": "x",
           "y": [
            0.8385267785107101,
            0
           ],
           "yaxis": "y"
          }
         ],
         "name": "0.9945737185929646"
        },
        {
         "data": [
          {
           "hovertemplate": "theta=1.0261474874371856<br>z1=%{x}<br>z2=%{y}<extra></extra>",
           "legendgroup": "",
           "marker": {
            "color": "#636efa",
            "symbol": "circle"
           },
           "mode": "markers",
           "name": "",
           "orientation": "v",
           "showlegend": false,
           "type": "scatter",
           "x": [
            0.5181177714979681,
            0
           ],
           "xaxis": "x",
           "y": [
            0.8553092860819291,
            0
           ],
           "yaxis": "y"
          }
         ],
         "name": "1.0261474874371856"
        },
        {
         "data": [
          {
           "hovertemplate": "theta=1.0577212562814067<br>z1=%{x}<br>z2=%{y}<extra></extra>",
           "legendgroup": "",
           "marker": {
            "color": "#636efa",
            "symbol": "circle"
           },
           "mode": "markers",
           "name": "",
           "orientation": "v",
           "showlegend": false,
           "type": "scatter",
           "x": [
            0.49085868544004024,
            0
           ],
           "xaxis": "x",
           "y": [
            0.8712392041959979,
            0
           ],
           "yaxis": "y"
          }
         ],
         "name": "1.0577212562814067"
        },
        {
         "data": [
          {
           "hovertemplate": "theta=1.0892950251256286<br>z1=%{x}<br>z2=%{y}<extra></extra>",
           "legendgroup": "",
           "marker": {
            "color": "#636efa",
            "symbol": "circle"
           },
           "mode": "markers",
           "name": "",
           "orientation": "v",
           "showlegend": false,
           "type": "scatter",
           "x": [
            0.4631103015959575,
            0
           ],
           "xaxis": "x",
           "y": [
            0.8863006535909252,
            0
           ],
           "yaxis": "y"
          }
         ],
         "name": "1.0892950251256286"
        },
        {
         "data": [
          {
           "hovertemplate": "theta=1.1208687939698496<br>z1=%{x}<br>z2=%{y}<extra></extra>",
           "legendgroup": "",
           "marker": {
            "color": "#636efa",
            "symbol": "circle"
           },
           "mode": "markers",
           "name": "",
           "orientation": "v",
           "showlegend": false,
           "type": "scatter",
           "x": [
            0.4349002801114763,
            0
           ],
           "xaxis": "x",
           "y": [
            0.9004786207117632,
            0
           ],
           "yaxis": "y"
          }
         ],
         "name": "1.1208687939698496"
        },
        {
         "data": [
          {
           "hovertemplate": "theta=1.1524425628140706<br>z1=%{x}<br>z2=%{y}<extra></extra>",
           "legendgroup": "",
           "marker": {
            "color": "#636efa",
            "symbol": "circle"
           },
           "mode": "markers",
           "name": "",
           "orientation": "v",
           "showlegend": false,
           "type": "scatter",
           "x": [
            0.4062567413020128,
            0
           ],
           "xaxis": "x",
           "y": [
            0.9137589726764216,
            0
           ],
           "yaxis": "y"
          }
         ],
         "name": "1.1524425628140706"
        },
        {
         "data": [
          {
           "hovertemplate": "theta=1.1840163316582917<br>z1=%{x}<br>z2=%{y}<extra></extra>",
           "legendgroup": "",
           "marker": {
            "color": "#636efa",
            "symbol": "circle"
           },
           "mode": "markers",
           "name": "",
           "orientation": "v",
           "showlegend": false,
           "type": "scatter",
           "x": [
            0.37720823762175143,
            0
           ],
           "xaxis": "x",
           "y": [
            0.9261284713636074,
            0
           ],
           "yaxis": "y"
          }
         ],
         "name": "1.1840163316582917"
        },
        {
         "data": [
          {
           "hovertemplate": "theta=1.2155901005025127<br>z1=%{x}<br>z2=%{y}<extra></extra>",
           "legendgroup": "",
           "marker": {
            "color": "#636efa",
            "symbol": "circle"
           },
           "mode": "markers",
           "name": "",
           "orientation": "v",
           "showlegend": false,
           "type": "scatter",
           "x": [
            0.3477837252019851,
            0
           ],
           "xaxis": "x",
           "y": [
            0.9375747866088497,
            0
           ],
           "yaxis": "y"
          }
         ],
         "name": "1.2155901005025127"
        },
        {
         "data": [
          {
           "hovertemplate": "theta=1.2471638693467337<br>z1=%{x}<br>z2=%{y}<extra></extra>",
           "legendgroup": "",
           "marker": {
            "color": "#636efa",
            "symbol": "circle"
           },
           "mode": "markers",
           "name": "",
           "orientation": "v",
           "showlegend": false,
           "type": "scatter",
           "x": [
            0.3180125349870623,
            0
           ],
           "xaxis": "x",
           "y": [
            0.9480865084954551,
            0
           ],
           "yaxis": "y"
          }
         ],
         "name": "1.2471638693467337"
        },
        {
         "data": [
          {
           "hovertemplate": "theta=1.2787376381909548<br>z1=%{x}<br>z2=%{y}<extra></extra>",
           "legendgroup": "",
           "marker": {
            "color": "#636efa",
            "symbol": "circle"
           },
           "mode": "markers",
           "name": "",
           "orientation": "v",
           "showlegend": false,
           "type": "scatter",
           "x": [
            0.28792434349671353,
            0
           ],
           "xaxis": "x",
           "y": [
            0.9576531587281413,
            0
           ],
           "yaxis": "y"
          }
         ],
         "name": "1.2787376381909548"
        },
        {
         "data": [
          {
           "hovertemplate": "theta=1.3103114070351758<br>z1=%{x}<br>z2=%{y}<extra></extra>",
           "legendgroup": "",
           "marker": {
            "color": "#636efa",
            "symbol": "circle"
           },
           "mode": "markers",
           "name": "",
           "orientation": "v",
           "showlegend": false,
           "type": "scatter",
           "x": [
            0.2575491432439009,
            0
           ],
           "xaxis": "x",
           "y": [
            0.9662652010780128,
            0
           ],
           "yaxis": "y"
          }
         ],
         "name": "1.3103114070351758"
        },
        {
         "data": [
          {
           "hovertemplate": "theta=1.3418851758793968<br>z1=%{x}<br>z2=%{y}<extra></extra>",
           "legendgroup": "",
           "marker": {
            "color": "#636efa",
            "symbol": "circle"
           },
           "mode": "markers",
           "name": "",
           "orientation": "v",
           "showlegend": false,
           "type": "scatter",
           "x": [
            0.22691721283767938,
            0
           ],
           "xaxis": "x",
           "y": [
            0.9739140508884648,
            0
           ],
           "yaxis": "y"
          }
         ],
         "name": "1.3418851758793968"
        },
        {
         "data": [
          {
           "hovertemplate": "theta=1.3734589447236178<br>z1=%{x}<br>z2=%{y}<extra></extra>",
           "legendgroup": "",
           "marker": {
            "color": "#636efa",
            "symbol": "circle"
           },
           "mode": "markers",
           "name": "",
           "orientation": "v",
           "showlegend": false,
           "type": "scatter",
           "x": [
            0.19605908680087186,
            0
           ],
           "xaxis": "x",
           "y": [
            0.9805920836325409,
            0
           ],
           "yaxis": "y"
          }
         ],
         "name": "1.3734589447236178"
        },
        {
         "data": [
          {
           "hovertemplate": "theta=1.4050327135678389<br>z1=%{x}<br>z2=%{y}<extra></extra>",
           "legendgroup": "",
           "marker": {
            "color": "#636efa",
            "symbol": "circle"
           },
           "mode": "markers",
           "name": "",
           "orientation": "v",
           "showlegend": false,
           "type": "scatter",
           "x": [
            0.16500552513264416,
            0
           ],
           "xaxis": "x",
           "y": [
            0.9862926425132149,
            0
           ],
           "yaxis": "y"
          }
         ],
         "name": "1.4050327135678389"
        },
        {
         "data": [
          {
           "hovertemplate": "theta=1.43660648241206<br>z1=%{x}<br>z2=%{y}<extra></extra>",
           "legendgroup": "",
           "marker": {
            "color": "#636efa",
            "symbol": "circle"
           },
           "mode": "markers",
           "name": "",
           "orientation": "v",
           "showlegend": false,
           "type": "scatter",
           "x": [
            0.13378748264632073,
            0
           ],
           "xaxis": "x",
           "y": [
            0.9910100450990194,
            0
           ],
           "yaxis": "y"
          }
         ],
         "name": "1.43660648241206"
        },
        {
         "data": [
          {
           "hovertemplate": "theta=1.4681802512562818<br>z1=%{x}<br>z2=%{y}<extra></extra>",
           "legendgroup": "",
           "marker": {
            "color": "#636efa",
            "symbol": "circle"
           },
           "mode": "markers",
           "name": "",
           "orientation": "v",
           "showlegend": false,
           "type": "scatter",
           "x": [
            0.10243607811300463,
            0
           ],
           "xaxis": "x",
           "y": [
            0.9947395889884078,
            0
           ],
           "yaxis": "y"
          }
         ],
         "name": "1.4681802512562818"
        },
        {
         "data": [
          {
           "hovertemplate": "theta=1.4997540201005028<br>z1=%{x}<br>z2=%{y}<extra></extra>",
           "legendgroup": "",
           "marker": {
            "color": "#636efa",
            "symbol": "circle"
           },
           "mode": "markers",
           "name": "",
           "orientation": "v",
           "showlegend": false,
           "type": "scatter",
           "x": [
            0.07098256324176587,
            0
           ],
           "xaxis": "x",
           "y": [
            0.9974775564972019,
            0
           ],
           "yaxis": "y"
          }
         ],
         "name": "1.4997540201005028"
        },
        {
         "data": [
          {
           "hovertemplate": "theta=1.5313277889447239<br>z1=%{x}<br>z2=%{y}<extra></extra>",
           "legendgroup": "",
           "marker": {
            "color": "#636efa",
            "symbol": "circle"
           },
           "mode": "markers",
           "name": "",
           "orientation": "v",
           "showlegend": false,
           "type": "scatter",
           "x": [
            0.039458291527305324,
            0
           ],
           "xaxis": "x",
           "y": [
            0.9992212183644552,
            0
           ],
           "yaxis": "y"
          }
         ],
         "name": "1.5313277889447239"
        },
        {
         "data": [
          {
           "hovertemplate": "theta=1.562901557788945<br>z1=%{x}<br>z2=%{y}<extra></extra>",
           "legendgroup": "",
           "marker": {
            "color": "#636efa",
            "symbol": "circle"
           },
           "mode": "markers",
           "name": "",
           "orientation": "v",
           "showlegend": false,
           "type": "scatter",
           "x": [
            0.007894686996165728,
            0
           ],
           "xaxis": "x",
           "y": [
            0.9999688364730336,
            0
           ],
           "yaxis": "y"
          }
         ],
         "name": "1.562901557788945"
        },
        {
         "data": [
          {
           "hovertemplate": "theta=1.594475326633166<br>z1=%{x}<br>z2=%{y}<extra></extra>",
           "legendgroup": "",
           "marker": {
            "color": "#636efa",
            "symbol": "circle"
           },
           "mode": "markers",
           "name": "",
           "orientation": "v",
           "showlegend": false,
           "type": "scatter",
           "x": [
            -0.02367678711736934,
            0
           ],
           "xaxis": "x",
           "y": [
            0.9997196655822065,
            0
           ],
           "yaxis": "y"
          }
         ],
         "name": "1.594475326633166"
        },
        {
         "data": [
          {
           "hovertemplate": "theta=1.626049095477387<br>z1=%{x}<br>z2=%{y}<extra></extra>",
           "legendgroup": "",
           "marker": {
            "color": "#636efa",
            "symbol": "circle"
           },
           "mode": "markers",
           "name": "",
           "orientation": "v",
           "showlegend": false,
           "type": "scatter",
           "x": [
            -0.05522465973445868,
            0
           ],
           "xaxis": "x",
           "y": [
            0.9984739540705172,
            0
           ],
           "yaxis": "y"
          }
         ],
         "name": "1.626049095477387"
        },
        {
         "data": [
          {
           "hovertemplate": "theta=1.657622864321608<br>z1=%{x}<br>z2=%{y}<extra></extra>",
           "legendgroup": "",
           "marker": {
            "color": "#636efa",
            "symbol": "circle"
           },
           "mode": "markers",
           "name": "",
           "orientation": "v",
           "showlegend": false,
           "type": "scatter",
           "x": [
            -0.08671748330270629,
            0
           ],
           "xaxis": "x",
           "y": [
            0.9962329436881943,
            0
           ],
           "yaxis": "y"
          }
         ],
         "name": "1.657622864321608"
        },
        {
         "data": [
          {
           "hovertemplate": "theta=1.689196633165829<br>z1=%{x}<br>z2=%{y}<extra></extra>",
           "legendgroup": "",
           "marker": {
            "color": "#636efa",
            "symbol": "circle"
           },
           "mode": "markers",
           "name": "",
           "orientation": "v",
           "showlegend": false,
           "type": "scatter",
           "x": [
            -0.11812386514371252,
            0
           ],
           "xaxis": "x",
           "y": [
            0.9929988683193501,
            0
           ],
           "yaxis": "y"
          }
         ],
         "name": "1.689196633165829"
        },
        {
         "data": [
          {
           "hovertemplate": "theta=1.72077040201005<br>z1=%{x}<br>z2=%{y}<extra></extra>",
           "legendgroup": "",
           "marker": {
            "color": "#636efa",
            "symbol": "circle"
           },
           "mode": "markers",
           "name": "",
           "orientation": "v",
           "showlegend": false,
           "type": "scatter",
           "x": [
            -0.14941249874592583,
            0
           ],
           "xaxis": "x",
           "y": [
            0.9887749517552004,
            0
           ],
           "yaxis": "y"
          }
         ],
         "name": "1.72077040201005"
        },
        {
         "data": [
          {
           "hovertemplate": "theta=1.752344170854271<br>z1=%{x}<br>z2=%{y}<extra></extra>",
           "legendgroup": "",
           "marker": {
            "color": "#636efa",
            "symbol": "circle"
           },
           "mode": "markers",
           "name": "",
           "orientation": "v",
           "showlegend": false,
           "type": "scatter",
           "x": [
            -0.18055219497160155,
            0
           ],
           "xaxis": "x",
           "y": [
            0.983565404480524,
            0
           ],
           "yaxis": "y"
          }
         ],
         "name": "1.752344170854271"
        },
        {
         "data": [
          {
           "hovertemplate": "theta=1.783917939698492<br>z1=%{x}<br>z2=%{y}<extra></extra>",
           "legendgroup": "",
           "marker": {
            "color": "#636efa",
            "symbol": "circle"
           },
           "mode": "markers",
           "name": "",
           "orientation": "v",
           "showlegend": false,
           "type": "scatter",
           "x": [
            -0.21151191314676024,
            0
           ],
           "xaxis": "x",
           "y": [
            0.977375419476568,
            0
           ],
           "yaxis": "y"
          }
         ],
         "name": "1.783917939698492"
        },
        {
         "data": [
          {
           "hovertemplate": "theta=1.8154917085427131<br>z1=%{x}<br>z2=%{y}<extra></extra>",
           "legendgroup": "",
           "marker": {
            "color": "#636efa",
            "symbol": "circle"
           },
           "mode": "markers",
           "name": "",
           "orientation": "v",
           "showlegend": false,
           "type": "scatter",
           "x": [
            -0.24226079200315423,
            0
           ],
           "xaxis": "x",
           "y": [
            0.9702111670445792,
            0
           ],
           "yaxis": "y"
          }
         ],
         "name": "1.8154917085427131"
        },
        {
         "data": [
          {
           "hovertemplate": "theta=1.847065477386935<br>z1=%{x}<br>z2=%{y}<extra></extra>",
           "legendgroup": "",
           "marker": {
            "color": "#636efa",
            "symbol": "circle"
           },
           "mode": "markers",
           "name": "",
           "orientation": "v",
           "showlegend": false,
           "type": "scatter",
           "x": [
            -0.2727681804413999,
            0
           ],
           "xaxis": "x",
           "y": [
            0.9620797886551239,
            0
           ],
           "yaxis": "y"
          }
         ],
         "name": "1.847065477386935"
        },
        {
         "data": [
          {
           "hovertemplate": "theta=1.878639246231156<br>z1=%{x}<br>z2=%{y}<extra></extra>",
           "legendgroup": "",
           "marker": {
            "color": "#636efa",
            "symbol": "circle"
           },
           "mode": "markers",
           "name": "",
           "orientation": "v",
           "showlegend": false,
           "type": "scatter",
           "x": [
            -0.3030036680846051,
            0
           ],
           "xaxis": "x",
           "y": [
            0.9529893898293278,
            0
           ],
           "yaxis": "y"
          }
         ],
         "name": "1.878639246231156"
        },
        {
         "data": [
          {
           "hovertemplate": "theta=1.910213015075377<br>z1=%{x}<br>z2=%{y}<extra></extra>",
           "legendgroup": "",
           "marker": {
            "color": "#636efa",
            "symbol": "circle"
           },
           "mode": "markers",
           "name": "",
           "orientation": "v",
           "showlegend": false,
           "type": "scatter",
           "x": [
            -0.33293711559204814,
            0
           ],
           "xaxis": "x",
           "y": [
            0.9429490320591284,
            0
           ],
           "yaxis": "y"
          }
         ],
         "name": "1.910213015075377"
        },
        {
         "data": [
          {
           "hovertemplate": "theta=1.9417867839195981<br>z1=%{x}<br>z2=%{y}<extra></extra>",
           "legendgroup": "",
           "marker": {
            "color": "#636efa",
            "symbol": "circle"
           },
           "mode": "markers",
           "name": "",
           "orientation": "v",
           "showlegend": false,
           "type": "scatter",
           "x": [
            -0.36253868470267386,
            0
           ],
           "xaxis": "x",
           "y": [
            0.9319687237745993,
            0
           ],
           "yaxis": "y"
          }
         ],
         "name": "1.9417867839195981"
        },
        {
         "data": [
          {
           "hovertemplate": "theta=1.9733605527638192<br>z1=%{x}<br>z2=%{y}<extra></extra>",
           "legendgroup": "",
           "marker": {
            "color": "#636efa",
            "symbol": "circle"
           },
           "mode": "markers",
           "name": "",
           "orientation": "v",
           "showlegend": false,
           "type": "scatter",
           "x": [
            -0.3917788679784718,
            0
           ],
           "xaxis": "x",
           "y": [
            0.9200594103673453,
            0
           ],
           "yaxis": "y"
          }
         ],
         "name": "1.9733605527638192"
        },
        {
         "data": [
          {
           "hovertemplate": "theta=2.00493432160804<br>z1=%{x}<br>z2=%{y}<extra></extra>",
           "legendgroup": "",
           "marker": {
            "color": "#636efa",
            "symbol": "circle"
           },
           "mode": "markers",
           "name": "",
           "orientation": "v",
           "showlegend": false,
           "type": "scatter",
           "x": [
            -0.42062851821808245,
            0
           ],
           "xaxis": "x",
           "y": [
            0.9072329632799176,
            0
           ],
           "yaxis": "y"
          }
         ],
         "name": "2.00493432160804"
        },
        {
         "data": [
          {
           "hovertemplate": "theta=2.036508090452261<br>z1=%{x}<br>z2=%{y}<extra></extra>",
           "legendgroup": "",
           "marker": {
            "color": "#636efa",
            "symbol": "circle"
           },
           "mode": "markers",
           "name": "",
           "orientation": "v",
           "showlegend": false,
           "type": "scatter",
           "x": [
            -0.44905887751131235,
            0
           ],
           "xaxis": "x",
           "y": [
            0.8935021681721205,
            0
           ],
           "yaxis": "y"
          }
         ],
         "name": "2.036508090452261"
        },
        {
         "data": [
          {
           "hovertemplate": "theta=2.0680818592964822<br>z1=%{x}<br>z2=%{y}<extra></extra>",
           "legendgroup": "",
           "marker": {
            "color": "#636efa",
            "symbol": "circle"
           },
           "mode": "markers",
           "name": "",
           "orientation": "v",
           "showlegend": false,
           "type": "scatter",
           "x": [
            -0.477041605905596,
            0
           ],
           "xaxis": "x",
           "y": [
            0.8788807121760097,
            0
           ],
           "yaxis": "y"
          }
         ],
         "name": "2.0680818592964822"
        },
        {
         "data": [
          {
           "hovertemplate": "theta=2.0996556281407033<br>z1=%{x}<br>z2=%{y}<extra></extra>",
           "legendgroup": "",
           "marker": {
            "color": "#636efa",
            "symbol": "circle"
           },
           "mode": "markers",
           "name": "",
           "orientation": "v",
           "showlegend": false,
           "type": "scatter",
           "x": [
            -0.504548809655829,
            0
           ],
           "xaxis": "x",
           "y": [
            0.8633831702522848,
            0
           ],
           "yaxis": "y"
          }
         ],
         "name": "2.0996556281407033"
        },
        {
         "data": [
          {
           "hovertemplate": "theta=2.1312293969849243<br>z1=%{x}<br>z2=%{y}<extra></extra>",
           "legendgroup": "",
           "marker": {
            "color": "#636efa",
            "symbol": "circle"
           },
           "mode": "markers",
           "name": "",
           "orientation": "v",
           "showlegend": false,
           "type": "scatter",
           "x": [
            -0.5315530690294136,
            0
           ],
           "xaxis": "x",
           "y": [
            0.8470249906616756,
            0
           ],
           "yaxis": "y"
          }
         ],
         "name": "2.1312293969849243"
        },
        {
         "data": [
          {
           "hovertemplate": "theta=2.1628031658291453<br>z1=%{x}<br>z2=%{y}<extra></extra>",
           "legendgroup": "",
           "marker": {
            "color": "#636efa",
            "symbol": "circle"
           },
           "mode": "markers",
           "name": "",
           "orientation": "v",
           "showlegend": false,
           "type": "scatter",
           "x": [
            -0.5580274656387967,
            0
           ],
           "xaxis": "x",
           "y": [
            0.8298224795658055,
            0
           ],
           "yaxis": "y"
          }
         ],
         "name": "2.1628031658291453"
        },
        {
         "data": [
          {
           "hovertemplate": "theta=2.1943769346733673<br>z1=%{x}<br>z2=%{y}<extra></extra>",
           "legendgroup": "",
           "marker": {
            "color": "#636efa",
            "symbol": "circle"
           },
           "mode": "markers",
           "name": "",
           "orientation": "v",
           "showlegend": false,
           "type": "scatter",
           "x": [
            -0.5839456092742611,
            0
           ],
           "xaxis": "x",
           "y": [
            0.8117927847728829,
            0
           ],
           "yaxis": "y"
          }
         ],
         "name": "2.1943769346733673"
        },
        {
         "data": [
          {
           "hovertemplate": "theta=2.2259507035175883<br>z1=%{x}<br>z2=%{y}<extra></extra>",
           "legendgroup": "",
           "marker": {
            "color": "#636efa",
            "symbol": "circle"
           },
           "mode": "markers",
           "name": "",
           "orientation": "v",
           "showlegend": false,
           "type": "scatter",
           "x": [
            -0.6092816642102121,
            0
           ],
           "xaxis": "x",
           "y": [
            0.792953878644423,
            0
           ],
           "yaxis": "y"
          }
         ],
         "name": "2.2259507035175883"
        },
        {
         "data": [
          {
           "hovertemplate": "theta=2.2575244723618093<br>z1=%{x}<br>z2=%{y}<extra></extra>",
           "legendgroup": "",
           "marker": {
            "color": "#636efa",
            "symbol": "circle"
           },
           "mode": "markers",
           "name": "",
           "orientation": "v",
           "showlegend": false,
           "type": "scatter",
           "x": [
            -0.634010374958752,
            0
           ],
           "xaxis": "x",
           "y": [
            0.773324540180035,
            0
           ],
           "yaxis": "y"
          }
         ],
         "name": "2.2575244723618093"
        },
        {
         "data": [
          {
           "hovertemplate": "theta=2.2890982412060303<br>z1=%{x}<br>z2=%{y}<extra></extra>",
           "legendgroup": "",
           "marker": {
            "color": "#636efa",
            "symbol": "circle"
           },
           "mode": "markers",
           "name": "",
           "orientation": "v",
           "showlegend": false,
           "type": "scatter",
           "x": [
            -0.6581070914448538,
            0
           ],
           "xaxis": "x",
           "y": [
            0.7529243362981402,
            0
           ],
           "yaxis": "y"
          }
         ],
         "name": "2.2890982412060303"
        },
        {
         "data": [
          {
           "hovertemplate": "theta=2.3206720100502514<br>z1=%{x}<br>z2=%{y}<extra></extra>",
           "legendgroup": "",
           "marker": {
            "color": "#636efa",
            "symbol": "circle"
           },
           "mode": "markers",
           "name": "",
           "orientation": "v",
           "showlegend": false,
           "type": "scatter",
           "x": [
            -0.6815477935780516,
            0
           ],
           "xaxis": "x",
           "y": [
            0.731773602331274,
            0
           ],
           "yaxis": "y"
          }
         ],
         "name": "2.3206720100502514"
        },
        {
         "data": [
          {
           "hovertemplate": "theta=2.3522457788944724<br>z1=%{x}<br>z2=%{y}<extra></extra>",
           "legendgroup": "",
           "marker": {
            "color": "#636efa",
            "symbol": "circle"
           },
           "mode": "markers",
           "name": "",
           "orientation": "v",
           "showlegend": false,
           "type": "scatter",
           "x": [
            -0.7043091151961487,
            0
           ],
           "xaxis": "x",
           "y": [
            0.7098934217554197,
            0
           ],
           "yaxis": "y"
          }
         ],
         "name": "2.3522457788944724"
        },
        {
         "data": [
          {
           "hovertemplate": "theta=2.3838195477386934<br>z1=%{x}<br>z2=%{y}<extra></extra>",
           "legendgroup": "",
           "marker": {
            "color": "#636efa",
            "symbol": "circle"
           },
           "mode": "markers",
           "name": "",
           "orientation": "v",
           "showlegend": false,
           "type": "scatter",
           "x": [
            -0.7263683673570769,
            0
           ],
           "xaxis": "x",
           "y": [
            0.6873056051735753,
            0
           ],
           "yaxis": "y"
          }
         ],
         "name": "2.3838195477386934"
        },
        {
         "data": [
          {
           "hovertemplate": "theta=2.4153933165829145<br>z1=%{x}<br>z2=%{y}<extra></extra>",
           "legendgroup": "",
           "marker": {
            "color": "#636efa",
            "symbol": "circle"
           },
           "mode": "markers",
           "name": "",
           "orientation": "v",
           "showlegend": false,
           "type": "scatter",
           "x": [
            -0.7477035609556888,
            0
           ],
           "xaxis": "x",
           "y": [
            0.6640326685745082,
            0
           ],
           "yaxis": "y"
          }
         ],
         "name": "2.4153933165829145"
        },
        {
         "data": [
          {
           "hovertemplate": "theta=2.4469670854271355<br>z1=%{x}<br>z2=%{y}<extra></extra>",
           "legendgroup": "",
           "marker": {
            "color": "#636efa",
            "symbol": "circle"
           },
           "mode": "markers",
           "name": "",
           "orientation": "v",
           "showlegend": false,
           "type": "scatter",
           "x": [
            -0.7682934286429396,
            0
           ],
           "xaxis": "x",
           "y": [
            0.6400978108883644,
            0
           ],
           "yaxis": "y"
          }
         ],
         "name": "2.4469670854271355"
        },
        {
         "data": [
          {
           "hovertemplate": "theta=2.4785408542713565<br>z1=%{x}<br>z2=%{y}<extra></extra>",
           "legendgroup": "",
           "marker": {
            "color": "#636efa",
            "symbol": "circle"
           },
           "mode": "markers",
           "name": "",
           "orientation": "v",
           "showlegend": false,
           "type": "scatter",
           "x": [
            -0.788117446025607,
            0
           ],
           "xaxis": "x",
           "y": [
            0.6155248908615105,
            0
           ],
           "yaxis": "y"
          }
         ],
         "name": "2.4785408542713565"
        },
        {
         "data": [
          {
           "hovertemplate": "theta=2.5101146231155775<br>z1=%{x}<br>z2=%{y}<extra></extra>",
           "legendgroup": "",
           "marker": {
            "color": "#636efa",
            "symbol": "circle"
           },
           "mode": "markers",
           "name": "",
           "orientation": "v",
           "showlegend": false,
           "type": "scatter",
           "x": [
            -0.8071558521254181,
            0
           ],
           "xaxis": "x",
           "y": [
            0.5903384032736565,
            0
           ],
           "yaxis": "y"
          }
         ],
         "name": "2.5101146231155775"
        },
        {
         "data": [
          {
           "hovertemplate": "theta=2.5416883919597986<br>z1=%{x}<br>z2=%{y}<extra></extra>",
           "legendgroup": "",
           "marker": {
            "color": "#636efa",
            "symbol": "circle"
           },
           "mode": "markers",
           "name": "",
           "orientation": "v",
           "showlegend": false,
           "type": "scatter",
           "x": [
            -0.8253896690771891,
            0
           ],
           "xaxis": "x",
           "y": [
            0.5645634545209672,
            0
           ],
           "yaxis": "y"
          }
         ],
         "name": "2.5416883919597986"
        },
        {
         "data": [
          {
           "hovertemplate": "theta=2.5732621608040205<br>z1=%{x}<br>z2=%{y}<extra></extra>",
           "legendgroup": "",
           "marker": {
            "color": "#636efa",
            "symbol": "circle"
           },
           "mode": "markers",
           "name": "",
           "orientation": "v",
           "showlegend": false,
           "type": "scatter",
           "x": [
            -0.8428007210463428,
            0
           ],
           "xaxis": "x",
           "y": [
            0.5382257375895031,
            0
           ],
           "yaxis": "y"
          }
         ],
         "name": "2.5732621608040205"
        },
        {
         "data": [
          {
           "hovertemplate": "theta=2.6048359296482415<br>z1=%{x}<br>z2=%{y}<extra></extra>",
           "legendgroup": "",
           "marker": {
            "color": "#636efa",
            "symbol": "circle"
           },
           "mode": "markers",
           "name": "",
           "orientation": "v",
           "showlegend": false,
           "type": "scatter",
           "x": [
            -0.8593716523469429,
            0
           ],
           "xaxis": "x",
           "y": [
            0.5113515064439383,
            0
           ],
           "yaxis": "y"
          }
         ],
         "name": "2.6048359296482415"
        },
        {
         "data": [
          {
           "hovertemplate": "theta=2.6364096984924625<br>z1=%{x}<br>z2=%{y}<extra></extra>",
           "legendgroup": "",
           "marker": {
            "color": "#636efa",
            "symbol": "circle"
           },
           "mode": "markers",
           "name": "",
           "orientation": "v",
           "showlegend": false,
           "type": "scatter",
           "x": [
            -0.875085944742193,
            0
           ],
           "xaxis": "x",
           "y": [
            0.4839675498570783,
            0
           ],
           "yaxis": "y"
          }
         ],
         "name": "2.6364096984924625"
        },
        {
         "data": [
          {
           "hovertemplate": "theta=2.6679834673366836<br>z1=%{x}<br>z2=%{y}<extra></extra>",
           "legendgroup": "",
           "marker": {
            "color": "#636efa",
            "symbol": "circle"
           },
           "mode": "markers",
           "name": "",
           "orientation": "v",
           "showlegend": false,
           "type": "scatter",
           "x": [
            -0.8899279339101446,
            0
           ],
           "xaxis": "x",
           "y": [
            0.4561011647062759,
            0
           ],
           "yaxis": "y"
          }
         ],
         "name": "2.6679834673366836"
        },
        {
         "data": [
          {
           "hovertemplate": "theta=2.6995572361809046<br>z1=%{x}<br>z2=%{y}<extra></extra>",
           "legendgroup": "",
           "marker": {
            "color": "#636efa",
            "symbol": "circle"
           },
           "mode": "markers",
           "name": "",
           "orientation": "v",
           "showlegend": false,
           "type": "scatter",
           "x": [
            -0.9038828250582077,
            0
           ],
           "xaxis": "x",
           "y": [
            0.427780128763356,
            0
           ],
           "yaxis": "y"
          }
         ],
         "name": "2.6995572361809046"
        },
        {
         "data": [
          {
           "hovertemplate": "theta=2.7311310050251256<br>z1=%{x}<br>z2=%{y}<extra></extra>",
           "legendgroup": "",
           "marker": {
            "color": "#636efa",
            "symbol": "circle"
           },
           "mode": "markers",
           "name": "",
           "orientation": "v",
           "showlegend": false,
           "type": "scatter",
           "x": [
            -0.9169367076708975,
            0
           ],
           "xaxis": "x",
           "y": [
            0.39903267300517514,
            0
           ],
           "yaxis": "y"
          }
         ],
         "name": "2.7311310050251256"
        },
        {
         "data": [
          {
           "hovertemplate": "theta=2.7627047738693467<br>z1=%{x}<br>z2=%{y}<extra></extra>",
           "legendgroup": "",
           "marker": {
            "color": "#636efa",
            "symbol": "circle"
           },
           "mode": "markers",
           "name": "",
           "orientation": "v",
           "showlegend": false,
           "type": "scatter",
           "x": [
            -0.9290765693761146,
            0
           ],
           "xaxis": "x",
           "y": [
            0.36988745347241725,
            0
           ],
           "yaxis": "y"
          }
         ],
         "name": "2.7627047738693467"
        },
        {
         "data": [
          {
           "hovertemplate": "theta=2.7942785427135677<br>z1=%{x}<br>z2=%{y}<extra></extra>",
           "legendgroup": "",
           "marker": {
            "color": "#636efa",
            "symbol": "circle"
           },
           "mode": "markers",
           "name": "",
           "orientation": "v",
           "showlegend": false,
           "type": "scatter",
           "x": [
            -0.9402903089161392,
            0
           ],
           "xaxis": "x",
           "y": [
            0.3403735227046774,
            0
           ],
           "yaxis": "y"
          }
         ],
         "name": "2.7942785427135677"
        },
        {
         "data": [
          {
           "hovertemplate": "theta=2.8258523115577887<br>z1=%{x}<br>z2=%{y}<extra></extra>",
           "legendgroup": "",
           "marker": {
            "color": "#636efa",
            "symbol": "circle"
           },
           "mode": "markers",
           "name": "",
           "orientation": "v",
           "showlegend": false,
           "type": "scatter",
           "x": [
            -0.950566748210407,
            0
           ],
           "xaxis": "x",
           "y": [
            0.3105203007803075,
            0
           ],
           "yaxis": "y"
          }
         ],
         "name": "2.8258523115577887"
        },
        {
         "data": [
          {
           "hovertemplate": "theta=2.8574260804020097<br>z1=%{x}<br>z2=%{y}<extra></extra>",
           "legendgroup": "",
           "marker": {
            "color": "#636efa",
            "symbol": "circle"
           },
           "mode": "markers",
           "name": "",
           "orientation": "v",
           "showlegend": false,
           "type": "scatter",
           "x": [
            -0.9598956434980449,
            0
           ],
           "xaxis": "x",
           "y": [
            0.28035754598989193,
            0
           ],
           "yaxis": "y"
          }
         ],
         "name": "2.8574260804020097"
        },
        {
         "data": [
          {
           "hovertemplate": "theta=2.8889998492462308<br>z1=%{x}<br>z2=%{y}<extra></extra>",
           "legendgroup": "",
           "marker": {
            "color": "#636efa",
            "symbol": "circle"
           },
           "mode": "markers",
           "name": "",
           "orientation": "v",
           "showlegend": false,
           "type": "scatter",
           "x": [
            -0.9682676955490566,
            0
           ],
           "xaxis": "x",
           "y": [
            0.24991532517258622,
            0
           ],
           "yaxis": "y"
          }
         ],
         "name": "2.8889998492462308"
        },
        {
         "data": [
          {
           "hovertemplate": "theta=2.920573618090452<br>z1=%{x}<br>z2=%{y}<extra></extra>",
           "legendgroup": "",
           "marker": {
            "color": "#636efa",
            "symbol": "circle"
           },
           "mode": "markers",
           "name": "",
           "orientation": "v",
           "showlegend": false,
           "type": "scatter",
           "x": [
            -0.9756745589339822,
            0
           ],
           "xaxis": "x",
           "y": [
            0.21922398374488877,
            0
           ],
           "yaxis": "y"
          }
         ],
         "name": "2.920573618090452"
        },
        {
         "data": [
          {
           "hovertemplate": "theta=2.9521473869346737<br>z1=%{x}<br>z2=%{y}<extra></extra>",
           "legendgroup": "",
           "marker": {
            "color": "#636efa",
            "symbol": "circle"
           },
           "mode": "markers",
           "name": "",
           "orientation": "v",
           "showlegend": false,
           "type": "scatter",
           "x": [
            -0.9821088503427898,
            0
           ],
           "xaxis": "x",
           "y": [
            0.1883141154517198,
            0
           ],
           "yaxis": "y"
          }
         ],
         "name": "2.9521473869346737"
        },
        {
         "data": [
          {
           "hovertemplate": "theta=2.9837211557788947<br>z1=%{x}<br>z2=%{y}<extra></extra>",
           "legendgroup": "",
           "marker": {
            "color": "#636efa",
            "symbol": "circle"
           },
           "mode": "markers",
           "name": "",
           "orientation": "v",
           "showlegend": false,
           "type": "scatter",
           "x": [
            -0.9875641559447061,
            0
           ],
           "xaxis": "x",
           "y": [
            0.1572165318699662,
            0
           ],
           "yaxis": "y"
          }
         ],
         "name": "2.9837211557788947"
        },
        {
         "data": [
          {
           "hovertemplate": "theta=3.0152949246231158<br>z1=%{x}<br>z2=%{y}<extra></extra>",
           "legendgroup": "",
           "marker": {
            "color": "#636efa",
            "symbol": "circle"
           },
           "mode": "markers",
           "name": "",
           "orientation": "v",
           "showlegend": false,
           "type": "scatter",
           "x": [
            -0.992035037781653,
            0
           ],
           "xaxis": "x",
           "y": [
            0.12596223169487816,
            0
           ],
           "yaxis": "y"
          }
         ],
         "name": "3.0152949246231158"
        },
        {
         "data": [
          {
           "hovertemplate": "theta=3.046868693467337<br>z1=%{x}<br>z2=%{y}<extra></extra>",
           "legendgroup": "",
           "marker": {
            "color": "#636efa",
            "symbol": "circle"
           },
           "mode": "markers",
           "name": "",
           "orientation": "v",
           "showlegend": false,
           "type": "scatter",
           "x": [
            -0.9955170391889124,
            0
           ],
           "xaxis": "x",
           "y": [
            0.09458236983995132,
            0
           ],
           "yaxis": "y"
          }
         ],
         "name": "3.046868693467337"
        },
        {
         "data": [
          {
           "hovertemplate": "theta=3.078442462311558<br>z1=%{x}<br>z2=%{y}<extra></extra>",
           "legendgroup": "",
           "marker": {
            "color": "#636efa",
            "symbol": "circle"
           },
           "mode": "markers",
           "name": "",
           "orientation": "v",
           "showlegend": false,
           "type": "scatter",
           "x": [
            -0.9980066892376193,
            0
           ],
           "xaxis": "x",
           "y": [
            0.06310822638108297,
            0
           ],
           "yaxis": "y"
          }
         ],
         "name": "3.078442462311558"
        },
        {
         "data": [
          {
           "hovertemplate": "theta=3.110016231155779<br>z1=%{x}<br>z2=%{y}<extra></extra>",
           "legendgroup": "",
           "marker": {
            "color": "#636efa",
            "symbol": "circle"
           },
           "mode": "markers",
           "name": "",
           "orientation": "v",
           "showlegend": false,
           "type": "scatter",
           "x": [
            -0.999501506194653,
            0
           ],
           "xaxis": "x",
           "y": [
            0.03157117537596496,
            0
           ],
           "yaxis": "y"
          }
         ],
         "name": "3.110016231155779"
        },
        {
         "data": [
          {
           "hovertemplate": "theta=3.14159<br>z1=%{x}<br>z2=%{y}<extra></extra>",
           "legendgroup": "",
           "marker": {
            "color": "#636efa",
            "symbol": "circle"
           },
           "mode": "markers",
           "name": "",
           "orientation": "v",
           "showlegend": false,
           "type": "scatter",
           "x": [
            -0.9999999999964793,
            0
           ],
           "xaxis": "x",
           "y": [
            2.6535897933527304e-06,
            0
           ],
           "yaxis": "y"
          }
         ],
         "name": "3.14159"
        }
       ],
       "layout": {
        "autosize": true,
        "legend": {
         "tracegroupgap": 0
        },
        "margin": {
         "t": 60
        },
        "sliders": [
         {
          "active": 18,
          "currentvalue": {
           "prefix": "theta="
          },
          "len": 0.9,
          "pad": {
           "b": 10,
           "t": 60
          },
          "steps": [
           {
            "args": [
             [
              "-3.14159"
             ],
             {
              "frame": {
               "duration": 0,
               "redraw": false
              },
              "fromcurrent": true,
              "mode": "immediate",
              "transition": {
               "duration": 0,
               "easing": "linear"
              }
             }
            ],
            "label": "-3.14159",
            "method": "animate"
           },
           {
            "args": [
             [
              "-3.110016231155779"
             ],
             {
              "frame": {
               "duration": 0,
               "redraw": false
              },
              "fromcurrent": true,
              "mode": "immediate",
              "transition": {
               "duration": 0,
               "easing": "linear"
              }
             }
            ],
            "label": "-3.110016231155779",
            "method": "animate"
           },
           {
            "args": [
             [
              "-3.078442462311558"
             ],
             {
              "frame": {
               "duration": 0,
               "redraw": false
              },
              "fromcurrent": true,
              "mode": "immediate",
              "transition": {
               "duration": 0,
               "easing": "linear"
              }
             }
            ],
            "label": "-3.078442462311558",
            "method": "animate"
           },
           {
            "args": [
             [
              "-3.046868693467337"
             ],
             {
              "frame": {
               "duration": 0,
               "redraw": false
              },
              "fromcurrent": true,
              "mode": "immediate",
              "transition": {
               "duration": 0,
               "easing": "linear"
              }
             }
            ],
            "label": "-3.046868693467337",
            "method": "animate"
           },
           {
            "args": [
             [
              "-3.0152949246231153"
             ],
             {
              "frame": {
               "duration": 0,
               "redraw": false
              },
              "fromcurrent": true,
              "mode": "immediate",
              "transition": {
               "duration": 0,
               "easing": "linear"
              }
             }
            ],
            "label": "-3.0152949246231153",
            "method": "animate"
           },
           {
            "args": [
             [
              "-2.9837211557788943"
             ],
             {
              "frame": {
               "duration": 0,
               "redraw": false
              },
              "fromcurrent": true,
              "mode": "immediate",
              "transition": {
               "duration": 0,
               "easing": "linear"
              }
             }
            ],
            "label": "-2.9837211557788943",
            "method": "animate"
           },
           {
            "args": [
             [
              "-2.9521473869346733"
             ],
             {
              "frame": {
               "duration": 0,
               "redraw": false
              },
              "fromcurrent": true,
              "mode": "immediate",
              "transition": {
               "duration": 0,
               "easing": "linear"
              }
             }
            ],
            "label": "-2.9521473869346733",
            "method": "animate"
           },
           {
            "args": [
             [
              "-2.9205736180904522"
             ],
             {
              "frame": {
               "duration": 0,
               "redraw": false
              },
              "fromcurrent": true,
              "mode": "immediate",
              "transition": {
               "duration": 0,
               "easing": "linear"
              }
             }
            ],
            "label": "-2.9205736180904522",
            "method": "animate"
           },
           {
            "args": [
             [
              "-2.888999849246231"
             ],
             {
              "frame": {
               "duration": 0,
               "redraw": false
              },
              "fromcurrent": true,
              "mode": "immediate",
              "transition": {
               "duration": 0,
               "easing": "linear"
              }
             }
            ],
            "label": "-2.888999849246231",
            "method": "animate"
           },
           {
            "args": [
             [
              "-2.8574260804020097"
             ],
             {
              "frame": {
               "duration": 0,
               "redraw": false
              },
              "fromcurrent": true,
              "mode": "immediate",
              "transition": {
               "duration": 0,
               "easing": "linear"
              }
             }
            ],
            "label": "-2.8574260804020097",
            "method": "animate"
           },
           {
            "args": [
             [
              "-2.8258523115577887"
             ],
             {
              "frame": {
               "duration": 0,
               "redraw": false
              },
              "fromcurrent": true,
              "mode": "immediate",
              "transition": {
               "duration": 0,
               "easing": "linear"
              }
             }
            ],
            "label": "-2.8258523115577887",
            "method": "animate"
           },
           {
            "args": [
             [
              "-2.7942785427135677"
             ],
             {
              "frame": {
               "duration": 0,
               "redraw": false
              },
              "fromcurrent": true,
              "mode": "immediate",
              "transition": {
               "duration": 0,
               "easing": "linear"
              }
             }
            ],
            "label": "-2.7942785427135677",
            "method": "animate"
           },
           {
            "args": [
             [
              "-2.7627047738693467"
             ],
             {
              "frame": {
               "duration": 0,
               "redraw": false
              },
              "fromcurrent": true,
              "mode": "immediate",
              "transition": {
               "duration": 0,
               "easing": "linear"
              }
             }
            ],
            "label": "-2.7627047738693467",
            "method": "animate"
           },
           {
            "args": [
             [
              "-2.7311310050251256"
             ],
             {
              "frame": {
               "duration": 0,
               "redraw": false
              },
              "fromcurrent": true,
              "mode": "immediate",
              "transition": {
               "duration": 0,
               "easing": "linear"
              }
             }
            ],
            "label": "-2.7311310050251256",
            "method": "animate"
           },
           {
            "args": [
             [
              "-2.6995572361809046"
             ],
             {
              "frame": {
               "duration": 0,
               "redraw": false
              },
              "fromcurrent": true,
              "mode": "immediate",
              "transition": {
               "duration": 0,
               "easing": "linear"
              }
             }
            ],
            "label": "-2.6995572361809046",
            "method": "animate"
           },
           {
            "args": [
             [
              "-2.667983467336683"
             ],
             {
              "frame": {
               "duration": 0,
               "redraw": false
              },
              "fromcurrent": true,
              "mode": "immediate",
              "transition": {
               "duration": 0,
               "easing": "linear"
              }
             }
            ],
            "label": "-2.667983467336683",
            "method": "animate"
           },
           {
            "args": [
             [
              "-2.636409698492462"
             ],
             {
              "frame": {
               "duration": 0,
               "redraw": false
              },
              "fromcurrent": true,
              "mode": "immediate",
              "transition": {
               "duration": 0,
               "easing": "linear"
              }
             }
            ],
            "label": "-2.636409698492462",
            "method": "animate"
           },
           {
            "args": [
             [
              "-2.604835929648241"
             ],
             {
              "frame": {
               "duration": 0,
               "redraw": false
              },
              "fromcurrent": true,
              "mode": "immediate",
              "transition": {
               "duration": 0,
               "easing": "linear"
              }
             }
            ],
            "label": "-2.604835929648241",
            "method": "animate"
           },
           {
            "args": [
             [
              "-2.57326216080402"
             ],
             {
              "frame": {
               "duration": 0,
               "redraw": false
              },
              "fromcurrent": true,
              "mode": "immediate",
              "transition": {
               "duration": 0,
               "easing": "linear"
              }
             }
            ],
            "label": "-2.57326216080402",
            "method": "animate"
           },
           {
            "args": [
             [
              "-2.541688391959799"
             ],
             {
              "frame": {
               "duration": 0,
               "redraw": false
              },
              "fromcurrent": true,
              "mode": "immediate",
              "transition": {
               "duration": 0,
               "easing": "linear"
              }
             }
            ],
            "label": "-2.541688391959799",
            "method": "animate"
           },
           {
            "args": [
             [
              "-2.5101146231155775"
             ],
             {
              "frame": {
               "duration": 0,
               "redraw": false
              },
              "fromcurrent": true,
              "mode": "immediate",
              "transition": {
               "duration": 0,
               "easing": "linear"
              }
             }
            ],
            "label": "-2.5101146231155775",
            "method": "animate"
           },
           {
            "args": [
             [
              "-2.4785408542713565"
             ],
             {
              "frame": {
               "duration": 0,
               "redraw": false
              },
              "fromcurrent": true,
              "mode": "immediate",
              "transition": {
               "duration": 0,
               "easing": "linear"
              }
             }
            ],
            "label": "-2.4785408542713565",
            "method": "animate"
           },
           {
            "args": [
             [
              "-2.4469670854271355"
             ],
             {
              "frame": {
               "duration": 0,
               "redraw": false
              },
              "fromcurrent": true,
              "mode": "immediate",
              "transition": {
               "duration": 0,
               "easing": "linear"
              }
             }
            ],
            "label": "-2.4469670854271355",
            "method": "animate"
           },
           {
            "args": [
             [
              "-2.4153933165829145"
             ],
             {
              "frame": {
               "duration": 0,
               "redraw": false
              },
              "fromcurrent": true,
              "mode": "immediate",
              "transition": {
               "duration": 0,
               "easing": "linear"
              }
             }
            ],
            "label": "-2.4153933165829145",
            "method": "animate"
           },
           {
            "args": [
             [
              "-2.3838195477386934"
             ],
             {
              "frame": {
               "duration": 0,
               "redraw": false
              },
              "fromcurrent": true,
              "mode": "immediate",
              "transition": {
               "duration": 0,
               "easing": "linear"
              }
             }
            ],
            "label": "-2.3838195477386934",
            "method": "animate"
           },
           {
            "args": [
             [
              "-2.3522457788944724"
             ],
             {
              "frame": {
               "duration": 0,
               "redraw": false
              },
              "fromcurrent": true,
              "mode": "immediate",
              "transition": {
               "duration": 0,
               "easing": "linear"
              }
             }
            ],
            "label": "-2.3522457788944724",
            "method": "animate"
           },
           {
            "args": [
             [
              "-2.3206720100502514"
             ],
             {
              "frame": {
               "duration": 0,
               "redraw": false
              },
              "fromcurrent": true,
              "mode": "immediate",
              "transition": {
               "duration": 0,
               "easing": "linear"
              }
             }
            ],
            "label": "-2.3206720100502514",
            "method": "animate"
           },
           {
            "args": [
             [
              "-2.28909824120603"
             ],
             {
              "frame": {
               "duration": 0,
               "redraw": false
              },
              "fromcurrent": true,
              "mode": "immediate",
              "transition": {
               "duration": 0,
               "easing": "linear"
              }
             }
            ],
            "label": "-2.28909824120603",
            "method": "animate"
           },
           {
            "args": [
             [
              "-2.257524472361809"
             ],
             {
              "frame": {
               "duration": 0,
               "redraw": false
              },
              "fromcurrent": true,
              "mode": "immediate",
              "transition": {
               "duration": 0,
               "easing": "linear"
              }
             }
            ],
            "label": "-2.257524472361809",
            "method": "animate"
           },
           {
            "args": [
             [
              "-2.225950703517588"
             ],
             {
              "frame": {
               "duration": 0,
               "redraw": false
              },
              "fromcurrent": true,
              "mode": "immediate",
              "transition": {
               "duration": 0,
               "easing": "linear"
              }
             }
            ],
            "label": "-2.225950703517588",
            "method": "animate"
           },
           {
            "args": [
             [
              "-2.194376934673367"
             ],
             {
              "frame": {
               "duration": 0,
               "redraw": false
              },
              "fromcurrent": true,
              "mode": "immediate",
              "transition": {
               "duration": 0,
               "easing": "linear"
              }
             }
            ],
            "label": "-2.194376934673367",
            "method": "animate"
           },
           {
            "args": [
             [
              "-2.162803165829146"
             ],
             {
              "frame": {
               "duration": 0,
               "redraw": false
              },
              "fromcurrent": true,
              "mode": "immediate",
              "transition": {
               "duration": 0,
               "easing": "linear"
              }
             }
            ],
            "label": "-2.162803165829146",
            "method": "animate"
           },
           {
            "args": [
             [
              "-2.1312293969849243"
             ],
             {
              "frame": {
               "duration": 0,
               "redraw": false
              },
              "fromcurrent": true,
              "mode": "immediate",
              "transition": {
               "duration": 0,
               "easing": "linear"
              }
             }
            ],
            "label": "-2.1312293969849243",
            "method": "animate"
           },
           {
            "args": [
             [
              "-2.0996556281407033"
             ],
             {
              "frame": {
               "duration": 0,
               "redraw": false
              },
              "fromcurrent": true,
              "mode": "immediate",
              "transition": {
               "duration": 0,
               "easing": "linear"
              }
             }
            ],
            "label": "-2.0996556281407033",
            "method": "animate"
           },
           {
            "args": [
             [
              "-2.0680818592964822"
             ],
             {
              "frame": {
               "duration": 0,
               "redraw": false
              },
              "fromcurrent": true,
              "mode": "immediate",
              "transition": {
               "duration": 0,
               "easing": "linear"
              }
             }
            ],
            "label": "-2.0680818592964822",
            "method": "animate"
           },
           {
            "args": [
             [
              "-2.036508090452261"
             ],
             {
              "frame": {
               "duration": 0,
               "redraw": false
              },
              "fromcurrent": true,
              "mode": "immediate",
              "transition": {
               "duration": 0,
               "easing": "linear"
              }
             }
            ],
            "label": "-2.036508090452261",
            "method": "animate"
           },
           {
            "args": [
             [
              "-2.00493432160804"
             ],
             {
              "frame": {
               "duration": 0,
               "redraw": false
              },
              "fromcurrent": true,
              "mode": "immediate",
              "transition": {
               "duration": 0,
               "easing": "linear"
              }
             }
            ],
            "label": "-2.00493432160804",
            "method": "animate"
           },
           {
            "args": [
             [
              "-1.973360552763819"
             ],
             {
              "frame": {
               "duration": 0,
               "redraw": false
              },
              "fromcurrent": true,
              "mode": "immediate",
              "transition": {
               "duration": 0,
               "easing": "linear"
              }
             }
            ],
            "label": "-1.973360552763819",
            "method": "animate"
           },
           {
            "args": [
             [
              "-1.941786783919598"
             ],
             {
              "frame": {
               "duration": 0,
               "redraw": false
              },
              "fromcurrent": true,
              "mode": "immediate",
              "transition": {
               "duration": 0,
               "easing": "linear"
              }
             }
            ],
            "label": "-1.941786783919598",
            "method": "animate"
           },
           {
            "args": [
             [
              "-1.9102130150753769"
             ],
             {
              "frame": {
               "duration": 0,
               "redraw": false
              },
              "fromcurrent": true,
              "mode": "immediate",
              "transition": {
               "duration": 0,
               "easing": "linear"
              }
             }
            ],
            "label": "-1.9102130150753769",
            "method": "animate"
           },
           {
            "args": [
             [
              "-1.8786392462311556"
             ],
             {
              "frame": {
               "duration": 0,
               "redraw": false
              },
              "fromcurrent": true,
              "mode": "immediate",
              "transition": {
               "duration": 0,
               "easing": "linear"
              }
             }
            ],
            "label": "-1.8786392462311556",
            "method": "animate"
           },
           {
            "args": [
             [
              "-1.8470654773869346"
             ],
             {
              "frame": {
               "duration": 0,
               "redraw": false
              },
              "fromcurrent": true,
              "mode": "immediate",
              "transition": {
               "duration": 0,
               "easing": "linear"
              }
             }
            ],
            "label": "-1.8470654773869346",
            "method": "animate"
           },
           {
            "args": [
             [
              "-1.8154917085427136"
             ],
             {
              "frame": {
               "duration": 0,
               "redraw": false
              },
              "fromcurrent": true,
              "mode": "immediate",
              "transition": {
               "duration": 0,
               "easing": "linear"
              }
             }
            ],
            "label": "-1.8154917085427136",
            "method": "animate"
           },
           {
            "args": [
             [
              "-1.7839179396984923"
             ],
             {
              "frame": {
               "duration": 0,
               "redraw": false
              },
              "fromcurrent": true,
              "mode": "immediate",
              "transition": {
               "duration": 0,
               "easing": "linear"
              }
             }
            ],
            "label": "-1.7839179396984923",
            "method": "animate"
           },
           {
            "args": [
             [
              "-1.7523441708542713"
             ],
             {
              "frame": {
               "duration": 0,
               "redraw": false
              },
              "fromcurrent": true,
              "mode": "immediate",
              "transition": {
               "duration": 0,
               "easing": "linear"
              }
             }
            ],
            "label": "-1.7523441708542713",
            "method": "animate"
           },
           {
            "args": [
             [
              "-1.7207704020100503"
             ],
             {
              "frame": {
               "duration": 0,
               "redraw": false
              },
              "fromcurrent": true,
              "mode": "immediate",
              "transition": {
               "duration": 0,
               "easing": "linear"
              }
             }
            ],
            "label": "-1.7207704020100503",
            "method": "animate"
           },
           {
            "args": [
             [
              "-1.689196633165829"
             ],
             {
              "frame": {
               "duration": 0,
               "redraw": false
              },
              "fromcurrent": true,
              "mode": "immediate",
              "transition": {
               "duration": 0,
               "easing": "linear"
              }
             }
            ],
            "label": "-1.689196633165829",
            "method": "animate"
           },
           {
            "args": [
             [
              "-1.657622864321608"
             ],
             {
              "frame": {
               "duration": 0,
               "redraw": false
              },
              "fromcurrent": true,
              "mode": "immediate",
              "transition": {
               "duration": 0,
               "easing": "linear"
              }
             }
            ],
            "label": "-1.657622864321608",
            "method": "animate"
           },
           {
            "args": [
             [
              "-1.626049095477387"
             ],
             {
              "frame": {
               "duration": 0,
               "redraw": false
              },
              "fromcurrent": true,
              "mode": "immediate",
              "transition": {
               "duration": 0,
               "easing": "linear"
              }
             }
            ],
            "label": "-1.626049095477387",
            "method": "animate"
           },
           {
            "args": [
             [
              "-1.5944753266331657"
             ],
             {
              "frame": {
               "duration": 0,
               "redraw": false
              },
              "fromcurrent": true,
              "mode": "immediate",
              "transition": {
               "duration": 0,
               "easing": "linear"
              }
             }
            ],
            "label": "-1.5944753266331657",
            "method": "animate"
           },
           {
            "args": [
             [
              "-1.5629015577889447"
             ],
             {
              "frame": {
               "duration": 0,
               "redraw": false
              },
              "fromcurrent": true,
              "mode": "immediate",
              "transition": {
               "duration": 0,
               "easing": "linear"
              }
             }
            ],
            "label": "-1.5629015577889447",
            "method": "animate"
           },
           {
            "args": [
             [
              "-1.5313277889447234"
             ],
             {
              "frame": {
               "duration": 0,
               "redraw": false
              },
              "fromcurrent": true,
              "mode": "immediate",
              "transition": {
               "duration": 0,
               "easing": "linear"
              }
             }
            ],
            "label": "-1.5313277889447234",
            "method": "animate"
           },
           {
            "args": [
             [
              "-1.4997540201005024"
             ],
             {
              "frame": {
               "duration": 0,
               "redraw": false
              },
              "fromcurrent": true,
              "mode": "immediate",
              "transition": {
               "duration": 0,
               "easing": "linear"
              }
             }
            ],
            "label": "-1.4997540201005024",
            "method": "animate"
           },
           {
            "args": [
             [
              "-1.4681802512562814"
             ],
             {
              "frame": {
               "duration": 0,
               "redraw": false
              },
              "fromcurrent": true,
              "mode": "immediate",
              "transition": {
               "duration": 0,
               "easing": "linear"
              }
             }
            ],
            "label": "-1.4681802512562814",
            "method": "animate"
           },
           {
            "args": [
             [
              "-1.4366064824120601"
             ],
             {
              "frame": {
               "duration": 0,
               "redraw": false
              },
              "fromcurrent": true,
              "mode": "immediate",
              "transition": {
               "duration": 0,
               "easing": "linear"
              }
             }
            ],
            "label": "-1.4366064824120601",
            "method": "animate"
           },
           {
            "args": [
             [
              "-1.405032713567839"
             ],
             {
              "frame": {
               "duration": 0,
               "redraw": false
              },
              "fromcurrent": true,
              "mode": "immediate",
              "transition": {
               "duration": 0,
               "easing": "linear"
              }
             }
            ],
            "label": "-1.405032713567839",
            "method": "animate"
           },
           {
            "args": [
             [
              "-1.373458944723618"
             ],
             {
              "frame": {
               "duration": 0,
               "redraw": false
              },
              "fromcurrent": true,
              "mode": "immediate",
              "transition": {
               "duration": 0,
               "easing": "linear"
              }
             }
            ],
            "label": "-1.373458944723618",
            "method": "animate"
           },
           {
            "args": [
             [
              "-1.3418851758793968"
             ],
             {
              "frame": {
               "duration": 0,
               "redraw": false
              },
              "fromcurrent": true,
              "mode": "immediate",
              "transition": {
               "duration": 0,
               "easing": "linear"
              }
             }
            ],
            "label": "-1.3418851758793968",
            "method": "animate"
           },
           {
            "args": [
             [
              "-1.3103114070351758"
             ],
             {
              "frame": {
               "duration": 0,
               "redraw": false
              },
              "fromcurrent": true,
              "mode": "immediate",
              "transition": {
               "duration": 0,
               "easing": "linear"
              }
             }
            ],
            "label": "-1.3103114070351758",
            "method": "animate"
           },
           {
            "args": [
             [
              "-1.2787376381909548"
             ],
             {
              "frame": {
               "duration": 0,
               "redraw": false
              },
              "fromcurrent": true,
              "mode": "immediate",
              "transition": {
               "duration": 0,
               "easing": "linear"
              }
             }
            ],
            "label": "-1.2787376381909548",
            "method": "animate"
           },
           {
            "args": [
             [
              "-1.2471638693467335"
             ],
             {
              "frame": {
               "duration": 0,
               "redraw": false
              },
              "fromcurrent": true,
              "mode": "immediate",
              "transition": {
               "duration": 0,
               "easing": "linear"
              }
             }
            ],
            "label": "-1.2471638693467335",
            "method": "animate"
           },
           {
            "args": [
             [
              "-1.2155901005025125"
             ],
             {
              "frame": {
               "duration": 0,
               "redraw": false
              },
              "fromcurrent": true,
              "mode": "immediate",
              "transition": {
               "duration": 0,
               "easing": "linear"
              }
             }
            ],
            "label": "-1.2155901005025125",
            "method": "animate"
           },
           {
            "args": [
             [
              "-1.1840163316582915"
             ],
             {
              "frame": {
               "duration": 0,
               "redraw": false
              },
              "fromcurrent": true,
              "mode": "immediate",
              "transition": {
               "duration": 0,
               "easing": "linear"
              }
             }
            ],
            "label": "-1.1840163316582915",
            "method": "animate"
           },
           {
            "args": [
             [
              "-1.1524425628140702"
             ],
             {
              "frame": {
               "duration": 0,
               "redraw": false
              },
              "fromcurrent": true,
              "mode": "immediate",
              "transition": {
               "duration": 0,
               "easing": "linear"
              }
             }
            ],
            "label": "-1.1524425628140702",
            "method": "animate"
           },
           {
            "args": [
             [
              "-1.1208687939698492"
             ],
             {
              "frame": {
               "duration": 0,
               "redraw": false
              },
              "fromcurrent": true,
              "mode": "immediate",
              "transition": {
               "duration": 0,
               "easing": "linear"
              }
             }
            ],
            "label": "-1.1208687939698492",
            "method": "animate"
           },
           {
            "args": [
             [
              "-1.0892950251256281"
             ],
             {
              "frame": {
               "duration": 0,
               "redraw": false
              },
              "fromcurrent": true,
              "mode": "immediate",
              "transition": {
               "duration": 0,
               "easing": "linear"
              }
             }
            ],
            "label": "-1.0892950251256281",
            "method": "animate"
           },
           {
            "args": [
             [
              "-1.0577212562814071"
             ],
             {
              "frame": {
               "duration": 0,
               "redraw": false
              },
              "fromcurrent": true,
              "mode": "immediate",
              "transition": {
               "duration": 0,
               "easing": "linear"
              }
             }
            ],
            "label": "-1.0577212562814071",
            "method": "animate"
           },
           {
            "args": [
             [
              "-1.0261474874371856"
             ],
             {
              "frame": {
               "duration": 0,
               "redraw": false
              },
              "fromcurrent": true,
              "mode": "immediate",
              "transition": {
               "duration": 0,
               "easing": "linear"
              }
             }
            ],
            "label": "-1.0261474874371856",
            "method": "animate"
           },
           {
            "args": [
             [
              "-0.9945737185929646"
             ],
             {
              "frame": {
               "duration": 0,
               "redraw": false
              },
              "fromcurrent": true,
              "mode": "immediate",
              "transition": {
               "duration": 0,
               "easing": "linear"
              }
             }
            ],
            "label": "-0.9945737185929646",
            "method": "animate"
           },
           {
            "args": [
             [
              "-0.9629999497487436"
             ],
             {
              "frame": {
               "duration": 0,
               "redraw": false
              },
              "fromcurrent": true,
              "mode": "immediate",
              "transition": {
               "duration": 0,
               "easing": "linear"
              }
             }
            ],
            "label": "-0.9629999497487436",
            "method": "animate"
           },
           {
            "args": [
             [
              "-0.9314261809045226"
             ],
             {
              "frame": {
               "duration": 0,
               "redraw": false
              },
              "fromcurrent": true,
              "mode": "immediate",
              "transition": {
               "duration": 0,
               "easing": "linear"
              }
             }
            ],
            "label": "-0.9314261809045226",
            "method": "animate"
           },
           {
            "args": [
             [
              "-0.8998524120603015"
             ],
             {
              "frame": {
               "duration": 0,
               "redraw": false
              },
              "fromcurrent": true,
              "mode": "immediate",
              "transition": {
               "duration": 0,
               "easing": "linear"
              }
             }
            ],
            "label": "-0.8998524120603015",
            "method": "animate"
           },
           {
            "args": [
             [
              "-0.8682786432160805"
             ],
             {
              "frame": {
               "duration": 0,
               "redraw": false
              },
              "fromcurrent": true,
              "mode": "immediate",
              "transition": {
               "duration": 0,
               "easing": "linear"
              }
             }
            ],
            "label": "-0.8682786432160805",
            "method": "animate"
           },
           {
            "args": [
             [
              "-0.836704874371859"
             ],
             {
              "frame": {
               "duration": 0,
               "redraw": false
              },
              "fromcurrent": true,
              "mode": "immediate",
              "transition": {
               "duration": 0,
               "easing": "linear"
              }
             }
            ],
            "label": "-0.836704874371859",
            "method": "animate"
           },
           {
            "args": [
             [
              "-0.805131105527638"
             ],
             {
              "frame": {
               "duration": 0,
               "redraw": false
              },
              "fromcurrent": true,
              "mode": "immediate",
              "transition": {
               "duration": 0,
               "easing": "linear"
              }
             }
            ],
            "label": "-0.805131105527638",
            "method": "animate"
           },
           {
            "args": [
             [
              "-0.773557336683417"
             ],
             {
              "frame": {
               "duration": 0,
               "redraw": false
              },
              "fromcurrent": true,
              "mode": "immediate",
              "transition": {
               "duration": 0,
               "easing": "linear"
              }
             }
            ],
            "label": "-0.773557336683417",
            "method": "animate"
           },
           {
            "args": [
             [
              "-0.741983567839196"
             ],
             {
              "frame": {
               "duration": 0,
               "redraw": false
              },
              "fromcurrent": true,
              "mode": "immediate",
              "transition": {
               "duration": 0,
               "easing": "linear"
              }
             }
            ],
            "label": "-0.741983567839196",
            "method": "animate"
           },
           {
            "args": [
             [
              "-0.7104097989949749"
             ],
             {
              "frame": {
               "duration": 0,
               "redraw": false
              },
              "fromcurrent": true,
              "mode": "immediate",
              "transition": {
               "duration": 0,
               "easing": "linear"
              }
             }
            ],
            "label": "-0.7104097989949749",
            "method": "animate"
           },
           {
            "args": [
             [
              "-0.6788360301507539"
             ],
             {
              "frame": {
               "duration": 0,
               "redraw": false
              },
              "fromcurrent": true,
              "mode": "immediate",
              "transition": {
               "duration": 0,
               "easing": "linear"
              }
             }
            ],
            "label": "-0.6788360301507539",
            "method": "animate"
           },
           {
            "args": [
             [
              "-0.6472622613065324"
             ],
             {
              "frame": {
               "duration": 0,
               "redraw": false
              },
              "fromcurrent": true,
              "mode": "immediate",
              "transition": {
               "duration": 0,
               "easing": "linear"
              }
             }
            ],
            "label": "-0.6472622613065324",
            "method": "animate"
           },
           {
            "args": [
             [
              "-0.6156884924623114"
             ],
             {
              "frame": {
               "duration": 0,
               "redraw": false
              },
              "fromcurrent": true,
              "mode": "immediate",
              "transition": {
               "duration": 0,
               "easing": "linear"
              }
             }
            ],
            "label": "-0.6156884924623114",
            "method": "animate"
           },
           {
            "args": [
             [
              "-0.5841147236180904"
             ],
             {
              "frame": {
               "duration": 0,
               "redraw": false
              },
              "fromcurrent": true,
              "mode": "immediate",
              "transition": {
               "duration": 0,
               "easing": "linear"
              }
             }
            ],
            "label": "-0.5841147236180904",
            "method": "animate"
           },
           {
            "args": [
             [
              "-0.5525409547738693"
             ],
             {
              "frame": {
               "duration": 0,
               "redraw": false
              },
              "fromcurrent": true,
              "mode": "immediate",
              "transition": {
               "duration": 0,
               "easing": "linear"
              }
             }
            ],
            "label": "-0.5525409547738693",
            "method": "animate"
           },
           {
            "args": [
             [
              "-0.5209671859296483"
             ],
             {
              "frame": {
               "duration": 0,
               "redraw": false
              },
              "fromcurrent": true,
              "mode": "immediate",
              "transition": {
               "duration": 0,
               "easing": "linear"
              }
             }
            ],
            "label": "-0.5209671859296483",
            "method": "animate"
           },
           {
            "args": [
             [
              "-0.4893934170854273"
             ],
             {
              "frame": {
               "duration": 0,
               "redraw": false
              },
              "fromcurrent": true,
              "mode": "immediate",
              "transition": {
               "duration": 0,
               "easing": "linear"
              }
             }
            ],
            "label": "-0.4893934170854273",
            "method": "animate"
           },
           {
            "args": [
             [
              "-0.4578196482412058"
             ],
             {
              "frame": {
               "duration": 0,
               "redraw": false
              },
              "fromcurrent": true,
              "mode": "immediate",
              "transition": {
               "duration": 0,
               "easing": "linear"
              }
             }
            ],
            "label": "-0.4578196482412058",
            "method": "animate"
           },
           {
            "args": [
             [
              "-0.4262458793969848"
             ],
             {
              "frame": {
               "duration": 0,
               "redraw": false
              },
              "fromcurrent": true,
              "mode": "immediate",
              "transition": {
               "duration": 0,
               "easing": "linear"
              }
             }
            ],
            "label": "-0.4262458793969848",
            "method": "animate"
           },
           {
            "args": [
             [
              "-0.39467211055276374"
             ],
             {
              "frame": {
               "duration": 0,
               "redraw": false
              },
              "fromcurrent": true,
              "mode": "immediate",
              "transition": {
               "duration": 0,
               "easing": "linear"
              }
             }
            ],
            "label": "-0.39467211055276374",
            "method": "animate"
           },
           {
            "args": [
             [
              "-0.3630983417085427"
             ],
             {
              "frame": {
               "duration": 0,
               "redraw": false
              },
              "fromcurrent": true,
              "mode": "immediate",
              "transition": {
               "duration": 0,
               "easing": "linear"
              }
             }
            ],
            "label": "-0.3630983417085427",
            "method": "animate"
           },
           {
            "args": [
             [
              "-0.3315245728643217"
             ],
             {
              "frame": {
               "duration": 0,
               "redraw": false
              },
              "fromcurrent": true,
              "mode": "immediate",
              "transition": {
               "duration": 0,
               "easing": "linear"
              }
             }
            ],
            "label": "-0.3315245728643217",
            "method": "animate"
           },
           {
            "args": [
             [
              "-0.29995080402010066"
             ],
             {
              "frame": {
               "duration": 0,
               "redraw": false
              },
              "fromcurrent": true,
              "mode": "immediate",
              "transition": {
               "duration": 0,
               "easing": "linear"
              }
             }
            ],
            "label": "-0.29995080402010066",
            "method": "animate"
           },
           {
            "args": [
             [
              "-0.2683770351758792"
             ],
             {
              "frame": {
               "duration": 0,
               "redraw": false
              },
              "fromcurrent": true,
              "mode": "immediate",
              "transition": {
               "duration": 0,
               "easing": "linear"
              }
             }
            ],
            "label": "-0.2683770351758792",
            "method": "animate"
           },
           {
            "args": [
             [
              "-0.23680326633165816"
             ],
             {
              "frame": {
               "duration": 0,
               "redraw": false
              },
              "fromcurrent": true,
              "mode": "immediate",
              "transition": {
               "duration": 0,
               "easing": "linear"
              }
             }
            ],
            "label": "-0.23680326633165816",
            "method": "animate"
           },
           {
            "args": [
             [
              "-0.20522949748743713"
             ],
             {
              "frame": {
               "duration": 0,
               "redraw": false
              },
              "fromcurrent": true,
              "mode": "immediate",
              "transition": {
               "duration": 0,
               "easing": "linear"
              }
             }
            ],
            "label": "-0.20522949748743713",
            "method": "animate"
           },
           {
            "args": [
             [
              "-0.1736557286432161"
             ],
             {
              "frame": {
               "duration": 0,
               "redraw": false
              },
              "fromcurrent": true,
              "mode": "immediate",
              "transition": {
               "duration": 0,
               "easing": "linear"
              }
             }
            ],
            "label": "-0.1736557286432161",
            "method": "animate"
           },
           {
            "args": [
             [
              "-0.14208195979899507"
             ],
             {
              "frame": {
               "duration": 0,
               "redraw": false
              },
              "fromcurrent": true,
              "mode": "immediate",
              "transition": {
               "duration": 0,
               "easing": "linear"
              }
             }
            ],
            "label": "-0.14208195979899507",
            "method": "animate"
           },
           {
            "args": [
             [
              "-0.11050819095477404"
             ],
             {
              "frame": {
               "duration": 0,
               "redraw": false
              },
              "fromcurrent": true,
              "mode": "immediate",
              "transition": {
               "duration": 0,
               "easing": "linear"
              }
             }
            ],
            "label": "-0.11050819095477404",
            "method": "animate"
           },
           {
            "args": [
             [
              "-0.07893442211055257"
             ],
             {
              "frame": {
               "duration": 0,
               "redraw": false
              },
              "fromcurrent": true,
              "mode": "immediate",
              "transition": {
               "duration": 0,
               "easing": "linear"
              }
             }
            ],
            "label": "-0.07893442211055257",
            "method": "animate"
           },
           {
            "args": [
             [
              "-0.04736065326633154"
             ],
             {
              "frame": {
               "duration": 0,
               "redraw": false
              },
              "fromcurrent": true,
              "mode": "immediate",
              "transition": {
               "duration": 0,
               "easing": "linear"
              }
             }
            ],
            "label": "-0.04736065326633154",
            "method": "animate"
           },
           {
            "args": [
             [
              "-0.015786884422110514"
             ],
             {
              "frame": {
               "duration": 0,
               "redraw": false
              },
              "fromcurrent": true,
              "mode": "immediate",
              "transition": {
               "duration": 0,
               "easing": "linear"
              }
             }
            ],
            "label": "-0.015786884422110514",
            "method": "animate"
           },
           {
            "args": [
             [
              "0.015786884422110514"
             ],
             {
              "frame": {
               "duration": 0,
               "redraw": false
              },
              "fromcurrent": true,
              "mode": "immediate",
              "transition": {
               "duration": 0,
               "easing": "linear"
              }
             }
            ],
            "label": "0.015786884422110514",
            "method": "animate"
           },
           {
            "args": [
             [
              "0.04736065326633154"
             ],
             {
              "frame": {
               "duration": 0,
               "redraw": false
              },
              "fromcurrent": true,
              "mode": "immediate",
              "transition": {
               "duration": 0,
               "easing": "linear"
              }
             }
            ],
            "label": "0.04736065326633154",
            "method": "animate"
           },
           {
            "args": [
             [
              "0.07893442211055302"
             ],
             {
              "frame": {
               "duration": 0,
               "redraw": false
              },
              "fromcurrent": true,
              "mode": "immediate",
              "transition": {
               "duration": 0,
               "easing": "linear"
              }
             }
            ],
            "label": "0.07893442211055302",
            "method": "animate"
           },
           {
            "args": [
             [
              "0.11050819095477404"
             ],
             {
              "frame": {
               "duration": 0,
               "redraw": false
              },
              "fromcurrent": true,
              "mode": "immediate",
              "transition": {
               "duration": 0,
               "easing": "linear"
              }
             }
            ],
            "label": "0.11050819095477404",
            "method": "animate"
           },
           {
            "args": [
             [
              "0.14208195979899507"
             ],
             {
              "frame": {
               "duration": 0,
               "redraw": false
              },
              "fromcurrent": true,
              "mode": "immediate",
              "transition": {
               "duration": 0,
               "easing": "linear"
              }
             }
            ],
            "label": "0.14208195979899507",
            "method": "animate"
           },
           {
            "args": [
             [
              "0.1736557286432161"
             ],
             {
              "frame": {
               "duration": 0,
               "redraw": false
              },
              "fromcurrent": true,
              "mode": "immediate",
              "transition": {
               "duration": 0,
               "easing": "linear"
              }
             }
            ],
            "label": "0.1736557286432161",
            "method": "animate"
           },
           {
            "args": [
             [
              "0.20522949748743713"
             ],
             {
              "frame": {
               "duration": 0,
               "redraw": false
              },
              "fromcurrent": true,
              "mode": "immediate",
              "transition": {
               "duration": 0,
               "easing": "linear"
              }
             }
            ],
            "label": "0.20522949748743713",
            "method": "animate"
           },
           {
            "args": [
             [
              "0.23680326633165816"
             ],
             {
              "frame": {
               "duration": 0,
               "redraw": false
              },
              "fromcurrent": true,
              "mode": "immediate",
              "transition": {
               "duration": 0,
               "easing": "linear"
              }
             }
            ],
            "label": "0.23680326633165816",
            "method": "animate"
           },
           {
            "args": [
             [
              "0.26837703517587963"
             ],
             {
              "frame": {
               "duration": 0,
               "redraw": false
              },
              "fromcurrent": true,
              "mode": "immediate",
              "transition": {
               "duration": 0,
               "easing": "linear"
              }
             }
            ],
            "label": "0.26837703517587963",
            "method": "animate"
           },
           {
            "args": [
             [
              "0.29995080402010066"
             ],
             {
              "frame": {
               "duration": 0,
               "redraw": false
              },
              "fromcurrent": true,
              "mode": "immediate",
              "transition": {
               "duration": 0,
               "easing": "linear"
              }
             }
            ],
            "label": "0.29995080402010066",
            "method": "animate"
           },
           {
            "args": [
             [
              "0.3315245728643217"
             ],
             {
              "frame": {
               "duration": 0,
               "redraw": false
              },
              "fromcurrent": true,
              "mode": "immediate",
              "transition": {
               "duration": 0,
               "easing": "linear"
              }
             }
            ],
            "label": "0.3315245728643217",
            "method": "animate"
           },
           {
            "args": [
             [
              "0.3630983417085427"
             ],
             {
              "frame": {
               "duration": 0,
               "redraw": false
              },
              "fromcurrent": true,
              "mode": "immediate",
              "transition": {
               "duration": 0,
               "easing": "linear"
              }
             }
            ],
            "label": "0.3630983417085427",
            "method": "animate"
           },
           {
            "args": [
             [
              "0.39467211055276374"
             ],
             {
              "frame": {
               "duration": 0,
               "redraw": false
              },
              "fromcurrent": true,
              "mode": "immediate",
              "transition": {
               "duration": 0,
               "easing": "linear"
              }
             }
            ],
            "label": "0.39467211055276374",
            "method": "animate"
           },
           {
            "args": [
             [
              "0.4262458793969848"
             ],
             {
              "frame": {
               "duration": 0,
               "redraw": false
              },
              "fromcurrent": true,
              "mode": "immediate",
              "transition": {
               "duration": 0,
               "easing": "linear"
              }
             }
            ],
            "label": "0.4262458793969848",
            "method": "animate"
           },
           {
            "args": [
             [
              "0.45781964824120625"
             ],
             {
              "frame": {
               "duration": 0,
               "redraw": false
              },
              "fromcurrent": true,
              "mode": "immediate",
              "transition": {
               "duration": 0,
               "easing": "linear"
              }
             }
            ],
            "label": "0.45781964824120625",
            "method": "animate"
           },
           {
            "args": [
             [
              "0.4893934170854273"
             ],
             {
              "frame": {
               "duration": 0,
               "redraw": false
              },
              "fromcurrent": true,
              "mode": "immediate",
              "transition": {
               "duration": 0,
               "easing": "linear"
              }
             }
            ],
            "label": "0.4893934170854273",
            "method": "animate"
           },
           {
            "args": [
             [
              "0.5209671859296483"
             ],
             {
              "frame": {
               "duration": 0,
               "redraw": false
              },
              "fromcurrent": true,
              "mode": "immediate",
              "transition": {
               "duration": 0,
               "easing": "linear"
              }
             }
            ],
            "label": "0.5209671859296483",
            "method": "animate"
           },
           {
            "args": [
             [
              "0.5525409547738693"
             ],
             {
              "frame": {
               "duration": 0,
               "redraw": false
              },
              "fromcurrent": true,
              "mode": "immediate",
              "transition": {
               "duration": 0,
               "easing": "linear"
              }
             }
            ],
            "label": "0.5525409547738693",
            "method": "animate"
           },
           {
            "args": [
             [
              "0.5841147236180904"
             ],
             {
              "frame": {
               "duration": 0,
               "redraw": false
              },
              "fromcurrent": true,
              "mode": "immediate",
              "transition": {
               "duration": 0,
               "easing": "linear"
              }
             }
            ],
            "label": "0.5841147236180904",
            "method": "animate"
           },
           {
            "args": [
             [
              "0.6156884924623114"
             ],
             {
              "frame": {
               "duration": 0,
               "redraw": false
              },
              "fromcurrent": true,
              "mode": "immediate",
              "transition": {
               "duration": 0,
               "easing": "linear"
              }
             }
            ],
            "label": "0.6156884924623114",
            "method": "animate"
           },
           {
            "args": [
             [
              "0.6472622613065329"
             ],
             {
              "frame": {
               "duration": 0,
               "redraw": false
              },
              "fromcurrent": true,
              "mode": "immediate",
              "transition": {
               "duration": 0,
               "easing": "linear"
              }
             }
            ],
            "label": "0.6472622613065329",
            "method": "animate"
           },
           {
            "args": [
             [
              "0.6788360301507539"
             ],
             {
              "frame": {
               "duration": 0,
               "redraw": false
              },
              "fromcurrent": true,
              "mode": "immediate",
              "transition": {
               "duration": 0,
               "easing": "linear"
              }
             }
            ],
            "label": "0.6788360301507539",
            "method": "animate"
           },
           {
            "args": [
             [
              "0.7104097989949749"
             ],
             {
              "frame": {
               "duration": 0,
               "redraw": false
              },
              "fromcurrent": true,
              "mode": "immediate",
              "transition": {
               "duration": 0,
               "easing": "linear"
              }
             }
            ],
            "label": "0.7104097989949749",
            "method": "animate"
           },
           {
            "args": [
             [
              "0.741983567839196"
             ],
             {
              "frame": {
               "duration": 0,
               "redraw": false
              },
              "fromcurrent": true,
              "mode": "immediate",
              "transition": {
               "duration": 0,
               "easing": "linear"
              }
             }
            ],
            "label": "0.741983567839196",
            "method": "animate"
           },
           {
            "args": [
             [
              "0.773557336683417"
             ],
             {
              "frame": {
               "duration": 0,
               "redraw": false
              },
              "fromcurrent": true,
              "mode": "immediate",
              "transition": {
               "duration": 0,
               "easing": "linear"
              }
             }
            ],
            "label": "0.773557336683417",
            "method": "animate"
           },
           {
            "args": [
             [
              "0.805131105527638"
             ],
             {
              "frame": {
               "duration": 0,
               "redraw": false
              },
              "fromcurrent": true,
              "mode": "immediate",
              "transition": {
               "duration": 0,
               "easing": "linear"
              }
             }
            ],
            "label": "0.805131105527638",
            "method": "animate"
           },
           {
            "args": [
             [
              "0.8367048743718595"
             ],
             {
              "frame": {
               "duration": 0,
               "redraw": false
              },
              "fromcurrent": true,
              "mode": "immediate",
              "transition": {
               "duration": 0,
               "easing": "linear"
              }
             }
            ],
            "label": "0.8367048743718595",
            "method": "animate"
           },
           {
            "args": [
             [
              "0.8682786432160805"
             ],
             {
              "frame": {
               "duration": 0,
               "redraw": false
              },
              "fromcurrent": true,
              "mode": "immediate",
              "transition": {
               "duration": 0,
               "easing": "linear"
              }
             }
            ],
            "label": "0.8682786432160805",
            "method": "animate"
           },
           {
            "args": [
             [
              "0.8998524120603015"
             ],
             {
              "frame": {
               "duration": 0,
               "redraw": false
              },
              "fromcurrent": true,
              "mode": "immediate",
              "transition": {
               "duration": 0,
               "easing": "linear"
              }
             }
            ],
            "label": "0.8998524120603015",
            "method": "animate"
           },
           {
            "args": [
             [
              "0.9314261809045226"
             ],
             {
              "frame": {
               "duration": 0,
               "redraw": false
              },
              "fromcurrent": true,
              "mode": "immediate",
              "transition": {
               "duration": 0,
               "easing": "linear"
              }
             }
            ],
            "label": "0.9314261809045226",
            "method": "animate"
           },
           {
            "args": [
             [
              "0.9629999497487436"
             ],
             {
              "frame": {
               "duration": 0,
               "redraw": false
              },
              "fromcurrent": true,
              "mode": "immediate",
              "transition": {
               "duration": 0,
               "easing": "linear"
              }
             }
            ],
            "label": "0.9629999497487436",
            "method": "animate"
           },
           {
            "args": [
             [
              "0.9945737185929646"
             ],
             {
              "frame": {
               "duration": 0,
               "redraw": false
              },
              "fromcurrent": true,
              "mode": "immediate",
              "transition": {
               "duration": 0,
               "easing": "linear"
              }
             }
            ],
            "label": "0.9945737185929646",
            "method": "animate"
           },
           {
            "args": [
             [
              "1.0261474874371856"
             ],
             {
              "frame": {
               "duration": 0,
               "redraw": false
              },
              "fromcurrent": true,
              "mode": "immediate",
              "transition": {
               "duration": 0,
               "easing": "linear"
              }
             }
            ],
            "label": "1.0261474874371856",
            "method": "animate"
           },
           {
            "args": [
             [
              "1.0577212562814067"
             ],
             {
              "frame": {
               "duration": 0,
               "redraw": false
              },
              "fromcurrent": true,
              "mode": "immediate",
              "transition": {
               "duration": 0,
               "easing": "linear"
              }
             }
            ],
            "label": "1.0577212562814067",
            "method": "animate"
           },
           {
            "args": [
             [
              "1.0892950251256286"
             ],
             {
              "frame": {
               "duration": 0,
               "redraw": false
              },
              "fromcurrent": true,
              "mode": "immediate",
              "transition": {
               "duration": 0,
               "easing": "linear"
              }
             }
            ],
            "label": "1.0892950251256286",
            "method": "animate"
           },
           {
            "args": [
             [
              "1.1208687939698496"
             ],
             {
              "frame": {
               "duration": 0,
               "redraw": false
              },
              "fromcurrent": true,
              "mode": "immediate",
              "transition": {
               "duration": 0,
               "easing": "linear"
              }
             }
            ],
            "label": "1.1208687939698496",
            "method": "animate"
           },
           {
            "args": [
             [
              "1.1524425628140706"
             ],
             {
              "frame": {
               "duration": 0,
               "redraw": false
              },
              "fromcurrent": true,
              "mode": "immediate",
              "transition": {
               "duration": 0,
               "easing": "linear"
              }
             }
            ],
            "label": "1.1524425628140706",
            "method": "animate"
           },
           {
            "args": [
             [
              "1.1840163316582917"
             ],
             {
              "frame": {
               "duration": 0,
               "redraw": false
              },
              "fromcurrent": true,
              "mode": "immediate",
              "transition": {
               "duration": 0,
               "easing": "linear"
              }
             }
            ],
            "label": "1.1840163316582917",
            "method": "animate"
           },
           {
            "args": [
             [
              "1.2155901005025127"
             ],
             {
              "frame": {
               "duration": 0,
               "redraw": false
              },
              "fromcurrent": true,
              "mode": "immediate",
              "transition": {
               "duration": 0,
               "easing": "linear"
              }
             }
            ],
            "label": "1.2155901005025127",
            "method": "animate"
           },
           {
            "args": [
             [
              "1.2471638693467337"
             ],
             {
              "frame": {
               "duration": 0,
               "redraw": false
              },
              "fromcurrent": true,
              "mode": "immediate",
              "transition": {
               "duration": 0,
               "easing": "linear"
              }
             }
            ],
            "label": "1.2471638693467337",
            "method": "animate"
           },
           {
            "args": [
             [
              "1.2787376381909548"
             ],
             {
              "frame": {
               "duration": 0,
               "redraw": false
              },
              "fromcurrent": true,
              "mode": "immediate",
              "transition": {
               "duration": 0,
               "easing": "linear"
              }
             }
            ],
            "label": "1.2787376381909548",
            "method": "animate"
           },
           {
            "args": [
             [
              "1.3103114070351758"
             ],
             {
              "frame": {
               "duration": 0,
               "redraw": false
              },
              "fromcurrent": true,
              "mode": "immediate",
              "transition": {
               "duration": 0,
               "easing": "linear"
              }
             }
            ],
            "label": "1.3103114070351758",
            "method": "animate"
           },
           {
            "args": [
             [
              "1.3418851758793968"
             ],
             {
              "frame": {
               "duration": 0,
               "redraw": false
              },
              "fromcurrent": true,
              "mode": "immediate",
              "transition": {
               "duration": 0,
               "easing": "linear"
              }
             }
            ],
            "label": "1.3418851758793968",
            "method": "animate"
           },
           {
            "args": [
             [
              "1.3734589447236178"
             ],
             {
              "frame": {
               "duration": 0,
               "redraw": false
              },
              "fromcurrent": true,
              "mode": "immediate",
              "transition": {
               "duration": 0,
               "easing": "linear"
              }
             }
            ],
            "label": "1.3734589447236178",
            "method": "animate"
           },
           {
            "args": [
             [
              "1.4050327135678389"
             ],
             {
              "frame": {
               "duration": 0,
               "redraw": false
              },
              "fromcurrent": true,
              "mode": "immediate",
              "transition": {
               "duration": 0,
               "easing": "linear"
              }
             }
            ],
            "label": "1.4050327135678389",
            "method": "animate"
           },
           {
            "args": [
             [
              "1.43660648241206"
             ],
             {
              "frame": {
               "duration": 0,
               "redraw": false
              },
              "fromcurrent": true,
              "mode": "immediate",
              "transition": {
               "duration": 0,
               "easing": "linear"
              }
             }
            ],
            "label": "1.43660648241206",
            "method": "animate"
           },
           {
            "args": [
             [
              "1.4681802512562818"
             ],
             {
              "frame": {
               "duration": 0,
               "redraw": false
              },
              "fromcurrent": true,
              "mode": "immediate",
              "transition": {
               "duration": 0,
               "easing": "linear"
              }
             }
            ],
            "label": "1.4681802512562818",
            "method": "animate"
           },
           {
            "args": [
             [
              "1.4997540201005028"
             ],
             {
              "frame": {
               "duration": 0,
               "redraw": false
              },
              "fromcurrent": true,
              "mode": "immediate",
              "transition": {
               "duration": 0,
               "easing": "linear"
              }
             }
            ],
            "label": "1.4997540201005028",
            "method": "animate"
           },
           {
            "args": [
             [
              "1.5313277889447239"
             ],
             {
              "frame": {
               "duration": 0,
               "redraw": false
              },
              "fromcurrent": true,
              "mode": "immediate",
              "transition": {
               "duration": 0,
               "easing": "linear"
              }
             }
            ],
            "label": "1.5313277889447239",
            "method": "animate"
           },
           {
            "args": [
             [
              "1.562901557788945"
             ],
             {
              "frame": {
               "duration": 0,
               "redraw": false
              },
              "fromcurrent": true,
              "mode": "immediate",
              "transition": {
               "duration": 0,
               "easing": "linear"
              }
             }
            ],
            "label": "1.562901557788945",
            "method": "animate"
           },
           {
            "args": [
             [
              "1.594475326633166"
             ],
             {
              "frame": {
               "duration": 0,
               "redraw": false
              },
              "fromcurrent": true,
              "mode": "immediate",
              "transition": {
               "duration": 0,
               "easing": "linear"
              }
             }
            ],
            "label": "1.594475326633166",
            "method": "animate"
           },
           {
            "args": [
             [
              "1.626049095477387"
             ],
             {
              "frame": {
               "duration": 0,
               "redraw": false
              },
              "fromcurrent": true,
              "mode": "immediate",
              "transition": {
               "duration": 0,
               "easing": "linear"
              }
             }
            ],
            "label": "1.626049095477387",
            "method": "animate"
           },
           {
            "args": [
             [
              "1.657622864321608"
             ],
             {
              "frame": {
               "duration": 0,
               "redraw": false
              },
              "fromcurrent": true,
              "mode": "immediate",
              "transition": {
               "duration": 0,
               "easing": "linear"
              }
             }
            ],
            "label": "1.657622864321608",
            "method": "animate"
           },
           {
            "args": [
             [
              "1.689196633165829"
             ],
             {
              "frame": {
               "duration": 0,
               "redraw": false
              },
              "fromcurrent": true,
              "mode": "immediate",
              "transition": {
               "duration": 0,
               "easing": "linear"
              }
             }
            ],
            "label": "1.689196633165829",
            "method": "animate"
           },
           {
            "args": [
             [
              "1.72077040201005"
             ],
             {
              "frame": {
               "duration": 0,
               "redraw": false
              },
              "fromcurrent": true,
              "mode": "immediate",
              "transition": {
               "duration": 0,
               "easing": "linear"
              }
             }
            ],
            "label": "1.72077040201005",
            "method": "animate"
           },
           {
            "args": [
             [
              "1.752344170854271"
             ],
             {
              "frame": {
               "duration": 0,
               "redraw": false
              },
              "fromcurrent": true,
              "mode": "immediate",
              "transition": {
               "duration": 0,
               "easing": "linear"
              }
             }
            ],
            "label": "1.752344170854271",
            "method": "animate"
           },
           {
            "args": [
             [
              "1.783917939698492"
             ],
             {
              "frame": {
               "duration": 0,
               "redraw": false
              },
              "fromcurrent": true,
              "mode": "immediate",
              "transition": {
               "duration": 0,
               "easing": "linear"
              }
             }
            ],
            "label": "1.783917939698492",
            "method": "animate"
           },
           {
            "args": [
             [
              "1.8154917085427131"
             ],
             {
              "frame": {
               "duration": 0,
               "redraw": false
              },
              "fromcurrent": true,
              "mode": "immediate",
              "transition": {
               "duration": 0,
               "easing": "linear"
              }
             }
            ],
            "label": "1.8154917085427131",
            "method": "animate"
           },
           {
            "args": [
             [
              "1.847065477386935"
             ],
             {
              "frame": {
               "duration": 0,
               "redraw": false
              },
              "fromcurrent": true,
              "mode": "immediate",
              "transition": {
               "duration": 0,
               "easing": "linear"
              }
             }
            ],
            "label": "1.847065477386935",
            "method": "animate"
           },
           {
            "args": [
             [
              "1.878639246231156"
             ],
             {
              "frame": {
               "duration": 0,
               "redraw": false
              },
              "fromcurrent": true,
              "mode": "immediate",
              "transition": {
               "duration": 0,
               "easing": "linear"
              }
             }
            ],
            "label": "1.878639246231156",
            "method": "animate"
           },
           {
            "args": [
             [
              "1.910213015075377"
             ],
             {
              "frame": {
               "duration": 0,
               "redraw": false
              },
              "fromcurrent": true,
              "mode": "immediate",
              "transition": {
               "duration": 0,
               "easing": "linear"
              }
             }
            ],
            "label": "1.910213015075377",
            "method": "animate"
           },
           {
            "args": [
             [
              "1.9417867839195981"
             ],
             {
              "frame": {
               "duration": 0,
               "redraw": false
              },
              "fromcurrent": true,
              "mode": "immediate",
              "transition": {
               "duration": 0,
               "easing": "linear"
              }
             }
            ],
            "label": "1.9417867839195981",
            "method": "animate"
           },
           {
            "args": [
             [
              "1.9733605527638192"
             ],
             {
              "frame": {
               "duration": 0,
               "redraw": false
              },
              "fromcurrent": true,
              "mode": "immediate",
              "transition": {
               "duration": 0,
               "easing": "linear"
              }
             }
            ],
            "label": "1.9733605527638192",
            "method": "animate"
           },
           {
            "args": [
             [
              "2.00493432160804"
             ],
             {
              "frame": {
               "duration": 0,
               "redraw": false
              },
              "fromcurrent": true,
              "mode": "immediate",
              "transition": {
               "duration": 0,
               "easing": "linear"
              }
             }
            ],
            "label": "2.00493432160804",
            "method": "animate"
           },
           {
            "args": [
             [
              "2.036508090452261"
             ],
             {
              "frame": {
               "duration": 0,
               "redraw": false
              },
              "fromcurrent": true,
              "mode": "immediate",
              "transition": {
               "duration": 0,
               "easing": "linear"
              }
             }
            ],
            "label": "2.036508090452261",
            "method": "animate"
           },
           {
            "args": [
             [
              "2.0680818592964822"
             ],
             {
              "frame": {
               "duration": 0,
               "redraw": false
              },
              "fromcurrent": true,
              "mode": "immediate",
              "transition": {
               "duration": 0,
               "easing": "linear"
              }
             }
            ],
            "label": "2.0680818592964822",
            "method": "animate"
           },
           {
            "args": [
             [
              "2.0996556281407033"
             ],
             {
              "frame": {
               "duration": 0,
               "redraw": false
              },
              "fromcurrent": true,
              "mode": "immediate",
              "transition": {
               "duration": 0,
               "easing": "linear"
              }
             }
            ],
            "label": "2.0996556281407033",
            "method": "animate"
           },
           {
            "args": [
             [
              "2.1312293969849243"
             ],
             {
              "frame": {
               "duration": 0,
               "redraw": false
              },
              "fromcurrent": true,
              "mode": "immediate",
              "transition": {
               "duration": 0,
               "easing": "linear"
              }
             }
            ],
            "label": "2.1312293969849243",
            "method": "animate"
           },
           {
            "args": [
             [
              "2.1628031658291453"
             ],
             {
              "frame": {
               "duration": 0,
               "redraw": false
              },
              "fromcurrent": true,
              "mode": "immediate",
              "transition": {
               "duration": 0,
               "easing": "linear"
              }
             }
            ],
            "label": "2.1628031658291453",
            "method": "animate"
           },
           {
            "args": [
             [
              "2.1943769346733673"
             ],
             {
              "frame": {
               "duration": 0,
               "redraw": false
              },
              "fromcurrent": true,
              "mode": "immediate",
              "transition": {
               "duration": 0,
               "easing": "linear"
              }
             }
            ],
            "label": "2.1943769346733673",
            "method": "animate"
           },
           {
            "args": [
             [
              "2.2259507035175883"
             ],
             {
              "frame": {
               "duration": 0,
               "redraw": false
              },
              "fromcurrent": true,
              "mode": "immediate",
              "transition": {
               "duration": 0,
               "easing": "linear"
              }
             }
            ],
            "label": "2.2259507035175883",
            "method": "animate"
           },
           {
            "args": [
             [
              "2.2575244723618093"
             ],
             {
              "frame": {
               "duration": 0,
               "redraw": false
              },
              "fromcurrent": true,
              "mode": "immediate",
              "transition": {
               "duration": 0,
               "easing": "linear"
              }
             }
            ],
            "label": "2.2575244723618093",
            "method": "animate"
           },
           {
            "args": [
             [
              "2.2890982412060303"
             ],
             {
              "frame": {
               "duration": 0,
               "redraw": false
              },
              "fromcurrent": true,
              "mode": "immediate",
              "transition": {
               "duration": 0,
               "easing": "linear"
              }
             }
            ],
            "label": "2.2890982412060303",
            "method": "animate"
           },
           {
            "args": [
             [
              "2.3206720100502514"
             ],
             {
              "frame": {
               "duration": 0,
               "redraw": false
              },
              "fromcurrent": true,
              "mode": "immediate",
              "transition": {
               "duration": 0,
               "easing": "linear"
              }
             }
            ],
            "label": "2.3206720100502514",
            "method": "animate"
           },
           {
            "args": [
             [
              "2.3522457788944724"
             ],
             {
              "frame": {
               "duration": 0,
               "redraw": false
              },
              "fromcurrent": true,
              "mode": "immediate",
              "transition": {
               "duration": 0,
               "easing": "linear"
              }
             }
            ],
            "label": "2.3522457788944724",
            "method": "animate"
           },
           {
            "args": [
             [
              "2.3838195477386934"
             ],
             {
              "frame": {
               "duration": 0,
               "redraw": false
              },
              "fromcurrent": true,
              "mode": "immediate",
              "transition": {
               "duration": 0,
               "easing": "linear"
              }
             }
            ],
            "label": "2.3838195477386934",
            "method": "animate"
           },
           {
            "args": [
             [
              "2.4153933165829145"
             ],
             {
              "frame": {
               "duration": 0,
               "redraw": false
              },
              "fromcurrent": true,
              "mode": "immediate",
              "transition": {
               "duration": 0,
               "easing": "linear"
              }
             }
            ],
            "label": "2.4153933165829145",
            "method": "animate"
           },
           {
            "args": [
             [
              "2.4469670854271355"
             ],
             {
              "frame": {
               "duration": 0,
               "redraw": false
              },
              "fromcurrent": true,
              "mode": "immediate",
              "transition": {
               "duration": 0,
               "easing": "linear"
              }
             }
            ],
            "label": "2.4469670854271355",
            "method": "animate"
           },
           {
            "args": [
             [
              "2.4785408542713565"
             ],
             {
              "frame": {
               "duration": 0,
               "redraw": false
              },
              "fromcurrent": true,
              "mode": "immediate",
              "transition": {
               "duration": 0,
               "easing": "linear"
              }
             }
            ],
            "label": "2.4785408542713565",
            "method": "animate"
           },
           {
            "args": [
             [
              "2.5101146231155775"
             ],
             {
              "frame": {
               "duration": 0,
               "redraw": false
              },
              "fromcurrent": true,
              "mode": "immediate",
              "transition": {
               "duration": 0,
               "easing": "linear"
              }
             }
            ],
            "label": "2.5101146231155775",
            "method": "animate"
           },
           {
            "args": [
             [
              "2.5416883919597986"
             ],
             {
              "frame": {
               "duration": 0,
               "redraw": false
              },
              "fromcurrent": true,
              "mode": "immediate",
              "transition": {
               "duration": 0,
               "easing": "linear"
              }
             }
            ],
            "label": "2.5416883919597986",
            "method": "animate"
           },
           {
            "args": [
             [
              "2.5732621608040205"
             ],
             {
              "frame": {
               "duration": 0,
               "redraw": false
              },
              "fromcurrent": true,
              "mode": "immediate",
              "transition": {
               "duration": 0,
               "easing": "linear"
              }
             }
            ],
            "label": "2.5732621608040205",
            "method": "animate"
           },
           {
            "args": [
             [
              "2.6048359296482415"
             ],
             {
              "frame": {
               "duration": 0,
               "redraw": false
              },
              "fromcurrent": true,
              "mode": "immediate",
              "transition": {
               "duration": 0,
               "easing": "linear"
              }
             }
            ],
            "label": "2.6048359296482415",
            "method": "animate"
           },
           {
            "args": [
             [
              "2.6364096984924625"
             ],
             {
              "frame": {
               "duration": 0,
               "redraw": false
              },
              "fromcurrent": true,
              "mode": "immediate",
              "transition": {
               "duration": 0,
               "easing": "linear"
              }
             }
            ],
            "label": "2.6364096984924625",
            "method": "animate"
           },
           {
            "args": [
             [
              "2.6679834673366836"
             ],
             {
              "frame": {
               "duration": 0,
               "redraw": false
              },
              "fromcurrent": true,
              "mode": "immediate",
              "transition": {
               "duration": 0,
               "easing": "linear"
              }
             }
            ],
            "label": "2.6679834673366836",
            "method": "animate"
           },
           {
            "args": [
             [
              "2.6995572361809046"
             ],
             {
              "frame": {
               "duration": 0,
               "redraw": false
              },
              "fromcurrent": true,
              "mode": "immediate",
              "transition": {
               "duration": 0,
               "easing": "linear"
              }
             }
            ],
            "label": "2.6995572361809046",
            "method": "animate"
           },
           {
            "args": [
             [
              "2.7311310050251256"
             ],
             {
              "frame": {
               "duration": 0,
               "redraw": false
              },
              "fromcurrent": true,
              "mode": "immediate",
              "transition": {
               "duration": 0,
               "easing": "linear"
              }
             }
            ],
            "label": "2.7311310050251256",
            "method": "animate"
           },
           {
            "args": [
             [
              "2.7627047738693467"
             ],
             {
              "frame": {
               "duration": 0,
               "redraw": false
              },
              "fromcurrent": true,
              "mode": "immediate",
              "transition": {
               "duration": 0,
               "easing": "linear"
              }
             }
            ],
            "label": "2.7627047738693467",
            "method": "animate"
           },
           {
            "args": [
             [
              "2.7942785427135677"
             ],
             {
              "frame": {
               "duration": 0,
               "redraw": false
              },
              "fromcurrent": true,
              "mode": "immediate",
              "transition": {
               "duration": 0,
               "easing": "linear"
              }
             }
            ],
            "label": "2.7942785427135677",
            "method": "animate"
           },
           {
            "args": [
             [
              "2.8258523115577887"
             ],
             {
              "frame": {
               "duration": 0,
               "redraw": false
              },
              "fromcurrent": true,
              "mode": "immediate",
              "transition": {
               "duration": 0,
               "easing": "linear"
              }
             }
            ],
            "label": "2.8258523115577887",
            "method": "animate"
           },
           {
            "args": [
             [
              "2.8574260804020097"
             ],
             {
              "frame": {
               "duration": 0,
               "redraw": false
              },
              "fromcurrent": true,
              "mode": "immediate",
              "transition": {
               "duration": 0,
               "easing": "linear"
              }
             }
            ],
            "label": "2.8574260804020097",
            "method": "animate"
           },
           {
            "args": [
             [
              "2.8889998492462308"
             ],
             {
              "frame": {
               "duration": 0,
               "redraw": false
              },
              "fromcurrent": true,
              "mode": "immediate",
              "transition": {
               "duration": 0,
               "easing": "linear"
              }
             }
            ],
            "label": "2.8889998492462308",
            "method": "animate"
           },
           {
            "args": [
             [
              "2.920573618090452"
             ],
             {
              "frame": {
               "duration": 0,
               "redraw": false
              },
              "fromcurrent": true,
              "mode": "immediate",
              "transition": {
               "duration": 0,
               "easing": "linear"
              }
             }
            ],
            "label": "2.920573618090452",
            "method": "animate"
           },
           {
            "args": [
             [
              "2.9521473869346737"
             ],
             {
              "frame": {
               "duration": 0,
               "redraw": false
              },
              "fromcurrent": true,
              "mode": "immediate",
              "transition": {
               "duration": 0,
               "easing": "linear"
              }
             }
            ],
            "label": "2.9521473869346737",
            "method": "animate"
           },
           {
            "args": [
             [
              "2.9837211557788947"
             ],
             {
              "frame": {
               "duration": 0,
               "redraw": false
              },
              "fromcurrent": true,
              "mode": "immediate",
              "transition": {
               "duration": 0,
               "easing": "linear"
              }
             }
            ],
            "label": "2.9837211557788947",
            "method": "animate"
           },
           {
            "args": [
             [
              "3.0152949246231158"
             ],
             {
              "frame": {
               "duration": 0,
               "redraw": false
              },
              "fromcurrent": true,
              "mode": "immediate",
              "transition": {
               "duration": 0,
               "easing": "linear"
              }
             }
            ],
            "label": "3.0152949246231158",
            "method": "animate"
           },
           {
            "args": [
             [
              "3.046868693467337"
             ],
             {
              "frame": {
               "duration": 0,
               "redraw": false
              },
              "fromcurrent": true,
              "mode": "immediate",
              "transition": {
               "duration": 0,
               "easing": "linear"
              }
             }
            ],
            "label": "3.046868693467337",
            "method": "animate"
           },
           {
            "args": [
             [
              "3.078442462311558"
             ],
             {
              "frame": {
               "duration": 0,
               "redraw": false
              },
              "fromcurrent": true,
              "mode": "immediate",
              "transition": {
               "duration": 0,
               "easing": "linear"
              }
             }
            ],
            "label": "3.078442462311558",
            "method": "animate"
           },
           {
            "args": [
             [
              "3.110016231155779"
             ],
             {
              "frame": {
               "duration": 0,
               "redraw": false
              },
              "fromcurrent": true,
              "mode": "immediate",
              "transition": {
               "duration": 0,
               "easing": "linear"
              }
             }
            ],
            "label": "3.110016231155779",
            "method": "animate"
           },
           {
            "args": [
             [
              "3.14159"
             ],
             {
              "frame": {
               "duration": 0,
               "redraw": false
              },
              "fromcurrent": true,
              "mode": "immediate",
              "transition": {
               "duration": 0,
               "easing": "linear"
              }
             }
            ],
            "label": "3.14159",
            "method": "animate"
           }
          ],
          "x": 0.1,
          "xanchor": "left",
          "y": 0,
          "yanchor": "top"
         }
        ],
        "template": {
         "data": {
          "bar": [
           {
            "error_x": {
             "color": "#2a3f5f"
            },
            "error_y": {
             "color": "#2a3f5f"
            },
            "marker": {
             "line": {
              "color": "#E5ECF6",
              "width": 0.5
             },
             "pattern": {
              "fillmode": "overlay",
              "size": 10,
              "solidity": 0.2
             }
            },
            "type": "bar"
           }
          ],
          "barpolar": [
           {
            "marker": {
             "line": {
              "color": "#E5ECF6",
              "width": 0.5
             },
             "pattern": {
              "fillmode": "overlay",
              "size": 10,
              "solidity": 0.2
             }
            },
            "type": "barpolar"
           }
          ],
          "carpet": [
           {
            "aaxis": {
             "endlinecolor": "#2a3f5f",
             "gridcolor": "white",
             "linecolor": "white",
             "minorgridcolor": "white",
             "startlinecolor": "#2a3f5f"
            },
            "baxis": {
             "endlinecolor": "#2a3f5f",
             "gridcolor": "white",
             "linecolor": "white",
             "minorgridcolor": "white",
             "startlinecolor": "#2a3f5f"
            },
            "type": "carpet"
           }
          ],
          "choropleth": [
           {
            "colorbar": {
             "outlinewidth": 0,
             "ticks": ""
            },
            "type": "choropleth"
           }
          ],
          "contour": [
           {
            "colorbar": {
             "outlinewidth": 0,
             "ticks": ""
            },
            "colorscale": [
             [
              0,
              "#0d0887"
             ],
             [
              0.1111111111111111,
              "#46039f"
             ],
             [
              0.2222222222222222,
              "#7201a8"
             ],
             [
              0.3333333333333333,
              "#9c179e"
             ],
             [
              0.4444444444444444,
              "#bd3786"
             ],
             [
              0.5555555555555556,
              "#d8576b"
             ],
             [
              0.6666666666666666,
              "#ed7953"
             ],
             [
              0.7777777777777778,
              "#fb9f3a"
             ],
             [
              0.8888888888888888,
              "#fdca26"
             ],
             [
              1,
              "#f0f921"
             ]
            ],
            "type": "contour"
           }
          ],
          "contourcarpet": [
           {
            "colorbar": {
             "outlinewidth": 0,
             "ticks": ""
            },
            "type": "contourcarpet"
           }
          ],
          "heatmap": [
           {
            "colorbar": {
             "outlinewidth": 0,
             "ticks": ""
            },
            "colorscale": [
             [
              0,
              "#0d0887"
             ],
             [
              0.1111111111111111,
              "#46039f"
             ],
             [
              0.2222222222222222,
              "#7201a8"
             ],
             [
              0.3333333333333333,
              "#9c179e"
             ],
             [
              0.4444444444444444,
              "#bd3786"
             ],
             [
              0.5555555555555556,
              "#d8576b"
             ],
             [
              0.6666666666666666,
              "#ed7953"
             ],
             [
              0.7777777777777778,
              "#fb9f3a"
             ],
             [
              0.8888888888888888,
              "#fdca26"
             ],
             [
              1,
              "#f0f921"
             ]
            ],
            "type": "heatmap"
           }
          ],
          "heatmapgl": [
           {
            "colorbar": {
             "outlinewidth": 0,
             "ticks": ""
            },
            "colorscale": [
             [
              0,
              "#0d0887"
             ],
             [
              0.1111111111111111,
              "#46039f"
             ],
             [
              0.2222222222222222,
              "#7201a8"
             ],
             [
              0.3333333333333333,
              "#9c179e"
             ],
             [
              0.4444444444444444,
              "#bd3786"
             ],
             [
              0.5555555555555556,
              "#d8576b"
             ],
             [
              0.6666666666666666,
              "#ed7953"
             ],
             [
              0.7777777777777778,
              "#fb9f3a"
             ],
             [
              0.8888888888888888,
              "#fdca26"
             ],
             [
              1,
              "#f0f921"
             ]
            ],
            "type": "heatmapgl"
           }
          ],
          "histogram": [
           {
            "marker": {
             "pattern": {
              "fillmode": "overlay",
              "size": 10,
              "solidity": 0.2
             }
            },
            "type": "histogram"
           }
          ],
          "histogram2d": [
           {
            "colorbar": {
             "outlinewidth": 0,
             "ticks": ""
            },
            "colorscale": [
             [
              0,
              "#0d0887"
             ],
             [
              0.1111111111111111,
              "#46039f"
             ],
             [
              0.2222222222222222,
              "#7201a8"
             ],
             [
              0.3333333333333333,
              "#9c179e"
             ],
             [
              0.4444444444444444,
              "#bd3786"
             ],
             [
              0.5555555555555556,
              "#d8576b"
             ],
             [
              0.6666666666666666,
              "#ed7953"
             ],
             [
              0.7777777777777778,
              "#fb9f3a"
             ],
             [
              0.8888888888888888,
              "#fdca26"
             ],
             [
              1,
              "#f0f921"
             ]
            ],
            "type": "histogram2d"
           }
          ],
          "histogram2dcontour": [
           {
            "colorbar": {
             "outlinewidth": 0,
             "ticks": ""
            },
            "colorscale": [
             [
              0,
              "#0d0887"
             ],
             [
              0.1111111111111111,
              "#46039f"
             ],
             [
              0.2222222222222222,
              "#7201a8"
             ],
             [
              0.3333333333333333,
              "#9c179e"
             ],
             [
              0.4444444444444444,
              "#bd3786"
             ],
             [
              0.5555555555555556,
              "#d8576b"
             ],
             [
              0.6666666666666666,
              "#ed7953"
             ],
             [
              0.7777777777777778,
              "#fb9f3a"
             ],
             [
              0.8888888888888888,
              "#fdca26"
             ],
             [
              1,
              "#f0f921"
             ]
            ],
            "type": "histogram2dcontour"
           }
          ],
          "mesh3d": [
           {
            "colorbar": {
             "outlinewidth": 0,
             "ticks": ""
            },
            "type": "mesh3d"
           }
          ],
          "parcoords": [
           {
            "line": {
             "colorbar": {
              "outlinewidth": 0,
              "ticks": ""
             }
            },
            "type": "parcoords"
           }
          ],
          "pie": [
           {
            "automargin": true,
            "type": "pie"
           }
          ],
          "scatter": [
           {
            "fillpattern": {
             "fillmode": "overlay",
             "size": 10,
             "solidity": 0.2
            },
            "type": "scatter"
           }
          ],
          "scatter3d": [
           {
            "line": {
             "colorbar": {
              "outlinewidth": 0,
              "ticks": ""
             }
            },
            "marker": {
             "colorbar": {
              "outlinewidth": 0,
              "ticks": ""
             }
            },
            "type": "scatter3d"
           }
          ],
          "scattercarpet": [
           {
            "marker": {
             "colorbar": {
              "outlinewidth": 0,
              "ticks": ""
             }
            },
            "type": "scattercarpet"
           }
          ],
          "scattergeo": [
           {
            "marker": {
             "colorbar": {
              "outlinewidth": 0,
              "ticks": ""
             }
            },
            "type": "scattergeo"
           }
          ],
          "scattergl": [
           {
            "marker": {
             "colorbar": {
              "outlinewidth": 0,
              "ticks": ""
             }
            },
            "type": "scattergl"
           }
          ],
          "scattermapbox": [
           {
            "marker": {
             "colorbar": {
              "outlinewidth": 0,
              "ticks": ""
             }
            },
            "type": "scattermapbox"
           }
          ],
          "scatterpolar": [
           {
            "marker": {
             "colorbar": {
              "outlinewidth": 0,
              "ticks": ""
             }
            },
            "type": "scatterpolar"
           }
          ],
          "scatterpolargl": [
           {
            "marker": {
             "colorbar": {
              "outlinewidth": 0,
              "ticks": ""
             }
            },
            "type": "scatterpolargl"
           }
          ],
          "scatterternary": [
           {
            "marker": {
             "colorbar": {
              "outlinewidth": 0,
              "ticks": ""
             }
            },
            "type": "scatterternary"
           }
          ],
          "surface": [
           {
            "colorbar": {
             "outlinewidth": 0,
             "ticks": ""
            },
            "colorscale": [
             [
              0,
              "#0d0887"
             ],
             [
              0.1111111111111111,
              "#46039f"
             ],
             [
              0.2222222222222222,
              "#7201a8"
             ],
             [
              0.3333333333333333,
              "#9c179e"
             ],
             [
              0.4444444444444444,
              "#bd3786"
             ],
             [
              0.5555555555555556,
              "#d8576b"
             ],
             [
              0.6666666666666666,
              "#ed7953"
             ],
             [
              0.7777777777777778,
              "#fb9f3a"
             ],
             [
              0.8888888888888888,
              "#fdca26"
             ],
             [
              1,
              "#f0f921"
             ]
            ],
            "type": "surface"
           }
          ],
          "table": [
           {
            "cells": {
             "fill": {
              "color": "#EBF0F8"
             },
             "line": {
              "color": "white"
             }
            },
            "header": {
             "fill": {
              "color": "#C8D4E3"
             },
             "line": {
              "color": "white"
             }
            },
            "type": "table"
           }
          ]
         },
         "layout": {
          "annotationdefaults": {
           "arrowcolor": "#2a3f5f",
           "arrowhead": 0,
           "arrowwidth": 1
          },
          "autotypenumbers": "strict",
          "coloraxis": {
           "colorbar": {
            "outlinewidth": 0,
            "ticks": ""
           }
          },
          "colorscale": {
           "diverging": [
            [
             0,
             "#8e0152"
            ],
            [
             0.1,
             "#c51b7d"
            ],
            [
             0.2,
             "#de77ae"
            ],
            [
             0.3,
             "#f1b6da"
            ],
            [
             0.4,
             "#fde0ef"
            ],
            [
             0.5,
             "#f7f7f7"
            ],
            [
             0.6,
             "#e6f5d0"
            ],
            [
             0.7,
             "#b8e186"
            ],
            [
             0.8,
             "#7fbc41"
            ],
            [
             0.9,
             "#4d9221"
            ],
            [
             1,
             "#276419"
            ]
           ],
           "sequential": [
            [
             0,
             "#0d0887"
            ],
            [
             0.1111111111111111,
             "#46039f"
            ],
            [
             0.2222222222222222,
             "#7201a8"
            ],
            [
             0.3333333333333333,
             "#9c179e"
            ],
            [
             0.4444444444444444,
             "#bd3786"
            ],
            [
             0.5555555555555556,
             "#d8576b"
            ],
            [
             0.6666666666666666,
             "#ed7953"
            ],
            [
             0.7777777777777778,
             "#fb9f3a"
            ],
            [
             0.8888888888888888,
             "#fdca26"
            ],
            [
             1,
             "#f0f921"
            ]
           ],
           "sequentialminus": [
            [
             0,
             "#0d0887"
            ],
            [
             0.1111111111111111,
             "#46039f"
            ],
            [
             0.2222222222222222,
             "#7201a8"
            ],
            [
             0.3333333333333333,
             "#9c179e"
            ],
            [
             0.4444444444444444,
             "#bd3786"
            ],
            [
             0.5555555555555556,
             "#d8576b"
            ],
            [
             0.6666666666666666,
             "#ed7953"
            ],
            [
             0.7777777777777778,
             "#fb9f3a"
            ],
            [
             0.8888888888888888,
             "#fdca26"
            ],
            [
             1,
             "#f0f921"
            ]
           ]
          },
          "colorway": [
           "#636efa",
           "#EF553B",
           "#00cc96",
           "#ab63fa",
           "#FFA15A",
           "#19d3f3",
           "#FF6692",
           "#B6E880",
           "#FF97FF",
           "#FECB52"
          ],
          "font": {
           "color": "#2a3f5f"
          },
          "geo": {
           "bgcolor": "white",
           "lakecolor": "white",
           "landcolor": "#E5ECF6",
           "showlakes": true,
           "showland": true,
           "subunitcolor": "white"
          },
          "hoverlabel": {
           "align": "left"
          },
          "hovermode": "closest",
          "mapbox": {
           "style": "light"
          },
          "paper_bgcolor": "white",
          "plot_bgcolor": "#E5ECF6",
          "polar": {
           "angularaxis": {
            "gridcolor": "white",
            "linecolor": "white",
            "ticks": ""
           },
           "bgcolor": "#E5ECF6",
           "radialaxis": {
            "gridcolor": "white",
            "linecolor": "white",
            "ticks": ""
           }
          },
          "scene": {
           "xaxis": {
            "backgroundcolor": "#E5ECF6",
            "gridcolor": "white",
            "gridwidth": 2,
            "linecolor": "white",
            "showbackground": true,
            "ticks": "",
            "zerolinecolor": "white"
           },
           "yaxis": {
            "backgroundcolor": "#E5ECF6",
            "gridcolor": "white",
            "gridwidth": 2,
            "linecolor": "white",
            "showbackground": true,
            "ticks": "",
            "zerolinecolor": "white"
           },
           "zaxis": {
            "backgroundcolor": "#E5ECF6",
            "gridcolor": "white",
            "gridwidth": 2,
            "linecolor": "white",
            "showbackground": true,
            "ticks": "",
            "zerolinecolor": "white"
           }
          },
          "shapedefaults": {
           "line": {
            "color": "#2a3f5f"
           }
          },
          "ternary": {
           "aaxis": {
            "gridcolor": "white",
            "linecolor": "white",
            "ticks": ""
           },
           "baxis": {
            "gridcolor": "white",
            "linecolor": "white",
            "ticks": ""
           },
           "bgcolor": "#E5ECF6",
           "caxis": {
            "gridcolor": "white",
            "linecolor": "white",
            "ticks": ""
           }
          },
          "title": {
           "x": 0.05
          },
          "xaxis": {
           "automargin": true,
           "gridcolor": "white",
           "linecolor": "white",
           "ticks": "",
           "title": {
            "standoff": 15
           },
           "zerolinecolor": "white",
           "zerolinewidth": 2
          },
          "yaxis": {
           "automargin": true,
           "gridcolor": "white",
           "linecolor": "white",
           "ticks": "",
           "title": {
            "standoff": 15
           },
           "zerolinecolor": "white",
           "zerolinewidth": 2
          }
         }
        },
        "updatemenus": [
         {
          "active": 0,
          "buttons": [
           {
            "args": [
             null,
             {
              "frame": {
               "duration": 500,
               "redraw": false
              },
              "fromcurrent": true,
              "mode": "immediate",
              "transition": {
               "duration": 500,
               "easing": "linear"
              }
             }
            ],
            "label": "&#9654;",
            "method": "animate"
           },
           {
            "args": [
             [
              null
             ],
             {
              "frame": {
               "duration": 0,
               "redraw": false
              },
              "fromcurrent": true,
              "mode": "immediate",
              "transition": {
               "duration": 0,
               "easing": "linear"
              }
             }
            ],
            "label": "&#9724;",
            "method": "animate"
           }
          ],
          "direction": "left",
          "pad": {
           "r": 10,
           "t": 70
          },
          "showactive": false,
          "type": "buttons",
          "x": 0.1,
          "xanchor": "right",
          "y": 0,
          "yanchor": "top"
         }
        ],
        "xaxis": {
         "anchor": "y",
         "autorange": true,
         "domain": [
          0,
          1
         ],
         "range": [
          -1.0673457838106168,
          0.06734578381413754
         ],
         "title": {
          "text": "z1"
         },
         "type": "linear"
        },
        "yaxis": {
         "anchor": "x",
         "autorange": true,
         "domain": [
          0,
          1
         ],
         "range": [
          -2.890249738603317e-06,
          2.3665994525058653e-07
         ],
         "title": {
          "text": "z2"
         },
         "type": "linear"
        }
       }
      },
      "image/png": "[encoded data removed]",
      "text/html": [
       "<div>                            <div id=\"ce7be02d-c39c-4c64-bd08-b12e3703a45a\" class=\"plotly-graph-div\" style=\"height:525px; width:100%;\"></div>            <script type=\"text/javascript\">                require([\"plotly\"], function(Plotly) {                    window.PLOTLYENV=window.PLOTLYENV || {};                                    if (document.getElementById(\"ce7be02d-c39c-4c64-bd08-b12e3703a45a\")) {                    Plotly.newPlot(                        \"ce7be02d-c39c-4c64-bd08-b12e3703a45a\",                        [{\"hovertemplate\":\"theta=-3.14159\\u003cbr\\u003ez1=%{x}\\u003cbr\\u003ez2=%{y}\\u003cextra\\u003e\\u003c\\u002fextra\\u003e\",\"legendgroup\":\"\",\"marker\":{\"color\":\"#636efa\",\"symbol\":\"circle\"},\"mode\":\"markers\",\"name\":\"\",\"orientation\":\"v\",\"showlegend\":false,\"x\":[-0.9999999999964793,0.0],\"xaxis\":\"x\",\"y\":[-2.6535897933527304e-6,0.0],\"yaxis\":\"y\",\"type\":\"scatter\"}],                        {\"template\":{\"data\":{\"histogram2dcontour\":[{\"type\":\"histogram2dcontour\",\"colorbar\":{\"outlinewidth\":0,\"ticks\":\"\"},\"colorscale\":[[0.0,\"#0d0887\"],[0.1111111111111111,\"#46039f\"],[0.2222222222222222,\"#7201a8\"],[0.3333333333333333,\"#9c179e\"],[0.4444444444444444,\"#bd3786\"],[0.5555555555555556,\"#d8576b\"],[0.6666666666666666,\"#ed7953\"],[0.7777777777777778,\"#fb9f3a\"],[0.8888888888888888,\"#fdca26\"],[1.0,\"#f0f921\"]]}],\"choropleth\":[{\"type\":\"choropleth\",\"colorbar\":{\"outlinewidth\":0,\"ticks\":\"\"}}],\"histogram2d\":[{\"type\":\"histogram2d\",\"colorbar\":{\"outlinewidth\":0,\"ticks\":\"\"},\"colorscale\":[[0.0,\"#0d0887\"],[0.1111111111111111,\"#46039f\"],[0.2222222222222222,\"#7201a8\"],[0.3333333333333333,\"#9c179e\"],[0.4444444444444444,\"#bd3786\"],[0.5555555555555556,\"#d8576b\"],[0.6666666666666666,\"#ed7953\"],[0.7777777777777778,\"#fb9f3a\"],[0.8888888888888888,\"#fdca26\"],[1.0,\"#f0f921\"]]}],\"heatmap\":[{\"type\":\"heatmap\",\"colorbar\":{\"outlinewidth\":0,\"ticks\":\"\"},\"colorscale\":[[0.0,\"#0d0887\"],[0.1111111111111111,\"#46039f\"],[0.2222222222222222,\"#7201a8\"],[0.3333333333333333,\"#9c179e\"],[0.4444444444444444,\"#bd3786\"],[0.5555555555555556,\"#d8576b\"],[0.6666666666666666,\"#ed7953\"],[0.7777777777777778,\"#fb9f3a\"],[0.8888888888888888,\"#fdca26\"],[1.0,\"#f0f921\"]]}],\"heatmapgl\":[{\"type\":\"heatmapgl\",\"colorbar\":{\"outlinewidth\":0,\"ticks\":\"\"},\"colorscale\":[[0.0,\"#0d0887\"],[0.1111111111111111,\"#46039f\"],[0.2222222222222222,\"#7201a8\"],[0.3333333333333333,\"#9c179e\"],[0.4444444444444444,\"#bd3786\"],[0.5555555555555556,\"#d8576b\"],[0.6666666666666666,\"#ed7953\"],[0.7777777777777778,\"#fb9f3a\"],[0.8888888888888888,\"#fdca26\"],[1.0,\"#f0f921\"]]}],\"contourcarpet\":[{\"type\":\"contourcarpet\",\"colorbar\":{\"outlinewidth\":0,\"ticks\":\"\"}}],\"contour\":[{\"type\":\"contour\",\"colorbar\":{\"outlinewidth\":0,\"ticks\":\"\"},\"colorscale\":[[0.0,\"#0d0887\"],[0.1111111111111111,\"#46039f\"],[0.2222222222222222,\"#7201a8\"],[0.3333333333333333,\"#9c179e\"],[0.4444444444444444,\"#bd3786\"],[0.5555555555555556,\"#d8576b\"],[0.6666666666666666,\"#ed7953\"],[0.7777777777777778,\"#fb9f3a\"],[0.8888888888888888,\"#fdca26\"],[1.0,\"#f0f921\"]]}],\"surface\":[{\"type\":\"surface\",\"colorbar\":{\"outlinewidth\":0,\"ticks\":\"\"},\"colorscale\":[[0.0,\"#0d0887\"],[0.1111111111111111,\"#46039f\"],[0.2222222222222222,\"#7201a8\"],[0.3333333333333333,\"#9c179e\"],[0.4444444444444444,\"#bd3786\"],[0.5555555555555556,\"#d8576b\"],[0.6666666666666666,\"#ed7953\"],[0.7777777777777778,\"#fb9f3a\"],[0.8888888888888888,\"#fdca26\"],[1.0,\"#f0f921\"]]}],\"mesh3d\":[{\"type\":\"mesh3d\",\"colorbar\":{\"outlinewidth\":0,\"ticks\":\"\"}}],\"scatter\":[{\"fillpattern\":{\"fillmode\":\"overlay\",\"size\":10,\"solidity\":0.2},\"type\":\"scatter\"}],\"parcoords\":[{\"type\":\"parcoords\",\"line\":{\"colorbar\":{\"outlinewidth\":0,\"ticks\":\"\"}}}],\"scatterpolargl\":[{\"type\":\"scatterpolargl\",\"marker\":{\"colorbar\":{\"outlinewidth\":0,\"ticks\":\"\"}}}],\"bar\":[{\"error_x\":{\"color\":\"#2a3f5f\"},\"error_y\":{\"color\":\"#2a3f5f\"},\"marker\":{\"line\":{\"color\":\"#E5ECF6\",\"width\":0.5},\"pattern\":{\"fillmode\":\"overlay\",\"size\":10,\"solidity\":0.2}},\"type\":\"bar\"}],\"scattergeo\":[{\"type\":\"scattergeo\",\"marker\":{\"colorbar\":{\"outlinewidth\":0,\"ticks\":\"\"}}}],\"scatterpolar\":[{\"type\":\"scatterpolar\",\"marker\":{\"colorbar\":{\"outlinewidth\":0,\"ticks\":\"\"}}}],\"histogram\":[{\"marker\":{\"pattern\":{\"fillmode\":\"overlay\",\"size\":10,\"solidity\":0.2}},\"type\":\"histogram\"}],\"scattergl\":[{\"type\":\"scattergl\",\"marker\":{\"colorbar\":{\"outlinewidth\":0,\"ticks\":\"\"}}}],\"scatter3d\":[{\"type\":\"scatter3d\",\"line\":{\"colorbar\":{\"outlinewidth\":0,\"ticks\":\"\"}},\"marker\":{\"colorbar\":{\"outlinewidth\":0,\"ticks\":\"\"}}}],\"scattermapbox\":[{\"type\":\"scattermapbox\",\"marker\":{\"colorbar\":{\"outlinewidth\":0,\"ticks\":\"\"}}}],\"scatterternary\":[{\"type\":\"scatterternary\",\"marker\":{\"colorbar\":{\"outlinewidth\":0,\"ticks\":\"\"}}}],\"scattercarpet\":[{\"type\":\"scattercarpet\",\"marker\":{\"colorbar\":{\"outlinewidth\":0,\"ticks\":\"\"}}}],\"carpet\":[{\"aaxis\":{\"endlinecolor\":\"#2a3f5f\",\"gridcolor\":\"white\",\"linecolor\":\"white\",\"minorgridcolor\":\"white\",\"startlinecolor\":\"#2a3f5f\"},\"baxis\":{\"endlinecolor\":\"#2a3f5f\",\"gridcolor\":\"white\",\"linecolor\":\"white\",\"minorgridcolor\":\"white\",\"startlinecolor\":\"#2a3f5f\"},\"type\":\"carpet\"}],\"table\":[{\"cells\":{\"fill\":{\"color\":\"#EBF0F8\"},\"line\":{\"color\":\"white\"}},\"header\":{\"fill\":{\"color\":\"#C8D4E3\"},\"line\":{\"color\":\"white\"}},\"type\":\"table\"}],\"barpolar\":[{\"marker\":{\"line\":{\"color\":\"#E5ECF6\",\"width\":0.5},\"pattern\":{\"fillmode\":\"overlay\",\"size\":10,\"solidity\":0.2}},\"type\":\"barpolar\"}],\"pie\":[{\"automargin\":true,\"type\":\"pie\"}]},\"layout\":{\"autotypenumbers\":\"strict\",\"colorway\":[\"#636efa\",\"#EF553B\",\"#00cc96\",\"#ab63fa\",\"#FFA15A\",\"#19d3f3\",\"#FF6692\",\"#B6E880\",\"#FF97FF\",\"#FECB52\"],\"font\":{\"color\":\"#2a3f5f\"},\"hovermode\":\"closest\",\"hoverlabel\":{\"align\":\"left\"},\"paper_bgcolor\":\"white\",\"plot_bgcolor\":\"#E5ECF6\",\"polar\":{\"bgcolor\":\"#E5ECF6\",\"angularaxis\":{\"gridcolor\":\"white\",\"linecolor\":\"white\",\"ticks\":\"\"},\"radialaxis\":{\"gridcolor\":\"white\",\"linecolor\":\"white\",\"ticks\":\"\"}},\"ternary\":{\"bgcolor\":\"#E5ECF6\",\"aaxis\":{\"gridcolor\":\"white\",\"linecolor\":\"white\",\"ticks\":\"\"},\"baxis\":{\"gridcolor\":\"white\",\"linecolor\":\"white\",\"ticks\":\"\"},\"caxis\":{\"gridcolor\":\"white\",\"linecolor\":\"white\",\"ticks\":\"\"}},\"coloraxis\":{\"colorbar\":{\"outlinewidth\":0,\"ticks\":\"\"}},\"colorscale\":{\"sequential\":[[0.0,\"#0d0887\"],[0.1111111111111111,\"#46039f\"],[0.2222222222222222,\"#7201a8\"],[0.3333333333333333,\"#9c179e\"],[0.4444444444444444,\"#bd3786\"],[0.5555555555555556,\"#d8576b\"],[0.6666666666666666,\"#ed7953\"],[0.7777777777777778,\"#fb9f3a\"],[0.8888888888888888,\"#fdca26\"],[1.0,\"#f0f921\"]],\"sequentialminus\":[[0.0,\"#0d0887\"],[0.1111111111111111,\"#46039f\"],[0.2222222222222222,\"#7201a8\"],[0.3333333333333333,\"#9c179e\"],[0.4444444444444444,\"#bd3786\"],[0.5555555555555556,\"#d8576b\"],[0.6666666666666666,\"#ed7953\"],[0.7777777777777778,\"#fb9f3a\"],[0.8888888888888888,\"#fdca26\"],[1.0,\"#f0f921\"]],\"diverging\":[[0,\"#8e0152\"],[0.1,\"#c51b7d\"],[0.2,\"#de77ae\"],[0.3,\"#f1b6da\"],[0.4,\"#fde0ef\"],[0.5,\"#f7f7f7\"],[0.6,\"#e6f5d0\"],[0.7,\"#b8e186\"],[0.8,\"#7fbc41\"],[0.9,\"#4d9221\"],[1,\"#276419\"]]},\"xaxis\":{\"gridcolor\":\"white\",\"linecolor\":\"white\",\"ticks\":\"\",\"title\":{\"standoff\":15},\"zerolinecolor\":\"white\",\"automargin\":true,\"zerolinewidth\":2},\"yaxis\":{\"gridcolor\":\"white\",\"linecolor\":\"white\",\"ticks\":\"\",\"title\":{\"standoff\":15},\"zerolinecolor\":\"white\",\"automargin\":true,\"zerolinewidth\":2},\"scene\":{\"xaxis\":{\"backgroundcolor\":\"#E5ECF6\",\"gridcolor\":\"white\",\"linecolor\":\"white\",\"showbackground\":true,\"ticks\":\"\",\"zerolinecolor\":\"white\",\"gridwidth\":2},\"yaxis\":{\"backgroundcolor\":\"#E5ECF6\",\"gridcolor\":\"white\",\"linecolor\":\"white\",\"showbackground\":true,\"ticks\":\"\",\"zerolinecolor\":\"white\",\"gridwidth\":2},\"zaxis\":{\"backgroundcolor\":\"#E5ECF6\",\"gridcolor\":\"white\",\"linecolor\":\"white\",\"showbackground\":true,\"ticks\":\"\",\"zerolinecolor\":\"white\",\"gridwidth\":2}},\"shapedefaults\":{\"line\":{\"color\":\"#2a3f5f\"}},\"annotationdefaults\":{\"arrowcolor\":\"#2a3f5f\",\"arrowhead\":0,\"arrowwidth\":1},\"geo\":{\"bgcolor\":\"white\",\"landcolor\":\"#E5ECF6\",\"subunitcolor\":\"white\",\"showland\":true,\"showlakes\":true,\"lakecolor\":\"white\"},\"title\":{\"x\":0.05},\"mapbox\":{\"style\":\"light\"}}},\"xaxis\":{\"anchor\":\"y\",\"domain\":[0.0,1.0],\"title\":{\"text\":\"z1\"}},\"yaxis\":{\"anchor\":\"x\",\"domain\":[0.0,1.0],\"title\":{\"text\":\"z2\"}},\"legend\":{\"tracegroupgap\":0},\"margin\":{\"t\":60},\"updatemenus\":[{\"buttons\":[{\"args\":[null,{\"frame\":{\"duration\":500,\"redraw\":false},\"mode\":\"immediate\",\"fromcurrent\":true,\"transition\":{\"duration\":500,\"easing\":\"linear\"}}],\"label\":\"&#9654;\",\"method\":\"animate\"},{\"args\":[[null],{\"frame\":{\"duration\":0,\"redraw\":false},\"mode\":\"immediate\",\"fromcurrent\":true,\"transition\":{\"duration\":0,\"easing\":\"linear\"}}],\"label\":\"&#9724;\",\"method\":\"animate\"}],\"direction\":\"left\",\"pad\":{\"r\":10,\"t\":70},\"showactive\":false,\"type\":\"buttons\",\"x\":0.1,\"xanchor\":\"right\",\"y\":0,\"yanchor\":\"top\"}],\"sliders\":[{\"active\":0,\"currentvalue\":{\"prefix\":\"theta=\"},\"len\":0.9,\"pad\":{\"b\":10,\"t\":60},\"steps\":[{\"args\":[[\"-3.14159\"],{\"frame\":{\"duration\":0,\"redraw\":false},\"mode\":\"immediate\",\"fromcurrent\":true,\"transition\":{\"duration\":0,\"easing\":\"linear\"}}],\"label\":\"-3.14159\",\"method\":\"animate\"},{\"args\":[[\"-3.110016231155779\"],{\"frame\":{\"duration\":0,\"redraw\":false},\"mode\":\"immediate\",\"fromcurrent\":true,\"transition\":{\"duration\":0,\"easing\":\"linear\"}}],\"label\":\"-3.110016231155779\",\"method\":\"animate\"},{\"args\":[[\"-3.078442462311558\"],{\"frame\":{\"duration\":0,\"redraw\":false},\"mode\":\"immediate\",\"fromcurrent\":true,\"transition\":{\"duration\":0,\"easing\":\"linear\"}}],\"label\":\"-3.078442462311558\",\"method\":\"animate\"},{\"args\":[[\"-3.046868693467337\"],{\"frame\":{\"duration\":0,\"redraw\":false},\"mode\":\"immediate\",\"fromcurrent\":true,\"transition\":{\"duration\":0,\"easing\":\"linear\"}}],\"label\":\"-3.046868693467337\",\"method\":\"animate\"},{\"args\":[[\"-3.0152949246231153\"],{\"frame\":{\"duration\":0,\"redraw\":false},\"mode\":\"immediate\",\"fromcurrent\":true,\"transition\":{\"duration\":0,\"easing\":\"linear\"}}],\"label\":\"-3.0152949246231153\",\"method\":\"animate\"},{\"args\":[[\"-2.9837211557788943\"],{\"frame\":{\"duration\":0,\"redraw\":false},\"mode\":\"immediate\",\"fromcurrent\":true,\"transition\":{\"duration\":0,\"easing\":\"linear\"}}],\"label\":\"-2.9837211557788943\",\"method\":\"animate\"},{\"args\":[[\"-2.9521473869346733\"],{\"frame\":{\"duration\":0,\"redraw\":false},\"mode\":\"immediate\",\"fromcurrent\":true,\"transition\":{\"duration\":0,\"easing\":\"linear\"}}],\"label\":\"-2.9521473869346733\",\"method\":\"animate\"},{\"args\":[[\"-2.9205736180904522\"],{\"frame\":{\"duration\":0,\"redraw\":false},\"mode\":\"immediate\",\"fromcurrent\":true,\"transition\":{\"duration\":0,\"easing\":\"linear\"}}],\"label\":\"-2.9205736180904522\",\"method\":\"animate\"},{\"args\":[[\"-2.888999849246231\"],{\"frame\":{\"duration\":0,\"redraw\":false},\"mode\":\"immediate\",\"fromcurrent\":true,\"transition\":{\"duration\":0,\"easing\":\"linear\"}}],\"label\":\"-2.888999849246231\",\"method\":\"animate\"},{\"args\":[[\"-2.8574260804020097\"],{\"frame\":{\"duration\":0,\"redraw\":false},\"mode\":\"immediate\",\"fromcurrent\":true,\"transition\":{\"duration\":0,\"easing\":\"linear\"}}],\"label\":\"-2.8574260804020097\",\"method\":\"animate\"},{\"args\":[[\"-2.8258523115577887\"],{\"frame\":{\"duration\":0,\"redraw\":false},\"mode\":\"immediate\",\"fromcurrent\":true,\"transition\":{\"duration\":0,\"easing\":\"linear\"}}],\"label\":\"-2.8258523115577887\",\"method\":\"animate\"},{\"args\":[[\"-2.7942785427135677\"],{\"frame\":{\"duration\":0,\"redraw\":false},\"mode\":\"immediate\",\"fromcurrent\":true,\"transition\":{\"duration\":0,\"easing\":\"linear\"}}],\"label\":\"-2.7942785427135677\",\"method\":\"animate\"},{\"args\":[[\"-2.7627047738693467\"],{\"frame\":{\"duration\":0,\"redraw\":false},\"mode\":\"immediate\",\"fromcurrent\":true,\"transition\":{\"duration\":0,\"easing\":\"linear\"}}],\"label\":\"-2.7627047738693467\",\"method\":\"animate\"},{\"args\":[[\"-2.7311310050251256\"],{\"frame\":{\"duration\":0,\"redraw\":false},\"mode\":\"immediate\",\"fromcurrent\":true,\"transition\":{\"duration\":0,\"easing\":\"linear\"}}],\"label\":\"-2.7311310050251256\",\"method\":\"animate\"},{\"args\":[[\"-2.6995572361809046\"],{\"frame\":{\"duration\":0,\"redraw\":false},\"mode\":\"immediate\",\"fromcurrent\":true,\"transition\":{\"duration\":0,\"easing\":\"linear\"}}],\"label\":\"-2.6995572361809046\",\"method\":\"animate\"},{\"args\":[[\"-2.667983467336683\"],{\"frame\":{\"duration\":0,\"redraw\":false},\"mode\":\"immediate\",\"fromcurrent\":true,\"transition\":{\"duration\":0,\"easing\":\"linear\"}}],\"label\":\"-2.667983467336683\",\"method\":\"animate\"},{\"args\":[[\"-2.636409698492462\"],{\"frame\":{\"duration\":0,\"redraw\":false},\"mode\":\"immediate\",\"fromcurrent\":true,\"transition\":{\"duration\":0,\"easing\":\"linear\"}}],\"label\":\"-2.636409698492462\",\"method\":\"animate\"},{\"args\":[[\"-2.604835929648241\"],{\"frame\":{\"duration\":0,\"redraw\":false},\"mode\":\"immediate\",\"fromcurrent\":true,\"transition\":{\"duration\":0,\"easing\":\"linear\"}}],\"label\":\"-2.604835929648241\",\"method\":\"animate\"},{\"args\":[[\"-2.57326216080402\"],{\"frame\":{\"duration\":0,\"redraw\":false},\"mode\":\"immediate\",\"fromcurrent\":true,\"transition\":{\"duration\":0,\"easing\":\"linear\"}}],\"label\":\"-2.57326216080402\",\"method\":\"animate\"},{\"args\":[[\"-2.541688391959799\"],{\"frame\":{\"duration\":0,\"redraw\":false},\"mode\":\"immediate\",\"fromcurrent\":true,\"transition\":{\"duration\":0,\"easing\":\"linear\"}}],\"label\":\"-2.541688391959799\",\"method\":\"animate\"},{\"args\":[[\"-2.5101146231155775\"],{\"frame\":{\"duration\":0,\"redraw\":false},\"mode\":\"immediate\",\"fromcurrent\":true,\"transition\":{\"duration\":0,\"easing\":\"linear\"}}],\"label\":\"-2.5101146231155775\",\"method\":\"animate\"},{\"args\":[[\"-2.4785408542713565\"],{\"frame\":{\"duration\":0,\"redraw\":false},\"mode\":\"immediate\",\"fromcurrent\":true,\"transition\":{\"duration\":0,\"easing\":\"linear\"}}],\"label\":\"-2.4785408542713565\",\"method\":\"animate\"},{\"args\":[[\"-2.4469670854271355\"],{\"frame\":{\"duration\":0,\"redraw\":false},\"mode\":\"immediate\",\"fromcurrent\":true,\"transition\":{\"duration\":0,\"easing\":\"linear\"}}],\"label\":\"-2.4469670854271355\",\"method\":\"animate\"},{\"args\":[[\"-2.4153933165829145\"],{\"frame\":{\"duration\":0,\"redraw\":false},\"mode\":\"immediate\",\"fromcurrent\":true,\"transition\":{\"duration\":0,\"easing\":\"linear\"}}],\"label\":\"-2.4153933165829145\",\"method\":\"animate\"},{\"args\":[[\"-2.3838195477386934\"],{\"frame\":{\"duration\":0,\"redraw\":false},\"mode\":\"immediate\",\"fromcurrent\":true,\"transition\":{\"duration\":0,\"easing\":\"linear\"}}],\"label\":\"-2.3838195477386934\",\"method\":\"animate\"},{\"args\":[[\"-2.3522457788944724\"],{\"frame\":{\"duration\":0,\"redraw\":false},\"mode\":\"immediate\",\"fromcurrent\":true,\"transition\":{\"duration\":0,\"easing\":\"linear\"}}],\"label\":\"-2.3522457788944724\",\"method\":\"animate\"},{\"args\":[[\"-2.3206720100502514\"],{\"frame\":{\"duration\":0,\"redraw\":false},\"mode\":\"immediate\",\"fromcurrent\":true,\"transition\":{\"duration\":0,\"easing\":\"linear\"}}],\"label\":\"-2.3206720100502514\",\"method\":\"animate\"},{\"args\":[[\"-2.28909824120603\"],{\"frame\":{\"duration\":0,\"redraw\":false},\"mode\":\"immediate\",\"fromcurrent\":true,\"transition\":{\"duration\":0,\"easing\":\"linear\"}}],\"label\":\"-2.28909824120603\",\"method\":\"animate\"},{\"args\":[[\"-2.257524472361809\"],{\"frame\":{\"duration\":0,\"redraw\":false},\"mode\":\"immediate\",\"fromcurrent\":true,\"transition\":{\"duration\":0,\"easing\":\"linear\"}}],\"label\":\"-2.257524472361809\",\"method\":\"animate\"},{\"args\":[[\"-2.225950703517588\"],{\"frame\":{\"duration\":0,\"redraw\":false},\"mode\":\"immediate\",\"fromcurrent\":true,\"transition\":{\"duration\":0,\"easing\":\"linear\"}}],\"label\":\"-2.225950703517588\",\"method\":\"animate\"},{\"args\":[[\"-2.194376934673367\"],{\"frame\":{\"duration\":0,\"redraw\":false},\"mode\":\"immediate\",\"fromcurrent\":true,\"transition\":{\"duration\":0,\"easing\":\"linear\"}}],\"label\":\"-2.194376934673367\",\"method\":\"animate\"},{\"args\":[[\"-2.162803165829146\"],{\"frame\":{\"duration\":0,\"redraw\":false},\"mode\":\"immediate\",\"fromcurrent\":true,\"transition\":{\"duration\":0,\"easing\":\"linear\"}}],\"label\":\"-2.162803165829146\",\"method\":\"animate\"},{\"args\":[[\"-2.1312293969849243\"],{\"frame\":{\"duration\":0,\"redraw\":false},\"mode\":\"immediate\",\"fromcurrent\":true,\"transition\":{\"duration\":0,\"easing\":\"linear\"}}],\"label\":\"-2.1312293969849243\",\"method\":\"animate\"},{\"args\":[[\"-2.0996556281407033\"],{\"frame\":{\"duration\":0,\"redraw\":false},\"mode\":\"immediate\",\"fromcurrent\":true,\"transition\":{\"duration\":0,\"easing\":\"linear\"}}],\"label\":\"-2.0996556281407033\",\"method\":\"animate\"},{\"args\":[[\"-2.0680818592964822\"],{\"frame\":{\"duration\":0,\"redraw\":false},\"mode\":\"immediate\",\"fromcurrent\":true,\"transition\":{\"duration\":0,\"easing\":\"linear\"}}],\"label\":\"-2.0680818592964822\",\"method\":\"animate\"},{\"args\":[[\"-2.036508090452261\"],{\"frame\":{\"duration\":0,\"redraw\":false},\"mode\":\"immediate\",\"fromcurrent\":true,\"transition\":{\"duration\":0,\"easing\":\"linear\"}}],\"label\":\"-2.036508090452261\",\"method\":\"animate\"},{\"args\":[[\"-2.00493432160804\"],{\"frame\":{\"duration\":0,\"redraw\":false},\"mode\":\"immediate\",\"fromcurrent\":true,\"transition\":{\"duration\":0,\"easing\":\"linear\"}}],\"label\":\"-2.00493432160804\",\"method\":\"animate\"},{\"args\":[[\"-1.973360552763819\"],{\"frame\":{\"duration\":0,\"redraw\":false},\"mode\":\"immediate\",\"fromcurrent\":true,\"transition\":{\"duration\":0,\"easing\":\"linear\"}}],\"label\":\"-1.973360552763819\",\"method\":\"animate\"},{\"args\":[[\"-1.941786783919598\"],{\"frame\":{\"duration\":0,\"redraw\":false},\"mode\":\"immediate\",\"fromcurrent\":true,\"transition\":{\"duration\":0,\"easing\":\"linear\"}}],\"label\":\"-1.941786783919598\",\"method\":\"animate\"},{\"args\":[[\"-1.9102130150753769\"],{\"frame\":{\"duration\":0,\"redraw\":false},\"mode\":\"immediate\",\"fromcurrent\":true,\"transition\":{\"duration\":0,\"easing\":\"linear\"}}],\"label\":\"-1.9102130150753769\",\"method\":\"animate\"},{\"args\":[[\"-1.8786392462311556\"],{\"frame\":{\"duration\":0,\"redraw\":false},\"mode\":\"immediate\",\"fromcurrent\":true,\"transition\":{\"duration\":0,\"easing\":\"linear\"}}],\"label\":\"-1.8786392462311556\",\"method\":\"animate\"},{\"args\":[[\"-1.8470654773869346\"],{\"frame\":{\"duration\":0,\"redraw\":false},\"mode\":\"immediate\",\"fromcurrent\":true,\"transition\":{\"duration\":0,\"easing\":\"linear\"}}],\"label\":\"-1.8470654773869346\",\"method\":\"animate\"},{\"args\":[[\"-1.8154917085427136\"],{\"frame\":{\"duration\":0,\"redraw\":false},\"mode\":\"immediate\",\"fromcurrent\":true,\"transition\":{\"duration\":0,\"easing\":\"linear\"}}],\"label\":\"-1.8154917085427136\",\"method\":\"animate\"},{\"args\":[[\"-1.7839179396984923\"],{\"frame\":{\"duration\":0,\"redraw\":false},\"mode\":\"immediate\",\"fromcurrent\":true,\"transition\":{\"duration\":0,\"easing\":\"linear\"}}],\"label\":\"-1.7839179396984923\",\"method\":\"animate\"},{\"args\":[[\"-1.7523441708542713\"],{\"frame\":{\"duration\":0,\"redraw\":false},\"mode\":\"immediate\",\"fromcurrent\":true,\"transition\":{\"duration\":0,\"easing\":\"linear\"}}],\"label\":\"-1.7523441708542713\",\"method\":\"animate\"},{\"args\":[[\"-1.7207704020100503\"],{\"frame\":{\"duration\":0,\"redraw\":false},\"mode\":\"immediate\",\"fromcurrent\":true,\"transition\":{\"duration\":0,\"easing\":\"linear\"}}],\"label\":\"-1.7207704020100503\",\"method\":\"animate\"},{\"args\":[[\"-1.689196633165829\"],{\"frame\":{\"duration\":0,\"redraw\":false},\"mode\":\"immediate\",\"fromcurrent\":true,\"transition\":{\"duration\":0,\"easing\":\"linear\"}}],\"label\":\"-1.689196633165829\",\"method\":\"animate\"},{\"args\":[[\"-1.657622864321608\"],{\"frame\":{\"duration\":0,\"redraw\":false},\"mode\":\"immediate\",\"fromcurrent\":true,\"transition\":{\"duration\":0,\"easing\":\"linear\"}}],\"label\":\"-1.657622864321608\",\"method\":\"animate\"},{\"args\":[[\"-1.626049095477387\"],{\"frame\":{\"duration\":0,\"redraw\":false},\"mode\":\"immediate\",\"fromcurrent\":true,\"transition\":{\"duration\":0,\"easing\":\"linear\"}}],\"label\":\"-1.626049095477387\",\"method\":\"animate\"},{\"args\":[[\"-1.5944753266331657\"],{\"frame\":{\"duration\":0,\"redraw\":false},\"mode\":\"immediate\",\"fromcurrent\":true,\"transition\":{\"duration\":0,\"easing\":\"linear\"}}],\"label\":\"-1.5944753266331657\",\"method\":\"animate\"},{\"args\":[[\"-1.5629015577889447\"],{\"frame\":{\"duration\":0,\"redraw\":false},\"mode\":\"immediate\",\"fromcurrent\":true,\"transition\":{\"duration\":0,\"easing\":\"linear\"}}],\"label\":\"-1.5629015577889447\",\"method\":\"animate\"},{\"args\":[[\"-1.5313277889447234\"],{\"frame\":{\"duration\":0,\"redraw\":false},\"mode\":\"immediate\",\"fromcurrent\":true,\"transition\":{\"duration\":0,\"easing\":\"linear\"}}],\"label\":\"-1.5313277889447234\",\"method\":\"animate\"},{\"args\":[[\"-1.4997540201005024\"],{\"frame\":{\"duration\":0,\"redraw\":false},\"mode\":\"immediate\",\"fromcurrent\":true,\"transition\":{\"duration\":0,\"easing\":\"linear\"}}],\"label\":\"-1.4997540201005024\",\"method\":\"animate\"},{\"args\":[[\"-1.4681802512562814\"],{\"frame\":{\"duration\":0,\"redraw\":false},\"mode\":\"immediate\",\"fromcurrent\":true,\"transition\":{\"duration\":0,\"easing\":\"linear\"}}],\"label\":\"-1.4681802512562814\",\"method\":\"animate\"},{\"args\":[[\"-1.4366064824120601\"],{\"frame\":{\"duration\":0,\"redraw\":false},\"mode\":\"immediate\",\"fromcurrent\":true,\"transition\":{\"duration\":0,\"easing\":\"linear\"}}],\"label\":\"-1.4366064824120601\",\"method\":\"animate\"},{\"args\":[[\"-1.405032713567839\"],{\"frame\":{\"duration\":0,\"redraw\":false},\"mode\":\"immediate\",\"fromcurrent\":true,\"transition\":{\"duration\":0,\"easing\":\"linear\"}}],\"label\":\"-1.405032713567839\",\"method\":\"animate\"},{\"args\":[[\"-1.373458944723618\"],{\"frame\":{\"duration\":0,\"redraw\":false},\"mode\":\"immediate\",\"fromcurrent\":true,\"transition\":{\"duration\":0,\"easing\":\"linear\"}}],\"label\":\"-1.373458944723618\",\"method\":\"animate\"},{\"args\":[[\"-1.3418851758793968\"],{\"frame\":{\"duration\":0,\"redraw\":false},\"mode\":\"immediate\",\"fromcurrent\":true,\"transition\":{\"duration\":0,\"easing\":\"linear\"}}],\"label\":\"-1.3418851758793968\",\"method\":\"animate\"},{\"args\":[[\"-1.3103114070351758\"],{\"frame\":{\"duration\":0,\"redraw\":false},\"mode\":\"immediate\",\"fromcurrent\":true,\"transition\":{\"duration\":0,\"easing\":\"linear\"}}],\"label\":\"-1.3103114070351758\",\"method\":\"animate\"},{\"args\":[[\"-1.2787376381909548\"],{\"frame\":{\"duration\":0,\"redraw\":false},\"mode\":\"immediate\",\"fromcurrent\":true,\"transition\":{\"duration\":0,\"easing\":\"linear\"}}],\"label\":\"-1.2787376381909548\",\"method\":\"animate\"},{\"args\":[[\"-1.2471638693467335\"],{\"frame\":{\"duration\":0,\"redraw\":false},\"mode\":\"immediate\",\"fromcurrent\":true,\"transition\":{\"duration\":0,\"easing\":\"linear\"}}],\"label\":\"-1.2471638693467335\",\"method\":\"animate\"},{\"args\":[[\"-1.2155901005025125\"],{\"frame\":{\"duration\":0,\"redraw\":false},\"mode\":\"immediate\",\"fromcurrent\":true,\"transition\":{\"duration\":0,\"easing\":\"linear\"}}],\"label\":\"-1.2155901005025125\",\"method\":\"animate\"},{\"args\":[[\"-1.1840163316582915\"],{\"frame\":{\"duration\":0,\"redraw\":false},\"mode\":\"immediate\",\"fromcurrent\":true,\"transition\":{\"duration\":0,\"easing\":\"linear\"}}],\"label\":\"-1.1840163316582915\",\"method\":\"animate\"},{\"args\":[[\"-1.1524425628140702\"],{\"frame\":{\"duration\":0,\"redraw\":false},\"mode\":\"immediate\",\"fromcurrent\":true,\"transition\":{\"duration\":0,\"easing\":\"linear\"}}],\"label\":\"-1.1524425628140702\",\"method\":\"animate\"},{\"args\":[[\"-1.1208687939698492\"],{\"frame\":{\"duration\":0,\"redraw\":false},\"mode\":\"immediate\",\"fromcurrent\":true,\"transition\":{\"duration\":0,\"easing\":\"linear\"}}],\"label\":\"-1.1208687939698492\",\"method\":\"animate\"},{\"args\":[[\"-1.0892950251256281\"],{\"frame\":{\"duration\":0,\"redraw\":false},\"mode\":\"immediate\",\"fromcurrent\":true,\"transition\":{\"duration\":0,\"easing\":\"linear\"}}],\"label\":\"-1.0892950251256281\",\"method\":\"animate\"},{\"args\":[[\"-1.0577212562814071\"],{\"frame\":{\"duration\":0,\"redraw\":false},\"mode\":\"immediate\",\"fromcurrent\":true,\"transition\":{\"duration\":0,\"easing\":\"linear\"}}],\"label\":\"-1.0577212562814071\",\"method\":\"animate\"},{\"args\":[[\"-1.0261474874371856\"],{\"frame\":{\"duration\":0,\"redraw\":false},\"mode\":\"immediate\",\"fromcurrent\":true,\"transition\":{\"duration\":0,\"easing\":\"linear\"}}],\"label\":\"-1.0261474874371856\",\"method\":\"animate\"},{\"args\":[[\"-0.9945737185929646\"],{\"frame\":{\"duration\":0,\"redraw\":false},\"mode\":\"immediate\",\"fromcurrent\":true,\"transition\":{\"duration\":0,\"easing\":\"linear\"}}],\"label\":\"-0.9945737185929646\",\"method\":\"animate\"},{\"args\":[[\"-0.9629999497487436\"],{\"frame\":{\"duration\":0,\"redraw\":false},\"mode\":\"immediate\",\"fromcurrent\":true,\"transition\":{\"duration\":0,\"easing\":\"linear\"}}],\"label\":\"-0.9629999497487436\",\"method\":\"animate\"},{\"args\":[[\"-0.9314261809045226\"],{\"frame\":{\"duration\":0,\"redraw\":false},\"mode\":\"immediate\",\"fromcurrent\":true,\"transition\":{\"duration\":0,\"easing\":\"linear\"}}],\"label\":\"-0.9314261809045226\",\"method\":\"animate\"},{\"args\":[[\"-0.8998524120603015\"],{\"frame\":{\"duration\":0,\"redraw\":false},\"mode\":\"immediate\",\"fromcurrent\":true,\"transition\":{\"duration\":0,\"easing\":\"linear\"}}],\"label\":\"-0.8998524120603015\",\"method\":\"animate\"},{\"args\":[[\"-0.8682786432160805\"],{\"frame\":{\"duration\":0,\"redraw\":false},\"mode\":\"immediate\",\"fromcurrent\":true,\"transition\":{\"duration\":0,\"easing\":\"linear\"}}],\"label\":\"-0.8682786432160805\",\"method\":\"animate\"},{\"args\":[[\"-0.836704874371859\"],{\"frame\":{\"duration\":0,\"redraw\":false},\"mode\":\"immediate\",\"fromcurrent\":true,\"transition\":{\"duration\":0,\"easing\":\"linear\"}}],\"label\":\"-0.836704874371859\",\"method\":\"animate\"},{\"args\":[[\"-0.805131105527638\"],{\"frame\":{\"duration\":0,\"redraw\":false},\"mode\":\"immediate\",\"fromcurrent\":true,\"transition\":{\"duration\":0,\"easing\":\"linear\"}}],\"label\":\"-0.805131105527638\",\"method\":\"animate\"},{\"args\":[[\"-0.773557336683417\"],{\"frame\":{\"duration\":0,\"redraw\":false},\"mode\":\"immediate\",\"fromcurrent\":true,\"transition\":{\"duration\":0,\"easing\":\"linear\"}}],\"label\":\"-0.773557336683417\",\"method\":\"animate\"},{\"args\":[[\"-0.741983567839196\"],{\"frame\":{\"duration\":0,\"redraw\":false},\"mode\":\"immediate\",\"fromcurrent\":true,\"transition\":{\"duration\":0,\"easing\":\"linear\"}}],\"label\":\"-0.741983567839196\",\"method\":\"animate\"},{\"args\":[[\"-0.7104097989949749\"],{\"frame\":{\"duration\":0,\"redraw\":false},\"mode\":\"immediate\",\"fromcurrent\":true,\"transition\":{\"duration\":0,\"easing\":\"linear\"}}],\"label\":\"-0.7104097989949749\",\"method\":\"animate\"},{\"args\":[[\"-0.6788360301507539\"],{\"frame\":{\"duration\":0,\"redraw\":false},\"mode\":\"immediate\",\"fromcurrent\":true,\"transition\":{\"duration\":0,\"easing\":\"linear\"}}],\"label\":\"-0.6788360301507539\",\"method\":\"animate\"},{\"args\":[[\"-0.6472622613065324\"],{\"frame\":{\"duration\":0,\"redraw\":false},\"mode\":\"immediate\",\"fromcurrent\":true,\"transition\":{\"duration\":0,\"easing\":\"linear\"}}],\"label\":\"-0.6472622613065324\",\"method\":\"animate\"},{\"args\":[[\"-0.6156884924623114\"],{\"frame\":{\"duration\":0,\"redraw\":false},\"mode\":\"immediate\",\"fromcurrent\":true,\"transition\":{\"duration\":0,\"easing\":\"linear\"}}],\"label\":\"-0.6156884924623114\",\"method\":\"animate\"},{\"args\":[[\"-0.5841147236180904\"],{\"frame\":{\"duration\":0,\"redraw\":false},\"mode\":\"immediate\",\"fromcurrent\":true,\"transition\":{\"duration\":0,\"easing\":\"linear\"}}],\"label\":\"-0.5841147236180904\",\"method\":\"animate\"},{\"args\":[[\"-0.5525409547738693\"],{\"frame\":{\"duration\":0,\"redraw\":false},\"mode\":\"immediate\",\"fromcurrent\":true,\"transition\":{\"duration\":0,\"easing\":\"linear\"}}],\"label\":\"-0.5525409547738693\",\"method\":\"animate\"},{\"args\":[[\"-0.5209671859296483\"],{\"frame\":{\"duration\":0,\"redraw\":false},\"mode\":\"immediate\",\"fromcurrent\":true,\"transition\":{\"duration\":0,\"easing\":\"linear\"}}],\"label\":\"-0.5209671859296483\",\"method\":\"animate\"},{\"args\":[[\"-0.4893934170854273\"],{\"frame\":{\"duration\":0,\"redraw\":false},\"mode\":\"immediate\",\"fromcurrent\":true,\"transition\":{\"duration\":0,\"easing\":\"linear\"}}],\"label\":\"-0.4893934170854273\",\"method\":\"animate\"},{\"args\":[[\"-0.4578196482412058\"],{\"frame\":{\"duration\":0,\"redraw\":false},\"mode\":\"immediate\",\"fromcurrent\":true,\"transition\":{\"duration\":0,\"easing\":\"linear\"}}],\"label\":\"-0.4578196482412058\",\"method\":\"animate\"},{\"args\":[[\"-0.4262458793969848\"],{\"frame\":{\"duration\":0,\"redraw\":false},\"mode\":\"immediate\",\"fromcurrent\":true,\"transition\":{\"duration\":0,\"easing\":\"linear\"}}],\"label\":\"-0.4262458793969848\",\"method\":\"animate\"},{\"args\":[[\"-0.39467211055276374\"],{\"frame\":{\"duration\":0,\"redraw\":false},\"mode\":\"immediate\",\"fromcurrent\":true,\"transition\":{\"duration\":0,\"easing\":\"linear\"}}],\"label\":\"-0.39467211055276374\",\"method\":\"animate\"},{\"args\":[[\"-0.3630983417085427\"],{\"frame\":{\"duration\":0,\"redraw\":false},\"mode\":\"immediate\",\"fromcurrent\":true,\"transition\":{\"duration\":0,\"easing\":\"linear\"}}],\"label\":\"-0.3630983417085427\",\"method\":\"animate\"},{\"args\":[[\"-0.3315245728643217\"],{\"frame\":{\"duration\":0,\"redraw\":false},\"mode\":\"immediate\",\"fromcurrent\":true,\"transition\":{\"duration\":0,\"easing\":\"linear\"}}],\"label\":\"-0.3315245728643217\",\"method\":\"animate\"},{\"args\":[[\"-0.29995080402010066\"],{\"frame\":{\"duration\":0,\"redraw\":false},\"mode\":\"immediate\",\"fromcurrent\":true,\"transition\":{\"duration\":0,\"easing\":\"linear\"}}],\"label\":\"-0.29995080402010066\",\"method\":\"animate\"},{\"args\":[[\"-0.2683770351758792\"],{\"frame\":{\"duration\":0,\"redraw\":false},\"mode\":\"immediate\",\"fromcurrent\":true,\"transition\":{\"duration\":0,\"easing\":\"linear\"}}],\"label\":\"-0.2683770351758792\",\"method\":\"animate\"},{\"args\":[[\"-0.23680326633165816\"],{\"frame\":{\"duration\":0,\"redraw\":false},\"mode\":\"immediate\",\"fromcurrent\":true,\"transition\":{\"duration\":0,\"easing\":\"linear\"}}],\"label\":\"-0.23680326633165816\",\"method\":\"animate\"},{\"args\":[[\"-0.20522949748743713\"],{\"frame\":{\"duration\":0,\"redraw\":false},\"mode\":\"immediate\",\"fromcurrent\":true,\"transition\":{\"duration\":0,\"easing\":\"linear\"}}],\"label\":\"-0.20522949748743713\",\"method\":\"animate\"},{\"args\":[[\"-0.1736557286432161\"],{\"frame\":{\"duration\":0,\"redraw\":false},\"mode\":\"immediate\",\"fromcurrent\":true,\"transition\":{\"duration\":0,\"easing\":\"linear\"}}],\"label\":\"-0.1736557286432161\",\"method\":\"animate\"},{\"args\":[[\"-0.14208195979899507\"],{\"frame\":{\"duration\":0,\"redraw\":false},\"mode\":\"immediate\",\"fromcurrent\":true,\"transition\":{\"duration\":0,\"easing\":\"linear\"}}],\"label\":\"-0.14208195979899507\",\"method\":\"animate\"},{\"args\":[[\"-0.11050819095477404\"],{\"frame\":{\"duration\":0,\"redraw\":false},\"mode\":\"immediate\",\"fromcurrent\":true,\"transition\":{\"duration\":0,\"easing\":\"linear\"}}],\"label\":\"-0.11050819095477404\",\"method\":\"animate\"},{\"args\":[[\"-0.07893442211055257\"],{\"frame\":{\"duration\":0,\"redraw\":false},\"mode\":\"immediate\",\"fromcurrent\":true,\"transition\":{\"duration\":0,\"easing\":\"linear\"}}],\"label\":\"-0.07893442211055257\",\"method\":\"animate\"},{\"args\":[[\"-0.04736065326633154\"],{\"frame\":{\"duration\":0,\"redraw\":false},\"mode\":\"immediate\",\"fromcurrent\":true,\"transition\":{\"duration\":0,\"easing\":\"linear\"}}],\"label\":\"-0.04736065326633154\",\"method\":\"animate\"},{\"args\":[[\"-0.015786884422110514\"],{\"frame\":{\"duration\":0,\"redraw\":false},\"mode\":\"immediate\",\"fromcurrent\":true,\"transition\":{\"duration\":0,\"easing\":\"linear\"}}],\"label\":\"-0.015786884422110514\",\"method\":\"animate\"},{\"args\":[[\"0.015786884422110514\"],{\"frame\":{\"duration\":0,\"redraw\":false},\"mode\":\"immediate\",\"fromcurrent\":true,\"transition\":{\"duration\":0,\"easing\":\"linear\"}}],\"label\":\"0.015786884422110514\",\"method\":\"animate\"},{\"args\":[[\"0.04736065326633154\"],{\"frame\":{\"duration\":0,\"redraw\":false},\"mode\":\"immediate\",\"fromcurrent\":true,\"transition\":{\"duration\":0,\"easing\":\"linear\"}}],\"label\":\"0.04736065326633154\",\"method\":\"animate\"},{\"args\":[[\"0.07893442211055302\"],{\"frame\":{\"duration\":0,\"redraw\":false},\"mode\":\"immediate\",\"fromcurrent\":true,\"transition\":{\"duration\":0,\"easing\":\"linear\"}}],\"label\":\"0.07893442211055302\",\"method\":\"animate\"},{\"args\":[[\"0.11050819095477404\"],{\"frame\":{\"duration\":0,\"redraw\":false},\"mode\":\"immediate\",\"fromcurrent\":true,\"transition\":{\"duration\":0,\"easing\":\"linear\"}}],\"label\":\"0.11050819095477404\",\"method\":\"animate\"},{\"args\":[[\"0.14208195979899507\"],{\"frame\":{\"duration\":0,\"redraw\":false},\"mode\":\"immediate\",\"fromcurrent\":true,\"transition\":{\"duration\":0,\"easing\":\"linear\"}}],\"label\":\"0.14208195979899507\",\"method\":\"animate\"},{\"args\":[[\"0.1736557286432161\"],{\"frame\":{\"duration\":0,\"redraw\":false},\"mode\":\"immediate\",\"fromcurrent\":true,\"transition\":{\"duration\":0,\"easing\":\"linear\"}}],\"label\":\"0.1736557286432161\",\"method\":\"animate\"},{\"args\":[[\"0.20522949748743713\"],{\"frame\":{\"duration\":0,\"redraw\":false},\"mode\":\"immediate\",\"fromcurrent\":true,\"transition\":{\"duration\":0,\"easing\":\"linear\"}}],\"label\":\"0.20522949748743713\",\"method\":\"animate\"},{\"args\":[[\"0.23680326633165816\"],{\"frame\":{\"duration\":0,\"redraw\":false},\"mode\":\"immediate\",\"fromcurrent\":true,\"transition\":{\"duration\":0,\"easing\":\"linear\"}}],\"label\":\"0.23680326633165816\",\"method\":\"animate\"},{\"args\":[[\"0.26837703517587963\"],{\"frame\":{\"duration\":0,\"redraw\":false},\"mode\":\"immediate\",\"fromcurrent\":true,\"transition\":{\"duration\":0,\"easing\":\"linear\"}}],\"label\":\"0.26837703517587963\",\"method\":\"animate\"},{\"args\":[[\"0.29995080402010066\"],{\"frame\":{\"duration\":0,\"redraw\":false},\"mode\":\"immediate\",\"fromcurrent\":true,\"transition\":{\"duration\":0,\"easing\":\"linear\"}}],\"label\":\"0.29995080402010066\",\"method\":\"animate\"},{\"args\":[[\"0.3315245728643217\"],{\"frame\":{\"duration\":0,\"redraw\":false},\"mode\":\"immediate\",\"fromcurrent\":true,\"transition\":{\"duration\":0,\"easing\":\"linear\"}}],\"label\":\"0.3315245728643217\",\"method\":\"animate\"},{\"args\":[[\"0.3630983417085427\"],{\"frame\":{\"duration\":0,\"redraw\":false},\"mode\":\"immediate\",\"fromcurrent\":true,\"transition\":{\"duration\":0,\"easing\":\"linear\"}}],\"label\":\"0.3630983417085427\",\"method\":\"animate\"},{\"args\":[[\"0.39467211055276374\"],{\"frame\":{\"duration\":0,\"redraw\":false},\"mode\":\"immediate\",\"fromcurrent\":true,\"transition\":{\"duration\":0,\"easing\":\"linear\"}}],\"label\":\"0.39467211055276374\",\"method\":\"animate\"},{\"args\":[[\"0.4262458793969848\"],{\"frame\":{\"duration\":0,\"redraw\":false},\"mode\":\"immediate\",\"fromcurrent\":true,\"transition\":{\"duration\":0,\"easing\":\"linear\"}}],\"label\":\"0.4262458793969848\",\"method\":\"animate\"},{\"args\":[[\"0.45781964824120625\"],{\"frame\":{\"duration\":0,\"redraw\":false},\"mode\":\"immediate\",\"fromcurrent\":true,\"transition\":{\"duration\":0,\"easing\":\"linear\"}}],\"label\":\"0.45781964824120625\",\"method\":\"animate\"},{\"args\":[[\"0.4893934170854273\"],{\"frame\":{\"duration\":0,\"redraw\":false},\"mode\":\"immediate\",\"fromcurrent\":true,\"transition\":{\"duration\":0,\"easing\":\"linear\"}}],\"label\":\"0.4893934170854273\",\"method\":\"animate\"},{\"args\":[[\"0.5209671859296483\"],{\"frame\":{\"duration\":0,\"redraw\":false},\"mode\":\"immediate\",\"fromcurrent\":true,\"transition\":{\"duration\":0,\"easing\":\"linear\"}}],\"label\":\"0.5209671859296483\",\"method\":\"animate\"},{\"args\":[[\"0.5525409547738693\"],{\"frame\":{\"duration\":0,\"redraw\":false},\"mode\":\"immediate\",\"fromcurrent\":true,\"transition\":{\"duration\":0,\"easing\":\"linear\"}}],\"label\":\"0.5525409547738693\",\"method\":\"animate\"},{\"args\":[[\"0.5841147236180904\"],{\"frame\":{\"duration\":0,\"redraw\":false},\"mode\":\"immediate\",\"fromcurrent\":true,\"transition\":{\"duration\":0,\"easing\":\"linear\"}}],\"label\":\"0.5841147236180904\",\"method\":\"animate\"},{\"args\":[[\"0.6156884924623114\"],{\"frame\":{\"duration\":0,\"redraw\":false},\"mode\":\"immediate\",\"fromcurrent\":true,\"transition\":{\"duration\":0,\"easing\":\"linear\"}}],\"label\":\"0.6156884924623114\",\"method\":\"animate\"},{\"args\":[[\"0.6472622613065329\"],{\"frame\":{\"duration\":0,\"redraw\":false},\"mode\":\"immediate\",\"fromcurrent\":true,\"transition\":{\"duration\":0,\"easing\":\"linear\"}}],\"label\":\"0.6472622613065329\",\"method\":\"animate\"},{\"args\":[[\"0.6788360301507539\"],{\"frame\":{\"duration\":0,\"redraw\":false},\"mode\":\"immediate\",\"fromcurrent\":true,\"transition\":{\"duration\":0,\"easing\":\"linear\"}}],\"label\":\"0.6788360301507539\",\"method\":\"animate\"},{\"args\":[[\"0.7104097989949749\"],{\"frame\":{\"duration\":0,\"redraw\":false},\"mode\":\"immediate\",\"fromcurrent\":true,\"transition\":{\"duration\":0,\"easing\":\"linear\"}}],\"label\":\"0.7104097989949749\",\"method\":\"animate\"},{\"args\":[[\"0.741983567839196\"],{\"frame\":{\"duration\":0,\"redraw\":false},\"mode\":\"immediate\",\"fromcurrent\":true,\"transition\":{\"duration\":0,\"easing\":\"linear\"}}],\"label\":\"0.741983567839196\",\"method\":\"animate\"},{\"args\":[[\"0.773557336683417\"],{\"frame\":{\"duration\":0,\"redraw\":false},\"mode\":\"immediate\",\"fromcurrent\":true,\"transition\":{\"duration\":0,\"easing\":\"linear\"}}],\"label\":\"0.773557336683417\",\"method\":\"animate\"},{\"args\":[[\"0.805131105527638\"],{\"frame\":{\"duration\":0,\"redraw\":false},\"mode\":\"immediate\",\"fromcurrent\":true,\"transition\":{\"duration\":0,\"easing\":\"linear\"}}],\"label\":\"0.805131105527638\",\"method\":\"animate\"},{\"args\":[[\"0.8367048743718595\"],{\"frame\":{\"duration\":0,\"redraw\":false},\"mode\":\"immediate\",\"fromcurrent\":true,\"transition\":{\"duration\":0,\"easing\":\"linear\"}}],\"label\":\"0.8367048743718595\",\"method\":\"animate\"},{\"args\":[[\"0.8682786432160805\"],{\"frame\":{\"duration\":0,\"redraw\":false},\"mode\":\"immediate\",\"fromcurrent\":true,\"transition\":{\"duration\":0,\"easing\":\"linear\"}}],\"label\":\"0.8682786432160805\",\"method\":\"animate\"},{\"args\":[[\"0.8998524120603015\"],{\"frame\":{\"duration\":0,\"redraw\":false},\"mode\":\"immediate\",\"fromcurrent\":true,\"transition\":{\"duration\":0,\"easing\":\"linear\"}}],\"label\":\"0.8998524120603015\",\"method\":\"animate\"},{\"args\":[[\"0.9314261809045226\"],{\"frame\":{\"duration\":0,\"redraw\":false},\"mode\":\"immediate\",\"fromcurrent\":true,\"transition\":{\"duration\":0,\"easing\":\"linear\"}}],\"label\":\"0.9314261809045226\",\"method\":\"animate\"},{\"args\":[[\"0.9629999497487436\"],{\"frame\":{\"duration\":0,\"redraw\":false},\"mode\":\"immediate\",\"fromcurrent\":true,\"transition\":{\"duration\":0,\"easing\":\"linear\"}}],\"label\":\"0.9629999497487436\",\"method\":\"animate\"},{\"args\":[[\"0.9945737185929646\"],{\"frame\":{\"duration\":0,\"redraw\":false},\"mode\":\"immediate\",\"fromcurrent\":true,\"transition\":{\"duration\":0,\"easing\":\"linear\"}}],\"label\":\"0.9945737185929646\",\"method\":\"animate\"},{\"args\":[[\"1.0261474874371856\"],{\"frame\":{\"duration\":0,\"redraw\":false},\"mode\":\"immediate\",\"fromcurrent\":true,\"transition\":{\"duration\":0,\"easing\":\"linear\"}}],\"label\":\"1.0261474874371856\",\"method\":\"animate\"},{\"args\":[[\"1.0577212562814067\"],{\"frame\":{\"duration\":0,\"redraw\":false},\"mode\":\"immediate\",\"fromcurrent\":true,\"transition\":{\"duration\":0,\"easing\":\"linear\"}}],\"label\":\"1.0577212562814067\",\"method\":\"animate\"},{\"args\":[[\"1.0892950251256286\"],{\"frame\":{\"duration\":0,\"redraw\":false},\"mode\":\"immediate\",\"fromcurrent\":true,\"transition\":{\"duration\":0,\"easing\":\"linear\"}}],\"label\":\"1.0892950251256286\",\"method\":\"animate\"},{\"args\":[[\"1.1208687939698496\"],{\"frame\":{\"duration\":0,\"redraw\":false},\"mode\":\"immediate\",\"fromcurrent\":true,\"transition\":{\"duration\":0,\"easing\":\"linear\"}}],\"label\":\"1.1208687939698496\",\"method\":\"animate\"},{\"args\":[[\"1.1524425628140706\"],{\"frame\":{\"duration\":0,\"redraw\":false},\"mode\":\"immediate\",\"fromcurrent\":true,\"transition\":{\"duration\":0,\"easing\":\"linear\"}}],\"label\":\"1.1524425628140706\",\"method\":\"animate\"},{\"args\":[[\"1.1840163316582917\"],{\"frame\":{\"duration\":0,\"redraw\":false},\"mode\":\"immediate\",\"fromcurrent\":true,\"transition\":{\"duration\":0,\"easing\":\"linear\"}}],\"label\":\"1.1840163316582917\",\"method\":\"animate\"},{\"args\":[[\"1.2155901005025127\"],{\"frame\":{\"duration\":0,\"redraw\":false},\"mode\":\"immediate\",\"fromcurrent\":true,\"transition\":{\"duration\":0,\"easing\":\"linear\"}}],\"label\":\"1.2155901005025127\",\"method\":\"animate\"},{\"args\":[[\"1.2471638693467337\"],{\"frame\":{\"duration\":0,\"redraw\":false},\"mode\":\"immediate\",\"fromcurrent\":true,\"transition\":{\"duration\":0,\"easing\":\"linear\"}}],\"label\":\"1.2471638693467337\",\"method\":\"animate\"},{\"args\":[[\"1.2787376381909548\"],{\"frame\":{\"duration\":0,\"redraw\":false},\"mode\":\"immediate\",\"fromcurrent\":true,\"transition\":{\"duration\":0,\"easing\":\"linear\"}}],\"label\":\"1.2787376381909548\",\"method\":\"animate\"},{\"args\":[[\"1.3103114070351758\"],{\"frame\":{\"duration\":0,\"redraw\":false},\"mode\":\"immediate\",\"fromcurrent\":true,\"transition\":{\"duration\":0,\"easing\":\"linear\"}}],\"label\":\"1.3103114070351758\",\"method\":\"animate\"},{\"args\":[[\"1.3418851758793968\"],{\"frame\":{\"duration\":0,\"redraw\":false},\"mode\":\"immediate\",\"fromcurrent\":true,\"transition\":{\"duration\":0,\"easing\":\"linear\"}}],\"label\":\"1.3418851758793968\",\"method\":\"animate\"},{\"args\":[[\"1.3734589447236178\"],{\"frame\":{\"duration\":0,\"redraw\":false},\"mode\":\"immediate\",\"fromcurrent\":true,\"transition\":{\"duration\":0,\"easing\":\"linear\"}}],\"label\":\"1.3734589447236178\",\"method\":\"animate\"},{\"args\":[[\"1.4050327135678389\"],{\"frame\":{\"duration\":0,\"redraw\":false},\"mode\":\"immediate\",\"fromcurrent\":true,\"transition\":{\"duration\":0,\"easing\":\"linear\"}}],\"label\":\"1.4050327135678389\",\"method\":\"animate\"},{\"args\":[[\"1.43660648241206\"],{\"frame\":{\"duration\":0,\"redraw\":false},\"mode\":\"immediate\",\"fromcurrent\":true,\"transition\":{\"duration\":0,\"easing\":\"linear\"}}],\"label\":\"1.43660648241206\",\"method\":\"animate\"},{\"args\":[[\"1.4681802512562818\"],{\"frame\":{\"duration\":0,\"redraw\":false},\"mode\":\"immediate\",\"fromcurrent\":true,\"transition\":{\"duration\":0,\"easing\":\"linear\"}}],\"label\":\"1.4681802512562818\",\"method\":\"animate\"},{\"args\":[[\"1.4997540201005028\"],{\"frame\":{\"duration\":0,\"redraw\":false},\"mode\":\"immediate\",\"fromcurrent\":true,\"transition\":{\"duration\":0,\"easing\":\"linear\"}}],\"label\":\"1.4997540201005028\",\"method\":\"animate\"},{\"args\":[[\"1.5313277889447239\"],{\"frame\":{\"duration\":0,\"redraw\":false},\"mode\":\"immediate\",\"fromcurrent\":true,\"transition\":{\"duration\":0,\"easing\":\"linear\"}}],\"label\":\"1.5313277889447239\",\"method\":\"animate\"},{\"args\":[[\"1.562901557788945\"],{\"frame\":{\"duration\":0,\"redraw\":false},\"mode\":\"immediate\",\"fromcurrent\":true,\"transition\":{\"duration\":0,\"easing\":\"linear\"}}],\"label\":\"1.562901557788945\",\"method\":\"animate\"},{\"args\":[[\"1.594475326633166\"],{\"frame\":{\"duration\":0,\"redraw\":false},\"mode\":\"immediate\",\"fromcurrent\":true,\"transition\":{\"duration\":0,\"easing\":\"linear\"}}],\"label\":\"1.594475326633166\",\"method\":\"animate\"},{\"args\":[[\"1.626049095477387\"],{\"frame\":{\"duration\":0,\"redraw\":false},\"mode\":\"immediate\",\"fromcurrent\":true,\"transition\":{\"duration\":0,\"easing\":\"linear\"}}],\"label\":\"1.626049095477387\",\"method\":\"animate\"},{\"args\":[[\"1.657622864321608\"],{\"frame\":{\"duration\":0,\"redraw\":false},\"mode\":\"immediate\",\"fromcurrent\":true,\"transition\":{\"duration\":0,\"easing\":\"linear\"}}],\"label\":\"1.657622864321608\",\"method\":\"animate\"},{\"args\":[[\"1.689196633165829\"],{\"frame\":{\"duration\":0,\"redraw\":false},\"mode\":\"immediate\",\"fromcurrent\":true,\"transition\":{\"duration\":0,\"easing\":\"linear\"}}],\"label\":\"1.689196633165829\",\"method\":\"animate\"},{\"args\":[[\"1.72077040201005\"],{\"frame\":{\"duration\":0,\"redraw\":false},\"mode\":\"immediate\",\"fromcurrent\":true,\"transition\":{\"duration\":0,\"easing\":\"linear\"}}],\"label\":\"1.72077040201005\",\"method\":\"animate\"},{\"args\":[[\"1.752344170854271\"],{\"frame\":{\"duration\":0,\"redraw\":false},\"mode\":\"immediate\",\"fromcurrent\":true,\"transition\":{\"duration\":0,\"easing\":\"linear\"}}],\"label\":\"1.752344170854271\",\"method\":\"animate\"},{\"args\":[[\"1.783917939698492\"],{\"frame\":{\"duration\":0,\"redraw\":false},\"mode\":\"immediate\",\"fromcurrent\":true,\"transition\":{\"duration\":0,\"easing\":\"linear\"}}],\"label\":\"1.783917939698492\",\"method\":\"animate\"},{\"args\":[[\"1.8154917085427131\"],{\"frame\":{\"duration\":0,\"redraw\":false},\"mode\":\"immediate\",\"fromcurrent\":true,\"transition\":{\"duration\":0,\"easing\":\"linear\"}}],\"label\":\"1.8154917085427131\",\"method\":\"animate\"},{\"args\":[[\"1.847065477386935\"],{\"frame\":{\"duration\":0,\"redraw\":false},\"mode\":\"immediate\",\"fromcurrent\":true,\"transition\":{\"duration\":0,\"easing\":\"linear\"}}],\"label\":\"1.847065477386935\",\"method\":\"animate\"},{\"args\":[[\"1.878639246231156\"],{\"frame\":{\"duration\":0,\"redraw\":false},\"mode\":\"immediate\",\"fromcurrent\":true,\"transition\":{\"duration\":0,\"easing\":\"linear\"}}],\"label\":\"1.878639246231156\",\"method\":\"animate\"},{\"args\":[[\"1.910213015075377\"],{\"frame\":{\"duration\":0,\"redraw\":false},\"mode\":\"immediate\",\"fromcurrent\":true,\"transition\":{\"duration\":0,\"easing\":\"linear\"}}],\"label\":\"1.910213015075377\",\"method\":\"animate\"},{\"args\":[[\"1.9417867839195981\"],{\"frame\":{\"duration\":0,\"redraw\":false},\"mode\":\"immediate\",\"fromcurrent\":true,\"transition\":{\"duration\":0,\"easing\":\"linear\"}}],\"label\":\"1.9417867839195981\",\"method\":\"animate\"},{\"args\":[[\"1.9733605527638192\"],{\"frame\":{\"duration\":0,\"redraw\":false},\"mode\":\"immediate\",\"fromcurrent\":true,\"transition\":{\"duration\":0,\"easing\":\"linear\"}}],\"label\":\"1.9733605527638192\",\"method\":\"animate\"},{\"args\":[[\"2.00493432160804\"],{\"frame\":{\"duration\":0,\"redraw\":false},\"mode\":\"immediate\",\"fromcurrent\":true,\"transition\":{\"duration\":0,\"easing\":\"linear\"}}],\"label\":\"2.00493432160804\",\"method\":\"animate\"},{\"args\":[[\"2.036508090452261\"],{\"frame\":{\"duration\":0,\"redraw\":false},\"mode\":\"immediate\",\"fromcurrent\":true,\"transition\":{\"duration\":0,\"easing\":\"linear\"}}],\"label\":\"2.036508090452261\",\"method\":\"animate\"},{\"args\":[[\"2.0680818592964822\"],{\"frame\":{\"duration\":0,\"redraw\":false},\"mode\":\"immediate\",\"fromcurrent\":true,\"transition\":{\"duration\":0,\"easing\":\"linear\"}}],\"label\":\"2.0680818592964822\",\"method\":\"animate\"},{\"args\":[[\"2.0996556281407033\"],{\"frame\":{\"duration\":0,\"redraw\":false},\"mode\":\"immediate\",\"fromcurrent\":true,\"transition\":{\"duration\":0,\"easing\":\"linear\"}}],\"label\":\"2.0996556281407033\",\"method\":\"animate\"},{\"args\":[[\"2.1312293969849243\"],{\"frame\":{\"duration\":0,\"redraw\":false},\"mode\":\"immediate\",\"fromcurrent\":true,\"transition\":{\"duration\":0,\"easing\":\"linear\"}}],\"label\":\"2.1312293969849243\",\"method\":\"animate\"},{\"args\":[[\"2.1628031658291453\"],{\"frame\":{\"duration\":0,\"redraw\":false},\"mode\":\"immediate\",\"fromcurrent\":true,\"transition\":{\"duration\":0,\"easing\":\"linear\"}}],\"label\":\"2.1628031658291453\",\"method\":\"animate\"},{\"args\":[[\"2.1943769346733673\"],{\"frame\":{\"duration\":0,\"redraw\":false},\"mode\":\"immediate\",\"fromcurrent\":true,\"transition\":{\"duration\":0,\"easing\":\"linear\"}}],\"label\":\"2.1943769346733673\",\"method\":\"animate\"},{\"args\":[[\"2.2259507035175883\"],{\"frame\":{\"duration\":0,\"redraw\":false},\"mode\":\"immediate\",\"fromcurrent\":true,\"transition\":{\"duration\":0,\"easing\":\"linear\"}}],\"label\":\"2.2259507035175883\",\"method\":\"animate\"},{\"args\":[[\"2.2575244723618093\"],{\"frame\":{\"duration\":0,\"redraw\":false},\"mode\":\"immediate\",\"fromcurrent\":true,\"transition\":{\"duration\":0,\"easing\":\"linear\"}}],\"label\":\"2.2575244723618093\",\"method\":\"animate\"},{\"args\":[[\"2.2890982412060303\"],{\"frame\":{\"duration\":0,\"redraw\":false},\"mode\":\"immediate\",\"fromcurrent\":true,\"transition\":{\"duration\":0,\"easing\":\"linear\"}}],\"label\":\"2.2890982412060303\",\"method\":\"animate\"},{\"args\":[[\"2.3206720100502514\"],{\"frame\":{\"duration\":0,\"redraw\":false},\"mode\":\"immediate\",\"fromcurrent\":true,\"transition\":{\"duration\":0,\"easing\":\"linear\"}}],\"label\":\"2.3206720100502514\",\"method\":\"animate\"},{\"args\":[[\"2.3522457788944724\"],{\"frame\":{\"duration\":0,\"redraw\":false},\"mode\":\"immediate\",\"fromcurrent\":true,\"transition\":{\"duration\":0,\"easing\":\"linear\"}}],\"label\":\"2.3522457788944724\",\"method\":\"animate\"},{\"args\":[[\"2.3838195477386934\"],{\"frame\":{\"duration\":0,\"redraw\":false},\"mode\":\"immediate\",\"fromcurrent\":true,\"transition\":{\"duration\":0,\"easing\":\"linear\"}}],\"label\":\"2.3838195477386934\",\"method\":\"animate\"},{\"args\":[[\"2.4153933165829145\"],{\"frame\":{\"duration\":0,\"redraw\":false},\"mode\":\"immediate\",\"fromcurrent\":true,\"transition\":{\"duration\":0,\"easing\":\"linear\"}}],\"label\":\"2.4153933165829145\",\"method\":\"animate\"},{\"args\":[[\"2.4469670854271355\"],{\"frame\":{\"duration\":0,\"redraw\":false},\"mode\":\"immediate\",\"fromcurrent\":true,\"transition\":{\"duration\":0,\"easing\":\"linear\"}}],\"label\":\"2.4469670854271355\",\"method\":\"animate\"},{\"args\":[[\"2.4785408542713565\"],{\"frame\":{\"duration\":0,\"redraw\":false},\"mode\":\"immediate\",\"fromcurrent\":true,\"transition\":{\"duration\":0,\"easing\":\"linear\"}}],\"label\":\"2.4785408542713565\",\"method\":\"animate\"},{\"args\":[[\"2.5101146231155775\"],{\"frame\":{\"duration\":0,\"redraw\":false},\"mode\":\"immediate\",\"fromcurrent\":true,\"transition\":{\"duration\":0,\"easing\":\"linear\"}}],\"label\":\"2.5101146231155775\",\"method\":\"animate\"},{\"args\":[[\"2.5416883919597986\"],{\"frame\":{\"duration\":0,\"redraw\":false},\"mode\":\"immediate\",\"fromcurrent\":true,\"transition\":{\"duration\":0,\"easing\":\"linear\"}}],\"label\":\"2.5416883919597986\",\"method\":\"animate\"},{\"args\":[[\"2.5732621608040205\"],{\"frame\":{\"duration\":0,\"redraw\":false},\"mode\":\"immediate\",\"fromcurrent\":true,\"transition\":{\"duration\":0,\"easing\":\"linear\"}}],\"label\":\"2.5732621608040205\",\"method\":\"animate\"},{\"args\":[[\"2.6048359296482415\"],{\"frame\":{\"duration\":0,\"redraw\":false},\"mode\":\"immediate\",\"fromcurrent\":true,\"transition\":{\"duration\":0,\"easing\":\"linear\"}}],\"label\":\"2.6048359296482415\",\"method\":\"animate\"},{\"args\":[[\"2.6364096984924625\"],{\"frame\":{\"duration\":0,\"redraw\":false},\"mode\":\"immediate\",\"fromcurrent\":true,\"transition\":{\"duration\":0,\"easing\":\"linear\"}}],\"label\":\"2.6364096984924625\",\"method\":\"animate\"},{\"args\":[[\"2.6679834673366836\"],{\"frame\":{\"duration\":0,\"redraw\":false},\"mode\":\"immediate\",\"fromcurrent\":true,\"transition\":{\"duration\":0,\"easing\":\"linear\"}}],\"label\":\"2.6679834673366836\",\"method\":\"animate\"},{\"args\":[[\"2.6995572361809046\"],{\"frame\":{\"duration\":0,\"redraw\":false},\"mode\":\"immediate\",\"fromcurrent\":true,\"transition\":{\"duration\":0,\"easing\":\"linear\"}}],\"label\":\"2.6995572361809046\",\"method\":\"animate\"},{\"args\":[[\"2.7311310050251256\"],{\"frame\":{\"duration\":0,\"redraw\":false},\"mode\":\"immediate\",\"fromcurrent\":true,\"transition\":{\"duration\":0,\"easing\":\"linear\"}}],\"label\":\"2.7311310050251256\",\"method\":\"animate\"},{\"args\":[[\"2.7627047738693467\"],{\"frame\":{\"duration\":0,\"redraw\":false},\"mode\":\"immediate\",\"fromcurrent\":true,\"transition\":{\"duration\":0,\"easing\":\"linear\"}}],\"label\":\"2.7627047738693467\",\"method\":\"animate\"},{\"args\":[[\"2.7942785427135677\"],{\"frame\":{\"duration\":0,\"redraw\":false},\"mode\":\"immediate\",\"fromcurrent\":true,\"transition\":{\"duration\":0,\"easing\":\"linear\"}}],\"label\":\"2.7942785427135677\",\"method\":\"animate\"},{\"args\":[[\"2.8258523115577887\"],{\"frame\":{\"duration\":0,\"redraw\":false},\"mode\":\"immediate\",\"fromcurrent\":true,\"transition\":{\"duration\":0,\"easing\":\"linear\"}}],\"label\":\"2.8258523115577887\",\"method\":\"animate\"},{\"args\":[[\"2.8574260804020097\"],{\"frame\":{\"duration\":0,\"redraw\":false},\"mode\":\"immediate\",\"fromcurrent\":true,\"transition\":{\"duration\":0,\"easing\":\"linear\"}}],\"label\":\"2.8574260804020097\",\"method\":\"animate\"},{\"args\":[[\"2.8889998492462308\"],{\"frame\":{\"duration\":0,\"redraw\":false},\"mode\":\"immediate\",\"fromcurrent\":true,\"transition\":{\"duration\":0,\"easing\":\"linear\"}}],\"label\":\"2.8889998492462308\",\"method\":\"animate\"},{\"args\":[[\"2.920573618090452\"],{\"frame\":{\"duration\":0,\"redraw\":false},\"mode\":\"immediate\",\"fromcurrent\":true,\"transition\":{\"duration\":0,\"easing\":\"linear\"}}],\"label\":\"2.920573618090452\",\"method\":\"animate\"},{\"args\":[[\"2.9521473869346737\"],{\"frame\":{\"duration\":0,\"redraw\":false},\"mode\":\"immediate\",\"fromcurrent\":true,\"transition\":{\"duration\":0,\"easing\":\"linear\"}}],\"label\":\"2.9521473869346737\",\"method\":\"animate\"},{\"args\":[[\"2.9837211557788947\"],{\"frame\":{\"duration\":0,\"redraw\":false},\"mode\":\"immediate\",\"fromcurrent\":true,\"transition\":{\"duration\":0,\"easing\":\"linear\"}}],\"label\":\"2.9837211557788947\",\"method\":\"animate\"},{\"args\":[[\"3.0152949246231158\"],{\"frame\":{\"duration\":0,\"redraw\":false},\"mode\":\"immediate\",\"fromcurrent\":true,\"transition\":{\"duration\":0,\"easing\":\"linear\"}}],\"label\":\"3.0152949246231158\",\"method\":\"animate\"},{\"args\":[[\"3.046868693467337\"],{\"frame\":{\"duration\":0,\"redraw\":false},\"mode\":\"immediate\",\"fromcurrent\":true,\"transition\":{\"duration\":0,\"easing\":\"linear\"}}],\"label\":\"3.046868693467337\",\"method\":\"animate\"},{\"args\":[[\"3.078442462311558\"],{\"frame\":{\"duration\":0,\"redraw\":false},\"mode\":\"immediate\",\"fromcurrent\":true,\"transition\":{\"duration\":0,\"easing\":\"linear\"}}],\"label\":\"3.078442462311558\",\"method\":\"animate\"},{\"args\":[[\"3.110016231155779\"],{\"frame\":{\"duration\":0,\"redraw\":false},\"mode\":\"immediate\",\"fromcurrent\":true,\"transition\":{\"duration\":0,\"easing\":\"linear\"}}],\"label\":\"3.110016231155779\",\"method\":\"animate\"},{\"args\":[[\"3.14159\"],{\"frame\":{\"duration\":0,\"redraw\":false},\"mode\":\"immediate\",\"fromcurrent\":true,\"transition\":{\"duration\":0,\"easing\":\"linear\"}}],\"label\":\"3.14159\",\"method\":\"animate\"}],\"x\":0.1,\"xanchor\":\"left\",\"y\":0,\"yanchor\":\"top\"}]},                        {\"responsive\": true}                    ).then(function(){\n",
       "                            Plotly.addFrames('ce7be02d-c39c-4c64-bd08-b12e3703a45a', [{\"data\":[{\"hovertemplate\":\"theta=-3.14159\\u003cbr\\u003ez1=%{x}\\u003cbr\\u003ez2=%{y}\\u003cextra\\u003e\\u003c\\u002fextra\\u003e\",\"legendgroup\":\"\",\"marker\":{\"color\":\"#636efa\",\"symbol\":\"circle\"},\"mode\":\"markers\",\"name\":\"\",\"orientation\":\"v\",\"showlegend\":false,\"x\":[-0.9999999999964793,0.0],\"xaxis\":\"x\",\"y\":[-2.6535897933527304e-6,0.0],\"yaxis\":\"y\",\"type\":\"scatter\"}],\"name\":\"-3.14159\"},{\"data\":[{\"hovertemplate\":\"theta=-3.110016231155779\\u003cbr\\u003ez1=%{x}\\u003cbr\\u003ez2=%{y}\\u003cextra\\u003e\\u003c\\u002fextra\\u003e\",\"legendgroup\":\"\",\"marker\":{\"color\":\"#636efa\",\"symbol\":\"circle\"},\"mode\":\"markers\",\"name\":\"\",\"orientation\":\"v\",\"showlegend\":false,\"x\":[-0.999501506194653,0.0],\"xaxis\":\"x\",\"y\":[-0.03157117537596496,0.0],\"yaxis\":\"y\",\"type\":\"scatter\"}],\"name\":\"-3.110016231155779\"},{\"data\":[{\"hovertemplate\":\"theta=-3.078442462311558\\u003cbr\\u003ez1=%{x}\\u003cbr\\u003ez2=%{y}\\u003cextra\\u003e\\u003c\\u002fextra\\u003e\",\"legendgroup\":\"\",\"marker\":{\"color\":\"#636efa\",\"symbol\":\"circle\"},\"mode\":\"markers\",\"name\":\"\",\"orientation\":\"v\",\"showlegend\":false,\"x\":[-0.9980066892376193,0.0],\"xaxis\":\"x\",\"y\":[-0.06310822638108297,0.0],\"yaxis\":\"y\",\"type\":\"scatter\"}],\"name\":\"-3.078442462311558\"},{\"data\":[{\"hovertemplate\":\"theta=-3.046868693467337\\u003cbr\\u003ez1=%{x}\\u003cbr\\u003ez2=%{y}\\u003cextra\\u003e\\u003c\\u002fextra\\u003e\",\"legendgroup\":\"\",\"marker\":{\"color\":\"#636efa\",\"symbol\":\"circle\"},\"mode\":\"markers\",\"name\":\"\",\"orientation\":\"v\",\"showlegend\":false,\"x\":[-0.9955170391889124,0.0],\"xaxis\":\"x\",\"y\":[-0.09458236983995132,0.0],\"yaxis\":\"y\",\"type\":\"scatter\"}],\"name\":\"-3.046868693467337\"},{\"data\":[{\"hovertemplate\":\"theta=-3.0152949246231153\\u003cbr\\u003ez1=%{x}\\u003cbr\\u003ez2=%{y}\\u003cextra\\u003e\\u003c\\u002fextra\\u003e\",\"legendgroup\":\"\",\"marker\":{\"color\":\"#636efa\",\"symbol\":\"circle\"},\"mode\":\"markers\",\"name\":\"\",\"orientation\":\"v\",\"showlegend\":false,\"x\":[-0.992035037781653,0.0],\"xaxis\":\"x\",\"y\":[-0.1259622316948786,0.0],\"yaxis\":\"y\",\"type\":\"scatter\"}],\"name\":\"-3.0152949246231153\"},{\"data\":[{\"hovertemplate\":\"theta=-2.9837211557788943\\u003cbr\\u003ez1=%{x}\\u003cbr\\u003ez2=%{y}\\u003cextra\\u003e\\u003c\\u002fextra\\u003e\",\"legendgroup\":\"\",\"marker\":{\"color\":\"#636efa\",\"symbol\":\"circle\"},\"mode\":\"markers\",\"name\":\"\",\"orientation\":\"v\",\"showlegend\":false,\"x\":[-0.987564155944706,0.0],\"xaxis\":\"x\",\"y\":[-0.15721653186996665,0.0],\"yaxis\":\"y\",\"type\":\"scatter\"}],\"name\":\"-2.9837211557788943\"},{\"data\":[{\"hovertemplate\":\"theta=-2.9521473869346733\\u003cbr\\u003ez1=%{x}\\u003cbr\\u003ez2=%{y}\\u003cextra\\u003e\\u003c\\u002fextra\\u003e\",\"legendgroup\":\"\",\"marker\":{\"color\":\"#636efa\",\"symbol\":\"circle\"},\"mode\":\"markers\",\"name\":\"\",\"orientation\":\"v\",\"showlegend\":false,\"x\":[-0.9821088503427897,0.0],\"xaxis\":\"x\",\"y\":[-0.18831411545172025,0.0],\"yaxis\":\"y\",\"type\":\"scatter\"}],\"name\":\"-2.9521473869346733\"},{\"data\":[{\"hovertemplate\":\"theta=-2.9205736180904522\\u003cbr\\u003ez1=%{x}\\u003cbr\\u003ez2=%{y}\\u003cextra\\u003e\\u003c\\u002fextra\\u003e\",\"legendgroup\":\"\",\"marker\":{\"color\":\"#636efa\",\"symbol\":\"circle\"},\"mode\":\"markers\",\"name\":\"\",\"orientation\":\"v\",\"showlegend\":false,\"x\":[-0.9756745589339824,0.0],\"xaxis\":\"x\",\"y\":[-0.21922398374488833,0.0],\"yaxis\":\"y\",\"type\":\"scatter\"}],\"name\":\"-2.9205736180904522\"},{\"data\":[{\"hovertemplate\":\"theta=-2.888999849246231\\u003cbr\\u003ez1=%{x}\\u003cbr\\u003ez2=%{y}\\u003cextra\\u003e\\u003c\\u002fextra\\u003e\",\"legendgroup\":\"\",\"marker\":{\"color\":\"#636efa\",\"symbol\":\"circle\"},\"mode\":\"markers\",\"name\":\"\",\"orientation\":\"v\",\"showlegend\":false,\"x\":[-0.9682676955490567,0.0],\"xaxis\":\"x\",\"y\":[-0.2499153251725858,0.0],\"yaxis\":\"y\",\"type\":\"scatter\"}],\"name\":\"-2.888999849246231\"},{\"data\":[{\"hovertemplate\":\"theta=-2.8574260804020097\\u003cbr\\u003ez1=%{x}\\u003cbr\\u003ez2=%{y}\\u003cextra\\u003e\\u003c\\u002fextra\\u003e\",\"legendgroup\":\"\",\"marker\":{\"color\":\"#636efa\",\"symbol\":\"circle\"},\"mode\":\"markers\",\"name\":\"\",\"orientation\":\"v\",\"showlegend\":false,\"x\":[-0.9598956434980449,0.0],\"xaxis\":\"x\",\"y\":[-0.28035754598989193,0.0],\"yaxis\":\"y\",\"type\":\"scatter\"}],\"name\":\"-2.8574260804020097\"},{\"data\":[{\"hovertemplate\":\"theta=-2.8258523115577887\\u003cbr\\u003ez1=%{x}\\u003cbr\\u003ez2=%{y}\\u003cextra\\u003e\\u003c\\u002fextra\\u003e\",\"legendgroup\":\"\",\"marker\":{\"color\":\"#636efa\",\"symbol\":\"circle\"},\"mode\":\"markers\",\"name\":\"\",\"orientation\":\"v\",\"showlegend\":false,\"x\":[-0.950566748210407,0.0],\"xaxis\":\"x\",\"y\":[-0.3105203007803075,0.0],\"yaxis\":\"y\",\"type\":\"scatter\"}],\"name\":\"-2.8258523115577887\"},{\"data\":[{\"hovertemplate\":\"theta=-2.7942785427135677\\u003cbr\\u003ez1=%{x}\\u003cbr\\u003ez2=%{y}\\u003cextra\\u003e\\u003c\\u002fextra\\u003e\",\"legendgroup\":\"\",\"marker\":{\"color\":\"#636efa\",\"symbol\":\"circle\"},\"mode\":\"markers\",\"name\":\"\",\"orientation\":\"v\",\"showlegend\":false,\"x\":[-0.9402903089161392,0.0],\"xaxis\":\"x\",\"y\":[-0.3403735227046774,0.0],\"yaxis\":\"y\",\"type\":\"scatter\"}],\"name\":\"-2.7942785427135677\"},{\"data\":[{\"hovertemplate\":\"theta=-2.7627047738693467\\u003cbr\\u003ez1=%{x}\\u003cbr\\u003ez2=%{y}\\u003cextra\\u003e\\u003c\\u002fextra\\u003e\",\"legendgroup\":\"\",\"marker\":{\"color\":\"#636efa\",\"symbol\":\"circle\"},\"mode\":\"markers\",\"name\":\"\",\"orientation\":\"v\",\"showlegend\":false,\"x\":[-0.9290765693761146,0.0],\"xaxis\":\"x\",\"y\":[-0.36988745347241725,0.0],\"yaxis\":\"y\",\"type\":\"scatter\"}],\"name\":\"-2.7627047738693467\"},{\"data\":[{\"hovertemplate\":\"theta=-2.7311310050251256\\u003cbr\\u003ez1=%{x}\\u003cbr\\u003ez2=%{y}\\u003cextra\\u003e\\u003c\\u002fextra\\u003e\",\"legendgroup\":\"\",\"marker\":{\"color\":\"#636efa\",\"symbol\":\"circle\"},\"mode\":\"markers\",\"name\":\"\",\"orientation\":\"v\",\"showlegend\":false,\"x\":[-0.9169367076708975,0.0],\"xaxis\":\"x\",\"y\":[-0.39903267300517514,0.0],\"yaxis\":\"y\",\"type\":\"scatter\"}],\"name\":\"-2.7311310050251256\"},{\"data\":[{\"hovertemplate\":\"theta=-2.6995572361809046\\u003cbr\\u003ez1=%{x}\\u003cbr\\u003ez2=%{y}\\u003cextra\\u003e\\u003c\\u002fextra\\u003e\",\"legendgroup\":\"\",\"marker\":{\"color\":\"#636efa\",\"symbol\":\"circle\"},\"mode\":\"markers\",\"name\":\"\",\"orientation\":\"v\",\"showlegend\":false,\"x\":[-0.9038828250582077,0.0],\"xaxis\":\"x\",\"y\":[-0.427780128763356,0.0],\"yaxis\":\"y\",\"type\":\"scatter\"}],\"name\":\"-2.6995572361809046\"},{\"data\":[{\"hovertemplate\":\"theta=-2.667983467336683\\u003cbr\\u003ez1=%{x}\\u003cbr\\u003ez2=%{y}\\u003cextra\\u003e\\u003c\\u002fextra\\u003e\",\"legendgroup\":\"\",\"marker\":{\"color\":\"#636efa\",\"symbol\":\"circle\"},\"mode\":\"markers\",\"name\":\"\",\"orientation\":\"v\",\"showlegend\":false,\"x\":[-0.8899279339101444,0.0],\"xaxis\":\"x\",\"y\":[-0.45610116470627626,0.0],\"yaxis\":\"y\",\"type\":\"scatter\"}],\"name\":\"-2.667983467336683\"},{\"data\":[{\"hovertemplate\":\"theta=-2.636409698492462\\u003cbr\\u003ez1=%{x}\\u003cbr\\u003ez2=%{y}\\u003cextra\\u003e\\u003c\\u002fextra\\u003e\",\"legendgroup\":\"\",\"marker\":{\"color\":\"#636efa\",\"symbol\":\"circle\"},\"mode\":\"markers\",\"name\":\"\",\"orientation\":\"v\",\"showlegend\":false,\"x\":[-0.8750859447421928,0.0],\"xaxis\":\"x\",\"y\":[-0.4839675498570786,0.0],\"yaxis\":\"y\",\"type\":\"scatter\"}],\"name\":\"-2.636409698492462\"},{\"data\":[{\"hovertemplate\":\"theta=-2.604835929648241\\u003cbr\\u003ez1=%{x}\\u003cbr\\u003ez2=%{y}\\u003cextra\\u003e\\u003c\\u002fextra\\u003e\",\"legendgroup\":\"\",\"marker\":{\"color\":\"#636efa\",\"symbol\":\"circle\"},\"mode\":\"markers\",\"name\":\"\",\"orientation\":\"v\",\"showlegend\":false,\"x\":[-0.8593716523469427,0.0],\"xaxis\":\"x\",\"y\":[-0.5113515064439387,0.0],\"yaxis\":\"y\",\"type\":\"scatter\"}],\"name\":\"-2.604835929648241\"},{\"data\":[{\"hovertemplate\":\"theta=-2.57326216080402\\u003cbr\\u003ez1=%{x}\\u003cbr\\u003ez2=%{y}\\u003cextra\\u003e\\u003c\\u002fextra\\u003e\",\"legendgroup\":\"\",\"marker\":{\"color\":\"#636efa\",\"symbol\":\"circle\"},\"mode\":\"markers\",\"name\":\"\",\"orientation\":\"v\",\"showlegend\":false,\"x\":[-0.8428007210463426,0.0],\"xaxis\":\"x\",\"y\":[-0.5382257375895034,0.0],\"yaxis\":\"y\",\"type\":\"scatter\"}],\"name\":\"-2.57326216080402\"},{\"data\":[{\"hovertemplate\":\"theta=-2.541688391959799\\u003cbr\\u003ez1=%{x}\\u003cbr\\u003ez2=%{y}\\u003cextra\\u003e\\u003c\\u002fextra\\u003e\",\"legendgroup\":\"\",\"marker\":{\"color\":\"#636efa\",\"symbol\":\"circle\"},\"mode\":\"markers\",\"name\":\"\",\"orientation\":\"v\",\"showlegend\":false,\"x\":[-0.8253896690771894,0.0],\"xaxis\":\"x\",\"y\":[-0.5645634545209669,0.0],\"yaxis\":\"y\",\"type\":\"scatter\"}],\"name\":\"-2.541688391959799\"},{\"data\":[{\"hovertemplate\":\"theta=-2.5101146231155775\\u003cbr\\u003ez1=%{x}\\u003cbr\\u003ez2=%{y}\\u003cextra\\u003e\\u003c\\u002fextra\\u003e\",\"legendgroup\":\"\",\"marker\":{\"color\":\"#636efa\",\"symbol\":\"circle\"},\"mode\":\"markers\",\"name\":\"\",\"orientation\":\"v\",\"showlegend\":false,\"x\":[-0.8071558521254181,0.0],\"xaxis\":\"x\",\"y\":[-0.5903384032736565,0.0],\"yaxis\":\"y\",\"type\":\"scatter\"}],\"name\":\"-2.5101146231155775\"},{\"data\":[{\"hovertemplate\":\"theta=-2.4785408542713565\\u003cbr\\u003ez1=%{x}\\u003cbr\\u003ez2=%{y}\\u003cextra\\u003e\\u003c\\u002fextra\\u003e\",\"legendgroup\":\"\",\"marker\":{\"color\":\"#636efa\",\"symbol\":\"circle\"},\"mode\":\"markers\",\"name\":\"\",\"orientation\":\"v\",\"showlegend\":false,\"x\":[-0.788117446025607,0.0],\"xaxis\":\"x\",\"y\":[-0.6155248908615105,0.0],\"yaxis\":\"y\",\"type\":\"scatter\"}],\"name\":\"-2.4785408542713565\"},{\"data\":[{\"hovertemplate\":\"theta=-2.4469670854271355\\u003cbr\\u003ez1=%{x}\\u003cbr\\u003ez2=%{y}\\u003cextra\\u003e\\u003c\\u002fextra\\u003e\",\"legendgroup\":\"\",\"marker\":{\"color\":\"#636efa\",\"symbol\":\"circle\"},\"mode\":\"markers\",\"name\":\"\",\"orientation\":\"v\",\"showlegend\":false,\"x\":[-0.7682934286429396,0.0],\"xaxis\":\"x\",\"y\":[-0.6400978108883644,0.0],\"yaxis\":\"y\",\"type\":\"scatter\"}],\"name\":\"-2.4469670854271355\"},{\"data\":[{\"hovertemplate\":\"theta=-2.4153933165829145\\u003cbr\\u003ez1=%{x}\\u003cbr\\u003ez2=%{y}\\u003cextra\\u003e\\u003c\\u002fextra\\u003e\",\"legendgroup\":\"\",\"marker\":{\"color\":\"#636efa\",\"symbol\":\"circle\"},\"mode\":\"markers\",\"name\":\"\",\"orientation\":\"v\",\"showlegend\":false,\"x\":[-0.7477035609556888,0.0],\"xaxis\":\"x\",\"y\":[-0.6640326685745082,0.0],\"yaxis\":\"y\",\"type\":\"scatter\"}],\"name\":\"-2.4153933165829145\"},{\"data\":[{\"hovertemplate\":\"theta=-2.3838195477386934\\u003cbr\\u003ez1=%{x}\\u003cbr\\u003ez2=%{y}\\u003cextra\\u003e\\u003c\\u002fextra\\u003e\",\"legendgroup\":\"\",\"marker\":{\"color\":\"#636efa\",\"symbol\":\"circle\"},\"mode\":\"markers\",\"name\":\"\",\"orientation\":\"v\",\"showlegend\":false,\"x\":[-0.7263683673570769,0.0],\"xaxis\":\"x\",\"y\":[-0.6873056051735753,0.0],\"yaxis\":\"y\",\"type\":\"scatter\"}],\"name\":\"-2.3838195477386934\"},{\"data\":[{\"hovertemplate\":\"theta=-2.3522457788944724\\u003cbr\\u003ez1=%{x}\\u003cbr\\u003ez2=%{y}\\u003cextra\\u003e\\u003c\\u002fextra\\u003e\",\"legendgroup\":\"\",\"marker\":{\"color\":\"#636efa\",\"symbol\":\"circle\"},\"mode\":\"markers\",\"name\":\"\",\"orientation\":\"v\",\"showlegend\":false,\"x\":[-0.7043091151961487,0.0],\"xaxis\":\"x\",\"y\":[-0.7098934217554197,0.0],\"yaxis\":\"y\",\"type\":\"scatter\"}],\"name\":\"-2.3522457788944724\"},{\"data\":[{\"hovertemplate\":\"theta=-2.3206720100502514\\u003cbr\\u003ez1=%{x}\\u003cbr\\u003ez2=%{y}\\u003cextra\\u003e\\u003c\\u002fextra\\u003e\",\"legendgroup\":\"\",\"marker\":{\"color\":\"#636efa\",\"symbol\":\"circle\"},\"mode\":\"markers\",\"name\":\"\",\"orientation\":\"v\",\"showlegend\":false,\"x\":[-0.6815477935780516,0.0],\"xaxis\":\"x\",\"y\":[-0.731773602331274,0.0],\"yaxis\":\"y\",\"type\":\"scatter\"}],\"name\":\"-2.3206720100502514\"},{\"data\":[{\"hovertemplate\":\"theta=-2.28909824120603\\u003cbr\\u003ez1=%{x}\\u003cbr\\u003ez2=%{y}\\u003cextra\\u003e\\u003c\\u002fextra\\u003e\",\"legendgroup\":\"\",\"marker\":{\"color\":\"#636efa\",\"symbol\":\"circle\"},\"mode\":\"markers\",\"name\":\"\",\"orientation\":\"v\",\"showlegend\":false,\"x\":[-0.6581070914448535,0.0],\"xaxis\":\"x\",\"y\":[-0.7529243362981404,0.0],\"yaxis\":\"y\",\"type\":\"scatter\"}],\"name\":\"-2.28909824120603\"},{\"data\":[{\"hovertemplate\":\"theta=-2.257524472361809\\u003cbr\\u003ez1=%{x}\\u003cbr\\u003ez2=%{y}\\u003cextra\\u003e\\u003c\\u002fextra\\u003e\",\"legendgroup\":\"\",\"marker\":{\"color\":\"#636efa\",\"symbol\":\"circle\"},\"mode\":\"markers\",\"name\":\"\",\"orientation\":\"v\",\"showlegend\":false,\"x\":[-0.6340103749587517,0.0],\"xaxis\":\"x\",\"y\":[-0.7733245401800354,0.0],\"yaxis\":\"y\",\"type\":\"scatter\"}],\"name\":\"-2.257524472361809\"},{\"data\":[{\"hovertemplate\":\"theta=-2.225950703517588\\u003cbr\\u003ez1=%{x}\\u003cbr\\u003ez2=%{y}\\u003cextra\\u003e\\u003c\\u002fextra\\u003e\",\"legendgroup\":\"\",\"marker\":{\"color\":\"#636efa\",\"symbol\":\"circle\"},\"mode\":\"markers\",\"name\":\"\",\"orientation\":\"v\",\"showlegend\":false,\"x\":[-0.6092816642102118,0.0],\"xaxis\":\"x\",\"y\":[-0.7929538786444232,0.0],\"yaxis\":\"y\",\"type\":\"scatter\"}],\"name\":\"-2.225950703517588\"},{\"data\":[{\"hovertemplate\":\"theta=-2.194376934673367\\u003cbr\\u003ez1=%{x}\\u003cbr\\u003ez2=%{y}\\u003cextra\\u003e\\u003c\\u002fextra\\u003e\",\"legendgroup\":\"\",\"marker\":{\"color\":\"#636efa\",\"symbol\":\"circle\"},\"mode\":\"markers\",\"name\":\"\",\"orientation\":\"v\",\"showlegend\":false,\"x\":[-0.5839456092742608,0.0],\"xaxis\":\"x\",\"y\":[-0.8117927847728831,0.0],\"yaxis\":\"y\",\"type\":\"scatter\"}],\"name\":\"-2.194376934673367\"},{\"data\":[{\"hovertemplate\":\"theta=-2.162803165829146\\u003cbr\\u003ez1=%{x}\\u003cbr\\u003ez2=%{y}\\u003cextra\\u003e\\u003c\\u002fextra\\u003e\",\"legendgroup\":\"\",\"marker\":{\"color\":\"#636efa\",\"symbol\":\"circle\"},\"mode\":\"markers\",\"name\":\"\",\"orientation\":\"v\",\"showlegend\":false,\"x\":[-0.558027465638797,0.0],\"xaxis\":\"x\",\"y\":[-0.8298224795658052,0.0],\"yaxis\":\"y\",\"type\":\"scatter\"}],\"name\":\"-2.162803165829146\"},{\"data\":[{\"hovertemplate\":\"theta=-2.1312293969849243\\u003cbr\\u003ez1=%{x}\\u003cbr\\u003ez2=%{y}\\u003cextra\\u003e\\u003c\\u002fextra\\u003e\",\"legendgroup\":\"\",\"marker\":{\"color\":\"#636efa\",\"symbol\":\"circle\"},\"mode\":\"markers\",\"name\":\"\",\"orientation\":\"v\",\"showlegend\":false,\"x\":[-0.5315530690294136,0.0],\"xaxis\":\"x\",\"y\":[-0.8470249906616756,0.0],\"yaxis\":\"y\",\"type\":\"scatter\"}],\"name\":\"-2.1312293969849243\"},{\"data\":[{\"hovertemplate\":\"theta=-2.0996556281407033\\u003cbr\\u003ez1=%{x}\\u003cbr\\u003ez2=%{y}\\u003cextra\\u003e\\u003c\\u002fextra\\u003e\",\"legendgroup\":\"\",\"marker\":{\"color\":\"#636efa\",\"symbol\":\"circle\"},\"mode\":\"markers\",\"name\":\"\",\"orientation\":\"v\",\"showlegend\":false,\"x\":[-0.504548809655829,0.0],\"xaxis\":\"x\",\"y\":[-0.8633831702522848,0.0],\"yaxis\":\"y\",\"type\":\"scatter\"}],\"name\":\"-2.0996556281407033\"},{\"data\":[{\"hovertemplate\":\"theta=-2.0680818592964822\\u003cbr\\u003ez1=%{x}\\u003cbr\\u003ez2=%{y}\\u003cextra\\u003e\\u003c\\u002fextra\\u003e\",\"legendgroup\":\"\",\"marker\":{\"color\":\"#636efa\",\"symbol\":\"circle\"},\"mode\":\"markers\",\"name\":\"\",\"orientation\":\"v\",\"showlegend\":false,\"x\":[-0.477041605905596,0.0],\"xaxis\":\"x\",\"y\":[-0.8788807121760097,0.0],\"yaxis\":\"y\",\"type\":\"scatter\"}],\"name\":\"-2.0680818592964822\"},{\"data\":[{\"hovertemplate\":\"theta=-2.036508090452261\\u003cbr\\u003ez1=%{x}\\u003cbr\\u003ez2=%{y}\\u003cextra\\u003e\\u003c\\u002fextra\\u003e\",\"legendgroup\":\"\",\"marker\":{\"color\":\"#636efa\",\"symbol\":\"circle\"},\"mode\":\"markers\",\"name\":\"\",\"orientation\":\"v\",\"showlegend\":false,\"x\":[-0.44905887751131235,0.0],\"xaxis\":\"x\",\"y\":[-0.8935021681721205,0.0],\"yaxis\":\"y\",\"type\":\"scatter\"}],\"name\":\"-2.036508090452261\"},{\"data\":[{\"hovertemplate\":\"theta=-2.00493432160804\\u003cbr\\u003ez1=%{x}\\u003cbr\\u003ez2=%{y}\\u003cextra\\u003e\\u003c\\u002fextra\\u003e\",\"legendgroup\":\"\",\"marker\":{\"color\":\"#636efa\",\"symbol\":\"circle\"},\"mode\":\"markers\",\"name\":\"\",\"orientation\":\"v\",\"showlegend\":false,\"x\":[-0.42062851821808245,0.0],\"xaxis\":\"x\",\"y\":[-0.9072329632799176,0.0],\"yaxis\":\"y\",\"type\":\"scatter\"}],\"name\":\"-2.00493432160804\"},{\"data\":[{\"hovertemplate\":\"theta=-1.973360552763819\\u003cbr\\u003ez1=%{x}\\u003cbr\\u003ez2=%{y}\\u003cextra\\u003e\\u003c\\u002fextra\\u003e\",\"legendgroup\":\"\",\"marker\":{\"color\":\"#636efa\",\"symbol\":\"circle\"},\"mode\":\"markers\",\"name\":\"\",\"orientation\":\"v\",\"showlegend\":false,\"x\":[-0.39177886797847156,0.0],\"xaxis\":\"x\",\"y\":[-0.9200594103673454,0.0],\"yaxis\":\"y\",\"type\":\"scatter\"}],\"name\":\"-1.973360552763819\"},{\"data\":[{\"hovertemplate\":\"theta=-1.941786783919598\\u003cbr\\u003ez1=%{x}\\u003cbr\\u003ez2=%{y}\\u003cextra\\u003e\\u003c\\u002fextra\\u003e\",\"legendgroup\":\"\",\"marker\":{\"color\":\"#636efa\",\"symbol\":\"circle\"},\"mode\":\"markers\",\"name\":\"\",\"orientation\":\"v\",\"showlegend\":false,\"x\":[-0.36253868470267364,0.0],\"xaxis\":\"x\",\"y\":[-0.9319687237745993,0.0],\"yaxis\":\"y\",\"type\":\"scatter\"}],\"name\":\"-1.941786783919598\"},{\"data\":[{\"hovertemplate\":\"theta=-1.9102130150753769\\u003cbr\\u003ez1=%{x}\\u003cbr\\u003ez2=%{y}\\u003cextra\\u003e\\u003c\\u002fextra\\u003e\",\"legendgroup\":\"\",\"marker\":{\"color\":\"#636efa\",\"symbol\":\"circle\"},\"mode\":\"markers\",\"name\":\"\",\"orientation\":\"v\",\"showlegend\":false,\"x\":[-0.3329371155920479,0.0],\"xaxis\":\"x\",\"y\":[-0.9429490320591285,0.0],\"yaxis\":\"y\",\"type\":\"scatter\"}],\"name\":\"-1.9102130150753769\"},{\"data\":[{\"hovertemplate\":\"theta=-1.8786392462311556\\u003cbr\\u003ez1=%{x}\\u003cbr\\u003ez2=%{y}\\u003cextra\\u003e\\u003c\\u002fextra\\u003e\",\"legendgroup\":\"\",\"marker\":{\"color\":\"#636efa\",\"symbol\":\"circle\"},\"mode\":\"markers\",\"name\":\"\",\"orientation\":\"v\",\"showlegend\":false,\"x\":[-0.30300366808460466,0.0],\"xaxis\":\"x\",\"y\":[-0.9529893898293279,0.0],\"yaxis\":\"y\",\"type\":\"scatter\"}],\"name\":\"-1.8786392462311556\"},{\"data\":[{\"hovertemplate\":\"theta=-1.8470654773869346\\u003cbr\\u003ez1=%{x}\\u003cbr\\u003ez2=%{y}\\u003cextra\\u003e\\u003c\\u002fextra\\u003e\",\"legendgroup\":\"\",\"marker\":{\"color\":\"#636efa\",\"symbol\":\"circle\"},\"mode\":\"markers\",\"name\":\"\",\"orientation\":\"v\",\"showlegend\":false,\"x\":[-0.27276818044139944,0.0],\"xaxis\":\"x\",\"y\":[-0.962079788655124,0.0],\"yaxis\":\"y\",\"type\":\"scatter\"}],\"name\":\"-1.8470654773869346\"},{\"data\":[{\"hovertemplate\":\"theta=-1.8154917085427136\\u003cbr\\u003ez1=%{x}\\u003cbr\\u003ez2=%{y}\\u003cextra\\u003e\\u003c\\u002fextra\\u003e\",\"legendgroup\":\"\",\"marker\":{\"color\":\"#636efa\",\"symbol\":\"circle\"},\"mode\":\"markers\",\"name\":\"\",\"orientation\":\"v\",\"showlegend\":false,\"x\":[-0.24226079200315465,0.0],\"xaxis\":\"x\",\"y\":[-0.9702111670445791,0.0],\"yaxis\":\"y\",\"type\":\"scatter\"}],\"name\":\"-1.8154917085427136\"},{\"data\":[{\"hovertemplate\":\"theta=-1.7839179396984923\\u003cbr\\u003ez1=%{x}\\u003cbr\\u003ez2=%{y}\\u003cextra\\u003e\\u003c\\u002fextra\\u003e\",\"legendgroup\":\"\",\"marker\":{\"color\":\"#636efa\",\"symbol\":\"circle\"},\"mode\":\"markers\",\"name\":\"\",\"orientation\":\"v\",\"showlegend\":false,\"x\":[-0.21151191314676046,0.0],\"xaxis\":\"x\",\"y\":[-0.977375419476568,0.0],\"yaxis\":\"y\",\"type\":\"scatter\"}],\"name\":\"-1.7839179396984923\"},{\"data\":[{\"hovertemplate\":\"theta=-1.7523441708542713\\u003cbr\\u003ez1=%{x}\\u003cbr\\u003ez2=%{y}\\u003cextra\\u003e\\u003c\\u002fextra\\u003e\",\"legendgroup\":\"\",\"marker\":{\"color\":\"#636efa\",\"symbol\":\"circle\"},\"mode\":\"markers\",\"name\":\"\",\"orientation\":\"v\",\"showlegend\":false,\"x\":[-0.18055219497160177,0.0],\"xaxis\":\"x\",\"y\":[-0.983565404480524,0.0],\"yaxis\":\"y\",\"type\":\"scatter\"}],\"name\":\"-1.7523441708542713\"},{\"data\":[{\"hovertemplate\":\"theta=-1.7207704020100503\\u003cbr\\u003ez1=%{x}\\u003cbr\\u003ez2=%{y}\\u003cextra\\u003e\\u003c\\u002fextra\\u003e\",\"legendgroup\":\"\",\"marker\":{\"color\":\"#636efa\",\"symbol\":\"circle\"},\"mode\":\"markers\",\"name\":\"\",\"orientation\":\"v\",\"showlegend\":false,\"x\":[-0.14941249874592605,0.0],\"xaxis\":\"x\",\"y\":[-0.9887749517552002,0.0],\"yaxis\":\"y\",\"type\":\"scatter\"}],\"name\":\"-1.7207704020100503\"},{\"data\":[{\"hovertemplate\":\"theta=-1.689196633165829\\u003cbr\\u003ez1=%{x}\\u003cbr\\u003ez2=%{y}\\u003cextra\\u003e\\u003c\\u002fextra\\u003e\",\"legendgroup\":\"\",\"marker\":{\"color\":\"#636efa\",\"symbol\":\"circle\"},\"mode\":\"markers\",\"name\":\"\",\"orientation\":\"v\",\"showlegend\":false,\"x\":[-0.11812386514371252,0.0],\"xaxis\":\"x\",\"y\":[-0.9929988683193501,0.0],\"yaxis\":\"y\",\"type\":\"scatter\"}],\"name\":\"-1.689196633165829\"},{\"data\":[{\"hovertemplate\":\"theta=-1.657622864321608\\u003cbr\\u003ez1=%{x}\\u003cbr\\u003ez2=%{y}\\u003cextra\\u003e\\u003c\\u002fextra\\u003e\",\"legendgroup\":\"\",\"marker\":{\"color\":\"#636efa\",\"symbol\":\"circle\"},\"mode\":\"markers\",\"name\":\"\",\"orientation\":\"v\",\"showlegend\":false,\"x\":[-0.08671748330270629,0.0],\"xaxis\":\"x\",\"y\":[-0.9962329436881943,0.0],\"yaxis\":\"y\",\"type\":\"scatter\"}],\"name\":\"-1.657622864321608\"},{\"data\":[{\"hovertemplate\":\"theta=-1.626049095477387\\u003cbr\\u003ez1=%{x}\\u003cbr\\u003ez2=%{y}\\u003cextra\\u003e\\u003c\\u002fextra\\u003e\",\"legendgroup\":\"\",\"marker\":{\"color\":\"#636efa\",\"symbol\":\"circle\"},\"mode\":\"markers\",\"name\":\"\",\"orientation\":\"v\",\"showlegend\":false,\"x\":[-0.05522465973445868,0.0],\"xaxis\":\"x\",\"y\":[-0.9984739540705172,0.0],\"yaxis\":\"y\",\"type\":\"scatter\"}],\"name\":\"-1.626049095477387\"},{\"data\":[{\"hovertemplate\":\"theta=-1.5944753266331657\\u003cbr\\u003ez1=%{x}\\u003cbr\\u003ez2=%{y}\\u003cextra\\u003e\\u003c\\u002fextra\\u003e\",\"legendgroup\":\"\",\"marker\":{\"color\":\"#636efa\",\"symbol\":\"circle\"},\"mode\":\"markers\",\"name\":\"\",\"orientation\":\"v\",\"showlegend\":false,\"x\":[-0.02367678711736912,0.0],\"xaxis\":\"x\",\"y\":[-0.9997196655822065,0.0],\"yaxis\":\"y\",\"type\":\"scatter\"}],\"name\":\"-1.5944753266331657\"},{\"data\":[{\"hovertemplate\":\"theta=-1.5629015577889447\\u003cbr\\u003ez1=%{x}\\u003cbr\\u003ez2=%{y}\\u003cextra\\u003e\\u003c\\u002fextra\\u003e\",\"legendgroup\":\"\",\"marker\":{\"color\":\"#636efa\",\"symbol\":\"circle\"},\"mode\":\"markers\",\"name\":\"\",\"orientation\":\"v\",\"showlegend\":false,\"x\":[0.00789468699616595,0.0],\"xaxis\":\"x\",\"y\":[-0.9999688364730336,0.0],\"yaxis\":\"y\",\"type\":\"scatter\"}],\"name\":\"-1.5629015577889447\"},{\"data\":[{\"hovertemplate\":\"theta=-1.5313277889447234\\u003cbr\\u003ez1=%{x}\\u003cbr\\u003ez2=%{y}\\u003cextra\\u003e\\u003c\\u002fextra\\u003e\",\"legendgroup\":\"\",\"marker\":{\"color\":\"#636efa\",\"symbol\":\"circle\"},\"mode\":\"markers\",\"name\":\"\",\"orientation\":\"v\",\"showlegend\":false,\"x\":[0.03945829152730577,0.0],\"xaxis\":\"x\",\"y\":[-0.9992212183644551,0.0],\"yaxis\":\"y\",\"type\":\"scatter\"}],\"name\":\"-1.5313277889447234\"},{\"data\":[{\"hovertemplate\":\"theta=-1.4997540201005024\\u003cbr\\u003ez1=%{x}\\u003cbr\\u003ez2=%{y}\\u003cextra\\u003e\\u003c\\u002fextra\\u003e\",\"legendgroup\":\"\",\"marker\":{\"color\":\"#636efa\",\"symbol\":\"circle\"},\"mode\":\"markers\",\"name\":\"\",\"orientation\":\"v\",\"showlegend\":false,\"x\":[0.07098256324176631,0.0],\"xaxis\":\"x\",\"y\":[-0.9974775564972019,0.0],\"yaxis\":\"y\",\"type\":\"scatter\"}],\"name\":\"-1.4997540201005024\"},{\"data\":[{\"hovertemplate\":\"theta=-1.4681802512562814\\u003cbr\\u003ez1=%{x}\\u003cbr\\u003ez2=%{y}\\u003cextra\\u003e\\u003c\\u002fextra\\u003e\",\"legendgroup\":\"\",\"marker\":{\"color\":\"#636efa\",\"symbol\":\"circle\"},\"mode\":\"markers\",\"name\":\"\",\"orientation\":\"v\",\"showlegend\":false,\"x\":[0.10243607811300508,0.0],\"xaxis\":\"x\",\"y\":[-0.9947395889884078,0.0],\"yaxis\":\"y\",\"type\":\"scatter\"}],\"name\":\"-1.4681802512562814\"},{\"data\":[{\"hovertemplate\":\"theta=-1.4366064824120601\\u003cbr\\u003ez1=%{x}\\u003cbr\\u003ez2=%{y}\\u003cextra\\u003e\\u003c\\u002fextra\\u003e\",\"legendgroup\":\"\",\"marker\":{\"color\":\"#636efa\",\"symbol\":\"circle\"},\"mode\":\"markers\",\"name\":\"\",\"orientation\":\"v\",\"showlegend\":false,\"x\":[0.1337874826463205,0.0],\"xaxis\":\"x\",\"y\":[-0.9910100450990195,0.0],\"yaxis\":\"y\",\"type\":\"scatter\"}],\"name\":\"-1.4366064824120601\"},{\"data\":[{\"hovertemplate\":\"theta=-1.405032713567839\\u003cbr\\u003ez1=%{x}\\u003cbr\\u003ez2=%{y}\\u003cextra\\u003e\\u003c\\u002fextra\\u003e\",\"legendgroup\":\"\",\"marker\":{\"color\":\"#636efa\",\"symbol\":\"circle\"},\"mode\":\"markers\",\"name\":\"\",\"orientation\":\"v\",\"showlegend\":false,\"x\":[0.16500552513264394,0.0],\"xaxis\":\"x\",\"y\":[-0.9862926425132149,0.0],\"yaxis\":\"y\",\"type\":\"scatter\"}],\"name\":\"-1.405032713567839\"},{\"data\":[{\"hovertemplate\":\"theta=-1.373458944723618\\u003cbr\\u003ez1=%{x}\\u003cbr\\u003ez2=%{y}\\u003cextra\\u003e\\u003c\\u002fextra\\u003e\",\"legendgroup\":\"\",\"marker\":{\"color\":\"#636efa\",\"symbol\":\"circle\"},\"mode\":\"markers\",\"name\":\"\",\"orientation\":\"v\",\"showlegend\":false,\"x\":[0.19605908680087164,0.0],\"xaxis\":\"x\",\"y\":[-0.980592083632541,0.0],\"yaxis\":\"y\",\"type\":\"scatter\"}],\"name\":\"-1.373458944723618\"},{\"data\":[{\"hovertemplate\":\"theta=-1.3418851758793968\\u003cbr\\u003ez1=%{x}\\u003cbr\\u003ez2=%{y}\\u003cextra\\u003e\\u003c\\u002fextra\\u003e\",\"legendgroup\":\"\",\"marker\":{\"color\":\"#636efa\",\"symbol\":\"circle\"},\"mode\":\"markers\",\"name\":\"\",\"orientation\":\"v\",\"showlegend\":false,\"x\":[0.22691721283767938,0.0],\"xaxis\":\"x\",\"y\":[-0.9739140508884648,0.0],\"yaxis\":\"y\",\"type\":\"scatter\"}],\"name\":\"-1.3418851758793968\"},{\"data\":[{\"hovertemplate\":\"theta=-1.3103114070351758\\u003cbr\\u003ez1=%{x}\\u003cbr\\u003ez2=%{y}\\u003cextra\\u003e\\u003c\\u002fextra\\u003e\",\"legendgroup\":\"\",\"marker\":{\"color\":\"#636efa\",\"symbol\":\"circle\"},\"mode\":\"markers\",\"name\":\"\",\"orientation\":\"v\",\"showlegend\":false,\"x\":[0.2575491432439009,0.0],\"xaxis\":\"x\",\"y\":[-0.9662652010780128,0.0],\"yaxis\":\"y\",\"type\":\"scatter\"}],\"name\":\"-1.3103114070351758\"},{\"data\":[{\"hovertemplate\":\"theta=-1.2787376381909548\\u003cbr\\u003ez1=%{x}\\u003cbr\\u003ez2=%{y}\\u003cextra\\u003e\\u003c\\u002fextra\\u003e\",\"legendgroup\":\"\",\"marker\":{\"color\":\"#636efa\",\"symbol\":\"circle\"},\"mode\":\"markers\",\"name\":\"\",\"orientation\":\"v\",\"showlegend\":false,\"x\":[0.28792434349671353,0.0],\"xaxis\":\"x\",\"y\":[-0.9576531587281413,0.0],\"yaxis\":\"y\",\"type\":\"scatter\"}],\"name\":\"-1.2787376381909548\"},{\"data\":[{\"hovertemplate\":\"theta=-1.2471638693467335\\u003cbr\\u003ez1=%{x}\\u003cbr\\u003ez2=%{y}\\u003cextra\\u003e\\u003c\\u002fextra\\u003e\",\"legendgroup\":\"\",\"marker\":{\"color\":\"#636efa\",\"symbol\":\"circle\"},\"mode\":\"markers\",\"name\":\"\",\"orientation\":\"v\",\"showlegend\":false,\"x\":[0.3180125349870625,0.0],\"xaxis\":\"x\",\"y\":[-0.948086508495455,0.0],\"yaxis\":\"y\",\"type\":\"scatter\"}],\"name\":\"-1.2471638693467335\"},{\"data\":[{\"hovertemplate\":\"theta=-1.2155901005025125\\u003cbr\\u003ez1=%{x}\\u003cbr\\u003ez2=%{y}\\u003cextra\\u003e\\u003c\\u002fextra\\u003e\",\"legendgroup\":\"\",\"marker\":{\"color\":\"#636efa\",\"symbol\":\"circle\"},\"mode\":\"markers\",\"name\":\"\",\"orientation\":\"v\",\"showlegend\":false,\"x\":[0.34778372520198525,0.0],\"xaxis\":\"x\",\"y\":[-0.9375747866088496,0.0],\"yaxis\":\"y\",\"type\":\"scatter\"}],\"name\":\"-1.2155901005025125\"},{\"data\":[{\"hovertemplate\":\"theta=-1.1840163316582915\\u003cbr\\u003ez1=%{x}\\u003cbr\\u003ez2=%{y}\\u003cextra\\u003e\\u003c\\u002fextra\\u003e\",\"legendgroup\":\"\",\"marker\":{\"color\":\"#636efa\",\"symbol\":\"circle\"},\"mode\":\"markers\",\"name\":\"\",\"orientation\":\"v\",\"showlegend\":false,\"x\":[0.37720823762175165,0.0],\"xaxis\":\"x\",\"y\":[-0.9261284713636074,0.0],\"yaxis\":\"y\",\"type\":\"scatter\"}],\"name\":\"-1.1840163316582915\"},{\"data\":[{\"hovertemplate\":\"theta=-1.1524425628140702\\u003cbr\\u003ez1=%{x}\\u003cbr\\u003ez2=%{y}\\u003cextra\\u003e\\u003c\\u002fextra\\u003e\",\"legendgroup\":\"\",\"marker\":{\"color\":\"#636efa\",\"symbol\":\"circle\"},\"mode\":\"markers\",\"name\":\"\",\"orientation\":\"v\",\"showlegend\":false,\"x\":[0.4062567413020132,0.0],\"xaxis\":\"x\",\"y\":[-0.9137589726764215,0.0],\"yaxis\":\"y\",\"type\":\"scatter\"}],\"name\":\"-1.1524425628140702\"},{\"data\":[{\"hovertemplate\":\"theta=-1.1208687939698492\\u003cbr\\u003ez1=%{x}\\u003cbr\\u003ez2=%{y}\\u003cextra\\u003e\\u003c\\u002fextra\\u003e\",\"legendgroup\":\"\",\"marker\":{\"color\":\"#636efa\",\"symbol\":\"circle\"},\"mode\":\"markers\",\"name\":\"\",\"orientation\":\"v\",\"showlegend\":false,\"x\":[0.4349002801114767,0.0],\"xaxis\":\"x\",\"y\":[-0.900478620711763,0.0],\"yaxis\":\"y\",\"type\":\"scatter\"}],\"name\":\"-1.1208687939698492\"},{\"data\":[{\"hovertemplate\":\"theta=-1.0892950251256281\\u003cbr\\u003ez1=%{x}\\u003cbr\\u003ez2=%{y}\\u003cextra\\u003e\\u003c\\u002fextra\\u003e\",\"legendgroup\":\"\",\"marker\":{\"color\":\"#636efa\",\"symbol\":\"circle\"},\"mode\":\"markers\",\"name\":\"\",\"orientation\":\"v\",\"showlegend\":false,\"x\":[0.4631103015959579,0.0],\"xaxis\":\"x\",\"y\":[-0.886300653590925,0.0],\"yaxis\":\"y\",\"type\":\"scatter\"}],\"name\":\"-1.0892950251256281\"},{\"data\":[{\"hovertemplate\":\"theta=-1.0577212562814071\\u003cbr\\u003ez1=%{x}\\u003cbr\\u003ez2=%{y}\\u003cextra\\u003e\\u003c\\u002fextra\\u003e\",\"legendgroup\":\"\",\"marker\":{\"color\":\"#636efa\",\"symbol\":\"circle\"},\"mode\":\"markers\",\"name\":\"\",\"orientation\":\"v\",\"showlegend\":false,\"x\":[0.49085868544003985,0.0],\"xaxis\":\"x\",\"y\":[-0.8712392041959981,0.0],\"yaxis\":\"y\",\"type\":\"scatter\"}],\"name\":\"-1.0577212562814071\"},{\"data\":[{\"hovertemplate\":\"theta=-1.0261474874371856\\u003cbr\\u003ez1=%{x}\\u003cbr\\u003ez2=%{y}\\u003cextra\\u003e\\u003c\\u002fextra\\u003e\",\"legendgroup\":\"\",\"marker\":{\"color\":\"#636efa\",\"symbol\":\"circle\"},\"mode\":\"markers\",\"name\":\"\",\"orientation\":\"v\",\"showlegend\":false,\"x\":[0.5181177714979681,0.0],\"xaxis\":\"x\",\"y\":[-0.8553092860819291,0.0],\"yaxis\":\"y\",\"type\":\"scatter\"}],\"name\":\"-1.0261474874371856\"},{\"data\":[{\"hovertemplate\":\"theta=-0.9945737185929646\\u003cbr\\u003ez1=%{x}\\u003cbr\\u003ez2=%{y}\\u003cextra\\u003e\\u003c\\u002fextra\\u003e\",\"legendgroup\":\"\",\"marker\":{\"color\":\"#636efa\",\"symbol\":\"circle\"},\"mode\":\"markers\",\"name\":\"\",\"orientation\":\"v\",\"showlegend\":false,\"x\":[0.5448603873658375,0.0],\"xaxis\":\"x\",\"y\":[-0.8385267785107101,0.0],\"yaxis\":\"y\",\"type\":\"scatter\"}],\"name\":\"-0.9945737185929646\"},{\"data\":[{\"hovertemplate\":\"theta=-0.9629999497487436\\u003cbr\\u003ez1=%{x}\\u003cbr\\u003ez2=%{y}\\u003cextra\\u003e\\u003c\\u002fextra\\u003e\",\"legendgroup\":\"\",\"marker\":{\"color\":\"#636efa\",\"symbol\":\"circle\"},\"mode\":\"markers\",\"name\":\"\",\"orientation\":\"v\",\"showlegend\":false,\"x\":[0.5710598754675922,0.0],\"xaxis\":\"x\",\"y\":[-0.820908410622609,0.0],\"yaxis\":\"y\",\"type\":\"scatter\"}],\"name\":\"-0.9629999497487436\"},{\"data\":[{\"hovertemplate\":\"theta=-0.9314261809045226\\u003cbr\\u003ez1=%{x}\\u003cbr\\u003ez2=%{y}\\u003cextra\\u003e\\u003c\\u002fextra\\u003e\",\"legendgroup\":\"\",\"marker\":{\"color\":\"#636efa\",\"symbol\":\"circle\"},\"mode\":\"markers\",\"name\":\"\",\"orientation\":\"v\",\"showlegend\":false,\"x\":[0.5966901196278299,0.0],\"xaxis\":\"x\",\"y\":[-0.802471744760229,0.0],\"yaxis\":\"y\",\"type\":\"scatter\"}],\"name\":\"-0.9314261809045226\"},{\"data\":[{\"hovertemplate\":\"theta=-0.8998524120603015\\u003cbr\\u003ez1=%{x}\\u003cbr\\u003ez2=%{y}\\u003cextra\\u003e\\u003c\\u002fextra\\u003e\",\"legendgroup\":\"\",\"marker\":{\"color\":\"#636efa\",\"symbol\":\"circle\"},\"mode\":\"markers\",\"name\":\"\",\"orientation\":\"v\",\"showlegend\":false,\"x\":[0.6217255711049308,0.0],\"xaxis\":\"x\",\"y\":[-0.7832351589620117,0.0],\"yaxis\":\"y\",\"type\":\"scatter\"}],\"name\":\"-0.8998524120603015\"},{\"data\":[{\"hovertemplate\":\"theta=-0.8682786432160805\\u003cbr\\u003ez1=%{x}\\u003cbr\\u003ez2=%{y}\\u003cextra\\u003e\\u003c\\u002fextra\\u003e\",\"legendgroup\":\"\",\"marker\":{\"color\":\"#636efa\",\"symbol\":\"circle\"},\"mode\":\"markers\",\"name\":\"\",\"orientation\":\"v\",\"showlegend\":false,\"x\":[0.6461412740585554,0.0],\"xaxis\":\"x\",\"y\":[-0.7632178286426404,0.0],\"yaxis\":\"y\",\"type\":\"scatter\"}],\"name\":\"-0.8682786432160805\"},{\"data\":[{\"hovertemplate\":\"theta=-0.836704874371859\\u003cbr\\u003ez1=%{x}\\u003cbr\\u003ez2=%{y}\\u003cextra\\u003e\\u003c\\u002fextra\\u003e\",\"legendgroup\":\"\",\"marker\":{\"color\":\"#636efa\",\"symbol\":\"circle\"},\"mode\":\"markers\",\"name\":\"\",\"orientation\":\"v\",\"showlegend\":false,\"x\":[0.6699128904261271,0.0],\"xaxis\":\"x\",\"y\":[-0.7424397074786018,0.0],\"yaxis\":\"y\",\"type\":\"scatter\"}],\"name\":\"-0.836704874371859\"},{\"data\":[{\"hovertemplate\":\"theta=-0.805131105527638\\u003cbr\\u003ez1=%{x}\\u003cbr\\u003ez2=%{y}\\u003cextra\\u003e\\u003c\\u002fextra\\u003e\",\"legendgroup\":\"\",\"marker\":{\"color\":\"#636efa\",\"symbol\":\"circle\"},\"mode\":\"markers\",\"name\":\"\",\"orientation\":\"v\",\"showlegend\":false,\"x\":[0.6930167241835005,0.0],\"xaxis\":\"x\",\"y\":[-0.7209215075179614,0.0],\"yaxis\":\"y\",\"type\":\"scatter\"}],\"name\":\"-0.805131105527638\"},{\"data\":[{\"hovertemplate\":\"theta=-0.773557336683417\\u003cbr\\u003ez1=%{x}\\u003cbr\\u003ez2=%{y}\\u003cextra\\u003e\\u003c\\u002fextra\\u003e\",\"legendgroup\":\"\",\"marker\":{\"color\":\"#636efa\",\"symbol\":\"circle\"},\"mode\":\"markers\",\"name\":\"\",\"orientation\":\"v\",\"showlegend\":false,\"x\":[0.7154297449656349,0.0],\"xaxis\":\"x\",\"y\":[-0.6986846785341773,0.0],\"yaxis\":\"y\",\"type\":\"scatter\"}],\"name\":\"-0.773557336683417\"},{\"data\":[{\"hovertemplate\":\"theta=-0.741983567839196\\u003cbr\\u003ez1=%{x}\\u003cbr\\u003ez2=%{y}\\u003cextra\\u003e\\u003c\\u002fextra\\u003e\",\"legendgroup\":\"\",\"marker\":{\"color\":\"#636efa\",\"symbol\":\"circle\"},\"mode\":\"markers\",\"name\":\"\",\"orientation\":\"v\",\"showlegend\":false,\"x\":[0.7371296110237237,0.0],\"xaxis\":\"x\",\"y\":[-0.6757513866445366,0.0],\"yaxis\":\"y\",\"type\":\"scatter\"}],\"name\":\"-0.741983567839196\"},{\"data\":[{\"hovertemplate\":\"theta=-0.7104097989949749\\u003cbr\\u003ez1=%{x}\\u003cbr\\u003ez2=%{y}\\u003cextra\\u003e\\u003c\\u002fextra\\u003e\",\"legendgroup\":\"\",\"marker\":{\"color\":\"#636efa\",\"symbol\":\"circle\"},\"mode\":\"markers\",\"name\":\"\",\"orientation\":\"v\",\"showlegend\":false,\"x\":[0.7580946914958974,0.0],\"xaxis\":\"x\",\"y\":[-0.6521444922145246,0.0],\"yaxis\":\"y\",\"type\":\"scatter\"}],\"name\":\"-0.7104097989949749\"},{\"data\":[{\"hovertemplate\":\"theta=-0.6788360301507539\\u003cbr\\u003ez1=%{x}\\u003cbr\\u003ez2=%{y}\\u003cextra\\u003e\\u003c\\u002fextra\\u003e\",\"legendgroup\":\"\",\"marker\":{\"color\":\"#636efa\",\"symbol\":\"circle\"},\"mode\":\"markers\",\"name\":\"\",\"orientation\":\"v\",\"showlegend\":false,\"x\":[0.7783040879693016,0.0],\"xaxis\":\"x\",\"y\":[-0.6278875270701542,0.0],\"yaxis\":\"y\",\"type\":\"scatter\"}],\"name\":\"-0.6788360301507539\"},{\"data\":[{\"hovertemplate\":\"theta=-0.6472622613065324\\u003cbr\\u003ez1=%{x}\\u003cbr\\u003ez2=%{y}\\u003cextra\\u003e\\u003c\\u002fextra\\u003e\",\"legendgroup\":\"\",\"marker\":{\"color\":\"#636efa\",\"symbol\":\"circle\"},\"mode\":\"markers\",\"name\":\"\",\"orientation\":\"v\",\"showlegend\":false,\"x\":[0.7977376553120541,0.0],\"xaxis\":\"x\",\"y\":[-0.6030046710409683,0.0],\"yaxis\":\"y\",\"type\":\"scatter\"}],\"name\":\"-0.6472622613065324\"},{\"data\":[{\"hovertemplate\":\"theta=-0.6156884924623114\\u003cbr\\u003ez1=%{x}\\u003cbr\\u003ez2=%{y}\\u003cextra\\u003e\\u003c\\u002fextra\\u003e\",\"legendgroup\":\"\",\"marker\":{\"color\":\"#636efa\",\"symbol\":\"circle\"},\"mode\":\"markers\",\"name\":\"\",\"orientation\":\"v\",\"showlegend\":false,\"x\":[0.8163760217543149,0.0],\"xaxis\":\"x\",\"y\":[-0.5775207278571034,0.0],\"yaxis\":\"y\",\"type\":\"scatter\"}],\"name\":\"-0.6156884924623114\"},{\"data\":[{\"hovertemplate\":\"theta=-0.5841147236180904\\u003cbr\\u003ez1=%{x}\\u003cbr\\u003ez2=%{y}\\u003cextra\\u003e\\u003c\\u002fextra\\u003e\",\"legendgroup\":\"\",\"marker\":{\"color\":\"#636efa\",\"symbol\":\"circle\"},\"mode\":\"markers\",\"name\":\"\",\"orientation\":\"v\",\"showlegend\":false,\"x\":[0.8342006081984575,0.0],\"xaxis\":\"x\",\"y\":[-0.5514611004244302,0.0],\"yaxis\":\"y\",\"type\":\"scatter\"}],\"name\":\"-0.5841147236180904\"},{\"data\":[{\"hovertemplate\":\"theta=-0.5525409547738693\\u003cbr\\u003ez1=%{x}\\u003cbr\\u003ez2=%{y}\\u003cextra\\u003e\\u003c\\u002fextra\\u003e\",\"legendgroup\":\"\",\"marker\":{\"color\":\"#636efa\",\"symbol\":\"circle\"},\"mode\":\"markers\",\"name\":\"\",\"orientation\":\"v\",\"showlegend\":false,\"x\":[0.8511936467390852,0.0],\"xaxis\":\"x\",\"y\":[-0.5248517655024297,0.0],\"yaxis\":\"y\",\"type\":\"scatter\"}],\"name\":\"-0.5525409547738693\"},{\"data\":[{\"hovertemplate\":\"theta=-0.5209671859296483\\u003cbr\\u003ez1=%{x}\\u003cbr\\u003ez2=%{y}\\u003cextra\\u003e\\u003c\\u002fextra\\u003e\",\"legendgroup\":\"\",\"marker\":{\"color\":\"#636efa\",\"symbol\":\"circle\"},\"mode\":\"markers\",\"name\":\"\",\"orientation\":\"v\",\"showlegend\":false,\"x\":[0.8673381983744348,0.0],\"xaxis\":\"x\",\"y\":[-0.49771924781003746,0.0],\"yaxis\":\"y\",\"type\":\"scatter\"}],\"name\":\"-0.5209671859296483\"},{\"data\":[{\"hovertemplate\":\"theta=-0.4893934170854273\\u003cbr\\u003ez1=%{x}\\u003cbr\\u003ez2=%{y}\\u003cextra\\u003e\\u003c\\u002fextra\\u003e\",\"legendgroup\":\"\",\"marker\":{\"color\":\"#636efa\",\"symbol\":\"circle\"},\"mode\":\"markers\",\"name\":\"\",\"orientation\":\"v\",\"showlegend\":false,\"x\":[0.8826181698915149,0.0],\"xaxis\":\"x\",\"y\":[-0.47009059358527155,0.0],\"yaxis\":\"y\",\"type\":\"scatter\"}],\"name\":\"-0.4893934170854273\"},{\"data\":[{\"hovertemplate\":\"theta=-0.4578196482412058\\u003cbr\\u003ez1=%{x}\\u003cbr\\u003ez2=%{y}\\u003cextra\\u003e\\u003c\\u002fextra\\u003e\",\"legendgroup\":\"\",\"marker\":{\"color\":\"#636efa\",\"symbol\":\"circle\"},\"mode\":\"markers\",\"name\":\"\",\"orientation\":\"v\",\"showlegend\":false,\"x\":[0.8970183299081425,0.0],\"xaxis\":\"x\",\"y\":[-0.44199334362499965,0.0],\"yaxis\":\"y\",\"type\":\"scatter\"}],\"name\":\"-0.4578196482412058\"},{\"data\":[{\"hovertemplate\":\"theta=-0.4262458793969848\\u003cbr\\u003ez1=%{x}\\u003cbr\\u003ez2=%{y}\\u003cextra\\u003e\\u003c\\u002fextra\\u003e\",\"legendgroup\":\"\",\"marker\":{\"color\":\"#636efa\",\"symbol\":\"circle\"},\"mode\":\"markers\",\"name\":\"\",\"orientation\":\"v\",\"showlegend\":false,\"x\":[0.91052432405589,0.0],\"xaxis\":\"x\",\"y\":[-0.4134555058317214,0.0],\"yaxis\":\"y\",\"type\":\"scatter\"}],\"name\":\"-0.4262458793969848\"},{\"data\":[{\"hovertemplate\":\"theta=-0.39467211055276374\\u003cbr\\u003ez1=%{x}\\u003cbr\\u003ez2=%{y}\\u003cextra\\u003e\\u003c\\u002fextra\\u003e\",\"legendgroup\":\"\",\"marker\":{\"color\":\"#636efa\",\"symbol\":\"circle\"},\"mode\":\"markers\",\"name\":\"\",\"orientation\":\"v\",\"showlegend\":false,\"x\":[0.9231226892888094,0.0],\"xaxis\":\"x\",\"y\":[-0.3845055272947273,0.0],\"yaxis\":\"y\",\"type\":\"scatter\"}],\"name\":\"-0.39467211055276374\"},{\"data\":[{\"hovertemplate\":\"theta=-0.3630983417085427\\u003cbr\\u003ez1=%{x}\\u003cbr\\u003ez2=%{y}\\u003cextra\\u003e\\u003c\\u002fextra\\u003e\",\"legendgroup\":\"\",\"marker\":{\"color\":\"#636efa\",\"symbol\":\"circle\"},\"mode\":\"markers\",\"name\":\"\",\"orientation\":\"v\",\"showlegend\":false,\"x\":[0.9348008673036649,0.0],\"xaxis\":\"x\",\"y\":[-0.3551722659334706,0.0],\"yaxis\":\"y\",\"type\":\"scatter\"}],\"name\":\"-0.3630983417085427\"},{\"data\":[{\"hovertemplate\":\"theta=-0.3315245728643217\\u003cbr\\u003ez1=%{x}\\u003cbr\\u003ez2=%{y}\\u003cextra\\u003e\\u003c\\u002fextra\\u003e\",\"legendgroup\":\"\",\"marker\":{\"color\":\"#636efa\",\"symbol\":\"circle\"},\"mode\":\"markers\",\"name\":\"\",\"orientation\":\"v\",\"showlegend\":false,\"x\":[0.9455472170583022,0.0],\"xaxis\":\"x\",\"y\":[-0.32548496173141384,0.0],\"yaxis\":\"y\",\"type\":\"scatter\"}],\"name\":\"-0.3315245728643217\"},{\"data\":[{\"hovertemplate\":\"theta=-0.29995080402010066\\u003cbr\\u003ez1=%{x}\\u003cbr\\u003ez2=%{y}\\u003cextra\\u003e\\u003c\\u002fextra\\u003e\",\"legendgroup\":\"\",\"marker\":{\"color\":\"#636efa\",\"symbol\":\"circle\"},\"mode\":\"markers\",\"name\":\"\",\"orientation\":\"v\",\"showlegend\":false,\"x\":[0.955351026375673,0.0],\"xaxis\":\"x\",\"y\":[-0.29547320758902684,0.0],\"yaxis\":\"y\",\"type\":\"scatter\"}],\"name\":\"-0.29995080402010066\"},{\"data\":[{\"hovertemplate\":\"theta=-0.2683770351758792\\u003cbr\\u003ez1=%{x}\\u003cbr\\u003ez2=%{y}\\u003cextra\\u003e\\u003c\\u002fextra\\u003e\",\"legendgroup\":\"\",\"marker\":{\"color\":\"#636efa\",\"symbol\":\"circle\"},\"mode\":\"markers\",\"name\":\"\",\"orientation\":\"v\",\"showlegend\":false,\"x\":[0.9642025226219478,0.0],\"xaxis\":\"x\",\"y\":[-0.26516691982498913,0.0],\"yaxis\":\"y\",\"type\":\"scatter\"}],\"name\":\"-0.2683770351758792\"},{\"data\":[{\"hovertemplate\":\"theta=-0.23680326633165816\\u003cbr\\u003ez1=%{x}\\u003cbr\\u003ez2=%{y}\\u003cextra\\u003e\\u003c\\u002fextra\\u003e\",\"legendgroup\":\"\",\"marker\":{\"color\":\"#636efa\",\"symbol\":\"circle\"},\"mode\":\"markers\",\"name\":\"\",\"orientation\":\"v\",\"showlegend\":false,\"x\":[0.9720928824480731,0.0],\"xaxis\":\"x\",\"y\":[-0.2345963083550051,0.0],\"yaxis\":\"y\",\"type\":\"scatter\"}],\"name\":\"-0.23680326633165816\"},{\"data\":[{\"hovertemplate\":\"theta=-0.20522949748743713\\u003cbr\\u003ez1=%{x}\\u003cbr\\u003ez2=%{y}\\u003cextra\\u003e\\u003c\\u002fextra\\u003e\",\"legendgroup\":\"\",\"marker\":{\"color\":\"#636efa\",\"symbol\":\"circle\"},\"mode\":\"markers\",\"name\":\"\",\"orientation\":\"v\",\"showlegend\":false,\"x\":[0.9790142405850636,0.0],\"xaxis\":\"x\",\"y\":[-0.20379184657795135,0.0],\"yaxis\":\"y\",\"type\":\"scatter\"}],\"name\":\"-0.20522949748743713\"},{\"data\":[{\"hovertemplate\":\"theta=-0.1736557286432161\\u003cbr\\u003ez1=%{x}\\u003cbr\\u003ez2=%{y}\\u003cextra\\u003e\\u003c\\u002fextra\\u003e\",\"legendgroup\":\"\",\"marker\":{\"color\":\"#636efa\",\"symbol\":\"circle\"},\"mode\":\"markers\",\"name\":\"\",\"orientation\":\"v\",\"showlegend\":false,\"x\":[0.9849596976842592,0.0],\"xaxis\":\"x\",\"y\":[-0.1727842409993828,0.0],\"yaxis\":\"y\",\"type\":\"scatter\"}],\"name\":\"-0.1736557286432161\"},{\"data\":[{\"hovertemplate\":\"theta=-0.14208195979899507\\u003cbr\\u003ez1=%{x}\\u003cbr\\u003ez2=%{y}\\u003cextra\\u003e\\u003c\\u002fextra\\u003e\",\"legendgroup\":\"\",\"marker\":{\"color\":\"#636efa\",\"symbol\":\"circle\"},\"mode\":\"markers\",\"name\":\"\",\"orientation\":\"v\",\"showlegend\":false,\"x\":[0.9899233271947347,0.0],\"xaxis\":\"x\",\"y\":[-0.14160440062267166,0.0],\"yaxis\":\"y\",\"type\":\"scatter\"}],\"name\":\"-0.14208195979899507\"},{\"data\":[{\"hovertemplate\":\"theta=-0.11050819095477404\\u003cbr\\u003ez1=%{x}\\u003cbr\\u003ez2=%{y}\\u003cextra\\u003e\\u003c\\u002fextra\\u003e\",\"legendgroup\":\"\",\"marker\":{\"color\":\"#636efa\",\"symbol\":\"circle\"},\"mode\":\"markers\",\"name\":\"\",\"orientation\":\"v\",\"showlegend\":false,\"x\":[0.9939001812710049,0.0],\"xaxis\":\"x\",\"y\":[-0.11028340613829259,0.0],\"yaxis\":\"y\",\"type\":\"scatter\"}],\"name\":\"-0.11050819095477404\"},{\"data\":[{\"hovertemplate\":\"theta=-0.07893442211055257\\u003cbr\\u003ez1=%{x}\\u003cbr\\u003ez2=%{y}\\u003cextra\\u003e\\u003c\\u002fextra\\u003e\",\"legendgroup\":\"\",\"marker\":{\"color\":\"#636efa\",\"symbol\":\"circle\"},\"mode\":\"markers\",\"name\":\"\",\"orientation\":\"v\",\"showlegend\":false,\"x\":[0.9968862957051354,0.0],\"xaxis\":\"x\",\"y\":[-0.07885247894196643,0.0],\"yaxis\":\"y\",\"type\":\"scatter\"}],\"name\":\"-0.07893442211055257\"},{\"data\":[{\"hovertemplate\":\"theta=-0.04736065326633154\\u003cbr\\u003ez1=%{x}\\u003cbr\\u003ez2=%{y}\\u003cextra\\u003e\\u003c\\u002fextra\\u003e\",\"legendgroup\":\"\",\"marker\":{\"color\":\"#636efa\",\"symbol\":\"circle\"},\"mode\":\"markers\",\"name\":\"\",\"orientation\":\"v\",\"showlegend\":false,\"x\":[0.9988786938783455,0.0],\"xaxis\":\"x\",\"y\":[-0.047342950012548256,0.0],\"yaxis\":\"y\",\"type\":\"scatter\"}],\"name\":\"-0.04736065326633154\"},{\"data\":[{\"hovertemplate\":\"theta=-0.015786884422110514\\u003cbr\\u003ez1=%{x}\\u003cbr\\u003ez2=%{y}\\u003cextra\\u003e\\u003c\\u002fextra\\u003e\",\"legendgroup\":\"\",\"marker\":{\"color\":\"#636efa\",\"symbol\":\"circle\"},\"mode\":\"markers\",\"name\":\"\",\"orientation\":\"v\",\"showlegend\":false,\"x\":[0.9998753897281608,0.0],\"xaxis\":\"x\",\"y\":[-0.01578622868067648,0.0],\"yaxis\":\"y\",\"type\":\"scatter\"}],\"name\":\"-0.015786884422110514\"},{\"data\":[{\"hovertemplate\":\"theta=0.015786884422110514\\u003cbr\\u003ez1=%{x}\\u003cbr\\u003ez2=%{y}\\u003cextra\\u003e\\u003c\\u002fextra\\u003e\",\"legendgroup\":\"\",\"marker\":{\"color\":\"#636efa\",\"symbol\":\"circle\"},\"mode\":\"markers\",\"name\":\"\",\"orientation\":\"v\",\"showlegend\":false,\"x\":[0.9998753897281608,0.0],\"xaxis\":\"x\",\"y\":[0.01578622868067648,0.0],\"yaxis\":\"y\",\"type\":\"scatter\"}],\"name\":\"0.015786884422110514\"},{\"data\":[{\"hovertemplate\":\"theta=0.04736065326633154\\u003cbr\\u003ez1=%{x}\\u003cbr\\u003ez2=%{y}\\u003cextra\\u003e\\u003c\\u002fextra\\u003e\",\"legendgroup\":\"\",\"marker\":{\"color\":\"#636efa\",\"symbol\":\"circle\"},\"mode\":\"markers\",\"name\":\"\",\"orientation\":\"v\",\"showlegend\":false,\"x\":[0.9988786938783455,0.0],\"xaxis\":\"x\",\"y\":[0.047342950012548256,0.0],\"yaxis\":\"y\",\"type\":\"scatter\"}],\"name\":\"0.04736065326633154\"},{\"data\":[{\"hovertemplate\":\"theta=0.07893442211055302\\u003cbr\\u003ez1=%{x}\\u003cbr\\u003ez2=%{y}\\u003cextra\\u003e\\u003c\\u002fextra\\u003e\",\"legendgroup\":\"\",\"marker\":{\"color\":\"#636efa\",\"symbol\":\"circle\"},\"mode\":\"markers\",\"name\":\"\",\"orientation\":\"v\",\"showlegend\":false,\"x\":[0.9968862957051354,0.0],\"xaxis\":\"x\",\"y\":[0.07885247894196687,0.0],\"yaxis\":\"y\",\"type\":\"scatter\"}],\"name\":\"0.07893442211055302\"},{\"data\":[{\"hovertemplate\":\"theta=0.11050819095477404\\u003cbr\\u003ez1=%{x}\\u003cbr\\u003ez2=%{y}\\u003cextra\\u003e\\u003c\\u002fextra\\u003e\",\"legendgroup\":\"\",\"marker\":{\"color\":\"#636efa\",\"symbol\":\"circle\"},\"mode\":\"markers\",\"name\":\"\",\"orientation\":\"v\",\"showlegend\":false,\"x\":[0.9939001812710049,0.0],\"xaxis\":\"x\",\"y\":[0.11028340613829259,0.0],\"yaxis\":\"y\",\"type\":\"scatter\"}],\"name\":\"0.11050819095477404\"},{\"data\":[{\"hovertemplate\":\"theta=0.14208195979899507\\u003cbr\\u003ez1=%{x}\\u003cbr\\u003ez2=%{y}\\u003cextra\\u003e\\u003c\\u002fextra\\u003e\",\"legendgroup\":\"\",\"marker\":{\"color\":\"#636efa\",\"symbol\":\"circle\"},\"mode\":\"markers\",\"name\":\"\",\"orientation\":\"v\",\"showlegend\":false,\"x\":[0.9899233271947347,0.0],\"xaxis\":\"x\",\"y\":[0.14160440062267166,0.0],\"yaxis\":\"y\",\"type\":\"scatter\"}],\"name\":\"0.14208195979899507\"},{\"data\":[{\"hovertemplate\":\"theta=0.1736557286432161\\u003cbr\\u003ez1=%{x}\\u003cbr\\u003ez2=%{y}\\u003cextra\\u003e\\u003c\\u002fextra\\u003e\",\"legendgroup\":\"\",\"marker\":{\"color\":\"#636efa\",\"symbol\":\"circle\"},\"mode\":\"markers\",\"name\":\"\",\"orientation\":\"v\",\"showlegend\":false,\"x\":[0.9849596976842592,0.0],\"xaxis\":\"x\",\"y\":[0.1727842409993828,0.0],\"yaxis\":\"y\",\"type\":\"scatter\"}],\"name\":\"0.1736557286432161\"},{\"data\":[{\"hovertemplate\":\"theta=0.20522949748743713\\u003cbr\\u003ez1=%{x}\\u003cbr\\u003ez2=%{y}\\u003cextra\\u003e\\u003c\\u002fextra\\u003e\",\"legendgroup\":\"\",\"marker\":{\"color\":\"#636efa\",\"symbol\":\"circle\"},\"mode\":\"markers\",\"name\":\"\",\"orientation\":\"v\",\"showlegend\":false,\"x\":[0.9790142405850636,0.0],\"xaxis\":\"x\",\"y\":[0.20379184657795135,0.0],\"yaxis\":\"y\",\"type\":\"scatter\"}],\"name\":\"0.20522949748743713\"},{\"data\":[{\"hovertemplate\":\"theta=0.23680326633165816\\u003cbr\\u003ez1=%{x}\\u003cbr\\u003ez2=%{y}\\u003cextra\\u003e\\u003c\\u002fextra\\u003e\",\"legendgroup\":\"\",\"marker\":{\"color\":\"#636efa\",\"symbol\":\"circle\"},\"mode\":\"markers\",\"name\":\"\",\"orientation\":\"v\",\"showlegend\":false,\"x\":[0.9720928824480731,0.0],\"xaxis\":\"x\",\"y\":[0.2345963083550051,0.0],\"yaxis\":\"y\",\"type\":\"scatter\"}],\"name\":\"0.23680326633165816\"},{\"data\":[{\"hovertemplate\":\"theta=0.26837703517587963\\u003cbr\\u003ez1=%{x}\\u003cbr\\u003ez2=%{y}\\u003cextra\\u003e\\u003c\\u002fextra\\u003e\",\"legendgroup\":\"\",\"marker\":{\"color\":\"#636efa\",\"symbol\":\"circle\"},\"mode\":\"markers\",\"name\":\"\",\"orientation\":\"v\",\"showlegend\":false,\"x\":[0.9642025226219477,0.0],\"xaxis\":\"x\",\"y\":[0.2651669198249896,0.0],\"yaxis\":\"y\",\"type\":\"scatter\"}],\"name\":\"0.26837703517587963\"},{\"data\":[{\"hovertemplate\":\"theta=0.29995080402010066\\u003cbr\\u003ez1=%{x}\\u003cbr\\u003ez2=%{y}\\u003cextra\\u003e\\u003c\\u002fextra\\u003e\",\"legendgroup\":\"\",\"marker\":{\"color\":\"#636efa\",\"symbol\":\"circle\"},\"mode\":\"markers\",\"name\":\"\",\"orientation\":\"v\",\"showlegend\":false,\"x\":[0.955351026375673,0.0],\"xaxis\":\"x\",\"y\":[0.29547320758902684,0.0],\"yaxis\":\"y\",\"type\":\"scatter\"}],\"name\":\"0.29995080402010066\"},{\"data\":[{\"hovertemplate\":\"theta=0.3315245728643217\\u003cbr\\u003ez1=%{x}\\u003cbr\\u003ez2=%{y}\\u003cextra\\u003e\\u003c\\u002fextra\\u003e\",\"legendgroup\":\"\",\"marker\":{\"color\":\"#636efa\",\"symbol\":\"circle\"},\"mode\":\"markers\",\"name\":\"\",\"orientation\":\"v\",\"showlegend\":false,\"x\":[0.9455472170583022,0.0],\"xaxis\":\"x\",\"y\":[0.32548496173141384,0.0],\"yaxis\":\"y\",\"type\":\"scatter\"}],\"name\":\"0.3315245728643217\"},{\"data\":[{\"hovertemplate\":\"theta=0.3630983417085427\\u003cbr\\u003ez1=%{x}\\u003cbr\\u003ez2=%{y}\\u003cextra\\u003e\\u003c\\u002fextra\\u003e\",\"legendgroup\":\"\",\"marker\":{\"color\":\"#636efa\",\"symbol\":\"circle\"},\"mode\":\"markers\",\"name\":\"\",\"orientation\":\"v\",\"showlegend\":false,\"x\":[0.9348008673036649,0.0],\"xaxis\":\"x\",\"y\":[0.3551722659334706,0.0],\"yaxis\":\"y\",\"type\":\"scatter\"}],\"name\":\"0.3630983417085427\"},{\"data\":[{\"hovertemplate\":\"theta=0.39467211055276374\\u003cbr\\u003ez1=%{x}\\u003cbr\\u003ez2=%{y}\\u003cextra\\u003e\\u003c\\u002fextra\\u003e\",\"legendgroup\":\"\",\"marker\":{\"color\":\"#636efa\",\"symbol\":\"circle\"},\"mode\":\"markers\",\"name\":\"\",\"orientation\":\"v\",\"showlegend\":false,\"x\":[0.9231226892888094,0.0],\"xaxis\":\"x\",\"y\":[0.3845055272947273,0.0],\"yaxis\":\"y\",\"type\":\"scatter\"}],\"name\":\"0.39467211055276374\"},{\"data\":[{\"hovertemplate\":\"theta=0.4262458793969848\\u003cbr\\u003ez1=%{x}\\u003cbr\\u003ez2=%{y}\\u003cextra\\u003e\\u003c\\u002fextra\\u003e\",\"legendgroup\":\"\",\"marker\":{\"color\":\"#636efa\",\"symbol\":\"circle\"},\"mode\":\"markers\",\"name\":\"\",\"orientation\":\"v\",\"showlegend\":false,\"x\":[0.91052432405589,0.0],\"xaxis\":\"x\",\"y\":[0.4134555058317214,0.0],\"yaxis\":\"y\",\"type\":\"scatter\"}],\"name\":\"0.4262458793969848\"},{\"data\":[{\"hovertemplate\":\"theta=0.45781964824120625\\u003cbr\\u003ez1=%{x}\\u003cbr\\u003ez2=%{y}\\u003cextra\\u003e\\u003c\\u002fextra\\u003e\",\"legendgroup\":\"\",\"marker\":{\"color\":\"#636efa\",\"symbol\":\"circle\"},\"mode\":\"markers\",\"name\":\"\",\"orientation\":\"v\",\"showlegend\":false,\"x\":[0.8970183299081422,0.0],\"xaxis\":\"x\",\"y\":[0.44199334362500003,0.0],\"yaxis\":\"y\",\"type\":\"scatter\"}],\"name\":\"0.45781964824120625\"},{\"data\":[{\"hovertemplate\":\"theta=0.4893934170854273\\u003cbr\\u003ez1=%{x}\\u003cbr\\u003ez2=%{y}\\u003cextra\\u003e\\u003c\\u002fextra\\u003e\",\"legendgroup\":\"\",\"marker\":{\"color\":\"#636efa\",\"symbol\":\"circle\"},\"mode\":\"markers\",\"name\":\"\",\"orientation\":\"v\",\"showlegend\":false,\"x\":[0.8826181698915149,0.0],\"xaxis\":\"x\",\"y\":[0.47009059358527155,0.0],\"yaxis\":\"y\",\"type\":\"scatter\"}],\"name\":\"0.4893934170854273\"},{\"data\":[{\"hovertemplate\":\"theta=0.5209671859296483\\u003cbr\\u003ez1=%{x}\\u003cbr\\u003ez2=%{y}\\u003cextra\\u003e\\u003c\\u002fextra\\u003e\",\"legendgroup\":\"\",\"marker\":{\"color\":\"#636efa\",\"symbol\":\"circle\"},\"mode\":\"markers\",\"name\":\"\",\"orientation\":\"v\",\"showlegend\":false,\"x\":[0.8673381983744348,0.0],\"xaxis\":\"x\",\"y\":[0.49771924781003746,0.0],\"yaxis\":\"y\",\"type\":\"scatter\"}],\"name\":\"0.5209671859296483\"},{\"data\":[{\"hovertemplate\":\"theta=0.5525409547738693\\u003cbr\\u003ez1=%{x}\\u003cbr\\u003ez2=%{y}\\u003cextra\\u003e\\u003c\\u002fextra\\u003e\",\"legendgroup\":\"\",\"marker\":{\"color\":\"#636efa\",\"symbol\":\"circle\"},\"mode\":\"markers\",\"name\":\"\",\"orientation\":\"v\",\"showlegend\":false,\"x\":[0.8511936467390852,0.0],\"xaxis\":\"x\",\"y\":[0.5248517655024297,0.0],\"yaxis\":\"y\",\"type\":\"scatter\"}],\"name\":\"0.5525409547738693\"},{\"data\":[{\"hovertemplate\":\"theta=0.5841147236180904\\u003cbr\\u003ez1=%{x}\\u003cbr\\u003ez2=%{y}\\u003cextra\\u003e\\u003c\\u002fextra\\u003e\",\"legendgroup\":\"\",\"marker\":{\"color\":\"#636efa\",\"symbol\":\"circle\"},\"mode\":\"markers\",\"name\":\"\",\"orientation\":\"v\",\"showlegend\":false,\"x\":[0.8342006081984575,0.0],\"xaxis\":\"x\",\"y\":[0.5514611004244302,0.0],\"yaxis\":\"y\",\"type\":\"scatter\"}],\"name\":\"0.5841147236180904\"},{\"data\":[{\"hovertemplate\":\"theta=0.6156884924623114\\u003cbr\\u003ez1=%{x}\\u003cbr\\u003ez2=%{y}\\u003cextra\\u003e\\u003c\\u002fextra\\u003e\",\"legendgroup\":\"\",\"marker\":{\"color\":\"#636efa\",\"symbol\":\"circle\"},\"mode\":\"markers\",\"name\":\"\",\"orientation\":\"v\",\"showlegend\":false,\"x\":[0.8163760217543149,0.0],\"xaxis\":\"x\",\"y\":[0.5775207278571034,0.0],\"yaxis\":\"y\",\"type\":\"scatter\"}],\"name\":\"0.6156884924623114\"},{\"data\":[{\"hovertemplate\":\"theta=0.6472622613065329\\u003cbr\\u003ez1=%{x}\\u003cbr\\u003ez2=%{y}\\u003cextra\\u003e\\u003c\\u002fextra\\u003e\",\"legendgroup\":\"\",\"marker\":{\"color\":\"#636efa\",\"symbol\":\"circle\"},\"mode\":\"markers\",\"name\":\"\",\"orientation\":\"v\",\"showlegend\":false,\"x\":[0.7977376553120538,0.0],\"xaxis\":\"x\",\"y\":[0.6030046710409687,0.0],\"yaxis\":\"y\",\"type\":\"scatter\"}],\"name\":\"0.6472622613065329\"},{\"data\":[{\"hovertemplate\":\"theta=0.6788360301507539\\u003cbr\\u003ez1=%{x}\\u003cbr\\u003ez2=%{y}\\u003cextra\\u003e\\u003c\\u002fextra\\u003e\",\"legendgroup\":\"\",\"marker\":{\"color\":\"#636efa\",\"symbol\":\"circle\"},\"mode\":\"markers\",\"name\":\"\",\"orientation\":\"v\",\"showlegend\":false,\"x\":[0.7783040879693016,0.0],\"xaxis\":\"x\",\"y\":[0.6278875270701542,0.0],\"yaxis\":\"y\",\"type\":\"scatter\"}],\"name\":\"0.6788360301507539\"},{\"data\":[{\"hovertemplate\":\"theta=0.7104097989949749\\u003cbr\\u003ez1=%{x}\\u003cbr\\u003ez2=%{y}\\u003cextra\\u003e\\u003c\\u002fextra\\u003e\",\"legendgroup\":\"\",\"marker\":{\"color\":\"#636efa\",\"symbol\":\"circle\"},\"mode\":\"markers\",\"name\":\"\",\"orientation\":\"v\",\"showlegend\":false,\"x\":[0.7580946914958974,0.0],\"xaxis\":\"x\",\"y\":[0.6521444922145246,0.0],\"yaxis\":\"y\",\"type\":\"scatter\"}],\"name\":\"0.7104097989949749\"},{\"data\":[{\"hovertemplate\":\"theta=0.741983567839196\\u003cbr\\u003ez1=%{x}\\u003cbr\\u003ez2=%{y}\\u003cextra\\u003e\\u003c\\u002fextra\\u003e\",\"legendgroup\":\"\",\"marker\":{\"color\":\"#636efa\",\"symbol\":\"circle\"},\"mode\":\"markers\",\"name\":\"\",\"orientation\":\"v\",\"showlegend\":false,\"x\":[0.7371296110237237,0.0],\"xaxis\":\"x\",\"y\":[0.6757513866445366,0.0],\"yaxis\":\"y\",\"type\":\"scatter\"}],\"name\":\"0.741983567839196\"},{\"data\":[{\"hovertemplate\":\"theta=0.773557336683417\\u003cbr\\u003ez1=%{x}\\u003cbr\\u003ez2=%{y}\\u003cextra\\u003e\\u003c\\u002fextra\\u003e\",\"legendgroup\":\"\",\"marker\":{\"color\":\"#636efa\",\"symbol\":\"circle\"},\"mode\":\"markers\",\"name\":\"\",\"orientation\":\"v\",\"showlegend\":false,\"x\":[0.7154297449656349,0.0],\"xaxis\":\"x\",\"y\":[0.6986846785341773,0.0],\"yaxis\":\"y\",\"type\":\"scatter\"}],\"name\":\"0.773557336683417\"},{\"data\":[{\"hovertemplate\":\"theta=0.805131105527638\\u003cbr\\u003ez1=%{x}\\u003cbr\\u003ez2=%{y}\\u003cextra\\u003e\\u003c\\u002fextra\\u003e\",\"legendgroup\":\"\",\"marker\":{\"color\":\"#636efa\",\"symbol\":\"circle\"},\"mode\":\"markers\",\"name\":\"\",\"orientation\":\"v\",\"showlegend\":false,\"x\":[0.6930167241835005,0.0],\"xaxis\":\"x\",\"y\":[0.7209215075179614,0.0],\"yaxis\":\"y\",\"type\":\"scatter\"}],\"name\":\"0.805131105527638\"},{\"data\":[{\"hovertemplate\":\"theta=0.8367048743718595\\u003cbr\\u003ez1=%{x}\\u003cbr\\u003ez2=%{y}\\u003cextra\\u003e\\u003c\\u002fextra\\u003e\",\"legendgroup\":\"\",\"marker\":{\"color\":\"#636efa\",\"symbol\":\"circle\"},\"mode\":\"markers\",\"name\":\"\",\"orientation\":\"v\",\"showlegend\":false,\"x\":[0.6699128904261268,0.0],\"xaxis\":\"x\",\"y\":[0.7424397074786021,0.0],\"yaxis\":\"y\",\"type\":\"scatter\"}],\"name\":\"0.8367048743718595\"},{\"data\":[{\"hovertemplate\":\"theta=0.8682786432160805\\u003cbr\\u003ez1=%{x}\\u003cbr\\u003ez2=%{y}\\u003cextra\\u003e\\u003c\\u002fextra\\u003e\",\"legendgroup\":\"\",\"marker\":{\"color\":\"#636efa\",\"symbol\":\"circle\"},\"mode\":\"markers\",\"name\":\"\",\"orientation\":\"v\",\"showlegend\":false,\"x\":[0.6461412740585554,0.0],\"xaxis\":\"x\",\"y\":[0.7632178286426404,0.0],\"yaxis\":\"y\",\"type\":\"scatter\"}],\"name\":\"0.8682786432160805\"},{\"data\":[{\"hovertemplate\":\"theta=0.8998524120603015\\u003cbr\\u003ez1=%{x}\\u003cbr\\u003ez2=%{y}\\u003cextra\\u003e\\u003c\\u002fextra\\u003e\",\"legendgroup\":\"\",\"marker\":{\"color\":\"#636efa\",\"symbol\":\"circle\"},\"mode\":\"markers\",\"name\":\"\",\"orientation\":\"v\",\"showlegend\":false,\"x\":[0.6217255711049308,0.0],\"xaxis\":\"x\",\"y\":[0.7832351589620117,0.0],\"yaxis\":\"y\",\"type\":\"scatter\"}],\"name\":\"0.8998524120603015\"},{\"data\":[{\"hovertemplate\":\"theta=0.9314261809045226\\u003cbr\\u003ez1=%{x}\\u003cbr\\u003ez2=%{y}\\u003cextra\\u003e\\u003c\\u002fextra\\u003e\",\"legendgroup\":\"\",\"marker\":{\"color\":\"#636efa\",\"symbol\":\"circle\"},\"mode\":\"markers\",\"name\":\"\",\"orientation\":\"v\",\"showlegend\":false,\"x\":[0.5966901196278299,0.0],\"xaxis\":\"x\",\"y\":[0.802471744760229,0.0],\"yaxis\":\"y\",\"type\":\"scatter\"}],\"name\":\"0.9314261809045226\"},{\"data\":[{\"hovertemplate\":\"theta=0.9629999497487436\\u003cbr\\u003ez1=%{x}\\u003cbr\\u003ez2=%{y}\\u003cextra\\u003e\\u003c\\u002fextra\\u003e\",\"legendgroup\":\"\",\"marker\":{\"color\":\"#636efa\",\"symbol\":\"circle\"},\"mode\":\"markers\",\"name\":\"\",\"orientation\":\"v\",\"showlegend\":false,\"x\":[0.5710598754675922,0.0],\"xaxis\":\"x\",\"y\":[0.820908410622609,0.0],\"yaxis\":\"y\",\"type\":\"scatter\"}],\"name\":\"0.9629999497487436\"},{\"data\":[{\"hovertemplate\":\"theta=0.9945737185929646\\u003cbr\\u003ez1=%{x}\\u003cbr\\u003ez2=%{y}\\u003cextra\\u003e\\u003c\\u002fextra\\u003e\",\"legendgroup\":\"\",\"marker\":{\"color\":\"#636efa\",\"symbol\":\"circle\"},\"mode\":\"markers\",\"name\":\"\",\"orientation\":\"v\",\"showlegend\":false,\"x\":[0.5448603873658375,0.0],\"xaxis\":\"x\",\"y\":[0.8385267785107101,0.0],\"yaxis\":\"y\",\"type\":\"scatter\"}],\"name\":\"0.9945737185929646\"},{\"data\":[{\"hovertemplate\":\"theta=1.0261474874371856\\u003cbr\\u003ez1=%{x}\\u003cbr\\u003ez2=%{y}\\u003cextra\\u003e\\u003c\\u002fextra\\u003e\",\"legendgroup\":\"\",\"marker\":{\"color\":\"#636efa\",\"symbol\":\"circle\"},\"mode\":\"markers\",\"name\":\"\",\"orientation\":\"v\",\"showlegend\":false,\"x\":[0.5181177714979681,0.0],\"xaxis\":\"x\",\"y\":[0.8553092860819291,0.0],\"yaxis\":\"y\",\"type\":\"scatter\"}],\"name\":\"1.0261474874371856\"},{\"data\":[{\"hovertemplate\":\"theta=1.0577212562814067\\u003cbr\\u003ez1=%{x}\\u003cbr\\u003ez2=%{y}\\u003cextra\\u003e\\u003c\\u002fextra\\u003e\",\"legendgroup\":\"\",\"marker\":{\"color\":\"#636efa\",\"symbol\":\"circle\"},\"mode\":\"markers\",\"name\":\"\",\"orientation\":\"v\",\"showlegend\":false,\"x\":[0.49085868544004024,0.0],\"xaxis\":\"x\",\"y\":[0.8712392041959979,0.0],\"yaxis\":\"y\",\"type\":\"scatter\"}],\"name\":\"1.0577212562814067\"},{\"data\":[{\"hovertemplate\":\"theta=1.0892950251256286\\u003cbr\\u003ez1=%{x}\\u003cbr\\u003ez2=%{y}\\u003cextra\\u003e\\u003c\\u002fextra\\u003e\",\"legendgroup\":\"\",\"marker\":{\"color\":\"#636efa\",\"symbol\":\"circle\"},\"mode\":\"markers\",\"name\":\"\",\"orientation\":\"v\",\"showlegend\":false,\"x\":[0.4631103015959575,0.0],\"xaxis\":\"x\",\"y\":[0.8863006535909252,0.0],\"yaxis\":\"y\",\"type\":\"scatter\"}],\"name\":\"1.0892950251256286\"},{\"data\":[{\"hovertemplate\":\"theta=1.1208687939698496\\u003cbr\\u003ez1=%{x}\\u003cbr\\u003ez2=%{y}\\u003cextra\\u003e\\u003c\\u002fextra\\u003e\",\"legendgroup\":\"\",\"marker\":{\"color\":\"#636efa\",\"symbol\":\"circle\"},\"mode\":\"markers\",\"name\":\"\",\"orientation\":\"v\",\"showlegend\":false,\"x\":[0.4349002801114763,0.0],\"xaxis\":\"x\",\"y\":[0.9004786207117632,0.0],\"yaxis\":\"y\",\"type\":\"scatter\"}],\"name\":\"1.1208687939698496\"},{\"data\":[{\"hovertemplate\":\"theta=1.1524425628140706\\u003cbr\\u003ez1=%{x}\\u003cbr\\u003ez2=%{y}\\u003cextra\\u003e\\u003c\\u002fextra\\u003e\",\"legendgroup\":\"\",\"marker\":{\"color\":\"#636efa\",\"symbol\":\"circle\"},\"mode\":\"markers\",\"name\":\"\",\"orientation\":\"v\",\"showlegend\":false,\"x\":[0.4062567413020128,0.0],\"xaxis\":\"x\",\"y\":[0.9137589726764216,0.0],\"yaxis\":\"y\",\"type\":\"scatter\"}],\"name\":\"1.1524425628140706\"},{\"data\":[{\"hovertemplate\":\"theta=1.1840163316582917\\u003cbr\\u003ez1=%{x}\\u003cbr\\u003ez2=%{y}\\u003cextra\\u003e\\u003c\\u002fextra\\u003e\",\"legendgroup\":\"\",\"marker\":{\"color\":\"#636efa\",\"symbol\":\"circle\"},\"mode\":\"markers\",\"name\":\"\",\"orientation\":\"v\",\"showlegend\":false,\"x\":[0.37720823762175143,0.0],\"xaxis\":\"x\",\"y\":[0.9261284713636074,0.0],\"yaxis\":\"y\",\"type\":\"scatter\"}],\"name\":\"1.1840163316582917\"},{\"data\":[{\"hovertemplate\":\"theta=1.2155901005025127\\u003cbr\\u003ez1=%{x}\\u003cbr\\u003ez2=%{y}\\u003cextra\\u003e\\u003c\\u002fextra\\u003e\",\"legendgroup\":\"\",\"marker\":{\"color\":\"#636efa\",\"symbol\":\"circle\"},\"mode\":\"markers\",\"name\":\"\",\"orientation\":\"v\",\"showlegend\":false,\"x\":[0.3477837252019851,0.0],\"xaxis\":\"x\",\"y\":[0.9375747866088497,0.0],\"yaxis\":\"y\",\"type\":\"scatter\"}],\"name\":\"1.2155901005025127\"},{\"data\":[{\"hovertemplate\":\"theta=1.2471638693467337\\u003cbr\\u003ez1=%{x}\\u003cbr\\u003ez2=%{y}\\u003cextra\\u003e\\u003c\\u002fextra\\u003e\",\"legendgroup\":\"\",\"marker\":{\"color\":\"#636efa\",\"symbol\":\"circle\"},\"mode\":\"markers\",\"name\":\"\",\"orientation\":\"v\",\"showlegend\":false,\"x\":[0.3180125349870623,0.0],\"xaxis\":\"x\",\"y\":[0.9480865084954551,0.0],\"yaxis\":\"y\",\"type\":\"scatter\"}],\"name\":\"1.2471638693467337\"},{\"data\":[{\"hovertemplate\":\"theta=1.2787376381909548\\u003cbr\\u003ez1=%{x}\\u003cbr\\u003ez2=%{y}\\u003cextra\\u003e\\u003c\\u002fextra\\u003e\",\"legendgroup\":\"\",\"marker\":{\"color\":\"#636efa\",\"symbol\":\"circle\"},\"mode\":\"markers\",\"name\":\"\",\"orientation\":\"v\",\"showlegend\":false,\"x\":[0.28792434349671353,0.0],\"xaxis\":\"x\",\"y\":[0.9576531587281413,0.0],\"yaxis\":\"y\",\"type\":\"scatter\"}],\"name\":\"1.2787376381909548\"},{\"data\":[{\"hovertemplate\":\"theta=1.3103114070351758\\u003cbr\\u003ez1=%{x}\\u003cbr\\u003ez2=%{y}\\u003cextra\\u003e\\u003c\\u002fextra\\u003e\",\"legendgroup\":\"\",\"marker\":{\"color\":\"#636efa\",\"symbol\":\"circle\"},\"mode\":\"markers\",\"name\":\"\",\"orientation\":\"v\",\"showlegend\":false,\"x\":[0.2575491432439009,0.0],\"xaxis\":\"x\",\"y\":[0.9662652010780128,0.0],\"yaxis\":\"y\",\"type\":\"scatter\"}],\"name\":\"1.3103114070351758\"},{\"data\":[{\"hovertemplate\":\"theta=1.3418851758793968\\u003cbr\\u003ez1=%{x}\\u003cbr\\u003ez2=%{y}\\u003cextra\\u003e\\u003c\\u002fextra\\u003e\",\"legendgroup\":\"\",\"marker\":{\"color\":\"#636efa\",\"symbol\":\"circle\"},\"mode\":\"markers\",\"name\":\"\",\"orientation\":\"v\",\"showlegend\":false,\"x\":[0.22691721283767938,0.0],\"xaxis\":\"x\",\"y\":[0.9739140508884648,0.0],\"yaxis\":\"y\",\"type\":\"scatter\"}],\"name\":\"1.3418851758793968\"},{\"data\":[{\"hovertemplate\":\"theta=1.3734589447236178\\u003cbr\\u003ez1=%{x}\\u003cbr\\u003ez2=%{y}\\u003cextra\\u003e\\u003c\\u002fextra\\u003e\",\"legendgroup\":\"\",\"marker\":{\"color\":\"#636efa\",\"symbol\":\"circle\"},\"mode\":\"markers\",\"name\":\"\",\"orientation\":\"v\",\"showlegend\":false,\"x\":[0.19605908680087186,0.0],\"xaxis\":\"x\",\"y\":[0.9805920836325409,0.0],\"yaxis\":\"y\",\"type\":\"scatter\"}],\"name\":\"1.3734589447236178\"},{\"data\":[{\"hovertemplate\":\"theta=1.4050327135678389\\u003cbr\\u003ez1=%{x}\\u003cbr\\u003ez2=%{y}\\u003cextra\\u003e\\u003c\\u002fextra\\u003e\",\"legendgroup\":\"\",\"marker\":{\"color\":\"#636efa\",\"symbol\":\"circle\"},\"mode\":\"markers\",\"name\":\"\",\"orientation\":\"v\",\"showlegend\":false,\"x\":[0.16500552513264416,0.0],\"xaxis\":\"x\",\"y\":[0.9862926425132149,0.0],\"yaxis\":\"y\",\"type\":\"scatter\"}],\"name\":\"1.4050327135678389\"},{\"data\":[{\"hovertemplate\":\"theta=1.43660648241206\\u003cbr\\u003ez1=%{x}\\u003cbr\\u003ez2=%{y}\\u003cextra\\u003e\\u003c\\u002fextra\\u003e\",\"legendgroup\":\"\",\"marker\":{\"color\":\"#636efa\",\"symbol\":\"circle\"},\"mode\":\"markers\",\"name\":\"\",\"orientation\":\"v\",\"showlegend\":false,\"x\":[0.13378748264632073,0.0],\"xaxis\":\"x\",\"y\":[0.9910100450990194,0.0],\"yaxis\":\"y\",\"type\":\"scatter\"}],\"name\":\"1.43660648241206\"},{\"data\":[{\"hovertemplate\":\"theta=1.4681802512562818\\u003cbr\\u003ez1=%{x}\\u003cbr\\u003ez2=%{y}\\u003cextra\\u003e\\u003c\\u002fextra\\u003e\",\"legendgroup\":\"\",\"marker\":{\"color\":\"#636efa\",\"symbol\":\"circle\"},\"mode\":\"markers\",\"name\":\"\",\"orientation\":\"v\",\"showlegend\":false,\"x\":[0.10243607811300463,0.0],\"xaxis\":\"x\",\"y\":[0.9947395889884078,0.0],\"yaxis\":\"y\",\"type\":\"scatter\"}],\"name\":\"1.4681802512562818\"},{\"data\":[{\"hovertemplate\":\"theta=1.4997540201005028\\u003cbr\\u003ez1=%{x}\\u003cbr\\u003ez2=%{y}\\u003cextra\\u003e\\u003c\\u002fextra\\u003e\",\"legendgroup\":\"\",\"marker\":{\"color\":\"#636efa\",\"symbol\":\"circle\"},\"mode\":\"markers\",\"name\":\"\",\"orientation\":\"v\",\"showlegend\":false,\"x\":[0.07098256324176587,0.0],\"xaxis\":\"x\",\"y\":[0.9974775564972019,0.0],\"yaxis\":\"y\",\"type\":\"scatter\"}],\"name\":\"1.4997540201005028\"},{\"data\":[{\"hovertemplate\":\"theta=1.5313277889447239\\u003cbr\\u003ez1=%{x}\\u003cbr\\u003ez2=%{y}\\u003cextra\\u003e\\u003c\\u002fextra\\u003e\",\"legendgroup\":\"\",\"marker\":{\"color\":\"#636efa\",\"symbol\":\"circle\"},\"mode\":\"markers\",\"name\":\"\",\"orientation\":\"v\",\"showlegend\":false,\"x\":[0.039458291527305324,0.0],\"xaxis\":\"x\",\"y\":[0.9992212183644552,0.0],\"yaxis\":\"y\",\"type\":\"scatter\"}],\"name\":\"1.5313277889447239\"},{\"data\":[{\"hovertemplate\":\"theta=1.562901557788945\\u003cbr\\u003ez1=%{x}\\u003cbr\\u003ez2=%{y}\\u003cextra\\u003e\\u003c\\u002fextra\\u003e\",\"legendgroup\":\"\",\"marker\":{\"color\":\"#636efa\",\"symbol\":\"circle\"},\"mode\":\"markers\",\"name\":\"\",\"orientation\":\"v\",\"showlegend\":false,\"x\":[0.007894686996165728,0.0],\"xaxis\":\"x\",\"y\":[0.9999688364730336,0.0],\"yaxis\":\"y\",\"type\":\"scatter\"}],\"name\":\"1.562901557788945\"},{\"data\":[{\"hovertemplate\":\"theta=1.594475326633166\\u003cbr\\u003ez1=%{x}\\u003cbr\\u003ez2=%{y}\\u003cextra\\u003e\\u003c\\u002fextra\\u003e\",\"legendgroup\":\"\",\"marker\":{\"color\":\"#636efa\",\"symbol\":\"circle\"},\"mode\":\"markers\",\"name\":\"\",\"orientation\":\"v\",\"showlegend\":false,\"x\":[-0.02367678711736934,0.0],\"xaxis\":\"x\",\"y\":[0.9997196655822065,0.0],\"yaxis\":\"y\",\"type\":\"scatter\"}],\"name\":\"1.594475326633166\"},{\"data\":[{\"hovertemplate\":\"theta=1.626049095477387\\u003cbr\\u003ez1=%{x}\\u003cbr\\u003ez2=%{y}\\u003cextra\\u003e\\u003c\\u002fextra\\u003e\",\"legendgroup\":\"\",\"marker\":{\"color\":\"#636efa\",\"symbol\":\"circle\"},\"mode\":\"markers\",\"name\":\"\",\"orientation\":\"v\",\"showlegend\":false,\"x\":[-0.05522465973445868,0.0],\"xaxis\":\"x\",\"y\":[0.9984739540705172,0.0],\"yaxis\":\"y\",\"type\":\"scatter\"}],\"name\":\"1.626049095477387\"},{\"data\":[{\"hovertemplate\":\"theta=1.657622864321608\\u003cbr\\u003ez1=%{x}\\u003cbr\\u003ez2=%{y}\\u003cextra\\u003e\\u003c\\u002fextra\\u003e\",\"legendgroup\":\"\",\"marker\":{\"color\":\"#636efa\",\"symbol\":\"circle\"},\"mode\":\"markers\",\"name\":\"\",\"orientation\":\"v\",\"showlegend\":false,\"x\":[-0.08671748330270629,0.0],\"xaxis\":\"x\",\"y\":[0.9962329436881943,0.0],\"yaxis\":\"y\",\"type\":\"scatter\"}],\"name\":\"1.657622864321608\"},{\"data\":[{\"hovertemplate\":\"theta=1.689196633165829\\u003cbr\\u003ez1=%{x}\\u003cbr\\u003ez2=%{y}\\u003cextra\\u003e\\u003c\\u002fextra\\u003e\",\"legendgroup\":\"\",\"marker\":{\"color\":\"#636efa\",\"symbol\":\"circle\"},\"mode\":\"markers\",\"name\":\"\",\"orientation\":\"v\",\"showlegend\":false,\"x\":[-0.11812386514371252,0.0],\"xaxis\":\"x\",\"y\":[0.9929988683193501,0.0],\"yaxis\":\"y\",\"type\":\"scatter\"}],\"name\":\"1.689196633165829\"},{\"data\":[{\"hovertemplate\":\"theta=1.72077040201005\\u003cbr\\u003ez1=%{x}\\u003cbr\\u003ez2=%{y}\\u003cextra\\u003e\\u003c\\u002fextra\\u003e\",\"legendgroup\":\"\",\"marker\":{\"color\":\"#636efa\",\"symbol\":\"circle\"},\"mode\":\"markers\",\"name\":\"\",\"orientation\":\"v\",\"showlegend\":false,\"x\":[-0.14941249874592583,0.0],\"xaxis\":\"x\",\"y\":[0.9887749517552004,0.0],\"yaxis\":\"y\",\"type\":\"scatter\"}],\"name\":\"1.72077040201005\"},{\"data\":[{\"hovertemplate\":\"theta=1.752344170854271\\u003cbr\\u003ez1=%{x}\\u003cbr\\u003ez2=%{y}\\u003cextra\\u003e\\u003c\\u002fextra\\u003e\",\"legendgroup\":\"\",\"marker\":{\"color\":\"#636efa\",\"symbol\":\"circle\"},\"mode\":\"markers\",\"name\":\"\",\"orientation\":\"v\",\"showlegend\":false,\"x\":[-0.18055219497160155,0.0],\"xaxis\":\"x\",\"y\":[0.983565404480524,0.0],\"yaxis\":\"y\",\"type\":\"scatter\"}],\"name\":\"1.752344170854271\"},{\"data\":[{\"hovertemplate\":\"theta=1.783917939698492\\u003cbr\\u003ez1=%{x}\\u003cbr\\u003ez2=%{y}\\u003cextra\\u003e\\u003c\\u002fextra\\u003e\",\"legendgroup\":\"\",\"marker\":{\"color\":\"#636efa\",\"symbol\":\"circle\"},\"mode\":\"markers\",\"name\":\"\",\"orientation\":\"v\",\"showlegend\":false,\"x\":[-0.21151191314676024,0.0],\"xaxis\":\"x\",\"y\":[0.977375419476568,0.0],\"yaxis\":\"y\",\"type\":\"scatter\"}],\"name\":\"1.783917939698492\"},{\"data\":[{\"hovertemplate\":\"theta=1.8154917085427131\\u003cbr\\u003ez1=%{x}\\u003cbr\\u003ez2=%{y}\\u003cextra\\u003e\\u003c\\u002fextra\\u003e\",\"legendgroup\":\"\",\"marker\":{\"color\":\"#636efa\",\"symbol\":\"circle\"},\"mode\":\"markers\",\"name\":\"\",\"orientation\":\"v\",\"showlegend\":false,\"x\":[-0.24226079200315423,0.0],\"xaxis\":\"x\",\"y\":[0.9702111670445792,0.0],\"yaxis\":\"y\",\"type\":\"scatter\"}],\"name\":\"1.8154917085427131\"},{\"data\":[{\"hovertemplate\":\"theta=1.847065477386935\\u003cbr\\u003ez1=%{x}\\u003cbr\\u003ez2=%{y}\\u003cextra\\u003e\\u003c\\u002fextra\\u003e\",\"legendgroup\":\"\",\"marker\":{\"color\":\"#636efa\",\"symbol\":\"circle\"},\"mode\":\"markers\",\"name\":\"\",\"orientation\":\"v\",\"showlegend\":false,\"x\":[-0.2727681804413999,0.0],\"xaxis\":\"x\",\"y\":[0.9620797886551239,0.0],\"yaxis\":\"y\",\"type\":\"scatter\"}],\"name\":\"1.847065477386935\"},{\"data\":[{\"hovertemplate\":\"theta=1.878639246231156\\u003cbr\\u003ez1=%{x}\\u003cbr\\u003ez2=%{y}\\u003cextra\\u003e\\u003c\\u002fextra\\u003e\",\"legendgroup\":\"\",\"marker\":{\"color\":\"#636efa\",\"symbol\":\"circle\"},\"mode\":\"markers\",\"name\":\"\",\"orientation\":\"v\",\"showlegend\":false,\"x\":[-0.3030036680846051,0.0],\"xaxis\":\"x\",\"y\":[0.9529893898293278,0.0],\"yaxis\":\"y\",\"type\":\"scatter\"}],\"name\":\"1.878639246231156\"},{\"data\":[{\"hovertemplate\":\"theta=1.910213015075377\\u003cbr\\u003ez1=%{x}\\u003cbr\\u003ez2=%{y}\\u003cextra\\u003e\\u003c\\u002fextra\\u003e\",\"legendgroup\":\"\",\"marker\":{\"color\":\"#636efa\",\"symbol\":\"circle\"},\"mode\":\"markers\",\"name\":\"\",\"orientation\":\"v\",\"showlegend\":false,\"x\":[-0.33293711559204814,0.0],\"xaxis\":\"x\",\"y\":[0.9429490320591284,0.0],\"yaxis\":\"y\",\"type\":\"scatter\"}],\"name\":\"1.910213015075377\"},{\"data\":[{\"hovertemplate\":\"theta=1.9417867839195981\\u003cbr\\u003ez1=%{x}\\u003cbr\\u003ez2=%{y}\\u003cextra\\u003e\\u003c\\u002fextra\\u003e\",\"legendgroup\":\"\",\"marker\":{\"color\":\"#636efa\",\"symbol\":\"circle\"},\"mode\":\"markers\",\"name\":\"\",\"orientation\":\"v\",\"showlegend\":false,\"x\":[-0.36253868470267386,0.0],\"xaxis\":\"x\",\"y\":[0.9319687237745993,0.0],\"yaxis\":\"y\",\"type\":\"scatter\"}],\"name\":\"1.9417867839195981\"},{\"data\":[{\"hovertemplate\":\"theta=1.9733605527638192\\u003cbr\\u003ez1=%{x}\\u003cbr\\u003ez2=%{y}\\u003cextra\\u003e\\u003c\\u002fextra\\u003e\",\"legendgroup\":\"\",\"marker\":{\"color\":\"#636efa\",\"symbol\":\"circle\"},\"mode\":\"markers\",\"name\":\"\",\"orientation\":\"v\",\"showlegend\":false,\"x\":[-0.3917788679784718,0.0],\"xaxis\":\"x\",\"y\":[0.9200594103673453,0.0],\"yaxis\":\"y\",\"type\":\"scatter\"}],\"name\":\"1.9733605527638192\"},{\"data\":[{\"hovertemplate\":\"theta=2.00493432160804\\u003cbr\\u003ez1=%{x}\\u003cbr\\u003ez2=%{y}\\u003cextra\\u003e\\u003c\\u002fextra\\u003e\",\"legendgroup\":\"\",\"marker\":{\"color\":\"#636efa\",\"symbol\":\"circle\"},\"mode\":\"markers\",\"name\":\"\",\"orientation\":\"v\",\"showlegend\":false,\"x\":[-0.42062851821808245,0.0],\"xaxis\":\"x\",\"y\":[0.9072329632799176,0.0],\"yaxis\":\"y\",\"type\":\"scatter\"}],\"name\":\"2.00493432160804\"},{\"data\":[{\"hovertemplate\":\"theta=2.036508090452261\\u003cbr\\u003ez1=%{x}\\u003cbr\\u003ez2=%{y}\\u003cextra\\u003e\\u003c\\u002fextra\\u003e\",\"legendgroup\":\"\",\"marker\":{\"color\":\"#636efa\",\"symbol\":\"circle\"},\"mode\":\"markers\",\"name\":\"\",\"orientation\":\"v\",\"showlegend\":false,\"x\":[-0.44905887751131235,0.0],\"xaxis\":\"x\",\"y\":[0.8935021681721205,0.0],\"yaxis\":\"y\",\"type\":\"scatter\"}],\"name\":\"2.036508090452261\"},{\"data\":[{\"hovertemplate\":\"theta=2.0680818592964822\\u003cbr\\u003ez1=%{x}\\u003cbr\\u003ez2=%{y}\\u003cextra\\u003e\\u003c\\u002fextra\\u003e\",\"legendgroup\":\"\",\"marker\":{\"color\":\"#636efa\",\"symbol\":\"circle\"},\"mode\":\"markers\",\"name\":\"\",\"orientation\":\"v\",\"showlegend\":false,\"x\":[-0.477041605905596,0.0],\"xaxis\":\"x\",\"y\":[0.8788807121760097,0.0],\"yaxis\":\"y\",\"type\":\"scatter\"}],\"name\":\"2.0680818592964822\"},{\"data\":[{\"hovertemplate\":\"theta=2.0996556281407033\\u003cbr\\u003ez1=%{x}\\u003cbr\\u003ez2=%{y}\\u003cextra\\u003e\\u003c\\u002fextra\\u003e\",\"legendgroup\":\"\",\"marker\":{\"color\":\"#636efa\",\"symbol\":\"circle\"},\"mode\":\"markers\",\"name\":\"\",\"orientation\":\"v\",\"showlegend\":false,\"x\":[-0.504548809655829,0.0],\"xaxis\":\"x\",\"y\":[0.8633831702522848,0.0],\"yaxis\":\"y\",\"type\":\"scatter\"}],\"name\":\"2.0996556281407033\"},{\"data\":[{\"hovertemplate\":\"theta=2.1312293969849243\\u003cbr\\u003ez1=%{x}\\u003cbr\\u003ez2=%{y}\\u003cextra\\u003e\\u003c\\u002fextra\\u003e\",\"legendgroup\":\"\",\"marker\":{\"color\":\"#636efa\",\"symbol\":\"circle\"},\"mode\":\"markers\",\"name\":\"\",\"orientation\":\"v\",\"showlegend\":false,\"x\":[-0.5315530690294136,0.0],\"xaxis\":\"x\",\"y\":[0.8470249906616756,0.0],\"yaxis\":\"y\",\"type\":\"scatter\"}],\"name\":\"2.1312293969849243\"},{\"data\":[{\"hovertemplate\":\"theta=2.1628031658291453\\u003cbr\\u003ez1=%{x}\\u003cbr\\u003ez2=%{y}\\u003cextra\\u003e\\u003c\\u002fextra\\u003e\",\"legendgroup\":\"\",\"marker\":{\"color\":\"#636efa\",\"symbol\":\"circle\"},\"mode\":\"markers\",\"name\":\"\",\"orientation\":\"v\",\"showlegend\":false,\"x\":[-0.5580274656387967,0.0],\"xaxis\":\"x\",\"y\":[0.8298224795658055,0.0],\"yaxis\":\"y\",\"type\":\"scatter\"}],\"name\":\"2.1628031658291453\"},{\"data\":[{\"hovertemplate\":\"theta=2.1943769346733673\\u003cbr\\u003ez1=%{x}\\u003cbr\\u003ez2=%{y}\\u003cextra\\u003e\\u003c\\u002fextra\\u003e\",\"legendgroup\":\"\",\"marker\":{\"color\":\"#636efa\",\"symbol\":\"circle\"},\"mode\":\"markers\",\"name\":\"\",\"orientation\":\"v\",\"showlegend\":false,\"x\":[-0.5839456092742611,0.0],\"xaxis\":\"x\",\"y\":[0.8117927847728829,0.0],\"yaxis\":\"y\",\"type\":\"scatter\"}],\"name\":\"2.1943769346733673\"},{\"data\":[{\"hovertemplate\":\"theta=2.2259507035175883\\u003cbr\\u003ez1=%{x}\\u003cbr\\u003ez2=%{y}\\u003cextra\\u003e\\u003c\\u002fextra\\u003e\",\"legendgroup\":\"\",\"marker\":{\"color\":\"#636efa\",\"symbol\":\"circle\"},\"mode\":\"markers\",\"name\":\"\",\"orientation\":\"v\",\"showlegend\":false,\"x\":[-0.6092816642102121,0.0],\"xaxis\":\"x\",\"y\":[0.792953878644423,0.0],\"yaxis\":\"y\",\"type\":\"scatter\"}],\"name\":\"2.2259507035175883\"},{\"data\":[{\"hovertemplate\":\"theta=2.2575244723618093\\u003cbr\\u003ez1=%{x}\\u003cbr\\u003ez2=%{y}\\u003cextra\\u003e\\u003c\\u002fextra\\u003e\",\"legendgroup\":\"\",\"marker\":{\"color\":\"#636efa\",\"symbol\":\"circle\"},\"mode\":\"markers\",\"name\":\"\",\"orientation\":\"v\",\"showlegend\":false,\"x\":[-0.634010374958752,0.0],\"xaxis\":\"x\",\"y\":[0.773324540180035,0.0],\"yaxis\":\"y\",\"type\":\"scatter\"}],\"name\":\"2.2575244723618093\"},{\"data\":[{\"hovertemplate\":\"theta=2.2890982412060303\\u003cbr\\u003ez1=%{x}\\u003cbr\\u003ez2=%{y}\\u003cextra\\u003e\\u003c\\u002fextra\\u003e\",\"legendgroup\":\"\",\"marker\":{\"color\":\"#636efa\",\"symbol\":\"circle\"},\"mode\":\"markers\",\"name\":\"\",\"orientation\":\"v\",\"showlegend\":false,\"x\":[-0.6581070914448538,0.0],\"xaxis\":\"x\",\"y\":[0.7529243362981402,0.0],\"yaxis\":\"y\",\"type\":\"scatter\"}],\"name\":\"2.2890982412060303\"},{\"data\":[{\"hovertemplate\":\"theta=2.3206720100502514\\u003cbr\\u003ez1=%{x}\\u003cbr\\u003ez2=%{y}\\u003cextra\\u003e\\u003c\\u002fextra\\u003e\",\"legendgroup\":\"\",\"marker\":{\"color\":\"#636efa\",\"symbol\":\"circle\"},\"mode\":\"markers\",\"name\":\"\",\"orientation\":\"v\",\"showlegend\":false,\"x\":[-0.6815477935780516,0.0],\"xaxis\":\"x\",\"y\":[0.731773602331274,0.0],\"yaxis\":\"y\",\"type\":\"scatter\"}],\"name\":\"2.3206720100502514\"},{\"data\":[{\"hovertemplate\":\"theta=2.3522457788944724\\u003cbr\\u003ez1=%{x}\\u003cbr\\u003ez2=%{y}\\u003cextra\\u003e\\u003c\\u002fextra\\u003e\",\"legendgroup\":\"\",\"marker\":{\"color\":\"#636efa\",\"symbol\":\"circle\"},\"mode\":\"markers\",\"name\":\"\",\"orientation\":\"v\",\"showlegend\":false,\"x\":[-0.7043091151961487,0.0],\"xaxis\":\"x\",\"y\":[0.7098934217554197,0.0],\"yaxis\":\"y\",\"type\":\"scatter\"}],\"name\":\"2.3522457788944724\"},{\"data\":[{\"hovertemplate\":\"theta=2.3838195477386934\\u003cbr\\u003ez1=%{x}\\u003cbr\\u003ez2=%{y}\\u003cextra\\u003e\\u003c\\u002fextra\\u003e\",\"legendgroup\":\"\",\"marker\":{\"color\":\"#636efa\",\"symbol\":\"circle\"},\"mode\":\"markers\",\"name\":\"\",\"orientation\":\"v\",\"showlegend\":false,\"x\":[-0.7263683673570769,0.0],\"xaxis\":\"x\",\"y\":[0.6873056051735753,0.0],\"yaxis\":\"y\",\"type\":\"scatter\"}],\"name\":\"2.3838195477386934\"},{\"data\":[{\"hovertemplate\":\"theta=2.4153933165829145\\u003cbr\\u003ez1=%{x}\\u003cbr\\u003ez2=%{y}\\u003cextra\\u003e\\u003c\\u002fextra\\u003e\",\"legendgroup\":\"\",\"marker\":{\"color\":\"#636efa\",\"symbol\":\"circle\"},\"mode\":\"markers\",\"name\":\"\",\"orientation\":\"v\",\"showlegend\":false,\"x\":[-0.7477035609556888,0.0],\"xaxis\":\"x\",\"y\":[0.6640326685745082,0.0],\"yaxis\":\"y\",\"type\":\"scatter\"}],\"name\":\"2.4153933165829145\"},{\"data\":[{\"hovertemplate\":\"theta=2.4469670854271355\\u003cbr\\u003ez1=%{x}\\u003cbr\\u003ez2=%{y}\\u003cextra\\u003e\\u003c\\u002fextra\\u003e\",\"legendgroup\":\"\",\"marker\":{\"color\":\"#636efa\",\"symbol\":\"circle\"},\"mode\":\"markers\",\"name\":\"\",\"orientation\":\"v\",\"showlegend\":false,\"x\":[-0.7682934286429396,0.0],\"xaxis\":\"x\",\"y\":[0.6400978108883644,0.0],\"yaxis\":\"y\",\"type\":\"scatter\"}],\"name\":\"2.4469670854271355\"},{\"data\":[{\"hovertemplate\":\"theta=2.4785408542713565\\u003cbr\\u003ez1=%{x}\\u003cbr\\u003ez2=%{y}\\u003cextra\\u003e\\u003c\\u002fextra\\u003e\",\"legendgroup\":\"\",\"marker\":{\"color\":\"#636efa\",\"symbol\":\"circle\"},\"mode\":\"markers\",\"name\":\"\",\"orientation\":\"v\",\"showlegend\":false,\"x\":[-0.788117446025607,0.0],\"xaxis\":\"x\",\"y\":[0.6155248908615105,0.0],\"yaxis\":\"y\",\"type\":\"scatter\"}],\"name\":\"2.4785408542713565\"},{\"data\":[{\"hovertemplate\":\"theta=2.5101146231155775\\u003cbr\\u003ez1=%{x}\\u003cbr\\u003ez2=%{y}\\u003cextra\\u003e\\u003c\\u002fextra\\u003e\",\"legendgroup\":\"\",\"marker\":{\"color\":\"#636efa\",\"symbol\":\"circle\"},\"mode\":\"markers\",\"name\":\"\",\"orientation\":\"v\",\"showlegend\":false,\"x\":[-0.8071558521254181,0.0],\"xaxis\":\"x\",\"y\":[0.5903384032736565,0.0],\"yaxis\":\"y\",\"type\":\"scatter\"}],\"name\":\"2.5101146231155775\"},{\"data\":[{\"hovertemplate\":\"theta=2.5416883919597986\\u003cbr\\u003ez1=%{x}\\u003cbr\\u003ez2=%{y}\\u003cextra\\u003e\\u003c\\u002fextra\\u003e\",\"legendgroup\":\"\",\"marker\":{\"color\":\"#636efa\",\"symbol\":\"circle\"},\"mode\":\"markers\",\"name\":\"\",\"orientation\":\"v\",\"showlegend\":false,\"x\":[-0.8253896690771891,0.0],\"xaxis\":\"x\",\"y\":[0.5645634545209672,0.0],\"yaxis\":\"y\",\"type\":\"scatter\"}],\"name\":\"2.5416883919597986\"},{\"data\":[{\"hovertemplate\":\"theta=2.5732621608040205\\u003cbr\\u003ez1=%{x}\\u003cbr\\u003ez2=%{y}\\u003cextra\\u003e\\u003c\\u002fextra\\u003e\",\"legendgroup\":\"\",\"marker\":{\"color\":\"#636efa\",\"symbol\":\"circle\"},\"mode\":\"markers\",\"name\":\"\",\"orientation\":\"v\",\"showlegend\":false,\"x\":[-0.8428007210463428,0.0],\"xaxis\":\"x\",\"y\":[0.5382257375895031,0.0],\"yaxis\":\"y\",\"type\":\"scatter\"}],\"name\":\"2.5732621608040205\"},{\"data\":[{\"hovertemplate\":\"theta=2.6048359296482415\\u003cbr\\u003ez1=%{x}\\u003cbr\\u003ez2=%{y}\\u003cextra\\u003e\\u003c\\u002fextra\\u003e\",\"legendgroup\":\"\",\"marker\":{\"color\":\"#636efa\",\"symbol\":\"circle\"},\"mode\":\"markers\",\"name\":\"\",\"orientation\":\"v\",\"showlegend\":false,\"x\":[-0.8593716523469429,0.0],\"xaxis\":\"x\",\"y\":[0.5113515064439383,0.0],\"yaxis\":\"y\",\"type\":\"scatter\"}],\"name\":\"2.6048359296482415\"},{\"data\":[{\"hovertemplate\":\"theta=2.6364096984924625\\u003cbr\\u003ez1=%{x}\\u003cbr\\u003ez2=%{y}\\u003cextra\\u003e\\u003c\\u002fextra\\u003e\",\"legendgroup\":\"\",\"marker\":{\"color\":\"#636efa\",\"symbol\":\"circle\"},\"mode\":\"markers\",\"name\":\"\",\"orientation\":\"v\",\"showlegend\":false,\"x\":[-0.875085944742193,0.0],\"xaxis\":\"x\",\"y\":[0.4839675498570783,0.0],\"yaxis\":\"y\",\"type\":\"scatter\"}],\"name\":\"2.6364096984924625\"},{\"data\":[{\"hovertemplate\":\"theta=2.6679834673366836\\u003cbr\\u003ez1=%{x}\\u003cbr\\u003ez2=%{y}\\u003cextra\\u003e\\u003c\\u002fextra\\u003e\",\"legendgroup\":\"\",\"marker\":{\"color\":\"#636efa\",\"symbol\":\"circle\"},\"mode\":\"markers\",\"name\":\"\",\"orientation\":\"v\",\"showlegend\":false,\"x\":[-0.8899279339101446,0.0],\"xaxis\":\"x\",\"y\":[0.4561011647062759,0.0],\"yaxis\":\"y\",\"type\":\"scatter\"}],\"name\":\"2.6679834673366836\"},{\"data\":[{\"hovertemplate\":\"theta=2.6995572361809046\\u003cbr\\u003ez1=%{x}\\u003cbr\\u003ez2=%{y}\\u003cextra\\u003e\\u003c\\u002fextra\\u003e\",\"legendgroup\":\"\",\"marker\":{\"color\":\"#636efa\",\"symbol\":\"circle\"},\"mode\":\"markers\",\"name\":\"\",\"orientation\":\"v\",\"showlegend\":false,\"x\":[-0.9038828250582077,0.0],\"xaxis\":\"x\",\"y\":[0.427780128763356,0.0],\"yaxis\":\"y\",\"type\":\"scatter\"}],\"name\":\"2.6995572361809046\"},{\"data\":[{\"hovertemplate\":\"theta=2.7311310050251256\\u003cbr\\u003ez1=%{x}\\u003cbr\\u003ez2=%{y}\\u003cextra\\u003e\\u003c\\u002fextra\\u003e\",\"legendgroup\":\"\",\"marker\":{\"color\":\"#636efa\",\"symbol\":\"circle\"},\"mode\":\"markers\",\"name\":\"\",\"orientation\":\"v\",\"showlegend\":false,\"x\":[-0.9169367076708975,0.0],\"xaxis\":\"x\",\"y\":[0.39903267300517514,0.0],\"yaxis\":\"y\",\"type\":\"scatter\"}],\"name\":\"2.7311310050251256\"},{\"data\":[{\"hovertemplate\":\"theta=2.7627047738693467\\u003cbr\\u003ez1=%{x}\\u003cbr\\u003ez2=%{y}\\u003cextra\\u003e\\u003c\\u002fextra\\u003e\",\"legendgroup\":\"\",\"marker\":{\"color\":\"#636efa\",\"symbol\":\"circle\"},\"mode\":\"markers\",\"name\":\"\",\"orientation\":\"v\",\"showlegend\":false,\"x\":[-0.9290765693761146,0.0],\"xaxis\":\"x\",\"y\":[0.36988745347241725,0.0],\"yaxis\":\"y\",\"type\":\"scatter\"}],\"name\":\"2.7627047738693467\"},{\"data\":[{\"hovertemplate\":\"theta=2.7942785427135677\\u003cbr\\u003ez1=%{x}\\u003cbr\\u003ez2=%{y}\\u003cextra\\u003e\\u003c\\u002fextra\\u003e\",\"legendgroup\":\"\",\"marker\":{\"color\":\"#636efa\",\"symbol\":\"circle\"},\"mode\":\"markers\",\"name\":\"\",\"orientation\":\"v\",\"showlegend\":false,\"x\":[-0.9402903089161392,0.0],\"xaxis\":\"x\",\"y\":[0.3403735227046774,0.0],\"yaxis\":\"y\",\"type\":\"scatter\"}],\"name\":\"2.7942785427135677\"},{\"data\":[{\"hovertemplate\":\"theta=2.8258523115577887\\u003cbr\\u003ez1=%{x}\\u003cbr\\u003ez2=%{y}\\u003cextra\\u003e\\u003c\\u002fextra\\u003e\",\"legendgroup\":\"\",\"marker\":{\"color\":\"#636efa\",\"symbol\":\"circle\"},\"mode\":\"markers\",\"name\":\"\",\"orientation\":\"v\",\"showlegend\":false,\"x\":[-0.950566748210407,0.0],\"xaxis\":\"x\",\"y\":[0.3105203007803075,0.0],\"yaxis\":\"y\",\"type\":\"scatter\"}],\"name\":\"2.8258523115577887\"},{\"data\":[{\"hovertemplate\":\"theta=2.8574260804020097\\u003cbr\\u003ez1=%{x}\\u003cbr\\u003ez2=%{y}\\u003cextra\\u003e\\u003c\\u002fextra\\u003e\",\"legendgroup\":\"\",\"marker\":{\"color\":\"#636efa\",\"symbol\":\"circle\"},\"mode\":\"markers\",\"name\":\"\",\"orientation\":\"v\",\"showlegend\":false,\"x\":[-0.9598956434980449,0.0],\"xaxis\":\"x\",\"y\":[0.28035754598989193,0.0],\"yaxis\":\"y\",\"type\":\"scatter\"}],\"name\":\"2.8574260804020097\"},{\"data\":[{\"hovertemplate\":\"theta=2.8889998492462308\\u003cbr\\u003ez1=%{x}\\u003cbr\\u003ez2=%{y}\\u003cextra\\u003e\\u003c\\u002fextra\\u003e\",\"legendgroup\":\"\",\"marker\":{\"color\":\"#636efa\",\"symbol\":\"circle\"},\"mode\":\"markers\",\"name\":\"\",\"orientation\":\"v\",\"showlegend\":false,\"x\":[-0.9682676955490566,0.0],\"xaxis\":\"x\",\"y\":[0.24991532517258622,0.0],\"yaxis\":\"y\",\"type\":\"scatter\"}],\"name\":\"2.8889998492462308\"},{\"data\":[{\"hovertemplate\":\"theta=2.920573618090452\\u003cbr\\u003ez1=%{x}\\u003cbr\\u003ez2=%{y}\\u003cextra\\u003e\\u003c\\u002fextra\\u003e\",\"legendgroup\":\"\",\"marker\":{\"color\":\"#636efa\",\"symbol\":\"circle\"},\"mode\":\"markers\",\"name\":\"\",\"orientation\":\"v\",\"showlegend\":false,\"x\":[-0.9756745589339822,0.0],\"xaxis\":\"x\",\"y\":[0.21922398374488877,0.0],\"yaxis\":\"y\",\"type\":\"scatter\"}],\"name\":\"2.920573618090452\"},{\"data\":[{\"hovertemplate\":\"theta=2.9521473869346737\\u003cbr\\u003ez1=%{x}\\u003cbr\\u003ez2=%{y}\\u003cextra\\u003e\\u003c\\u002fextra\\u003e\",\"legendgroup\":\"\",\"marker\":{\"color\":\"#636efa\",\"symbol\":\"circle\"},\"mode\":\"markers\",\"name\":\"\",\"orientation\":\"v\",\"showlegend\":false,\"x\":[-0.9821088503427898,0.0],\"xaxis\":\"x\",\"y\":[0.1883141154517198,0.0],\"yaxis\":\"y\",\"type\":\"scatter\"}],\"name\":\"2.9521473869346737\"},{\"data\":[{\"hovertemplate\":\"theta=2.9837211557788947\\u003cbr\\u003ez1=%{x}\\u003cbr\\u003ez2=%{y}\\u003cextra\\u003e\\u003c\\u002fextra\\u003e\",\"legendgroup\":\"\",\"marker\":{\"color\":\"#636efa\",\"symbol\":\"circle\"},\"mode\":\"markers\",\"name\":\"\",\"orientation\":\"v\",\"showlegend\":false,\"x\":[-0.9875641559447061,0.0],\"xaxis\":\"x\",\"y\":[0.1572165318699662,0.0],\"yaxis\":\"y\",\"type\":\"scatter\"}],\"name\":\"2.9837211557788947\"},{\"data\":[{\"hovertemplate\":\"theta=3.0152949246231158\\u003cbr\\u003ez1=%{x}\\u003cbr\\u003ez2=%{y}\\u003cextra\\u003e\\u003c\\u002fextra\\u003e\",\"legendgroup\":\"\",\"marker\":{\"color\":\"#636efa\",\"symbol\":\"circle\"},\"mode\":\"markers\",\"name\":\"\",\"orientation\":\"v\",\"showlegend\":false,\"x\":[-0.992035037781653,0.0],\"xaxis\":\"x\",\"y\":[0.12596223169487816,0.0],\"yaxis\":\"y\",\"type\":\"scatter\"}],\"name\":\"3.0152949246231158\"},{\"data\":[{\"hovertemplate\":\"theta=3.046868693467337\\u003cbr\\u003ez1=%{x}\\u003cbr\\u003ez2=%{y}\\u003cextra\\u003e\\u003c\\u002fextra\\u003e\",\"legendgroup\":\"\",\"marker\":{\"color\":\"#636efa\",\"symbol\":\"circle\"},\"mode\":\"markers\",\"name\":\"\",\"orientation\":\"v\",\"showlegend\":false,\"x\":[-0.9955170391889124,0.0],\"xaxis\":\"x\",\"y\":[0.09458236983995132,0.0],\"yaxis\":\"y\",\"type\":\"scatter\"}],\"name\":\"3.046868693467337\"},{\"data\":[{\"hovertemplate\":\"theta=3.078442462311558\\u003cbr\\u003ez1=%{x}\\u003cbr\\u003ez2=%{y}\\u003cextra\\u003e\\u003c\\u002fextra\\u003e\",\"legendgroup\":\"\",\"marker\":{\"color\":\"#636efa\",\"symbol\":\"circle\"},\"mode\":\"markers\",\"name\":\"\",\"orientation\":\"v\",\"showlegend\":false,\"x\":[-0.9980066892376193,0.0],\"xaxis\":\"x\",\"y\":[0.06310822638108297,0.0],\"yaxis\":\"y\",\"type\":\"scatter\"}],\"name\":\"3.078442462311558\"},{\"data\":[{\"hovertemplate\":\"theta=3.110016231155779\\u003cbr\\u003ez1=%{x}\\u003cbr\\u003ez2=%{y}\\u003cextra\\u003e\\u003c\\u002fextra\\u003e\",\"legendgroup\":\"\",\"marker\":{\"color\":\"#636efa\",\"symbol\":\"circle\"},\"mode\":\"markers\",\"name\":\"\",\"orientation\":\"v\",\"showlegend\":false,\"x\":[-0.999501506194653,0.0],\"xaxis\":\"x\",\"y\":[0.03157117537596496,0.0],\"yaxis\":\"y\",\"type\":\"scatter\"}],\"name\":\"3.110016231155779\"},{\"data\":[{\"hovertemplate\":\"theta=3.14159\\u003cbr\\u003ez1=%{x}\\u003cbr\\u003ez2=%{y}\\u003cextra\\u003e\\u003c\\u002fextra\\u003e\",\"legendgroup\":\"\",\"marker\":{\"color\":\"#636efa\",\"symbol\":\"circle\"},\"mode\":\"markers\",\"name\":\"\",\"orientation\":\"v\",\"showlegend\":false,\"x\":[-0.9999999999964793,0.0],\"xaxis\":\"x\",\"y\":[2.6535897933527304e-6,0.0],\"yaxis\":\"y\",\"type\":\"scatter\"}],\"name\":\"3.14159\"}]);\n",
       "                        }).then(function(){\n",
       "                            \n",
       "var gd = document.getElementById('ce7be02d-c39c-4c64-bd08-b12e3703a45a');\n",
       "var x = new MutationObserver(function (mutations, observer) {{\n",
       "        var display = window.getComputedStyle(gd).display;\n",
       "        if (!display || display === 'none') {{\n",
       "            console.log([gd, 'removed!']);\n",
       "            Plotly.purge(gd);\n",
       "            observer.disconnect();\n",
       "        }}\n",
       "}});\n",
       "\n",
       "// Listen for the removal of the full notebook cells\n",
       "var notebookContainer = gd.closest('#notebook-container');\n",
       "if (notebookContainer) {{\n",
       "    x.observe(notebookContainer, {childList: true});\n",
       "}}\n",
       "\n",
       "// Listen for the clearing of the current output cell\n",
       "var outputEl = gd.closest('.output');\n",
       "if (outputEl) {{\n",
       "    x.observe(outputEl, {childList: true});\n",
       "}}\n",
       "\n",
       "                        })                };                });            </script>        </div>"
      ]
     },
     "metadata": {},
     "output_type": "display_data"
    }
   ],
   "source": [
    "df = pd.DataFrame(data={\"z1\":data_x, \"z2\": data_y, \"theta\": data_t})\n",
    "fig = px.scatter(df, \"z1\", \"z2\", animation_frame='theta')\n",
    "fig.show()"
   ]
  },
  {
   "cell_type": "code",
   "execution_count": null,
   "id": "ab9b9cab-f290-400e-a1b8-690f51f8367f",
   "metadata": {},
   "outputs": [],
   "source": [
    "fig.layout.xaxis."
   ]
  }
 ],
 "metadata": {
  "kernelspec": {
   "display_name": "Python 3 (ipykernel)",
   "language": "python",
   "name": "python3"
  },
  "language_info": {
   "codemirror_mode": {
    "name": "ipython",
    "version": 3
   },
   "file_extension": ".py",
   "mimetype": "text/x-python",
   "name": "python",
   "nbconvert_exporter": "python",
   "pygments_lexer": "ipython3",
   "version": "3.11.9"
  }
 },
 "nbformat": 4,
 "nbformat_minor": 5
}
